{
 "cells": [
  {
   "cell_type": "code",
   "execution_count": 2,
   "metadata": {},
   "outputs": [],
   "source": [
    "import numpy as np\n",
    "import pickle\n",
    "\n",
    "import sys, os\n",
    "sys.path.append('C:\\\\Users\\Quentin\\\\Documents\\\\ALMA_CHILI\\\\gaia-shock\\\\src')\n",
    "\n",
    "## directory\n",
    "rootdir = r'C:\\Users\\Quentin\\Documents\\ALMA_CHILI'\n",
    "wdir    = r'%s\\products'%(rootdir)\n",
    "#notedir = r'%s\\gaia-shock\\notebooks_Quentin'%(rootdir)\n",
    "\n",
    "os.chdir(wdir)  # to change the current directory"
   ]
  },
  {
   "cell_type": "code",
   "execution_count": 3,
   "metadata": {},
   "outputs": [],
   "source": [
    "score = {\"joueur 1\":5,\"joueur 2\":35,\"joueur 3\":20,\"joueur 4\":2,}\n",
    "with open('donnees', 'wb') as fichier:\n",
    "    mon_pickler = pickle.Pickler(fichier)\n",
    "    mon_pickler.dump(score)"
   ]
  },
  {
   "cell_type": "code",
   "execution_count": 4,
   "metadata": {},
   "outputs": [],
   "source": [
    "with open('donnees', 'rb') as fichier:\n",
    "    mon_depickler = pickle.Unpickler(fichier)\n",
    "    score_recupere = mon_depickler.load()"
   ]
  },
  {
   "cell_type": "code",
   "execution_count": 5,
   "metadata": {},
   "outputs": [
    {
     "name": "stdout",
     "output_type": "stream",
     "text": [
      "{'joueur 1': 5, 'joueur 2': 35, 'joueur 3': 20, 'joueur 4': 2}\n"
     ]
    }
   ],
   "source": [
    "print(score_recupere)"
   ]
  },
  {
   "cell_type": "code",
   "execution_count": 7,
   "metadata": {},
   "outputs": [
    {
     "data": {
      "text/plain": [
       "5"
      ]
     },
     "execution_count": 7,
     "metadata": {},
     "output_type": "execute_result"
    }
   ],
   "source": [
    "score_recupere['joueur 1']"
   ]
  },
  {
   "cell_type": "code",
   "execution_count": null,
   "metadata": {},
   "outputs": [],
   "source": []
  }
 ],
 "metadata": {
  "kernelspec": {
   "display_name": "Python 3",
   "language": "python",
   "name": "python3"
  },
  "language_info": {
   "codemirror_mode": {
    "name": "ipython",
    "version": 3
   },
   "file_extension": ".py",
   "mimetype": "text/x-python",
   "name": "python",
   "nbconvert_exporter": "python",
   "pygments_lexer": "ipython3",
   "version": "3.6.5"
  }
 },
 "nbformat": 4,
 "nbformat_minor": 2
}
