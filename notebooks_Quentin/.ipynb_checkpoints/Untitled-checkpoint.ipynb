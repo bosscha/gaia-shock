{
 "cells": [
  {
   "cell_type": "code",
   "execution_count": 28,
   "metadata": {},
   "outputs": [],
   "source": [
    "import sys, os\n",
    "\n",
    "\n",
    "sys.path.append('C:\\\\Users\\Quentin\\\\Documents\\\\ALMA_CHILI\\\\gaia-shock\\\\src')\n",
    "chemin = sys.path[0]\n",
    "\n",
    "## directory\n",
    "rootdir = r'C:\\Users\\Quentin\\Documents\\ALMA_CHILI'\n",
    "wdir    = r'%s\\products'%(rootdir)\n",
    "#notedir = r'%s\\gaia-shock\\notebooks_Quentin'%(rootdir)\n",
    "\n",
    "import matplotlib.pyplot as plt\n",
    "import numpy as np\n",
    "\n",
    "os.chdir(wdir)  # to change the current directory"
   ]
  },
  {
   "cell_type": "code",
   "execution_count": 26,
   "metadata": {},
   "outputs": [
    {
     "name": "stdout",
     "output_type": "stream",
     "text": [
      "['', 'C:\\\\Users\\\\Quentin\\\\Anaconda3\\\\python36.zip', 'C:\\\\Users\\\\Quentin\\\\Anaconda3\\\\DLLs', 'C:\\\\Users\\\\Quentin\\\\Anaconda3\\\\lib', 'C:\\\\Users\\\\Quentin\\\\Anaconda3', 'C:\\\\Users\\\\Quentin\\\\Anaconda3\\\\lib\\\\site-packages', 'C:\\\\Users\\\\Quentin\\\\Anaconda3\\\\lib\\\\site-packages\\\\win32', 'C:\\\\Users\\\\Quentin\\\\Anaconda3\\\\lib\\\\site-packages\\\\win32\\\\lib', 'C:\\\\Users\\\\Quentin\\\\Anaconda3\\\\lib\\\\site-packages\\\\Pythonwin', 'C:\\\\Users\\\\Quentin\\\\Anaconda3\\\\lib\\\\site-packages\\\\IPython\\\\extensions', 'C:\\\\Users\\\\Quentin\\\\.ipython', '../../src', '../src', '../src', '../src']\n"
     ]
    }
   ],
   "source": [
    "print(sys.path)"
   ]
  },
  {
   "cell_type": "code",
   "execution_count": 29,
   "metadata": {},
   "outputs": [
    {
     "name": "stdout",
     "output_type": "stream",
     "text": [
      "Created TAP+ (v1.0.1) - Connection:\n",
      "\tHost: gea.esac.esa.int\n",
      "\tUse HTTPS: False\n",
      "\tPort: 80\n",
      "\tSSL Port: 443\n"
     ]
    }
   ],
   "source": [
    "import gaia_utils as gu"
   ]
  },
  {
   "cell_type": "code",
   "execution_count": null,
   "metadata": {},
   "outputs": [],
   "source": []
  }
 ],
 "metadata": {
  "kernelspec": {
   "display_name": "Python 3",
   "language": "python",
   "name": "python3"
  },
  "language_info": {
   "codemirror_mode": {
    "name": "ipython",
    "version": 3
   },
   "file_extension": ".py",
   "mimetype": "text/x-python",
   "name": "python",
   "nbconvert_exporter": "python",
   "pygments_lexer": "ipython3",
   "version": "3.6.5"
  }
 },
 "nbformat": 4,
 "nbformat_minor": 2
}
