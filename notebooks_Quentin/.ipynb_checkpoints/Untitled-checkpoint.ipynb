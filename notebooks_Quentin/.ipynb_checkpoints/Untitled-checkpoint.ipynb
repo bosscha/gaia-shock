{
 "cells": [
  {
   "cell_type": "code",
   "execution_count": 1,
   "metadata": {},
   "outputs": [],
   "source": [
    "import sys, os\n",
    "\n",
    "\n",
    "sys.path.append('C:\\\\Users\\Quentin\\\\Documents\\\\ALMA_CHILI\\\\gaia-shock\\\\src')\n",
    "\n",
    "## directory\n",
    "rootdir = r'C:\\Users\\Quentin\\Documents\\ALMA_CHILI'\n",
    "wdir    = r'%s\\products'%(rootdir)\n",
    "#notedir = r'%s\\gaia-shock\\notebooks_Quentin'%(rootdir)\n",
    "\n",
    "os.chdir(wdir)  # to change the current directory"
   ]
  },
  {
   "cell_type": "code",
   "execution_count": 2,
   "metadata": {},
   "outputs": [
    {
     "name": "stdout",
     "output_type": "stream",
     "text": [
      "['', 'C:\\\\Users\\\\Quentin\\\\Anaconda3\\\\python36.zip', 'C:\\\\Users\\\\Quentin\\\\Anaconda3\\\\DLLs', 'C:\\\\Users\\\\Quentin\\\\Anaconda3\\\\lib', 'C:\\\\Users\\\\Quentin\\\\Anaconda3', 'C:\\\\Users\\\\Quentin\\\\Anaconda3\\\\lib\\\\site-packages', 'C:\\\\Users\\\\Quentin\\\\Anaconda3\\\\lib\\\\site-packages\\\\win32', 'C:\\\\Users\\\\Quentin\\\\Anaconda3\\\\lib\\\\site-packages\\\\win32\\\\lib', 'C:\\\\Users\\\\Quentin\\\\Anaconda3\\\\lib\\\\site-packages\\\\Pythonwin', 'C:\\\\Users\\\\Quentin\\\\Anaconda3\\\\lib\\\\site-packages\\\\IPython\\\\extensions', 'C:\\\\Users\\\\Quentin\\\\.ipython', 'C:\\\\Users\\\\Quentin\\\\Documents\\\\ALMA_CHILI\\\\gaia-shock\\\\src']\n"
     ]
    }
   ],
   "source": [
    "print(sys.path)"
   ]
  },
  {
   "cell_type": "code",
   "execution_count": 3,
   "metadata": {},
   "outputs": [
    {
     "name": "stdout",
     "output_type": "stream",
     "text": [
      "Created TAP+ (v1.0.1) - Connection:\n",
      "\tHost: gea.esac.esa.int\n",
      "\tUse HTTPS: False\n",
      "\tPort: 80\n",
      "\tSSL Port: 443\n"
     ]
    }
   ],
   "source": [
    "import gaia_utils as gu"
   ]
  },
  {
   "cell_type": "code",
   "execution_count": 4,
   "metadata": {},
   "outputs": [],
   "source": [
    "clustername = \"NGC 1039\"\n",
    "# voname = 'NGC 752-1.0deg.vot'\n",
    "# voname = 'NGC 2682-3.0deg.vot'\n",
    "voname = 'NGC 1039-3.0deg.vot'\n",
    "RADIUS   = 0.5\n",
    "kCluster = 12\n",
    "votable_disk = False\n",
    "BINSIZE = 64\n",
    "SIGMA = 1.0\n",
    "distclust = 513.0\n",
    "WEIGHT = [2.,2.,10.,5.,5., 2., 2., 2.]"
   ]
  },
  {
   "cell_type": "code",
   "execution_count": 5,
   "metadata": {},
   "outputs": [
    {
     "name": "stdout",
     "output_type": "stream",
     "text": [
      "SELECT * FROM gaiadr2.gaia_source WHERE CONTAINS(POINT('ICRS',gaiadr2.gaia_source.ra,gaiadr2.gaia_source.dec),                                      CIRCLE('ICRS',132.8250000000,11.8000000000,0.5000000000)) = 1  AND abs(pmra_error/pmra)<  0.100000  AND abs(pmdec_error/pmdec)< 0.1000000000 AND abs(parallax_error/parallax)< 0.1000000000;\n",
      "## M67-0.5deg-0.10err.vot created\n",
      "## Query for M67 done\n",
      "## Total stars: 1456\n"
     ]
    },
    {
     "data": {
      "text/plain": [
       "'async_20180725130146.vot'"
      ]
     },
     "execution_count": 5,
     "metadata": {},
     "output_type": "execute_result"
    }
   ],
   "source": [
    "## Read the data and do the conversion\n",
    "\n",
    "clustername = \"M67\"\n",
    "\n",
    "source = gu.source(clustername)\n",
    "source.weight = WEIGHT\n",
    "source.query(RADIUS, errtol = 0.1, dump = True)\n",
    "#source.read_votable(voname)\n",
    "#source.convert_filter_data()\n",
    "#source.normalization_normal()"
   ]
  },
  {
   "cell_type": "code",
   "execution_count": 34,
   "metadata": {},
   "outputs": [
    {
     "name": "stdout",
     "output_type": "stream",
     "text": [
      "0.15\n"
     ]
    }
   ],
   "source": [
    "print(\"%.2f\" %(0.15))"
   ]
  },
  {
   "cell_type": "code",
   "execution_count": null,
   "metadata": {},
   "outputs": [],
   "source": []
  }
 ],
 "metadata": {
  "kernelspec": {
   "display_name": "Python 3",
   "language": "python",
   "name": "python3"
  },
  "language_info": {
   "codemirror_mode": {
    "name": "ipython",
    "version": 3
   },
   "file_extension": ".py",
   "mimetype": "text/x-python",
   "name": "python",
   "nbconvert_exporter": "python",
   "pygments_lexer": "ipython3",
   "version": "3.6.5"
  }
 },
 "nbformat": 4,
 "nbformat_minor": 2
}
