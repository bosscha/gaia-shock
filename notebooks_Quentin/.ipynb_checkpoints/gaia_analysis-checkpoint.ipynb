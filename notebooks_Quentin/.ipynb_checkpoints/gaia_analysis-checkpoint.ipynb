{
 "cells": [
  {
   "cell_type": "code",
   "execution_count": 2,
   "metadata": {},
   "outputs": [],
   "source": [
    "import sys, os\n",
    "sys.path.append('C:\\\\Users\\Quentin\\\\Documents\\\\ALMA_CHILI\\\\gaia-shock\\\\src')\n",
    "\n",
    "## directory\n",
    "rootdir = r'C:\\Users\\Quentin\\Documents\\ALMA_CHILI'\n",
    "wdir    = r'%s\\products'%(rootdir)\n",
    "#notedir = r'%s\\gaia-shock\\notebooks_Quentin'%(rootdir)\n",
    "\n",
    "os.chdir(wdir)  # to change the current directory"
   ]
  },
  {
   "cell_type": "code",
   "execution_count": 11,
   "metadata": {},
   "outputs": [],
   "source": [
    "import gaia_utils_quentin as gu"
   ]
  },
  {
   "cell_type": "code",
   "execution_count": 8,
   "metadata": {},
   "outputs": [],
   "source": [
    "clustername = \"M67\"\n",
    "RADIUS       = 0.5\n",
    "errtol       = 1\n",
    "dump_to_file = False"
   ]
  },
  {
   "cell_type": "code",
   "execution_count": 9,
   "metadata": {},
   "outputs": [
    {
     "name": "stdout",
     "output_type": "stream",
     "text": [
      "SELECT * FROM gaiadr2.gaia_source WHERE CONTAINS(POINT('ICRS',gaiadr2.gaia_source.ra,gaiadr2.gaia_source.dec),                                      CIRCLE('ICRS',132.8250000000,11.8000000000,0.5000000000)) = 1                                      AND abs(pmra_error/pmra)<  1.000000  AND abs(pmdec_error/pmdec)< 1.0000000000                                     AND abs(parallax_error/parallax)< 1.0000000000;\n",
      "Query finished.\n",
      "## Query for M67 done\n",
      "## Total stars: 3660\n"
     ]
    }
   ],
   "source": [
    "## Read the data and do the conversion\n",
    "\n",
    "source = gu.source(clustername)\n",
    "source.query(RADIUS, errtol, dump_to_file)\n",
    "#source.read_votable(voname)"
   ]
  },
  {
   "cell_type": "code",
   "execution_count": 12,
   "metadata": {},
   "outputs": [
    {
     "name": "stdout",
     "output_type": "stream",
     "text": [
      "## Conversion done...\n",
      "## Stars selected: 3158\n"
     ]
    },
    {
     "ename": "AttributeError",
     "evalue": "'source' object has no attribute 'plot_information'",
     "output_type": "error",
     "traceback": [
      "\u001b[1;31m---------------------------------------------------------------------------\u001b[0m",
      "\u001b[1;31mAttributeError\u001b[0m                            Traceback (most recent call last)",
      "\u001b[1;32m<ipython-input-12-ecacc987a472>\u001b[0m in \u001b[0;36m<module>\u001b[1;34m()\u001b[0m\n\u001b[0;32m      1\u001b[0m \u001b[0msource\u001b[0m\u001b[1;33m.\u001b[0m\u001b[0mconvert_filter_data\u001b[0m\u001b[1;33m(\u001b[0m\u001b[1;33m)\u001b[0m\u001b[1;33m\u001b[0m\u001b[0m\n\u001b[1;32m----> 2\u001b[1;33m \u001b[0msource\u001b[0m\u001b[1;33m.\u001b[0m\u001b[0mplot_information\u001b[0m\u001b[1;33m(\u001b[0m\u001b[1;33m)\u001b[0m\u001b[1;33m\u001b[0m\u001b[0m\n\u001b[0m",
      "\u001b[1;31mAttributeError\u001b[0m: 'source' object has no attribute 'plot_information'"
     ]
    }
   ],
   "source": [
    "source.convert_filter_data()\n",
    "source.plot_information()"
   ]
  },
  {
   "cell_type": "code",
   "execution_count": null,
   "metadata": {},
   "outputs": [],
   "source": []
  }
 ],
 "metadata": {
  "kernelspec": {
   "display_name": "Python 3",
   "language": "python",
   "name": "python3"
  },
  "language_info": {
   "codemirror_mode": {
    "name": "ipython",
    "version": 3
   },
   "file_extension": ".py",
   "mimetype": "text/x-python",
   "name": "python",
   "nbconvert_exporter": "python",
   "pygments_lexer": "ipython3",
   "version": "3.6.5"
  }
 },
 "nbformat": 4,
 "nbformat_minor": 2
}
