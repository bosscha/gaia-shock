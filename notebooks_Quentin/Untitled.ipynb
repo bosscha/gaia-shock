{
 "cells": [
  {
   "cell_type": "code",
   "execution_count": 1,
   "metadata": {},
   "outputs": [],
   "source": [
    "import sys, os\n",
    "sys.path.append('C:\\\\Users\\Quentin\\\\Documents\\\\ALMA_CHILI\\\\gaia-shock\\\\src')\n",
    "\n",
    "## directory\n",
    "rootdir = r'C:\\Users\\Quentin\\Documents\\ALMA_CHILI'\n",
    "wdir    = r'%s\\products'%(rootdir)\n",
    "#notedir = r'%s\\gaia-shock\\notebooks_Quentin'%(rootdir)\n",
    "\n",
    "os.chdir(wdir)  # to change the current directory"
   ]
  },
  {
   "cell_type": "code",
   "execution_count": 3,
   "metadata": {},
   "outputs": [
    {
     "name": "stdout",
     "output_type": "stream",
     "text": [
      "Created TAP+ (v1.0.1) - Connection:\n",
      "\tHost: gea.esac.esa.int\n",
      "\tUse HTTPS: False\n",
      "\tPort: 80\n",
      "\tSSL Port: 443\n"
     ]
    }
   ],
   "source": [
    "import gaia_utils as gu"
   ]
  },
  {
   "cell_type": "code",
   "execution_count": 6,
   "metadata": {},
   "outputs": [],
   "source": [
    "clustername = \"NGC1039\"\n",
    "RADIUS       = 3\n",
    "errtol       = 0.1\n",
    "dump_to_file = True"
   ]
  },
  {
   "cell_type": "code",
   "execution_count": 7,
   "metadata": {},
   "outputs": [
    {
     "name": "stdout",
     "output_type": "stream",
     "text": [
      "SELECT * FROM gaiadr2.gaia_source WHERE CONTAINS(POINT('ICRS',gaiadr2.gaia_source.ra,gaiadr2.gaia_source.dec),                                      CIRCLE('ICRS',119.5167000000,-60.7533000000,3.0000000000)) = 1  AND abs(pmra_error/pmra)<  0.100000  AND abs(pmdec_error/pmdec)< 0.1000000000 AND abs(parallax_error/parallax)< 0.1000000000;\n",
      "## NGC2516-3.0deg-0.1err.vot created\n",
      "## Query for NGC2516 done\n",
      "## Total stars: 79407\n"
     ]
    },
    {
     "data": {
      "text/plain": [
       "'async_20180725130536.vot'"
      ]
     },
     "execution_count": 7,
     "metadata": {},
     "output_type": "execute_result"
    }
   ],
   "source": [
    "## Read the data and do the conversion\n",
    "\n",
    "\n",
    "source = gu.source(clustername)\n",
    "source.query(RADIUS, errtol, dump_to_file)\n",
    "#source.read_votable(voname)\n",
    "#source.convert_filter_data()\n",
    "#source.normalization_normal()"
   ]
  },
  {
   "cell_type": "code",
   "execution_count": null,
   "metadata": {},
   "outputs": [],
   "source": []
  }
 ],
 "metadata": {
  "kernelspec": {
   "display_name": "Python 3",
   "language": "python",
   "name": "python3"
  },
  "language_info": {
   "codemirror_mode": {
    "name": "ipython",
    "version": 3
   },
   "file_extension": ".py",
   "mimetype": "text/x-python",
   "name": "python",
   "nbconvert_exporter": "python",
   "pygments_lexer": "ipython3",
   "version": "3.6.5"
  }
 },
 "nbformat": 4,
 "nbformat_minor": 2
}
