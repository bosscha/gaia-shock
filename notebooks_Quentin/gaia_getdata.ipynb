{
 "cells": [
  {
   "cell_type": "code",
   "execution_count": 2,
   "metadata": {},
   "outputs": [
    {
     "name": "stdout",
     "output_type": "stream",
     "text": [
      "Created TAP+ (v1.0.1) - Connection:\n",
      "\tHost: gea.esac.esa.int\n",
      "\tUse HTTPS: False\n",
      "\tPort: 80\n",
      "\tSSL Port: 443\n"
     ]
    }
   ],
   "source": [
    "import sys, os\n",
    "sys.path.append('C:\\\\Users\\Quentin\\\\Documents\\\\ALMA_CHILI\\\\gaia-shock\\\\src')\n",
    "\n",
    "## directory\n",
    "rootdir = r'C:\\Users\\Quentin\\Documents\\ALMA_CHILI'\n",
    "wdir    = r'%s\\products'%(rootdir)\n",
    "#notedir = r'%s\\gaia-shock\\notebooks_Quentin'%(rootdir)\n",
    "\n",
    "os.chdir(wdir)  # to change the current directory\n",
    "\n",
    "import gaia_utils_quentin as gu"
   ]
  },
  {
   "cell_type": "code",
   "execution_count": 4,
   "metadata": {},
   "outputs": [
    {
     "name": "stdout",
     "output_type": "stream",
     "text": [
      "SELECT * FROM gaiadr2.gaia_source WHERE CONTAINS(POINT('ICRS',gaiadr2.gaia_source.ra,gaiadr2.gaia_source.dec),                                      CIRCLE('ICRS',132.8250000000,11.8000000000,0.5000000000)) = 1                                      AND abs(pmra_error/pmra)<  1.000000  AND abs(pmdec_error/pmdec)< 1.0000000000                                     AND abs(parallax_error/parallax)< 1.0000000000;\n",
      "## M67-0.5deg-1.0err.vot created\n",
      "## Query for M67 done\n",
      "## Total stars: 3660\n",
      "\n",
      "## Conversion done...\n",
      "## Stars selected: 3132\n"
     ]
    }
   ],
   "source": [
    "name_list = [\"M67\", \"NGC2516\", \"NGC752\", \"NGC1039\", \"NGC1342\", \"NGC1647\"]\n",
    "\n",
    "clustername = name_list[0]\n",
    "RADIUS       = 0.5\n",
    "errtol       = 1.0\n",
    "dump_to_file = True\n",
    "\n",
    "## Read the data and do the conversion\n",
    "\n",
    "source = gu.source(clustername, RADIUS, errtol)\n",
    "source.query(dump_to_file)\n",
    "#source.read_votable(voname)\n",
    "source.convert_filter_data(without_mag=True)"
   ]
  },
  {
   "cell_type": "code",
   "execution_count": null,
   "metadata": {},
   "outputs": [],
   "source": [
    "## Read the data and do the conversion\n",
    "\n",
    "source = gu.source(clustername, RADIUS, errtol)\n",
    "source.query(dump_to_file)\n",
    "#source.read_votable(voname)\n",
    "source.convert_filter_data(without_mag=True)"
   ]
  },
  {
   "cell_type": "code",
   "execution_count": null,
   "metadata": {},
   "outputs": [],
   "source": [
    "source.convert_filter_data(without_mag=True)\n",
    "source.plot_information(size=0.01)"
   ]
  },
  {
   "cell_type": "code",
   "execution_count": null,
   "metadata": {},
   "outputs": [],
   "source": []
  },
  {
   "cell_type": "code",
   "execution_count": null,
   "metadata": {},
   "outputs": [],
   "source": []
  }
 ],
 "metadata": {
  "kernelspec": {
   "display_name": "Python 3",
   "language": "python",
   "name": "python3"
  },
  "language_info": {
   "codemirror_mode": {
    "name": "ipython",
    "version": 3
   },
   "file_extension": ".py",
   "mimetype": "text/x-python",
   "name": "python",
   "nbconvert_exporter": "python",
   "pygments_lexer": "ipython3",
   "version": "3.6.5"
  }
 },
 "nbformat": 4,
 "nbformat_minor": 2
}
