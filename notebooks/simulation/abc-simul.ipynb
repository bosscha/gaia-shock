{
 "cells": [
  {
   "cell_type": "markdown",
   "metadata": {},
   "source": [
    "## Simulated data and ABC\n",
    "\n",
    "We simulate parallax and parallax error for the DBSCAN-selected stars within a cluster in order to test the aprroximate Bayesian computation (ABC) <br>\n",
    "\n",
    "For the simulated data the **input parameters** are: <br>\n",
    " * D_c     : Cluster distance \n",
    " * N_s     : Star numbers\n",
    " * sigma_x : X physical standard deviation of the cluster\n",
    " * err_p : distribution to simulate the parallax error on each star\n",
    " \n",
    " \n",
    "The **output products** will be:\n",
    " * Array of N points with:\n",
    "     * simulated parallax\n",
    "     * simulated parallax error"
   ]
  },
  {
   "cell_type": "code",
   "execution_count": null,
   "metadata": {},
   "outputs": [],
   "source": [
    "using Stats"
   ]
  }
 ],
 "metadata": {
  "kernelspec": {
   "display_name": "Julia 1.0.0",
   "language": "julia",
   "name": "julia-1.0"
  },
  "language_info": {
   "file_extension": ".jl",
   "mimetype": "application/julia",
   "name": "julia",
   "version": "1.0.0"
  }
 },
 "nbformat": 4,
 "nbformat_minor": 2
}
