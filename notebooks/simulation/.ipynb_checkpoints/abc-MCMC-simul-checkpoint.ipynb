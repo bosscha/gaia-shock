{
 "cells": [
  {
   "cell_type": "markdown",
   "metadata": {},
   "source": [
    "## Simulated data and ABC-MCMC\n",
    "\n",
    "We simulate parallax and parallax error for the DBSCAN-selected stars within a cluster in order to test the aprroximate Bayesian computation (ABC) <br>\n",
    "\n",
    "For the simulated data the **input parameters** are: <br>\n",
    " * D_c     : Cluster distance \n",
    " * N_s     : Star numbers\n",
    " * sigma_x : X physical standard deviation of the cluster\n",
    " * err_p : distribution to simulate the parallax error on each star\n",
    " \n",
    " \n",
    "The **output products** will be:\n",
    " * Array of N points with:\n",
    "     * simulated parallax\n",
    "     * simulated parallax error\n",
    "     \n",
    "The ABC/MCMC method to estimate distance and sigma_x is implemented to be tested on simulated data"
   ]
  },
  {
   "cell_type": "code",
   "execution_count": 57,
   "metadata": {},
   "outputs": [],
   "source": [
    "#### package and types\n",
    "####\n",
    "using Random ,  Distributions , Statistics\n",
    "using PyPlot\n",
    "\n",
    "## type starCluster\n",
    "mutable struct starCluster\n",
    "    xpos::Array{Float64}    ## x position\n",
    "    ypos::Array{Float64}    ## y position\n",
    "    zpos::Array{Float64}    ## z position\n",
    "    sigma_x::Float64        ## std position\n",
    "    sigma_y::Float64\n",
    "    sigma_z::Float64\n",
    "    ns::Int32               ## star number\n",
    "    dc::Float64             ## cluster distance\n",
    "end\n",
    "\n",
    "## GAIA observations\n",
    "mutable struct simGaia\n",
    "    parallax::Array{Float64}\n",
    "    parallax_err::Array{Float64}\n",
    "end\n",
    "\n",
    "## MCMC\n",
    "mutable struct model\n",
    "    distance::Float64\n",
    "    sigmax::Float64\n",
    "end\n",
    "\n",
    "mutable struct mc\n",
    "    distance::Array{Float64}\n",
    "    sigmax::Array{Float64}\n",
    "end\n",
    "\n",
    "struct abc\n",
    "    nstars::Int\n",
    "    distancem::Float64\n",
    "    distancedisp::Float64\n",
    "    sigmaxm::Float64\n",
    "    sigmaxdisp::Float64\n",
    "    niter::Int\n",
    "    nburnin::Int\n",
    "    eps::Float64\n",
    "end"
   ]
  },
  {
   "cell_type": "code",
   "execution_count": 58,
   "metadata": {},
   "outputs": [
    {
     "data": {
      "text/plain": [
       "create_gaia (generic function with 1 method)"
      ]
     },
     "execution_count": 58,
     "metadata": {},
     "output_type": "execute_result"
    }
   ],
   "source": [
    "### data simulation\n",
    "\n",
    "function create_cluster(ns = 1000 , dc = 380. , sigma_x = 1.6 , sigma_y = 1.5 , sigma_z = 1.0 )::starCluster\n",
    "    xx = Normal(0.0, sigma_x)\n",
    "    yy = Normal(0.0, sigma_y)\n",
    "    zz = Normal(0.0, sigma_z)\n",
    "    cluster = starCluster(zeros(ns) ,zeros(ns), zeros(ns), sigma_x , sigma_y, sigma_z, ns, dc)\n",
    "    cluster.xpos = rand(xx, ns)\n",
    "    cluster.ypos = rand(yy, ns)\n",
    "    cluster.zpos = rand(zz, ns)\n",
    "    \n",
    "    return(cluster)\n",
    "end\n",
    "\n",
    "function create_gaia(c::starCluster, stderr, minerr)::simGaia\n",
    "    gaia = simGaia(zeros(c.ns) , zeros(c.ns))\n",
    "    \n",
    "    err = TruncatedNormal(0.0, stderr, minerr , 1e9)\n",
    "    gaia.parallax_err = rand(err, c.ns)\n",
    "    \n",
    "    #actual error draw from the error distribution\n",
    "    actualErr = zeros(c.ns)\n",
    "    for i in 1:c.ns\n",
    "        errd = Normal(0.0, gaia.parallax_err[i])\n",
    "        actualErr[i] = rand(errd)\n",
    "    end\n",
    "    \n",
    "    gaia.parallax = 1000. ./ ( c.dc .+ c.xpos) .+ actualErr\n",
    "    \n",
    "    return(gaia)\n",
    "end"
   ]
  },
  {
   "cell_type": "code",
   "execution_count": 59,
   "metadata": {},
   "outputs": [
    {
     "data": {
      "text/plain": [
       "plot_mcmc (generic function with 1 method)"
      ]
     },
     "execution_count": 59,
     "metadata": {},
     "output_type": "execute_result"
    }
   ],
   "source": [
    "function plot_simul(c::starCluster, distance)\n",
    "    fig = figure(figsize=(10,8))\n",
    "\n",
    "    ax = subplot(221)\n",
    "    grid(\"on\")\n",
    "    scatter(c.xpos , c.ypos, s = 0.5 )\n",
    "    xlabel(\"X\")\n",
    "    ylabel(\"Y\")\n",
    "    \n",
    "    ax = subplot(222)\n",
    "    grid(\"on\")\n",
    "    scatter(c.ypos , c.zpos, s = 0.5 )\n",
    "    xlabel(\"Y\")\n",
    "    ylabel(\"Z\")\n",
    "    \n",
    "    ax = subplot(223)\n",
    "    grid(\"on\")\n",
    "    scatter(c.xpos , distance, s = 0.5 )\n",
    "    xlabel(\"X\")\n",
    "    ylabel(\"Distance\")\n",
    "\n",
    "    show()\n",
    "end\n",
    "\n",
    "function plot_mcmc(mci::mc, actual_value)\n",
    "    fig = figure(figsize=(10,5))\n",
    "    \n",
    "    ax = subplot(121)\n",
    "    nbins = 50\n",
    "    h = plt[:hist](mci.distance, nbins, color = \"g\", alpha=0.4)\n",
    "    actd = actual_value[1]\n",
    "    plot([actd,actd], [50,50],\"k\")\n",
    "    xlabel(\"Distance\")\n",
    "    \n",
    "    ax = subplot(122)\n",
    "    nbins = 50\n",
    "    h = plt[:hist](mci.sigmax,nbins,range = [0,15], color = \"r\", alpha=0.4)\n",
    "    acts = actual_value[2]\n",
    "    plot([acts,acts], [50,50],\"k\")\n",
    "    xlabel(\"σx\")  \n",
    "    \n",
    "    show()\n",
    "end"
   ]
  },
  {
   "cell_type": "code",
   "execution_count": 60,
   "metadata": {},
   "outputs": [
    {
     "data": {
      "text/plain": [
       "theta_iter (generic function with 1 method)"
      ]
     },
     "execution_count": 60,
     "metadata": {},
     "output_type": "execute_result"
    }
   ],
   "source": [
    "#### model and model iteration\n",
    "####\n",
    "function theta(p::abc)\n",
    "    pd      = TruncatedNormal(p.distancem, p.distancedisp, 0.001, 10000)\n",
    "    psigmax = TruncatedNormal(p.sigmaxm, p.sigmaxdisp, 0.001, 10000.)\n",
    "    \n",
    "    distance = rand(pd)       ; pdist = pdf(pd,distance)\n",
    "    sigmax   = rand(psigmax)  ; psig  = pdf(psigmax , sigmax)\n",
    "    \n",
    "    ptotal = pdist * psig\n",
    "    params    = model(distance , sigmax)\n",
    "    return(params , ptotal)\n",
    "end\n",
    "\n",
    "function theta_iter(θi::model , p::abc)\n",
    "        pd      = TruncatedNormal(p.distancem, p.distancedisp, 0.001, 10000)\n",
    "        psigmax = TruncatedNormal(p.sigmaxm, p.sigmaxdisp, 0.001, 10000.)\n",
    "    \n",
    "        d_rw          = TruncatedNormal(θi.distance , 10.0 , 0.001, 10000.)\n",
    "        sigmax_rw     = TruncatedNormal(θi.sigmax , 5.0 , 0.0001, 10000.)\n",
    "    \n",
    "        new_dist   = rand(d_rw)        ;  pdist = pdf(pd, new_dist)\n",
    "        new_sigmax = rand(sigmax_rw)   ;  psig  = pdf(psigmax , new_sigmax)\n",
    "        \n",
    "        ptotal = pdist * psig\n",
    "        params  = model(new_dist , new_sigmax)\n",
    "        return(params, ptotal)\n",
    "end"
   ]
  },
  {
   "cell_type": "code",
   "execution_count": 61,
   "metadata": {},
   "outputs": [
    {
     "data": {
      "text/plain": [
       "fitness (generic function with 1 method)"
      ]
     },
     "execution_count": 61,
     "metadata": {},
     "output_type": "execute_result"
    }
   ],
   "source": [
    "### fitness from simulations compared to data\n",
    "### psdata[1] = median(parallax)\n",
    "### psdata[2] = std(parallax)\n",
    "\n",
    "function fitness(m::model , params::abc , psdata, err)\n",
    "    \n",
    "    pxsimul = Normal(m.distance, m.sigmax)\n",
    "    xsimul  = rand(pxsimul, params.nstars)\n",
    "    \n",
    "    ## parallax error simulated\n",
    "    actualErr = zeros(params.nstars)\n",
    "    for i in 1:params.nstars\n",
    "        errd = Normal(0.,err[i])\n",
    "        actualErr[i] = rand(errd)\n",
    "    end\n",
    "    \n",
    "    \n",
    "    parallax_simul  = ( 1000. ./ xsimul )  .+ actualErr\n",
    "    actual_distance = 1000. ./ parallax_simul\n",
    "    \n",
    "    ps1 = median(actual_distance)\n",
    "    ps2 = std(actual_distance)\n",
    "    fit = ((ps1 -psdata[1]) / psdata[1])^2 + ((ps2 -psdata[2]) / psdata[2])^2\n",
    "    \n",
    "    #println(ps1, \"  \", psdata[1], \"   \" , ps2, \"   \", psdata[2], \"  \" , fit)\n",
    "    return(fit)    \n",
    "end\n",
    "\n",
    "\n"
   ]
  },
  {
   "cell_type": "code",
   "execution_count": 62,
   "metadata": {},
   "outputs": [
    {
     "data": {
      "text/plain": [
       "abc_mcmc (generic function with 1 method)"
      ]
     },
     "execution_count": 62,
     "metadata": {},
     "output_type": "execute_result"
    }
   ],
   "source": [
    "function abc_mcmc(params::abc , gaia::simGaia)\n",
    "    let\n",
    "        mci       = mc(zeros(Float64,0),zeros(Float64,0))\n",
    "        mi        = model(0. , 0.)\n",
    "        micurrent = model(0. , 0.)\n",
    "        probi = 0.\n",
    "        probcurrent = 0.\n",
    "        si = 0.\n",
    "        sicurrent = 0.\n",
    "        niter = params.niter\n",
    "        nburn = params.nburnin\n",
    "        initfound = false\n",
    "        psdata = [0., 0.]\n",
    "        dist = 1000. ./ gaia.parallax\n",
    "        psdata[1] = median(dist)\n",
    "        psdata[2] = std(dist)\n",
    "        \n",
    "        ### initialisation\n",
    "        mi, probi = theta(params)\n",
    "        si = fitness(mi , params ,  psdata , gaia.parallax_err)\n",
    "        \n",
    "        nchain = 1\n",
    "        burndone = false\n",
    "        loopagain = true\n",
    "        while loopagain\n",
    "            micurrent, probcurrent = theta_iter(mi , params)\n",
    "            sicurrent = fitness(micurrent , params ,  psdata, gaia.parallax_err)\n",
    "            \n",
    "            if  abs(si-sicurrent) < params.eps\n",
    "                α = probcurrent / probi\n",
    "                if α > rand() \n",
    "                    mi = micurrent\n",
    "                    probi = probcurrent\n",
    "                    si = sicurrent\n",
    "                    nchain += 1\n",
    "                    if (nchain%1000 == 0) println(\"### chain:\",nchain) end\n",
    "                    if nchain > nburn && !burndone println(\"### burnin done...\") ; nchain = 0 ; burndone = true end\n",
    "                    if nchain > niter loopagain = false end\n",
    "                    if burndone\n",
    "                        push!(mci.distance, mi.distance)\n",
    "                        push!(mci.sigmax, mi.sigmax)\n",
    "                    end\n",
    "                else\n",
    "                    nchain += 1\n",
    "                    if (nchain%1000 == 0) println(\"### chain:\",nchain) end\n",
    "                    if nchain > nburn && !burndone println(\"### burnin done...\") ; nchain = 0 ; burndone = true end\n",
    "                    if nchain > niter loopagain = false end\n",
    "                    if burndone\n",
    "                        push!(mci.distance, mi.distance)\n",
    "                        push!(mci.sigmax, mi.sigmax)\n",
    "                    end \n",
    "                end\n",
    "            end\n",
    "        end\n",
    "        println(\"## ABC/MCMC done\")\n",
    "        println(\"##\")\n",
    "        return(mci)          \n",
    "    end\n",
    "end"
   ]
  },
  {
   "cell_type": "code",
   "execution_count": 63,
   "metadata": {},
   "outputs": [
    {
     "name": "stdout",
     "output_type": "stream",
     "text": [
      "Mean distance on simulated data:420.1132987949769\n",
      "Dispersion distance on simulated data:23.22147120204297\n",
      "##\n",
      "## Running ABC/MCMC on the distance\n",
      "[420.113, 23.2215]\n",
      "### chain:1000\n",
      "### chain:2000\n",
      "### burnin done...\n",
      "### chain:1000\n",
      "### chain:2000\n",
      "### chain:3000\n",
      "### chain:4000\n",
      "### chain:5000\n",
      "### chain:6000\n",
      "### chain:7000\n",
      "### chain:8000\n",
      "### chain:"
     ]
    },
    {
     "data": {
      "image/png": "[encoded data removed]",
      "text/plain": [
       "Figure(PyObject <matplotlib.figure.Figure object at 0x7fc5fd3d1908>)"
      ]
     },
     "metadata": {},
     "output_type": "display_data"
    },
    {
     "name": "stdout",
     "output_type": "stream",
     "text": [
      "9000\n",
      "### chain:10000\n",
      "## ABC/MCMC done\n",
      "##\n",
      "## Distance:403.97528510980936\n",
      "## σx:9.030692145454712\n"
     ]
    }
   ],
   "source": [
    "## Main program\n",
    "## \n",
    "\n",
    "function main(params::abc, gaia::simGaia , actual_value)\n",
    "    println(\"##\")\n",
    "    println(\"## Running ABC/MCMC on the distance\")\n",
    "    \n",
    "    res = abc_mcmc(params, gaia)\n",
    "    \n",
    "    println(\"## Distance:\", median(res.distance))\n",
    "    println(\"## σx:\", median(res.sigmax))\n",
    "    \n",
    "    plot_mcmc(res, actual_value)\n",
    "end\n",
    "\n",
    "########################################\n",
    "Random.seed!(123)\n",
    "\n",
    "c1   = create_cluster(1000, 420.,  5.0 , 1.7, 1.0)\n",
    "gaia = create_gaia(c1, 0.011 , 0.12)\n",
    "d  = 1000. ./ gaia.parallax\n",
    "    \n",
    "# plot_simul(c1 , d)\n",
    "println(\"Mean distance on simulated data:\",median(d))\n",
    "println(\"Dispersion distance on simulated data:\",std(d))\n",
    "\n",
    "## ABC parameters\n",
    "nstars = 1000\n",
    "distancem = 400.\n",
    "distancedisp = 50.\n",
    "sigmaxm    = 5.0\n",
    "sigmaxdisp = 10.0\n",
    "niter = 10000\n",
    "nburnin = 2000\n",
    "ϵ = 0.05\n",
    "\n",
    "pinit = abc(nstars , distancem, distancedisp , sigmaxm , sigmaxdisp , niter, nburnin , ϵ)\n",
    "\n",
    "main(pinit, gaia, [420.,5.])"
   ]
  }
 ],
 "metadata": {
  "kernelspec": {
   "display_name": "Julia 1.0.0",
   "language": "julia",
   "name": "julia-1.0"
  },
  "language_info": {
   "file_extension": ".jl",
   "mimetype": "application/julia",
   "name": "julia",
   "version": "1.0.0"
  }
 },
 "nbformat": 4,
 "nbformat_minor": 2
}
