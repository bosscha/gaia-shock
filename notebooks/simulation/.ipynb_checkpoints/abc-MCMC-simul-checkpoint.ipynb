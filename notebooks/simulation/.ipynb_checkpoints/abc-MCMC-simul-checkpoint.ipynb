{
 "cells": [
  {
   "cell_type": "markdown",
   "metadata": {},
   "source": [
    "## Simulated data and ABC\n",
    "\n",
    "We simulate parallax and parallax error for the DBSCAN-selected stars within a cluster in order to test the aprroximate Bayesian computation (ABC) <br>\n",
    "\n",
    "For the simulated data the **input parameters** are: <br>\n",
    " * D_c     : Cluster distance \n",
    " * N_s     : Star numbers\n",
    " * sigma_x : X physical standard deviation of the cluster\n",
    " * err_p : distribution to simulate the parallax error on each star\n",
    " \n",
    " \n",
    "The **output products** will be:\n",
    " * Array of N points with:\n",
    "     * simulated parallax\n",
    "     * simulated parallax error"
   ]
  },
  {
   "cell_type": "code",
   "execution_count": null,
   "metadata": {},
   "outputs": [],
   "source": [
    "#### package and types\n",
    "####\n",
    "using Random , Compat ,  Distributions\n",
    "import PyPlot; const plt = PyPlot\n",
    "\n",
    "## type starCluster\n",
    "mutable struct starCluster\n",
    "    xpos::Array{Float64}    ## x position\n",
    "    sigma_x::Float64        ## std position\n",
    "    ns::Int32               ## star number\n",
    "    dc::Float64             ## cluster distance\n",
    "end\n",
    "\n",
    "## GAIA observations\n",
    "mutable struct simGaia\n",
    "    parallax::Array{Float64}\n",
    "    parallax_err::Array{Float64)}\n",
    "end"
   ]
  },
  {
   "cell_type": "code",
   "execution_count": null,
   "metadata": {},
   "outputs": [],
   "source": [
    "### data simulation\n",
    "\n",
    "function create_cluster(ns = 1000 , dc = 380. , sigma_x = 2.7)::starCluster\n",
    "    d = Normal(0.0, sigma_x)\n",
    "    cluster = starCluster(zeros(ns) , sigma_x , ns, dc)\n",
    "    cluster.xpos = rand(d, ns)\n",
    "    \n",
    "    return(cluster)\n",
    "end\n",
    "\n",
    "function create_gaia(c::starCluster, stderr, minerr)::simGaia\n",
    "    gaia = simGaia(zeros(c.ns) , zeros(c.ns))\n",
    "    \n",
    "    err = Truncated(Normal(0.0, stderr), minerr , 1e9)\n",
    "    gaia.parallax_err = rand(err, c.ns)\n",
    "    gaia.parallax = 1000. ./ ( c.dc .+ xpos) .+ gaia.parallax_err\n",
    "    \n",
    "    return(gaia)\n",
    "end"
   ]
  },
  {
   "cell_type": "code",
   "execution_count": null,
   "metadata": {},
   "outputs": [],
   "source": [
    "## Main program\n",
    "## \n",
    "\n",
    "## Create the simulated data ...\n",
    "\n",
    "Random.seed!(123)\n",
    "\n",
    "c1   = create_cluster(1000, 380., 2.7)\n",
    "gaia = create_gaia(c1, 0.01 , 0.11)\n",
    "\n",
    "plt.scatter(c1.xpos , gaia.parallax, s = 0.5 )\n",
    "plt.show()\n"
   ]
  }
 ],
 "metadata": {
  "kernelspec": {
   "display_name": "Julia 1.0.0",
   "language": "julia",
   "name": "julia-1.0"
  },
  "language_info": {
   "file_extension": ".jl",
   "mimetype": "application/julia",
   "name": "julia",
   "version": "1.0.0"
  }
 },
 "nbformat": 4,
 "nbformat_minor": 2
}
