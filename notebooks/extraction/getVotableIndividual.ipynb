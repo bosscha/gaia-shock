{
 "cells": [
  {
   "cell_type": "markdown",
   "metadata": {},
   "source": [
    "### Get an individual votable"
   ]
  },
  {
   "cell_type": "code",
   "execution_count": 6,
   "metadata": {},
   "outputs": [],
   "source": [
    "import sys, os\n",
    "sys.path.append('../../src')\n",
    "\n",
    "import astropy.coordinates as coord\n",
    "\n",
    "from astropy.io.votable import parse\n",
    "from astropy.table import Table\n",
    "from astropy import units as u\n",
    "from astroquery.gaia import Gaia\n",
    "\n",
    "import numpy as np\n",
    "import pandas as pd\n",
    "import gaia_utils as gu\n",
    "import shutil\n",
    "\n",
    "## directory\n",
    "rootdir = \"/home/stephane/Science/GAIA\"\n",
    "wdir    = \"%s/products/test\"%(rootdir)\n",
    "\n",
    "os.chdir(wdir)"
   ]
  },
  {
   "cell_type": "code",
   "execution_count": 7,
   "metadata": {},
   "outputs": [
    {
     "name": "stdout",
     "output_type": "stream",
     "text": [
      "## Getting data for NGC 188 in a radius of 2.0 degrees \n",
      "\n",
      "SELECT * FROM gaiadr2.gaia_source WHERE CONTAINS(POINT('ICRS',gaiadr2.gaia_source.ra,gaiadr2.gaia_source.dec),                                      CIRCLE('ICRS',11.1104000000,85.3366000000,2.0000000000)) = 1  AND abs(pmra_error/pmra)<  0.200000  AND abs(pmdec_error/pmdec)< 0.2000000000 AND abs(parallax_error/parallax)< 0.2000000000;\n",
      "## NGC 188-2.0deg.vot created\n",
      "## Query for NGC 188 done\n",
      "## Total stars: 30679\n"
     ]
    },
    {
     "data": {
      "text/plain": [
       "'NGC 188-2.0deg.vot'"
      ]
     },
     "execution_count": 7,
     "metadata": {},
     "output_type": "execute_result"
    }
   ],
   "source": [
    "## Individual source with name\n",
    "name = \"NGC 188\"\n",
    "radius = 2.0\n",
    "c = coord.SkyCoord.from_name(name)\n",
    "# c_icrs = coord.SkyCoord(ra= c.ra.deg * u.degree, dec= c.dec.deg  *u.degree, frame='icrs')\n",
    "print(\"## Getting data for %s in a radius of %3.1f degrees \\n\"%(name, radius))\n",
    "\n",
    "cluster = gu.source(name)\n",
    "filename = cluster.query(radius, coordCluster = [c.ra.deg,c.dec.deg], errtol = 0.2, dump = True)\n",
    "filedst = \"%s-%3.1fdeg.vot\"%(name, radius)\n",
    "shutil.move(filename,filedst)"
   ]
  }
 ],
 "metadata": {
  "kernelspec": {
   "display_name": "Python 3",
   "language": "python",
   "name": "python3"
  },
  "language_info": {
   "codemirror_mode": {
    "name": "ipython",
    "version": 3
   },
   "file_extension": ".py",
   "mimetype": "text/x-python",
   "name": "python",
   "nbconvert_exporter": "python",
   "pygments_lexer": "ipython3",
   "version": "3.6.8"
  }
 },
 "nbformat": 4,
 "nbformat_minor": 2
}
