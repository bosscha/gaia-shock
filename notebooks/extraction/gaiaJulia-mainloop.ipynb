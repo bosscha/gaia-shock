{
 "cells": [
  {
   "cell_type": "markdown",
   "metadata": {},
   "source": [
    "### Main Loop for the analysis of a list of votables  ...\n",
    "\n",
    "Features are:\n",
    "1. Ability to stop and resume loop\n",
    "2. Ability to plot the results\n",
    "3. Plug different kinds of analysis.\n",
    "4. Log results in a file and/or sqlitedb\n",
    "5. Should be runnable in the downloaded jl file.\n",
    "6. ETA"
   ]
  },
  {
   "cell_type": "code",
   "execution_count": 1,
   "metadata": {},
   "outputs": [
    {
     "name": "stderr",
     "output_type": "stream",
     "text": [
      "┌ Info: Recompiling stale cache file /home/stephane/.julia/compiled/v1.0/GaiaClustering.ji for GaiaClustering [top-level]\n",
      "└ @ Base loading.jl:1187\n"
     ]
    }
   ],
   "source": [
    "using DataFrames\n",
    "using CSV\n",
    "using Statistics\n",
    "\n",
    "rootdir = \"/home/stephane/Science/GAIA\"\n",
    "\n",
    "push!(LOAD_PATH,\"$rootdir/master/src\")\n",
    "using GaiaClustering\n",
    "\n",
    "## directory\n",
    "wdir    = \"$rootdir/products\"\n",
    "votdir  = \"$rootdir/products/votable\"\n",
    "plotdir = \"$rootdir/products/plots-set1\"\n",
    "\n",
    "cd(wdir)"
   ]
  },
  {
   "cell_type": "code",
   "execution_count": 2,
   "metadata": {},
   "outputs": [
    {
     "data": {
      "text/plain": [
       "readlist_votable (generic function with 1 method)"
      ]
     },
     "execution_count": 2,
     "metadata": {},
     "output_type": "execute_result"
    }
   ],
   "source": [
    "## load a liist of votable and update the file if done\n",
    "## add results\n",
    "## \n",
    "\n",
    "function readlist_votable(filelist::String)\n",
    "    vot = CSV.read(filelist)\n",
    "    return(vot)\n",
    "end"
   ]
  },
  {
   "cell_type": "code",
   "execution_count": 3,
   "metadata": {},
   "outputs": [
    {
     "data": {
      "text/plain": [
       "getdata (generic function with 1 method)"
      ]
     },
     "execution_count": 3,
     "metadata": {},
     "output_type": "execute_result"
    }
   ],
   "source": [
    "function getdata(filevot)\n",
    "    voname = filevot\n",
    "\n",
    "    data       = read_votable(voname)\n",
    "    df         = filter_data(data)\n",
    "    dfcart     = add_cartesian(df)\n",
    "    blck       = [[1,2,3],[4,5], [6,7,8]]\n",
    "    wghtblck   = [4.0,5.0,1.0]\n",
    "    norm       = \"identity\"\n",
    "\n",
    "    dfcartnorm , scale8 = normalization_PerBlock(dfcart, blck, wghtblck , norm, false)\n",
    "    return(df, dfcart , dfcartnorm)\n",
    "end"
   ]
  },
  {
   "cell_type": "code",
   "execution_count": 4,
   "metadata": {},
   "outputs": [
    {
     "data": {
      "text/plain": [
       "check_mcmc (generic function with 1 method)"
      ]
     },
     "execution_count": 4,
     "metadata": {},
     "output_type": "execute_result"
    }
   ],
   "source": [
    "function dbscanmcmc_updt!(ismcmc, fileres, mc ,votname)\n",
    "    epsm = mean(mc.eps)\n",
    "    epsd = std(mc.eps)\n",
    "    mneim = mean(mc.mne)\n",
    "    mneid = std(mc.mne)\n",
    "    mclm = mean(mc.mcl)\n",
    "    mcld = std(mc.mcl)\n",
    "    qcm = mean(mc.qc)\n",
    "    qnm = mean(mc.qn)\n",
    "    qcd = std(mc.qc)\n",
    "    qnd = std(mc.qn)\n",
    "    \n",
    "    println(\"## DBSCAN/MCMC stats:\")\n",
    "    println(\"### ϵ : \",epsm,\" +/- \", epsd)\n",
    "    println(\"### min_nei  : \", mneim,\" +/- \", mneid)\n",
    "    println(\"### min_clus  : \", mclm,\"+/- \", mcld)\n",
    "    println(\"### Qn  : \",qnm,\" +/- \", qnd) \n",
    "    println(\"### Qc  : \",qcm,\" +/- \", qcd)\n",
    "    println(\"##\")\n",
    "    \n",
    "    if !ismcmc\n",
    "        res = DataFrame(votname=votname, epsm = epsm, epsd=epsd, mneim=mneim,mneid=mneid,mclm=mclm,mcld=mcld,\n",
    "            qcm=qcm,qcd=qcd, qnm=qnm,qnd=qnd)\n",
    "        CSV.write(fileres,res,delim=';')\n",
    "        initmcmc = true\n",
    "        return(res)\n",
    "    else\n",
    "        res = CSV.read(fileres, delim=\";\")\n",
    "        newrow = DataFrame(votname=votname,epsm = epsm, epsd=epsd, mneim=mneim,mneid=mneid,mclm=mclm,mcld=mcld,\n",
    "            qcm=qcm,qcd=qcd, qnm=qnm,qnd=qnd)\n",
    "        println(\"### add DBSCAN/MCMCresults ...\")\n",
    "        append!(res,newrow)\n",
    "        CSV.write(fileres,res,delim=';')\n",
    "        return(newrow)\n",
    "    end\n",
    "end\n",
    "\n",
    "function check_mcmc(votname, fileres)\n",
    "    try\n",
    "        res = CSV.read(fileres, delim=\";\") \n",
    "        if votname in res[:votname]\n",
    "            return(true, true)\n",
    "        else\n",
    "            return(false , true)\n",
    "        end        \n",
    "    catch\n",
    "        println(\"### $fileres will be created...\")\n",
    "        return(false, false)\n",
    "    end\n",
    "end"
   ]
  },
  {
   "cell_type": "code",
   "execution_count": 5,
   "metadata": {},
   "outputs": [
    {
     "data": {
      "text/plain": [
       "SCparameters_updt (generic function with 1 method)"
      ]
     },
     "execution_count": 5,
     "metadata": {},
     "output_type": "execute_result"
    }
   ],
   "source": [
    "### update basic parameters of the extracted cluster\n",
    "####\n",
    "function SCparameters_updt(fileres,sc::GaiaClustering.SCproperties,votname)\n",
    "    try\n",
    "        res = CSV.read(fileres, delim=\";\")\n",
    "        newrow = DataFrame(votname=votname)\n",
    "        newrow = DataFrame(votname=votname,nstars=sc.nstars,distance=sc.distance,l=sc.l,b=sc.b,\n",
    "            vl=sc.vl,vb=sc.vb,vrad=sc.vrad , xdisp=sc.xdisp,ydisp=sc.ydisp,zdisp=sc.zdisp,\n",
    "            vldisp=sc.vldisp,vbdisp=sc.vbdisp , vraddisp=sc.vraddisp)\n",
    "        println(\"### add SC basic properties...\")\n",
    "        append!(res,newrow)\n",
    "        CSV.write(fileres,res,delim=';')\n",
    "        return(newrow)\n",
    "    catch\n",
    "        println(\"## No $fileres file, it will be created...\")\n",
    "        res = DataFrame(votname=votname,nstars=sc.nstars,distance=sc.distance,l=sc.l,b=sc.b,\n",
    "            vl=sc.vl,vb=sc.vb,vrad=sc.vrad , xdisp=sc.xdisp,ydisp=sc.ydisp,zdisp=sc.zdisp,\n",
    "            vldisp=sc.vldisp,vbdisp=sc.vbdisp , vraddisp=sc.vraddisp)\n",
    "        CSV.write(fileres,res,delim=';')\n",
    "        initmcmc = true\n",
    "        return(res)\n",
    "    end\n",
    "end"
   ]
  },
  {
   "cell_type": "code",
   "execution_count": 6,
   "metadata": {},
   "outputs": [
    {
     "data": {
      "text/plain": [
       "mcmc_params (generic function with 1 method)"
      ]
     },
     "execution_count": 6,
     "metadata": {},
     "output_type": "execute_result"
    }
   ],
   "source": [
    "function mcmc_params()\n",
    "    minQ    = 2.7\n",
    "    minstars = 40\n",
    "    ##\n",
    "    epsmean = 2.0\n",
    "    epsdisp = 1.5\n",
    "    min_nei   = 10\n",
    "    min_cl    = 15\n",
    "    ncoredisp = 10\n",
    "    ##\n",
    "    nburnout  = 500\n",
    "    niter     = 3000\n",
    "    pinit = GaiaClustering.abc(minQ, minstars, epsmean,epsdisp,min_nei, min_cl, ncoredisp, nburnout , niter)\n",
    "    return(pinit)\n",
    "end"
   ]
  },
  {
   "cell_type": "code",
   "execution_count": 7,
   "metadata": {},
   "outputs": [
    {
     "name": "stdout",
     "output_type": "stream",
     "text": [
      "## Starting main loop ..\n",
      "## Check the ABC parameters in mcmc_params()\n",
      "## votlist.csv read\n",
      "### votlist.mcmc-set1.csv will be created...\n",
      "## Starting with AH03 J0822-36.4-1.0deg.vot\n"
     ]
    },
    {
     "ename": "LoadError",
     "evalue": "PyError ($(Expr(:escape, :(ccall(#= /home/stephane/.julia/packages/PyCall/0jMpb/src/pyfncall.jl:44 =# @pysym(:PyObject_Call), PyPtr, (PyPtr, PyPtr, PyPtr), o, pyargsptr, kw))))) <class 'FileNotFoundError'>\nFileNotFoundError(2, 'No such file or directory')\n  File \"/home/stephane/.local/lib/python3.6/site-packages/astropy/io/votable/table.py\", line 135, in parse\n    _debug_python_based_parser=_debug_python_based_parser) as iterator:\n  File \"/usr/lib/python3.6/contextlib.py\", line 81, in __enter__\n    return next(self.gen)\n  File \"/home/stephane/.local/lib/python3.6/site-packages/astropy/utils/xml/iterparser.py\", line 157, in get_xml_iterator\n    with _convert_to_fd_or_read_function(source) as fd:\n  File \"/usr/lib/python3.6/contextlib.py\", line 81, in __enter__\n    return next(self.gen)\n  File \"/home/stephane/.local/lib/python3.6/site-packages/astropy/utils/xml/iterparser.py\", line 63, in _convert_to_fd_or_read_function\n    with data.get_readable_fileobj(fd, encoding='binary') as new_fd:\n  File \"/usr/lib/python3.6/contextlib.py\", line 81, in __enter__\n    return next(self.gen)\n  File \"/home/stephane/.local/lib/python3.6/site-packages/astropy/utils/data.py\", line 193, in get_readable_fileobj\n    fileobj = io.FileIO(name_or_obj, 'r')\n",
     "output_type": "error",
     "traceback": [
      "PyError ($(Expr(:escape, :(ccall(#= /home/stephane/.julia/packages/PyCall/0jMpb/src/pyfncall.jl:44 =# @pysym(:PyObject_Call), PyPtr, (PyPtr, PyPtr, PyPtr), o, pyargsptr, kw))))) <class 'FileNotFoundError'>\nFileNotFoundError(2, 'No such file or directory')\n  File \"/home/stephane/.local/lib/python3.6/site-packages/astropy/io/votable/table.py\", line 135, in parse\n    _debug_python_based_parser=_debug_python_based_parser) as iterator:\n  File \"/usr/lib/python3.6/contextlib.py\", line 81, in __enter__\n    return next(self.gen)\n  File \"/home/stephane/.local/lib/python3.6/site-packages/astropy/utils/xml/iterparser.py\", line 157, in get_xml_iterator\n    with _convert_to_fd_or_read_function(source) as fd:\n  File \"/usr/lib/python3.6/contextlib.py\", line 81, in __enter__\n    return next(self.gen)\n  File \"/home/stephane/.local/lib/python3.6/site-packages/astropy/utils/xml/iterparser.py\", line 63, in _convert_to_fd_or_read_function\n    with data.get_readable_fileobj(fd, encoding='binary') as new_fd:\n  File \"/usr/lib/python3.6/contextlib.py\", line 81, in __enter__\n    return next(self.gen)\n  File \"/home/stephane/.local/lib/python3.6/site-packages/astropy/utils/data.py\", line 193, in get_readable_fileobj\n    fileobj = io.FileIO(name_or_obj, 'r')\n",
      "",
      "Stacktrace:",
      " [1] pyerr_check at /home/stephane/.julia/packages/PyCall/0jMpb/src/exception.jl:60 [inlined]",
      " [2] pyerr_check at /home/stephane/.julia/packages/PyCall/0jMpb/src/exception.jl:64 [inlined]",
      " [3] macro expansion at /home/stephane/.julia/packages/PyCall/0jMpb/src/exception.jl:84 [inlined]",
      " [4] __pycall!(::PyCall.PyObject, ::Ptr{PyCall.PyObject_struct}, ::PyCall.PyObject, ::Ptr{Nothing}) at /home/stephane/.julia/packages/PyCall/0jMpb/src/pyfncall.jl:44",
      " [5] _pycall!(::PyCall.PyObject, ::PyCall.PyObject, ::Tuple{String}, ::Int64, ::Ptr{Nothing}) at /home/stephane/.julia/packages/PyCall/0jMpb/src/pyfncall.jl:22",
      " [6] #call#89 at /home/stephane/.julia/packages/PyCall/0jMpb/src/pyfncall.jl:11 [inlined]",
      " [7] (::PyCall.PyObject)(::String) at /home/stephane/.julia/packages/PyCall/0jMpb/src/pyfncall.jl:89",
      " [8] read_votable(::String) at /home/stephane/Science/GAIA/master/src/data.jl:42",
      " [9] getdata(::String) at ./In[3]:4",
      " [10] @main(::LineNumberNode, ::Module, ::Any, ::Any, ::Any) at ./In[7]:19"
     ]
    }
   ],
   "source": [
    "## Main loop\n",
    "##\n",
    "\n",
    "macro main(filelist,fileres, fileSCres)\n",
    "    let\n",
    "        println(\"## Starting main loop ..\")\n",
    "        println(\"## Check the ABC parameters in mcmc_params()\")\n",
    "        vot = readlist_votable(filelist)\n",
    "        println(\"## $filelist read\")\n",
    "        s=size(vot)\n",
    "        \n",
    "        \n",
    "        for i in 1:s[1]\n",
    "            votname = vot[:votname][i]\n",
    "            \n",
    "            mcmcfound , ismcmcfile = check_mcmc(votname, fileres)\n",
    "            if !mcmcfound\n",
    "                println(\"## Starting with $votname\")\n",
    "                df , dfcart , dfcartnorm = getdata(votdir*\"/\"*votname)\n",
    "                \n",
    "                ## MCMC optimization\n",
    "                params = mcmc_params()\n",
    "                mc = abc_mcmc_dbscan(dfcartnorm, dfcart, params)\n",
    "                plot_dbscan_mcmc(plotdir, votname, mc , false)\n",
    "                res = dbscanmcmc_updt!(ismcmcfile, fileres, mc ,votname)\n",
    "                \n",
    "                ## get the cluster and plot it\n",
    "                println(\"## Extracting the cluster using DBSCAN with:\")\n",
    "                eps = res[:epsm][1]\n",
    "                min_nei = trunc(Int,res[:mneim][1] + 0.5)  \n",
    "                min_cl = trunc(Int,res[:mclm][1] + 0.5)\n",
    "                println(\"### ϵ : $eps\")\n",
    "                println(\"### min_neighbor: $min_nei\")\n",
    "                println(\"### min_cluster : $min_cl\")\n",
    "                labels = clusters(dfcartnorm.data ,eps  , 20, min_nei, min_cl)\n",
    "                labelmax , nmax = find_cluster_label(labels)\n",
    "                println(\"### Label solution: $labelmax\")\n",
    "                println(\"### N stars: $nmax\")\n",
    "                \n",
    "                scproperties = get_properties_SC(labels[labelmax] , df, dfcart)\n",
    "                println(\"### \",scproperties)\n",
    "                plot_cluster(plotdir, votname, labels[labelmax], scproperties,  dfcart , false)\n",
    "                SCparameters_updt(fileSCres, scproperties, votname)\n",
    "                println(\"##\\n##\")\n",
    "    \n",
    "            end\n",
    "            \n",
    "        end\n",
    "    end\n",
    "    print(\"## Main loop done.\")\n",
    "end\n",
    "\n",
    "@main(\"votlist.csv\",\"votlist.mcmc-set1.csv\", \"votlist.SCproperties-set1.csv\")"
   ]
  }
 ],
 "metadata": {
  "kernelspec": {
   "display_name": "Julia 1.4.1",
   "language": "julia",
   "name": "julia-1.4"
  },
  "language_info": {
   "file_extension": ".jl",
   "mimetype": "application/julia",
   "name": "julia",
   "version": "1.4.1"
  }
 },
 "nbformat": 4,
 "nbformat_minor": 2
}
