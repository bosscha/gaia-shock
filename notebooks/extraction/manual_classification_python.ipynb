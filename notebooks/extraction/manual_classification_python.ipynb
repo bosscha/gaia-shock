{
 "cells": [
  {
   "cell_type": "markdown",
   "id": "1a241f8b",
   "metadata": {},
   "source": [
    "### Manual classification\n",
    "\n",
    "Manual classificato to set the labels for training and ML classification"
   ]
  },
  {
   "cell_type": "code",
   "execution_count": null,
   "id": "695de13b",
   "metadata": {},
   "outputs": [],
   "source": [
    "import os\n",
    "from IPython.display import Image, display\n",
    "import pandas as pd\n",
    "import numpy as np\n",
    "\n"
   ]
  },
  {
   "cell_type": "code",
   "execution_count": null,
   "id": "4635f3c2",
   "metadata": {},
   "outputs": [],
   "source": [
    "ocplot  = \"/home/stephane/Science/GAIA/e2e_products.edr3/res.alma.edr3/e2e_products.edr3/plotSelect\"\n",
    "\n",
    "ocscfile= \"/home/stephane/Downloads/ocres_testsc_joined_scored.csv\"\n",
    "\n",
    "df= pd.read_csv(ocscfile, sep=\";\")\n",
    "\n",
    "oc_class= \"/home/stephane/Downloads/ocres-python.class.csv\"\n",
    "\n",
    "if os.path.isfile(oc_class):\n",
    "    dfclass= pd.read_csv(oc_class, sep=\";\")\n",
    "    print(dfclass)\n",
    "else:\n",
    "    d= {'votname': ['none'], 'cycle': ['none'], 'class':['none']}\n",
    "    dfclass= pd.DataFrame(data=d)"
   ]
  },
  {
   "cell_type": "code",
   "execution_count": null,
   "id": "7e06137b",
   "metadata": {},
   "outputs": [],
   "source": [
    "print(\"## instructions:\")\n",
    "print(\"## n: not detected (false)\")\n",
    "print(\"## u: unknown \")\n",
    "print(\"## c: cluster detected\")\n",
    "print(\"## x: save and exit\")"
   ]
  },
  {
   "cell_type": "code",
   "execution_count": null,
   "id": "0d233f53",
   "metadata": {
    "scrolled": false
   },
   "outputs": [],
   "source": [
    "dfs= df = df.sample(frac = 1)      # shuffle\n",
    "\n",
    "for index, row in dfs.iterrows():\n",
    "    clfile= \"%s.%d.cluster.png\"%(row['votname'], row['cycle'])\n",
    "    clim= os.path.join(ocplot,clfile)\n",
    "        \n",
    "    rawfile= \"%s.%d.raw.png\"%(row['votname'], row['cycle'])\n",
    "    rawim= os.path.join(ocplot,rawfile)\n",
    "    \n",
    "    name= row['votname']\n",
    "    cycle= row['cycle']\n",
    "    \n",
    "    done= dfclass.loc[(dfclass['votname'] == name) & (dfclass['cycle'] == cycle)]  \n",
    "    print(done)\n",
    "\n",
    "    if len(done) == 0:\n",
    "        # print(row['votname'], row['cycle'], row['prediction'])\n",
    "        display(Image(filename=rawim))\n",
    "        display(Image(filename=clim))\n",
    "    \n",
    "        value= input(\"value=\")\n",
    "        \n",
    "        if value== \"x\":\n",
    "            dfclass.to_csv(oc_class, sep=';', index=False)\n",
    "            break\n",
    "        else:\n",
    "            new_row = {'votname':name, 'cycle':cycle, 'class':value}\n",
    "            dfclass = dfclass.append(new_row, ignore_index=True)\n",
    "            \n",
    "        ndone= len(dfclass)\n",
    "        print(\"## %d checked...\\n\"%(ndone))\n",
    "        print(\"##################### \\n\")\n",
    "        \n",
    "ndone= len(dfclass)\n",
    "print(\"## %d checked in total!\\n\"%(ndone))"
   ]
  },
  {
   "cell_type": "code",
   "execution_count": null,
   "id": "74cdc755",
   "metadata": {},
   "outputs": [],
   "source": []
  }
 ],
 "metadata": {
  "kernelspec": {
   "display_name": "Python 3 (ipykernel)",
   "language": "python",
   "name": "python3"
  },
  "language_info": {
   "codemirror_mode": {
    "name": "ipython",
    "version": 3
   },
   "file_extension": ".py",
   "mimetype": "text/x-python",
   "name": "python",
   "nbconvert_exporter": "python",
   "pygments_lexer": "ipython3",
   "version": "3.9.5"
  }
 },
 "nbformat": 4,
 "nbformat_minor": 5
}
