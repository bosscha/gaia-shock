{
 "cells": [
  {
   "cell_type": "markdown",
   "metadata": {},
   "source": [
    "## Extract one OC with the DBSCAN parameters"
   ]
  },
  {
   "cell_type": "code",
   "execution_count": 15,
   "metadata": {},
   "outputs": [],
   "source": [
    "using PyCall\n",
    "using Statistics , StatsBase\n",
    "using  DataFrames, Printf , CSV , Query\n",
    "\n",
    "import PyPlot\n",
    "sns= pyimport(\"seaborn\")\n",
    "\n",
    "## directory\n",
    "rootdir = ENV[\"GAIA_ROOT\"]\n",
    "wdir    = \"$rootdir/products\"\n",
    "votdir  = \"$rootdir/products/votable.2020\"\n",
    "plotdir = \"$rootdir/products/test\"\n",
    "sclist  = \"$rootdir/e2e_products/sc-list-2020.csv\"\n",
    "\n",
    "push!(LOAD_PATH,\"$rootdir/run/src\")\n",
    "using GaiaClustering\n",
    "\n",
    "apy= pyimport(\"astropy\")\n",
    "coord= pyimport(\"astropy.coordinates\")\n",
    "\n",
    "cd(wdir)"
   ]
  },
  {
   "cell_type": "code",
   "execution_count": 16,
   "metadata": {},
   "outputs": [
    {
     "data": {
      "text/plain": [
       "_getdata (generic function with 1 method)"
      ]
     },
     "execution_count": 16,
     "metadata": {},
     "output_type": "execute_result"
    }
   ],
   "source": [
    "function _get_OC(df , dfcart, labels , labelmax)\n",
    "    ra= df.raw[1, labels[labelmax]]\n",
    "    dec= df.raw[2,labels[labelmax]]\n",
    "    l= df.data[1, labels[labelmax]]\n",
    "    b= df.data[2,labels[labelmax]]\n",
    "    d= df.data[3,labels[labelmax]]\n",
    "    pmra= df.raw[6, labels[labelmax]]\n",
    "    pmdec= df.raw[7, labels[labelmax]]\n",
    "    X= dfcart.data[1, labels[labelmax]]\n",
    "    Y= dfcart.data[2, labels[labelmax]]\n",
    "    Z= dfcart.data[3, labels[labelmax]]\n",
    "    vl= df.data[4,labels[labelmax]]\n",
    "    vb= df.data[5,labels[labelmax]]\n",
    "    vrad= df.raw[13,labels[labelmax]]\n",
    "    gbar= df.raw[10,labels[labelmax]]\n",
    "    rp= df.raw[11,labels[labelmax]]\n",
    "    bp= df.raw[12,labels[labelmax]]\n",
    "    ag= df.raw[14,labels[labelmax]]\n",
    "\n",
    "    oc= DataFrame(ra=ra,dec=dec,l=l,b=b, distance=d,pmra=pmra, pmdec=pmdec, X=X,Y=Y,Z=Z,vl=vl,vb=vb,vrad=vrad,gbar=gbar,rp=rp,bp=bp, ag=ag)\n",
    "\n",
    "    return(oc)\n",
    "end\n",
    "\n",
    "function _getdata(voname, wghtblck)\n",
    "    data       = read_votable(voname)\n",
    "    df         = filter_data(data, [0.,4000])\n",
    "    dfcart     = add_cartesian(df)\n",
    "    blck       = [[1,2,3],[4,5], [6,7,8]]\n",
    "    norm       = \"identity\"\n",
    "\n",
    "    dfcartnorm , scale8 = normalization_PerBlock(dfcart, blck, wghtblck , norm, false)\n",
    "    return(df, dfcart , dfcartnorm)\n",
    "end"
   ]
  },
  {
   "cell_type": "code",
   "execution_count": 17,
   "metadata": {},
   "outputs": [
    {
     "data": {
      "text/plain": [
       "_find_cluster_label (generic function with 6 methods)"
      ]
     },
     "execution_count": 17,
     "metadata": {},
     "output_type": "execute_result"
    }
   ],
   "source": [
    "## return the \"best cluster\"\n",
    "\n",
    "function _find_cluster_label(labels, df::GaiaClustering.Df, dfcart::GaiaClustering.Df ,\n",
    "    aperture2d = 1.5, maxaperture2d = 15, aperturev = 3.0, maxaperturev = 20, nboot = 30)\n",
    "    \n",
    "    ### metrics of the clusters\n",
    "    q2d = metric2(dfcart, labels, \"spatial2d\" , aperture2d, maxaperture2d, nboot)\n",
    "    q3d = metric2(dfcart, labels, \"spatial3d\" , aperture2d, maxaperture2d, nboot)     #### Added\n",
    "    qv  = metric2(dfcart, labels, \"velocity\" , aperturev, maxaperturev, nboot)\n",
    "    qp, qa = metric2(dfcart, labels, \"HRD\" )\n",
    "\n",
    "    nlab = []\n",
    "    for ilab in labels\n",
    "        push!(nlab,length(ilab))\n",
    "    end\n",
    "    \n",
    "    #### metric for the number of stars in the cluster\n",
    "    qn = []\n",
    "    for nl in nlab\n",
    "        push!(qn,log10(nl))\n",
    "    end\n",
    "    \n",
    "    qc= []\n",
    "    for i in 1:length(nlab)\n",
    "        k1 = q2d[i][1]\n",
    "        k1bis = q3d[i][1]\n",
    "        k2 = qv[i][1]\n",
    "        k3 = qa[i][1]\n",
    "        k4 = qn[i]\n",
    "        ############### Composite metric ###\n",
    "        qq = (2k1 + k1bis + 3k2 + k3 + k4) / 8.0\n",
    "        # qq = (3k1 + k1bis + 3k2 + k4) / 8.0\n",
    "        ###############\n",
    "        push!(qc,qq)\n",
    "    end\n",
    "    \n",
    "    println(qc)\n",
    "    bestlabel= findmax(qc)[2]\n",
    "    println(\"best label $bestlabel\")\n",
    "    \n",
    "    return(bestlabel, nlab[bestlabel])\n",
    "end"
   ]
  },
  {
   "cell_type": "code",
   "execution_count": 18,
   "metadata": {},
   "outputs": [
    {
     "data": {
      "text/plain": [
       "_votinfo (generic function with 1 method)"
      ]
     },
     "execution_count": 18,
     "metadata": {},
     "output_type": "execute_result"
    }
   ],
   "source": [
    "## function to compute distance of detected cluster to \"standard\" position\n",
    "##\n",
    "\n",
    "function _get_pos(votname, sclist)\n",
    "    u= apy.units\n",
    "    scdata= CSV.read(sclist,delim=\"|\")\n",
    "    \n",
    "    nf= findlast(\"deg\", votname)[1]-5  ## deg-5 chars\n",
    "    name= votname[1:nf]\n",
    "    println(name)\n",
    "    \n",
    "    q = @from i in scdata begin\n",
    "     @where i.name == name\n",
    "     @select {ra=i.ra, dec= i.dec}\n",
    "     @collect DataFrame\n",
    "    end\n",
    "    \n",
    "    if length(q.ra) > 0\n",
    "        println(q)\n",
    "        ra= q.ra[1] ; dec= q.dec[1]\n",
    "        co= \"$ra $dec\"\n",
    "        c= coord.SkyCoord(co, unit=(u.hourangle, u.deg))\n",
    "    \n",
    "        α= c.ra\n",
    "        δ= c.dec \n",
    "    else\n",
    "        α= [0.]\n",
    "        δ= [0.]\n",
    "        println(\"## source coordinates not found ...\")\n",
    "    end\n",
    "    \n",
    "    return(α[1],δ[1])\n",
    "end\n",
    "\n",
    "## angular distance to the cluster litterature center...\n",
    "function _get_angle2pos(oc,α_c, δ_c )\n",
    "    α= median(oc.ra)\n",
    "    δ= median(oc.dec)\n",
    "        \n",
    "    angdist= angle4sphere(α, δ ,α_c, δ_c )\n",
    "    return(angdist)\n",
    "end\n",
    "\n",
    "## analyze some properties of the cartesian coordinates for the extraction\n",
    "function _votinfo(dfcart)\n",
    "    cart= DataFrame(X=dfcart.data[1,:], Y=dfcart.data[2,:], Z=dfcart.data[3,:])\n",
    "    \n",
    "    q = @from i in cart begin\n",
    "     @where i.X < 1010 &&  i.X > 990\n",
    "     @select {x= i.X, y= i.Y, z=i.Z}\n",
    "     @collect DataFrame\n",
    "    end\n",
    "    \n",
    "    coefxym= minimum(cart.Y ./ cart.X)\n",
    "    coefxzm= minimum(cart.Z ./ cart.X)\n",
    "    coefxyM= maximum(cart.Y ./ cart.X)\n",
    "    coefxzM= maximum(cart.Z ./ cart.X)\n",
    "    \n",
    "    println(\"### Max coef. Y/X: $coefxym $coefxyM\")\n",
    "    println(\"### Max coef. Z/X: $coefxzm $coefxzM\")\n",
    "\n",
    "    PyPlot.plt.figure(figsize=(13.0,12.0))\n",
    "\n",
    "    PyPlot.plt.subplot(2, 1, 1 , ylim=[100,450], xlim=[-50,50])\n",
    "    PyPlot.plt.scatter(cart.Y, cart.X, s = 0.1 )\n",
    "    PyPlot.plt.xlabel(\"Y (pc)\")\n",
    "    PyPlot.plt.ylabel(\"X (pc)\")\n",
    "    PyPlot.plt.grid(true)\n",
    "    \n",
    "    PyPlot.plt.show()\n",
    "\n",
    "end"
   ]
  },
  {
   "cell_type": "code",
   "execution_count": 19,
   "metadata": {},
   "outputs": [
    {
     "name": "stdout",
     "output_type": "stream",
     "text": [
      "## Votable /home/stephane/Science/GAIA/products/votable.2020/NGC 869-3.0deg.vot read\n",
      "## Filtering done ...\n",
      "## Stars selected: 135000\n",
      "## Cartesian transformation done ...\n",
      "## Normalization identity done...\n",
      "### [1pc,1pc,1pc,1km/s,1km/s,1mag,1mag,1mag] equivalent to [0.2959157811470433, 0.2959157811470433, 0.2959157811470433, 0.5582047689819226, 0.5582047689819226, 0.19503540121055127, 0.19503540121055127, 0.19503540121055127]\n",
      "##\n",
      "## vot info...\n",
      "### Max coef. Y/X: -0.05101973798442552 0.05396149601193421\n",
      "### Max coef. Z/X: -0.05122308170671857 0.0535326336524231\n",
      "Any[2.196646570722521, 1.0511644897550592, 0.6649513868933387, 0.6904605636542018, 0.9147156672644217, 0.72336840762075, 1.9810817383605697, 1.0571018583616585, 0.6618553060346124, 2.9000017565246474, 1.2538034292168883, 1.5710103672178002, 1.5564054729604473, 1.1547492895093452, 0.8252222143198258, 0.6582313515322857, 0.9614664022625252, 1.3139781012624923, 0.9564233090785385, 1.3469361100041832, 0.800316094223498, 0.7818067953741838, 0.9834610534348145, 0.5595665225986591, 0.790175215849473, 1.0373785790304648, 0.7415073614373908, 0.7571828461411192, 1.1031155369838288]\n",
      "best label 10\n"
     ]
    },
    {
     "ename": "LoadError",
     "evalue": "ArgumentError: provide a valid sink argument, like `using DataFrames; CSV.read(source, DataFrame)`",
     "output_type": "error",
     "traceback": [
      "ArgumentError: provide a valid sink argument, like `using DataFrames; CSV.read(source, DataFrame)`",
      "",
      "Stacktrace:",
      " [1] read(source::String, sink::Nothing; copycols::Bool, kwargs::Base.Iterators.Pairs{Symbol, String, Tuple{Symbol}, NamedTuple{(:delim,), Tuple{String}}})",
      "   @ CSV ~/.julia/packages/CSV/CJfFO/src/CSV.jl:43",
      " [2] _get_pos(votname::String, sclist::String)",
      "   @ Main ./In[18]:6",
      " [3] top-level scope",
      "   @ In[19]:23",
      " [4] eval",
      "   @ ./boot.jl:360 [inlined]",
      " [5] include_string(mapexpr::typeof(REPL.softscope), mod::Module, code::String, filename::String)",
      "   @ Base ./loading.jl:1094"
     ]
    }
   ],
   "source": [
    "votname= \"NGC 869-3.0deg.vot\"\n",
    "\n",
    "w3d=  4.4\n",
    "wvel=   8.3\n",
    "whrd=  2.9\n",
    "\n",
    "wght= [w3d, wvel, whrd]\n",
    "df , dfcart , dfcartnorm = _getdata(votdir*\"/\"*votname, wght)\n",
    "\n",
    "## info\n",
    "println(\"## vot info...\")\n",
    "_votinfo(dfcart)\n",
    "\n",
    "eps     =  3.1\n",
    "min_cl  = 19\n",
    "min_nei = 8\n",
    "\n",
    "\n",
    "labels = clusters(dfcartnorm.data ,eps  , 20, min_nei, min_cl)\n",
    "labelbest, nstars= _find_cluster_label(labels, df, dfcart)\n",
    "# labelmax , nmax = find_cluster_label(labels)\n",
    "\n",
    "α_c , δ_c = _get_pos(votname, sclist)\n",
    "\n",
    "oc= [] ; ang= []\n",
    "for i in 1:length(labels)\n",
    "    oci= _get_OC(df , dfcart, labels , i)\n",
    "    angle_c= _get_angle2pos(oci, α_c, δ_c)\n",
    "    push!(oc,oci)\n",
    "    push!(ang,angle_c)\n",
    "end"
   ]
  },
  {
   "cell_type": "code",
   "execution_count": 20,
   "metadata": {},
   "outputs": [
    {
     "data": {
      "text/plain": [
       "_plot_oc (generic function with 2 methods)"
      ]
     },
     "execution_count": 20,
     "metadata": {},
     "output_type": "execute_result"
    }
   ],
   "source": [
    "## plot_cluster\n",
    "\n",
    "function _plot_oc(df, angdist= 0)\n",
    "    PyPlot.plt.figure(figsize=(13.0,12.0))\n",
    "\n",
    "    PyPlot.plt.subplot(3, 3, 1 , xlim = [-20,20] , ylim = [-20,20])\n",
    "    PyPlot.plt.scatter(df.Y .- mean(df.Y), df.Z .- mean(df.Z) , s = 1.0 )\n",
    "    PyPlot.plt.xlabel(\"Y (pc)\")\n",
    "    PyPlot.plt.ylabel(\"Z (pc)\")\n",
    "    PyPlot.plt.grid(true)\n",
    "    \n",
    "    PyPlot.plt.subplot(3, 3, 2 , ylim = [-20,20])\n",
    "    PyPlot.plt.scatter(df.X, df.Z .- mean(df.Z)  , s = 1.0 )\n",
    "    PyPlot.plt.xlabel(\"X (pc)\")\n",
    "    PyPlot.plt.ylabel(\"Z (pc)\")\n",
    "    PyPlot.plt.grid(true)\n",
    "    \n",
    "    PyPlot.plt.subplot(3, 3, 4 , xlim = [-20,20])\n",
    "    PyPlot.plt.scatter(df.Y .- mean(df.Y) , df.X, s = 1.0 )\n",
    "    PyPlot.plt.xlabel(\"Y (pc)\")\n",
    "    PyPlot.plt.ylabel(\"X (pc)\")\n",
    "    PyPlot.plt.grid(true)\n",
    "    \n",
    "    PyPlot.plt.subplot(3, 3, 3 )\n",
    "    PyPlot.plt.scatter(df.X, df.vrad , s = 1.0 )\n",
    "    PyPlot.plt.xlabel(\"X(pc)\")\n",
    "    PyPlot.plt.ylabel(\"Vrad (km/s)\")\n",
    "    PyPlot.plt.grid(true)    \n",
    "        \n",
    "    PyPlot.plt.subplot(3, 3, 5)\n",
    "    PyPlot.plt.axis(\"off\")\n",
    "    ## text to display\n",
    "    text =[]\n",
    "    txt = @sprintf(\"N stars: %3d\",length(df.X)) ; push!(text,txt)\n",
    "    txt = @sprintf(\"Distance: %3.1f (pc) +/- %3.1f\",median(df.distance), std(df.distance)) ; push!(text,txt)\n",
    "    txt = @sprintf(\"Angular distance: %3.2f (degree)\", angdist) ; push!(text,txt)\n",
    "    txt = @sprintf(\"l: %3.3f (degree)\",median(df.l)) ; push!(text,txt)\n",
    "    txt = @sprintf(\"b: %3.3f (degree)\",median(df.b)) ; push!(text,txt)  \n",
    "    txt = @sprintf(\"Vl: %3.2f (km/s)\",median(df.vl)) ; push!(text,txt) \n",
    "    txt = @sprintf(\"Vb: %3.2f (km/s)\",median(df.vb)) ; push!(text,txt)\n",
    "    txt = @sprintf(\"Vr: %3.2f (km/s, no masking)\",median(df.vrad)) ; push!(text,txt)\n",
    "    txt = @sprintf(\"X disp.: %3.2f (pc)\", std(df.X)) ; push!(text,txt)\n",
    "    txt = @sprintf(\"Y disp.: %3.2f (pc)\", std(df.Y)) ; push!(text,txt)  \n",
    "    txt = @sprintf(\"Z disp.: %3.2f (pc)\", std(df.Z)) ; push!(text,txt)\n",
    "    txt = @sprintf(\"Vl disp.: %3.2f (km/s) \", std(df.vl)) ; push!(text,txt)\n",
    "    txt = @sprintf(\"Vb disp.: %3.2f (km/s)\", std(df.vb)) ; push!(text,txt)\n",
    "    txt = @sprintf(\"Vr disp.: %3.2f (km/s)\", std(df.vrad)) ; push!(text,txt)\n",
    "    show_text(-0.01,0.0, text , 1.0)\n",
    "    \n",
    "    PyPlot.plt.subplot(3, 3, 7 )\n",
    "    PyPlot.plt.axis(\"on\")    \n",
    "    PyPlot.plt.scatter(df.gbar-df.rp, -df.gbar , s = 1.0 )\n",
    "    PyPlot.plt.xlabel(\"G-Rp\")\n",
    "    PyPlot.plt.ylabel(\"G\")\n",
    "    PyPlot.plt.grid(true)\n",
    "    \n",
    "    PyPlot.plt.subplot(3, 3, 8 )\n",
    "    PyPlot.plt.scatter(df.vl, df.vb , s = 1.0 )\n",
    "    PyPlot.plt.xlabel(\"Vl (km/s)\")\n",
    "    PyPlot.plt.ylabel(\"Vb (km/s)\")\n",
    "    PyPlot.plt.grid(true)\n",
    "    \n",
    "end"
   ]
  },
  {
   "cell_type": "code",
   "execution_count": 21,
   "metadata": {},
   "outputs": [
    {
     "ename": "LoadError",
     "evalue": "UndefVarError: oc not defined",
     "output_type": "error",
     "traceback": [
      "UndefVarError: oc not defined",
      "",
      "Stacktrace:",
      " [1] top-level scope",
      "   @ ./In[21]:2",
      " [2] eval",
      "   @ ./boot.jl:360 [inlined]",
      " [3] include_string(mapexpr::typeof(REPL.softscope), mod::Module, code::String, filename::String)",
      "   @ Base ./loading.jl:1094"
     ]
    }
   ],
   "source": [
    "for i in 1:length(labels)\n",
    "    _plot_oc(oc[i], ang[i])\n",
    "    PyPlot.savefig(plotdir*\"/test_label_$i.png\")\n",
    "end"
   ]
  }
 ],
 "metadata": {
  "@webio": {
   "lastCommId": null,
   "lastKernelId": null
  },
  "kernelspec": {
   "display_name": "Julia 1.6.0",
   "language": "julia",
   "name": "julia-1.6"
  },
  "language_info": {
   "file_extension": ".jl",
   "mimetype": "application/julia",
   "name": "julia",
   "version": "1.6.0"
  }
 },
 "nbformat": 4,
 "nbformat_minor": 2
}
