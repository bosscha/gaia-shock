{
 "cells": [
  {
   "cell_type": "markdown",
   "metadata": {},
   "source": [
    "### Analysis Loop\n",
    "\n",
    "Loop over the final sample with the dbscan parameters and deliver the OC stars for analysis.\n",
    "\n",
    "# Test with A_G"
   ]
  },
  {
   "cell_type": "code",
   "execution_count": 11,
   "metadata": {},
   "outputs": [],
   "source": [
    "using PyCall\n",
    "using Distributions\n",
    "using Statistics\n",
    "using DataFrames\n",
    "\n",
    "using Distances\n",
    "using Random , Printf\n",
    "\n",
    "rootdir = ENV[\"GAIA_ROOT\"]\n",
    "\n",
    "push!(LOAD_PATH,\"$rootdir/run/src\")\n",
    "using GaiaClustering\n",
    "\n",
    "import PyPlot , CSV\n",
    "\n",
    "wdir    = \"$rootdir/products\"\n",
    "votdir  = \"$rootdir/products/votable\"\n",
    "ocdir   = \"$rootdir/products/oc2\"\n",
    "\n",
    "cd(wdir)"
   ]
  },
  {
   "cell_type": "code",
   "execution_count": 12,
   "metadata": {},
   "outputs": [
    {
     "data": {
      "text/plain": [
       "getdata (generic function with 1 method)"
      ]
     },
     "execution_count": 12,
     "metadata": {},
     "output_type": "execute_result"
    }
   ],
   "source": [
    "function getdata(filevot, wghtblck)\n",
    "    voname = filevot\n",
    "\n",
    "    data       = read_votable(voname)\n",
    "    df         = filter_data(data)\n",
    "    dfcart     = add_cartesian(df)\n",
    "    blck       = [[1,2,3],[4,5], [6,7,8]]\n",
    "    #wghtblck   = [5,4,1]\n",
    "    norm       = \"identity\"\n",
    "\n",
    "    dfcartnorm , scale8 = normalization_PerBlock(dfcart, blck, wghtblck , norm, false)\n",
    "    return(df, dfcart , dfcartnorm)\n",
    "end"
   ]
  },
  {
   "cell_type": "code",
   "execution_count": 13,
   "metadata": {},
   "outputs": [
    {
     "data": {
      "text/plain": [
       "_export_df (generic function with 1 method)"
      ]
     },
     "execution_count": 13,
     "metadata": {},
     "output_type": "execute_result"
    }
   ],
   "source": [
    "## Check if OC was extracted\n",
    "function _check_extraction(votname, fileres)\n",
    "    try\n",
    "        res = CSV.read(fileres, delim=\";\") \n",
    "        if votname in res[:votname]\n",
    "            return(true)\n",
    "        else\n",
    "            return(false)\n",
    "        end        \n",
    "    catch\n",
    "        println(\"### $fileres will be created...\")\n",
    "        return(false)\n",
    "    end\n",
    "end\n",
    "\n",
    "function _extraction_updt(fileres, votname)\n",
    "    try\n",
    "        res = CSV.read(fileres, delim=\";\")\n",
    "        newrow = DataFrame(votname=votname)\n",
    "        append!(res,newrow)\n",
    "        CSV.write(fileres,res,delim=';')\n",
    "    catch\n",
    "        println(\"## No $fileres file, it will be created...\")\n",
    "        res= DataFrame(votname=votname)\n",
    "        CSV.write(fileres,res,delim=';')\n",
    "    end\n",
    "end\n",
    "    \n",
    "## Create the DataFrame to save the cluster...\n",
    "##\n",
    "function _export_df(votname, ocdir, df , dfcart, labels , labelmax)\n",
    "    ra= df.raw[1, labels[labelmax]]\n",
    "    dec= df.raw[2,labels[labelmax]]\n",
    "    l= df.data[1, labels[labelmax]]\n",
    "    b= df.data[2,labels[labelmax]]\n",
    "    d= df.data[3,labels[labelmax]]\n",
    "    pmra= df.raw[6, labels[labelmax]]\n",
    "    pmdec= df.raw[7, labels[labelmax]]\n",
    "    X= dfcart.data[1, labels[labelmax]]\n",
    "    Y= dfcart.data[2, labels[labelmax]]\n",
    "    Z= dfcart.data[3, labels[labelmax]]\n",
    "    vl= df.data[4,labels[labelmax]]\n",
    "    vb= df.data[5,labels[labelmax]]\n",
    "    vrad= df.raw[13,labels[labelmax]]\n",
    "    gbar= df.raw[10,labels[labelmax]]\n",
    "    rp= df.raw[11,labels[labelmax]]\n",
    "    bp= df.raw[12,labels[labelmax]]\n",
    "    ag= df.raw[14,labels[labelmax]]\n",
    "    \n",
    "    oc= DataFrame(ra=ra,dec=dec,l=l,b=b, distance=d,pmra=pmra, pmdec=pmdec, X=X,Y=Y,Z=Z,vl=vl,vb=vb,vrad=vrad,gbar=gbar,rp=rp,bp=bp, ag=ag)\n",
    "    \n",
    "    filename= @sprintf(\"%s/%s-oc.csv\",ocdir, votname[1:end-4])\n",
    "    CSV.write(filename,oc,delim=';')\n",
    "    @printf(\"\\n## %s created\",filename)\n",
    "end"
   ]
  },
  {
   "cell_type": "code",
   "execution_count": 14,
   "metadata": {},
   "outputs": [
    {
     "data": {
      "text/plain": [
       "@main (macro with 1 method)"
      ]
     },
     "execution_count": 14,
     "metadata": {},
     "output_type": "execute_result"
    }
   ],
   "source": [
    "## Main loop\n",
    "##\n",
    "\n",
    "macro main(paramfile, fileres)\n",
    "    let\n",
    "        println(\"## Starting main loop..\")\n",
    "        spl= CSV.read(paramfile, delim= \";\")\n",
    "        println(\"## $paramfile read..\") \n",
    "        println(\"## Check if csv file is ; separated..\")\n",
    "        s=size(spl)\n",
    "        \n",
    "        for i in 1:s[1]\n",
    "            votname = spl[:votname][i]\n",
    "            println(\"## Starting with $votname\")\n",
    "            wght= [spl[:w3dm][i],spl[:wvelm][i] ,spl[:whrdm][i]]\n",
    "            println(wght)\n",
    "            \n",
    "            found= _check_extraction(votname, fileres)\n",
    "            if !found\n",
    "                df , dfcart , dfcartnorm = getdata(votdir*\"/\"*votname, wght)\n",
    "            \n",
    "                ## get the cluster and plot it\n",
    "                println(\"## Extracting the cluster using DBSCAN with:\")\n",
    "                eps = spl[:epsm_1][i]\n",
    "                min_nei = trunc(Int,spl[:mneim_1][i] + 0.5)  \n",
    "                min_cl = trunc(Int,spl[:mclm_1][i] + 0.5)\n",
    "                println(\"### ϵ : $eps\")\n",
    "                println(\"### min_neighbor: $min_nei\")\n",
    "                println(\"### min_cluster : $min_cl\")\n",
    "                labels = clusters(dfcartnorm.data ,eps  , 20, min_nei, min_cl)\n",
    "                labelmax , nmax = find_cluster_label(labels)\n",
    "                println(\"### Label solution: $labelmax\")\n",
    "                println(\"### N stars: $nmax\")\n",
    "                \n",
    "                _export_df(votname, ocdir, df , dfcart, labels , labelmax)\n",
    "                _extraction_updt(fileres, votname)\n",
    "            end\n",
    "        end\n",
    "    end\n",
    "end"
   ]
  },
  {
   "cell_type": "code",
   "execution_count": null,
   "metadata": {},
   "outputs": [
    {
     "name": "stdout",
     "output_type": "stream",
     "text": [
      "## Starting main loop..\n",
      "## votlist.finalSample_metric0.01.csv read..\n",
      "## Check if csv file is ; separated..\n",
      "## Starting with Alessi 1-2.1deg.vot\n",
      "[3.41427, 7.99762, 2.0506]\n",
      "### votlist.finalSample_metric0.01.extracted.csv will be created...\n",
      "## Votable /home/stephane/Science/GAIA/products/votable/Alessi 1-2.1deg.vot read\n"
     ]
    },
    {
     "name": "stderr",
     "output_type": "stream",
     "text": [
      "┌ Warning: `getindex(o::PyObject, s::AbstractString)` is deprecated in favor of dot overloading (`getproperty`) so elements should now be accessed as e.g. `o.\"s\"` instead of `o[\"s\"]`.\n",
      "│   caller = read_votable(::String) at data.jl:47\n",
      "└ @ GaiaClustering /home/stephane/Science/GAIA/master/src/data.jl:47\n",
      "┌ Warning: `getindex(o::PyObject, s::AbstractString)` is deprecated in favor of dot overloading (`getproperty`) so elements should now be accessed as e.g. `o.\"s\"` instead of `o[\"s\"]`.\n",
      "│   caller = read_votable(::String) at data.jl:47\n",
      "└ @ GaiaClustering /home/stephane/Science/GAIA/master/src/data.jl:47\n",
      "┌ Warning: `getindex(o::PyObject, i::Integer)` is deprecated, use `get(o, i - 1)` instead.\n",
      "│   caller = filter_data(::PyObject, ::Array{Float64,1}, ::Array{Int64,1}, ::Array{Float64,1}, ::Array{Float64,1}) at data.jl:83\n",
      "└ @ GaiaClustering /home/stephane/Science/GAIA/master/src/data.jl:83\n",
      "┌ Warning: `getindex(o::PyObject, s::AbstractString)` is deprecated in favor of dot overloading (`getproperty`) so elements should now be accessed as e.g. `o.\"s\"` instead of `o[\"s\"]`.\n",
      "│   caller = filter_data(::PyObject, ::Array{Float64,1}, ::Array{Int64,1}, ::Array{Float64,1}, ::Array{Float64,1}) at data.jl:83\n",
      "└ @ GaiaClustering /home/stephane/Science/GAIA/master/src/data.jl:83\n",
      "┌ Warning: `getindex(o::PyObject, i::Integer)` is deprecated, use `get(o, i - 1)` instead.\n",
      "│   caller = filter_data(::PyObject, ::Array{Float64,1}, ::Array{Int64,1}, ::Array{Float64,1}, ::Array{Float64,1}) at data.jl:84\n",
      "└ @ GaiaClustering /home/stephane/Science/GAIA/master/src/data.jl:84\n",
      "┌ Warning: `getindex(o::PyObject, s::AbstractString)` is deprecated in favor of dot overloading (`getproperty`) so elements should now be accessed as e.g. `o.\"s\"` instead of `o[\"s\"]`.\n",
      "│   caller = filter_data(::PyObject, ::Array{Float64,1}, ::Array{Int64,1}, ::Array{Float64,1}, ::Array{Float64,1}) at data.jl:84\n",
      "└ @ GaiaClustering /home/stephane/Science/GAIA/master/src/data.jl:84\n",
      "┌ Warning: `getindex(o::PyObject, i::Integer)` is deprecated, use `get(o, i - 1)` instead.\n",
      "│   caller = filter_data(::PyObject, ::Array{Float64,1}, ::Array{Int64,1}, ::Array{Float64,1}, ::Array{Float64,1}) at data.jl:85\n",
      "└ @ GaiaClustering /home/stephane/Science/GAIA/master/src/data.jl:85\n",
      "┌ Warning: `getindex(o::PyObject, s::AbstractString)` is deprecated in favor of dot overloading (`getproperty`) so elements should now be accessed as e.g. `o.\"s\"` instead of `o[\"s\"]`.\n",
      "│   caller = filter_data(::PyObject, ::Array{Float64,1}, ::Array{Int64,1}, ::Array{Float64,1}, ::Array{Float64,1}) at data.jl:85\n",
      "└ @ GaiaClustering /home/stephane/Science/GAIA/master/src/data.jl:85\n",
      "┌ Warning: `getindex(o::PyObject, i::Integer)` is deprecated, use `get(o, i - 1)` instead.\n",
      "│   caller = filter_data(::PyObject, ::Array{Float64,1}, ::Array{Int64,1}, ::Array{Float64,1}, ::Array{Float64,1}) at data.jl:86\n",
      "└ @ GaiaClustering /home/stephane/Science/GAIA/master/src/data.jl:86\n",
      "┌ Warning: `getindex(o::PyObject, s::AbstractString)` is deprecated in favor of dot overloading (`getproperty`) so elements should now be accessed as e.g. `o.\"s\"` instead of `o[\"s\"]`.\n",
      "│   caller = filter_data(::PyObject, ::Array{Float64,1}, ::Array{Int64,1}, ::Array{Float64,1}, ::Array{Float64,1}) at data.jl:86\n",
      "└ @ GaiaClustering /home/stephane/Science/GAIA/master/src/data.jl:86\n",
      "┌ Warning: `getindex(o::PyObject, i::Integer)` is deprecated, use `get(o, i - 1)` instead.\n",
      "│   caller = filter_data(::PyObject, ::Array{Float64,1}, ::Array{Int64,1}, ::Array{Float64,1}, ::Array{Float64,1}) at data.jl:87\n",
      "└ @ GaiaClustering /home/stephane/Science/GAIA/master/src/data.jl:87\n",
      "┌ Warning: `getindex(o::PyObject, s::AbstractString)` is deprecated in favor of dot overloading (`getproperty`) so elements should now be accessed as e.g. `o.\"s\"` instead of `o[\"s\"]`.\n",
      "│   caller = filter_data(::PyObject, ::Array{Float64,1}, ::Array{Int64,1}, ::Array{Float64,1}, ::Array{Float64,1}) at data.jl:87\n",
      "└ @ GaiaClustering /home/stephane/Science/GAIA/master/src/data.jl:87\n",
      "┌ Warning: `getindex(o::PyObject, i::Integer)` is deprecated, use `get(o, i - 1)` instead.\n",
      "│   caller = filter_data(::PyObject, ::Array{Float64,1}, ::Array{Int64,1}, ::Array{Float64,1}, ::Array{Float64,1}) at data.jl:88\n",
      "└ @ GaiaClustering /home/stephane/Science/GAIA/master/src/data.jl:88\n",
      "┌ Warning: `getindex(o::PyObject, s::AbstractString)` is deprecated in favor of dot overloading (`getproperty`) so elements should now be accessed as e.g. `o.\"s\"` instead of `o[\"s\"]`.\n",
      "│   caller = filter_data(::PyObject, ::Array{Float64,1}, ::Array{Int64,1}, ::Array{Float64,1}, ::Array{Float64,1}) at data.jl:88\n",
      "└ @ GaiaClustering /home/stephane/Science/GAIA/master/src/data.jl:88\n",
      "┌ Warning: `getindex(o::PyObject, i::Integer)` is deprecated, use `get(o, i - 1)` instead.\n",
      "│   caller = filter_data(::PyObject, ::Array{Float64,1}, ::Array{Int64,1}, ::Array{Float64,1}, ::Array{Float64,1}) at data.jl:89\n",
      "└ @ GaiaClustering /home/stephane/Science/GAIA/master/src/data.jl:89\n",
      "┌ Warning: `getindex(o::PyObject, s::AbstractString)` is deprecated in favor of dot overloading (`getproperty`) so elements should now be accessed as e.g. `o.\"s\"` instead of `o[\"s\"]`.\n",
      "│   caller = filter_data(::PyObject, ::Array{Float64,1}, ::Array{Int64,1}, ::Array{Float64,1}, ::Array{Float64,1}) at data.jl:89\n",
      "└ @ GaiaClustering /home/stephane/Science/GAIA/master/src/data.jl:89\n",
      "┌ Warning: `getindex(o::PyObject, i::Integer)` is deprecated, use `get(o, i - 1)` instead.\n",
      "│   caller = filter_data(::PyObject, ::Array{Float64,1}, ::Array{Int64,1}, ::Array{Float64,1}, ::Array{Float64,1}) at data.jl:90\n",
      "└ @ GaiaClustering /home/stephane/Science/GAIA/master/src/data.jl:90\n",
      "┌ Warning: `getindex(o::PyObject, s::AbstractString)` is deprecated in favor of dot overloading (`getproperty`) so elements should now be accessed as e.g. `o.\"s\"` instead of `o[\"s\"]`.\n",
      "│   caller = filter_data(::PyObject, ::Array{Float64,1}, ::Array{Int64,1}, ::Array{Float64,1}, ::Array{Float64,1}) at data.jl:90\n",
      "└ @ GaiaClustering /home/stephane/Science/GAIA/master/src/data.jl:90\n",
      "┌ Warning: `getindex(o::PyObject, i::Integer)` is deprecated, use `get(o, i - 1)` instead.\n",
      "│   caller = filter_data(::PyObject, ::Array{Float64,1}, ::Array{Int64,1}, ::Array{Float64,1}, ::Array{Float64,1}) at data.jl:101\n",
      "└ @ GaiaClustering /home/stephane/Science/GAIA/master/src/data.jl:101\n",
      "┌ Warning: `getindex(o::PyObject, s::AbstractString)` is deprecated in favor of dot overloading (`getproperty`) so elements should now be accessed as e.g. `o.\"s\"` instead of `o[\"s\"]`.\n",
      "│   caller = filter_data(::PyObject, ::Array{Float64,1}, ::Array{Int64,1}, ::Array{Float64,1}, ::Array{Float64,1}) at data.jl:101\n",
      "└ @ GaiaClustering /home/stephane/Science/GAIA/master/src/data.jl:101\n",
      "┌ Warning: `getindex(o::PyObject, i::Integer)` is deprecated, use `get(o, i - 1)` instead.\n",
      "│   caller = filter_data(::PyObject, ::Array{Float64,1}, ::Array{Int64,1}, ::Array{Float64,1}, ::Array{Float64,1}) at data.jl:104\n",
      "└ @ GaiaClustering /home/stephane/Science/GAIA/master/src/data.jl:104\n",
      "┌ Warning: `getindex(o::PyObject, s::AbstractString)` is deprecated in favor of dot overloading (`getproperty`) so elements should now be accessed as e.g. `o.\"s\"` instead of `o[\"s\"]`.\n",
      "│   caller = filter_data(::PyObject, ::Array{Float64,1}, ::Array{Int64,1}, ::Array{Float64,1}, ::Array{Float64,1}) at data.jl:104\n",
      "└ @ GaiaClustering /home/stephane/Science/GAIA/master/src/data.jl:104\n",
      "┌ Warning: `getindex(o::PyObject, i::Integer)` is deprecated, use `get(o, i - 1)` instead.\n",
      "│   caller = filter_data(::PyObject, ::Array{Float64,1}, ::Array{Int64,1}, ::Array{Float64,1}, ::Array{Float64,1}) at data.jl:105\n",
      "└ @ GaiaClustering /home/stephane/Science/GAIA/master/src/data.jl:105\n",
      "┌ Warning: `getindex(o::PyObject, s::AbstractString)` is deprecated in favor of dot overloading (`getproperty`) so elements should now be accessed as e.g. `o.\"s\"` instead of `o[\"s\"]`.\n",
      "│   caller = filter_data(::PyObject, ::Array{Float64,1}, ::Array{Int64,1}, ::Array{Float64,1}, ::Array{Float64,1}) at data.jl:105\n",
      "└ @ GaiaClustering /home/stephane/Science/GAIA/master/src/data.jl:105\n",
      "┌ Warning: `getindex(o::PyObject, i::Integer)` is deprecated, use `get(o, i - 1)` instead.\n",
      "│   caller = filter_data(::PyObject, ::Array{Float64,1}, ::Array{Int64,1}, ::Array{Float64,1}, ::Array{Float64,1}) at data.jl:106\n",
      "└ @ GaiaClustering /home/stephane/Science/GAIA/master/src/data.jl:106\n",
      "┌ Warning: `getindex(o::PyObject, s::AbstractString)` is deprecated in favor of dot overloading (`getproperty`) so elements should now be accessed as e.g. `o.\"s\"` instead of `o[\"s\"]`.\n",
      "│   caller = filter_data(::PyObject, ::Array{Float64,1}, ::Array{Int64,1}, ::Array{Float64,1}, ::Array{Float64,1}) at data.jl:106\n",
      "└ @ GaiaClustering /home/stephane/Science/GAIA/master/src/data.jl:106\n",
      "┌ Warning: `getindex(o::PyObject, i::Integer)` is deprecated, use `get(o, i - 1)` instead.\n",
      "│   caller = filter_data(::PyObject, ::Array{Float64,1}, ::Array{Int64,1}, ::Array{Float64,1}, ::Array{Float64,1}) at data.jl:108\n",
      "└ @ GaiaClustering /home/stephane/Science/GAIA/master/src/data.jl:108\n",
      "┌ Warning: `getindex(o::PyObject, s::AbstractString)` is deprecated in favor of dot overloading (`getproperty`) so elements should now be accessed as e.g. `o.\"s\"` instead of `o[\"s\"]`.\n",
      "│   caller = filter_data(::PyObject, ::Array{Float64,1}, ::Array{Int64,1}, ::Array{Float64,1}, ::Array{Float64,1}) at data.jl:108\n",
      "└ @ GaiaClustering /home/stephane/Science/GAIA/master/src/data.jl:108\n",
      "┌ Warning: `getindex(o::PyObject, i::Integer)` is deprecated, use `get(o, i - 1)` instead.\n",
      "│   caller = filter_data(::PyObject, ::Array{Float64,1}, ::Array{Int64,1}, ::Array{Float64,1}, ::Array{Float64,1}) at data.jl:109\n",
      "└ @ GaiaClustering /home/stephane/Science/GAIA/master/src/data.jl:109\n",
      "┌ Warning: `getindex(o::PyObject, s::AbstractString)` is deprecated in favor of dot overloading (`getproperty`) so elements should now be accessed as e.g. `o.\"s\"` instead of `o[\"s\"]`.\n",
      "│   caller = filter_data(::PyObject, ::Array{Float64,1}, ::Array{Int64,1}, ::Array{Float64,1}, ::Array{Float64,1}) at data.jl:109\n",
      "└ @ GaiaClustering /home/stephane/Science/GAIA/master/src/data.jl:109\n",
      "┌ Warning: `getindex(o::PyObject, i::Integer)` is deprecated, use `get(o, i - 1)` instead.\n",
      "│   caller = filter_data(::PyObject, ::Array{Float64,1}, ::Array{Int64,1}, ::Array{Float64,1}, ::Array{Float64,1}) at data.jl:110\n",
      "└ @ GaiaClustering /home/stephane/Science/GAIA/master/src/data.jl:110\n",
      "┌ Warning: `getindex(o::PyObject, s::AbstractString)` is deprecated in favor of dot overloading (`getproperty`) so elements should now be accessed as e.g. `o.\"s\"` instead of `o[\"s\"]`.\n",
      "│   caller = filter_data(::PyObject, ::Array{Float64,1}, ::Array{Int64,1}, ::Array{Float64,1}, ::Array{Float64,1}) at data.jl:110\n",
      "└ @ GaiaClustering /home/stephane/Science/GAIA/master/src/data.jl:110\n"
     ]
    },
    {
     "name": "stderr",
     "output_type": "stream",
     "text": [
      "┌ Warning: `getindex(o::PyObject, i::Integer)` is deprecated, use `get(o, i - 1)` instead.\n",
      "│   caller = filter_data(::PyObject, ::Array{Float64,1}, ::Array{Int64,1}, ::Array{Float64,1}, ::Array{Float64,1}) at data.jl:113\n",
      "└ @ GaiaClustering /home/stephane/Science/GAIA/master/src/data.jl:113\n",
      "┌ Warning: `getindex(o::PyObject, s::AbstractString)` is deprecated in favor of dot overloading (`getproperty`) so elements should now be accessed as e.g. `o.\"s\"` instead of `o[\"s\"]`.\n",
      "│   caller = filter_data(::PyObject, ::Array{Float64,1}, ::Array{Int64,1}, ::Array{Float64,1}, ::Array{Float64,1}) at data.jl:113\n",
      "└ @ GaiaClustering /home/stephane/Science/GAIA/master/src/data.jl:113\n"
     ]
    },
    {
     "name": "stdout",
     "output_type": "stream",
     "text": [
      "## Filtering done ...\n",
      "## Stars selected: 36217\n",
      "## Cartesian transformation done ...\n",
      "## Normalization identity done...\n",
      "### [1pc,1pc,1pc,1km/s,1km/s,1mag,1mag,1mag] equivalent to [0.257719, 0.257719, 0.257719, 0.603683, 0.603683, 0.154786, 0.154786, 0.154786]\n",
      "##\n",
      "## Extracting the cluster using DBSCAN with:\n",
      "### ϵ : 1.9699327808371245\n",
      "### min_neighbor: 7\n",
      "### min_cluster : 16\n",
      "### Label solution: 1\n",
      "### N stars: 178\n",
      "\n",
      "## /home/stephane/Science/GAIA/products/oc2/Alessi 1-2.1deg-oc.csv created## No votlist.finalSample_metric0.01.extracted.csv file, it will be created...\n",
      "## Starting with Alessi 12-2.4deg.vot\n",
      "[4.48411, 8.63144, 1.95928]\n"
     ]
    }
   ],
   "source": [
    "@time @main(\"votlist.finalSample_metric0.01.csv\" , \"votlist.finalSample_metric0.01.extracted.csv\")"
   ]
  }
 ],
 "metadata": {
  "@webio": {
   "lastCommId": null,
   "lastKernelId": null
  },
  "kernelspec": {
   "display_name": "Julia 1.6.1",
   "language": "julia",
   "name": "julia-1.6"
  },
  "language_info": {
   "file_extension": ".jl",
   "mimetype": "application/julia",
   "name": "julia",
   "version": "1.6.1"
  }
 },
 "nbformat": 4,
 "nbformat_minor": 2
}
