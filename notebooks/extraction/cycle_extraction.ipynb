{
 "cells": [
  {
   "cell_type": "markdown",
   "metadata": {},
   "source": [
    "## Cycle extraction\n",
    "\n",
    "Testing cycle extraction by iterating on cycle of extraction+subtraction"
   ]
  },
  {
   "cell_type": "code",
   "execution_count": 1,
   "metadata": {},
   "outputs": [],
   "source": [
    "using  PyCall\n",
    "using  Statistics , StatsBase\n",
    "using  DataFrames, Printf , CSV , Query\n",
    "\n",
    "import PyPlot\n",
    "sns= pyimport(\"seaborn\")\n",
    "\n",
    "## directory\n",
    "rootdir = ENV[\"GAIA_ROOT\"]\n",
    "wdir    = \"$rootdir/products\"\n",
    "votdir  = \"$rootdir/products/votable.2020\"\n",
    "plotdir = \"$rootdir/products/test\"\n",
    "sclist  = \"$rootdir/e2e_products/sc-list-2020.csv\"\n",
    "\n",
    "push!(LOAD_PATH,\"$rootdir/master/src\")\n",
    "using GaiaClustering\n",
    "\n",
    "cd(wdir)"
   ]
  },
  {
   "cell_type": "code",
   "execution_count": 2,
   "metadata": {},
   "outputs": [
    {
     "data": {
      "text/plain": [
       "_mcmc_params (generic function with 1 method)"
      ]
     },
     "execution_count": 2,
     "metadata": {},
     "output_type": "execute_result"
    }
   ],
   "source": [
    "function _getdata(filevot)\n",
    "    voname = filevot\n",
    "\n",
    "    println(\"## Data filtered in distance ..\")\n",
    "    data       = read_votable(voname)\n",
    "    df         = filter_data(data,[0., 500])\n",
    "    dfcart     = add_cartesian(df)\n",
    "\n",
    "    return(df, dfcart)\n",
    "end\n",
    "\n",
    "function _mcmc_params()\n",
    "    minQ    = 2.7\n",
    "    minstars = 40\n",
    "    forcedminstars = 30\n",
    "##\n",
    "    epsmean   = 2.5\n",
    "    epsdisp   = 1.5\n",
    "    min_nei   = 10\n",
    "    min_cl    = 15\n",
    "    ncoredisp = 10\n",
    "    w3dmean   = 6.0\n",
    "    w3ddisp   = 4.0\n",
    "    wvelmean  = 6.0\n",
    "    wveldisp  = 4.0\n",
    "    whrdmean  = 2.0\n",
    "    whrddisp  = 1.5\n",
    "## MCMC parameters\n",
    "    nburnout  = 200\n",
    "    niter     = 1500\n",
    "##\n",
    "    pinit = GaiaClustering.abcfull(minQ, minstars, forcedminstars, epsmean, epsdisp, min_nei, min_cl, ncoredisp, w3dmean, w3ddisp ,\n",
    "    wvelmean, wveldisp, whrdmean, whrddisp, nburnout , niter)\n",
    "    return(pinit)\n",
    "end"
   ]
  },
  {
   "cell_type": "code",
   "execution_count": 3,
   "metadata": {},
   "outputs": [
    {
     "data": {
      "text/plain": [
       "_remove_stars! (generic function with 1 method)"
      ]
     },
     "execution_count": 3,
     "metadata": {},
     "output_type": "execute_result"
    }
   ],
   "source": [
    "function _remove_stars!(df, dfcart, ilab)\n",
    "    println(\"## removed..\")\n",
    "    dfdata= df.data[:,setdiff(1:end,ilab)]\n",
    "    dfraw= df.raw[:,setdiff(1:end,ilab)]\n",
    "    dferr= df.err[:,setdiff(1:end,ilab)]\n",
    "    \n",
    "    dfcartdata= dfcart.data[:,setdiff(1:end,ilab)]\n",
    "    dfcartraw= dfcart.raw[:,setdiff(1:end,ilab)]\n",
    "    dfcarterr= dfcart.err[:,setdiff(1:end,ilab)]\n",
    "    \n",
    "    \n",
    "    s=size(dfdata)\n",
    "    println(\"new df....\")\n",
    "    println(s)\n",
    "    \n",
    "    df= GaiaClustering.Df(s[2],dfdata,dfraw,dferr)\n",
    "    dfcart= GaiaClustering.Df(s[2],dfcartdata,dfcartraw,dfcarterr)\n",
    "end"
   ]
  },
  {
   "cell_type": "code",
   "execution_count": 4,
   "metadata": {},
   "outputs": [
    {
     "data": {
      "text/plain": [
       "_cycle_extraction (generic function with 1 method)"
      ]
     },
     "execution_count": 4,
     "metadata": {},
     "output_type": "execute_result"
    }
   ],
   "source": [
    "function _extraction_mcmc(mc)\n",
    "    epsm = mean(mc.eps)\n",
    "    epsd = std(mc.eps)\n",
    "    mneim = mean(mc.mne)\n",
    "    mneid = std(mc.mne)\n",
    "    mclm = mean(mc.mcl)\n",
    "    mcld = std(mc.mcl)\n",
    "    qcm = mean(mc.qc)\n",
    "    qnm = mean(mc.qn)\n",
    "    qcd = std(mc.qc)\n",
    "    qnd = std(mc.qn)\n",
    "    w3dm = mean(mc.w3d)\n",
    "    w3dd = std(mc.w3d)\n",
    "    wvelm = mean(mc.wvel)\n",
    "    wveld = std(mc.wvel)\n",
    "    whrdm = mean(mc.whrd)\n",
    "    whrdd = std(mc.whrd)\n",
    "    \n",
    "    println(\"## DBSCAN/MCMC stats:\")\n",
    "    println(\"### ϵ : \",epsm,\" +/- \", epsd)\n",
    "    println(\"### min_nei  : \", mneim,\" +/- \", mneid)\n",
    "    println(\"### min_clus  : \", mclm,\"+/- \", mcld)\n",
    "    println(\"### W3d  : \", w3dm,\"+/- \", w3dd)\n",
    "    println(\"### Wvel  : \", wvelm,\"+/- \", wveld)\n",
    "    println(\"### Whrd  : \", whrdm,\"+/- \", whrdd)\n",
    "    println(\"### Qn  : \",qnm,\" +/- \", qnd)\n",
    "    println(\"### Qc  : \",qcm,\" +/- \", qcd)\n",
    "    println(\"##\")\n",
    "    \n",
    "    res = DataFrame(votname=votname, epsm = epsm, epsd=epsd, mneim=mneim,mneid=mneid,mclm=mclm,mcld=mcld,\n",
    "            qcm=qcm,qcd=qcd, qnm=qnm,qnd=qnd,\n",
    "            w3dm=w3dm,w3dd=w3dd,wvelm=wvelm,wveld=wveld,whrdm=whrdm,whrdd=whrdd)\n",
    "    return(res)\n",
    "end\n",
    "\n",
    "function _cycle_extraction(votname)\n",
    "    df, dfcart= _getdata(votdir*\"/\"*votname)\n",
    "    params= _mcmc_params()\n",
    "    \n",
    "    cyclerun= true\n",
    "    cycle= 1\n",
    "    cyclemax= 3\n",
    "    minstarselection= 50     # minimum of stars to select solution in a cycle...\n",
    "    \n",
    "    maxstarstop= 50          #condition to stop cycling\n",
    "    \n",
    "    while cyclerun\n",
    "        println(\"##\\n## Starting cycle $cycle ...\")\n",
    "        ## extraction one cycle.. MCMC optimization\n",
    "        mc = abc_mcmc_dbscan_full2(dfcart, params)\n",
    "        plot_dbscanfull_mcmc(plotdir, votname, mc , false)\n",
    "\n",
    "\n",
    "        ## get the cluster and plot it\n",
    "        println(\"## Extracting the cluster using DBSCAN/WEIGHTING with:\")\n",
    "        res2= _extraction_mcmc(mc)\n",
    "        eps= res2.epsm[1]\n",
    "        min_nei= trunc(Int,res2.mneim[1] + 0.5)\n",
    "        min_cl= trunc(Int,res2.mclm[1] + 0.5)\n",
    "        w3d= res2.w3dm[1]\n",
    "        wvel= res2.wvelm[1]\n",
    "        whrd= res2.whrdm[1]\n",
    "\n",
    "        mres = GaiaClustering.modelfull(eps,min_nei,min_cl,w3d,wvel,whrd)\n",
    "        dfcartnorm = getDfcartnorm(dfcart, mres)\n",
    "        labels = clusters(dfcartnorm.data ,eps  , 20, min_nei, min_cl)\n",
    "\n",
    "        labelmax , nmax = find_cluster_label2(labels, df, dfcart)\n",
    "        println(\"### Label solution: $labelmax\")\n",
    "        println(\"### N stars: $nmax\")\n",
    "        scproperties0 = get_properties_SC(labels[labelmax] , df, dfcart)\n",
    "        # plot_cluster2(plotdir, \"$votname.$cycle\", labels[labelmax], scproperties0,  dfcart , false)\n",
    "        \n",
    "        println(\"### subtracting ALL solutions from Df...\")\n",
    "        solidx=[]\n",
    "        for ilab in labels\n",
    "             solidx= vcat(solidx,ilab)\n",
    "        end\n",
    "        println(length(solidx))\n",
    "        _remove_stars!(df, dfcart, solidx)\n",
    "        println(size(df.data))\n",
    "        println(size(dfcart.data))\n",
    "        \n",
    "        if nmax < maxstarstop || cycle == cyclemax\n",
    "            println(\"## Cycle stopped at $cycle \\n\")\n",
    "            println(\"## Check the code!!!\")\n",
    "            cyclerun= false\n",
    "        end\n",
    "        cycle += 1\n",
    "    end\n",
    "end"
   ]
  },
  {
   "cell_type": "code",
   "execution_count": 5,
   "metadata": {},
   "outputs": [
    {
     "data": {
      "text/plain": [
       "main (generic function with 1 method)"
      ]
     },
     "execution_count": 5,
     "metadata": {},
     "output_type": "execute_result"
    }
   ],
   "source": [
    "function main(votname)\n",
    "    _cycle_extraction(votname)\n",
    "end"
   ]
  },
  {
   "cell_type": "code",
   "execution_count": null,
   "metadata": {},
   "outputs": [
    {
     "name": "stdout",
     "output_type": "stream",
     "text": [
      "## Data filtered in distance ..\n",
      "## Votable /home/stephane/Science/GAIA/products/votable.2020/NGC 869-3.0deg.vot read\n",
      "## Filtering done ...\n",
      "## Stars selected: 15192\n",
      "## Cartesian transformation done ...\n",
      "##\n",
      "## Starting cycle 1 ...\n",
      "## ABC/MCMC for DBSCAN FULL (parameters+weighting)...\n",
      "## ABC/MCMC v2\n",
      "### Minimum Q : 2.7\n",
      "### Minimum nstars : 40\n",
      "### Maximum nstars : 5000\n",
      "### Maximum iterations: 750000\n",
      "### Checking the minQ and minStars conditions...\n",
      "### Minimum good solutions 10\n",
      "### Minimum Q : 2.7\n",
      "### Minimum nstars : 40\n",
      "### init done ...\n",
      "### mini stats...\n"
     ]
    }
   ],
   "source": [
    "votname= \"NGC 869-3.0deg.vot\"\n",
    "main(votname)"
   ]
  }
 ],
 "metadata": {
  "@webio": {
   "lastCommId": null,
   "lastKernelId": null
  },
  "kernelspec": {
   "display_name": "Julia 1.4.1",
   "language": "julia",
   "name": "julia-1.4"
  },
  "language_info": {
   "file_extension": ".jl",
   "mimetype": "application/julia",
   "name": "julia",
   "version": "1.4.1"
  }
 },
 "nbformat": 4,
 "nbformat_minor": 2
}
