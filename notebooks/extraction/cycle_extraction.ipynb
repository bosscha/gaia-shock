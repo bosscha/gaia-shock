{
 "cells": [
  {
   "cell_type": "markdown",
   "metadata": {},
   "source": [
    "## Cycle extraction\n",
    "\n",
    "Testing cycle extraction by iterating on cycle of extraction+subtraction"
   ]
  },
  {
   "cell_type": "code",
   "execution_count": 1,
   "metadata": {},
   "outputs": [],
   "source": [
    "using  PyCall\n",
    "using  Statistics , StatsBase\n",
    "using  DataFrames, Printf , CSV , Query\n",
    "\n",
    "import PyPlot\n",
    "sns= pyimport(\"seaborn\")\n",
    "\n",
    "## directory\n",
    "rootdir = ENV[\"GAIA_ROOT\"]\n",
    "wdir    = \"$rootdir/products\"\n",
    "votdir  = \"$wdir/votable.2020\"\n",
    "plotdir = \"$wdir/test\"\n",
    "ocdir   = \"$wdir/octest\"\n",
    "sclist  = \"$rootdir/e2e_products/sc-list-2020.csv\"\n",
    "\n",
    "push!(LOAD_PATH,\"$rootdir/master/src\")\n",
    "using GaiaClustering\n",
    "\n",
    "cd(wdir)"
   ]
  },
  {
   "cell_type": "code",
   "execution_count": 2,
   "metadata": {},
   "outputs": [
    {
     "data": {
      "text/plain": [
       "_getdata (generic function with 1 method)"
      ]
     },
     "execution_count": 2,
     "metadata": {},
     "output_type": "execute_result"
    }
   ],
   "source": [
    "function _getdata(filevot)\n",
    "    voname = filevot\n",
    "\n",
    "    println(\"## Data filtered in distance ..\")\n",
    "    data       = read_votable(voname)\n",
    "    df         = filter_data(data,[0., 5000])\n",
    "    dfcart     = add_cartesian(df)\n",
    "\n",
    "    return(df, dfcart)\n",
    "end"
   ]
  },
  {
   "cell_type": "code",
   "execution_count": 3,
   "metadata": {},
   "outputs": [
    {
     "data": {
      "text/plain": [
       "_score_cycle (generic function with 1 method)"
      ]
     },
     "execution_count": 3,
     "metadata": {},
     "output_type": "execute_result"
    }
   ],
   "source": [
    "function _remove_stars(df, dfcart, idx)\n",
    "    println(size(df.data))\n",
    "    println(\"setdiff\")\n",
    "    println(size(df.data[:,setdiff(1:end,idx)]))\n",
    "    s=size(df.data)\n",
    "    println(size(df.data[:,setdiff(1:s[2],idx)]))\n",
    "    diff= setdiff(1:s[2],idx)\n",
    "    println(length(diff))\n",
    "    \n",
    "    println(\"end setdiff\")\n",
    "    \n",
    "    dfdata= df.data[:,setdiff(1:end,idx)]\n",
    "    dfraw= df.raw[:,setdiff(1:end,idx)]\n",
    "    dferr= df.err[:,setdiff(1:end,idx)]\n",
    "    \n",
    "    dfcartdata= dfcart.data[:,setdiff(1:end,idx)]\n",
    "    dfcartraw= dfcart.raw[:,setdiff(1:end,idx)]\n",
    "    dfcarterr= dfcart.err[:,setdiff(1:end,idx)]\n",
    "     \n",
    "    s=size(dfdata)\n",
    "    println(\"##ndata\")\n",
    "    println(s[2])\n",
    "    println(\"##ndata\")\n",
    "    \n",
    "    dfnew= GaiaClustering.Df(s[2],dfdata,dfraw,dferr)\n",
    "    dfcartnew= GaiaClustering.Df(s[2],dfcartdata,dfcartraw,dfcarterr)\n",
    "    \n",
    "    println(size(dfnew.data))\n",
    "    nrem= length(idx)\n",
    "    println(\"### $nrem stars removed\")\n",
    "    return(dfnew, dfcartnew)\n",
    "end\n",
    "\n",
    "function _extraction_mcmc(mc)\n",
    "    println(\"### testing mcmc results with median instead of mean...\")\n",
    "    \n",
    "    epsm = median(mc.eps)\n",
    "    epsd = std(mc.eps)\n",
    "    mneim = median(mc.mne)\n",
    "    mneid = std(mc.mne)\n",
    "    mclm = median(mc.mcl)\n",
    "    mcld = std(mc.mcl)\n",
    "    qcm = median(mc.qc)\n",
    "    qnm = median(mc.qn)\n",
    "    qcd = std(mc.qc)\n",
    "    qnd = std(mc.qn)\n",
    "    w3dm = median(mc.w3d)\n",
    "    w3dd = std(mc.w3d)\n",
    "    wvelm = median(mc.wvel)\n",
    "    wveld = std(mc.wvel)\n",
    "    whrdm = median(mc.whrd)\n",
    "    whrdd = std(mc.whrd)\n",
    "    \n",
    "    @printf(\"## DBSCAN/MCMC stats: \\n\")\n",
    "    @printf(\"### ϵ : %3.3f +/- %3.3f \\n\", epsm, epsd)\n",
    "    @printf(\"### min_nei  : %3.1f +/- %3.3f \\n\", mneim, mneid)\n",
    "    @printf(\"### min_clus  : %3.1f +/- %3.3f \\n\", mclm, mcld)\n",
    "    @printf(\"### W3d  : %3.3f +/- %3.3f \\n\", w3dm, w3dd)\n",
    "    @printf(\"### Wvel  : %3.3f +/- %3.3f \\n\" , wvelm, wveld)\n",
    "    @printf(\"### Whrd  : %3.3f +/- %3.3f \\n\", whrdm, whrdd)\n",
    "    @printf(\"### Qn  : %3.3f +/- %3.3f \\n\",qnm, qnd)\n",
    "    @printf(\"### Qc  : %3.3f +/- %3.3f \\n\",qcm, qcd)\n",
    "    @printf(\"##\")\n",
    "    \n",
    "    res = DataFrame(votname=votname, epsm = epsm, epsd=epsd, mneim=mneim,mneid=mneid,mclm=mclm,mcld=mcld,\n",
    "            qcm=qcm,qcd=qcd, qnm=qnm,qnd=qnd,\n",
    "            w3dm=w3dm,w3dd=w3dd,wvelm=wvelm,wveld=wveld,whrdm=whrdm,whrdd=whrdd)\n",
    "    return(res)\n",
    "end\n",
    "\n",
    "function _score_cycle(qc, qn, nchain, iter)\n",
    "    k= log10(qc*qn*nchain /iter)\n",
    "    \n",
    "    return(k)\n",
    "end"
   ]
  },
  {
   "cell_type": "code",
   "execution_count": 4,
   "metadata": {},
   "outputs": [
    {
     "data": {
      "text/plain": [
       "_plot_check (generic function with 1 method)"
      ]
     },
     "execution_count": 4,
     "metadata": {},
     "output_type": "execute_result"
    }
   ],
   "source": [
    "function _plot_check(dfcart)\n",
    "    cart= DataFrame(X=dfcart.data[1,:], Y=dfcart.data[2,:], Z=dfcart.data[3,:])\n",
    "\n",
    "    println(\"## check plot subtraction ...\")\n",
    "    \n",
    "    PyPlot.plt.figure(figsize=(9.0,8.0))\n",
    "    PyPlot.plt.subplot(1, 1, 1 , ylim=[100,450], xlim=[-50,50])\n",
    "    PyPlot.plt.scatter(cart.Y, cart.X, s = 0.1 )\n",
    "    PyPlot.plt.xlabel(\"Y (pc)\")\n",
    "    PyPlot.plt.ylabel(\"X (pc)\")\n",
    "    PyPlot.plt.grid(true)\n",
    "    \n",
    "    PyPlot.plt.show()\n",
    "\n",
    "end"
   ]
  },
  {
   "cell_type": "code",
   "execution_count": 5,
   "metadata": {},
   "outputs": [
    {
     "data": {
      "text/plain": [
       "_cycle_extraction (generic function with 1 method)"
      ]
     },
     "execution_count": 5,
     "metadata": {},
     "output_type": "execute_result"
    }
   ],
   "source": [
    "## main cycle method\n",
    "\n",
    "function _cycle_extraction(votname, m::GaiaClustering.meta)\n",
    "    df, dfcart= _getdata(votdir*\"/\"*votname)\n",
    "    \n",
    "    cyclerun= true\n",
    "    cycle= 1\n",
    "    \n",
    "    cyclemax= 4\n",
    "    minstarselection= 50     # minimum of stars to select solution in a cycle...\n",
    "    maxstarstop= 50          #condition to stop cycling\n",
    "   \n",
    "    \n",
    "    while cyclerun\n",
    "        println(\"##\\n## Starting cycle $cycle ...\")\n",
    "        ## extraction one cycle.. MCMC optimization\n",
    "        mc , iter, completed= abc_mcmc_dbscan_full2(dfcart, m)\n",
    "        nchain= length(mc.qc)\n",
    "        println(\"## $iter iterations performed...\")\n",
    "        if completed println(\"## optimization completed..\") end\n",
    "        \n",
    "        # plot_dbscanfull_mcmc(plotdir, votname, mc , false)\n",
    "\n",
    "        ## get the cluster and plot it\n",
    "        println(\"## Extracting the cluster using DBSCAN/WEIGHTING with:\")\n",
    "        res2= _extraction_mcmc(mc)\n",
    "        eps= res2.epsm[1]\n",
    "        min_nei= trunc(Int,res2.mneim[1] + 0.5)\n",
    "        min_cl= trunc(Int,res2.mclm[1] + 0.5)\n",
    "        w3d= res2.w3dm[1]\n",
    "        wvel= res2.wvelm[1]\n",
    "        whrd= res2.whrdm[1]\n",
    "\n",
    "        mres = GaiaClustering.modelfull(eps,min_nei,min_cl,w3d,wvel,whrd)\n",
    "        dfcartnorm = getDfcartnorm(dfcart, mres)\n",
    "        labels = clusters(dfcartnorm.data ,eps  , 20, min_nei, min_cl)\n",
    "        labelmax , nmax, qc = find_cluster_label2(labels, df, dfcart)\n",
    "        println(\"## Label $labelmax written to oc...\")\n",
    "        export_df(\"$votname.$cycle.0\", ocdir, df , dfcart, labels , labelmax)\n",
    "        scproperties0 = get_properties_SC(labels[labelmax] , df, dfcart)\n",
    "        plot_cluster2(plotdir, \"$votname.$cycle\", labels[labelmax], scproperties0,  dfcart , false)\n",
    "        println(\"### Label solution: $labelmax\")\n",
    "        println(\"### N stars: $nmax\")\n",
    "        println(\"### Qc: $qc\")\n",
    "        println(\"###\")\n",
    "        \n",
    "         _plot_check(dfcart)\n",
    "        \n",
    "        k= _score_cycle(qc, nmax, nchain, iter)\n",
    "        @printf(\"## Score cycle %d: %3.3f \\n\",cycle, k)\n",
    "        \n",
    "        println(\"### subtracting BEST solution from Df...\")\n",
    "                \n",
    "        dfnew, dfcartnew= _remove_stars(df, dfcart, labels[labelmax])\n",
    "        df= dfnew\n",
    "        dfcart= dfcartnew\n",
    "        \n",
    "        if nmax < maxstarstop || cycle == cyclemax\n",
    "            println(\"## Cycle stopped at $cycle\")\n",
    "            println(\"## Check the code!!!\")\n",
    "            cyclerun= false\n",
    "        end\n",
    "        cycle += 1\n",
    "    end\n",
    "end"
   ]
  },
  {
   "cell_type": "code",
   "execution_count": 6,
   "metadata": {},
   "outputs": [
    {
     "data": {
      "text/plain": [
       "main (generic function with 1 method)"
      ]
     },
     "execution_count": 6,
     "metadata": {},
     "output_type": "execute_result"
    }
   ],
   "source": [
    "function main(votname, metafile)\n",
    "    m= read_params(metafile)\n",
    "    _cycle_extraction(votname, m)\n",
    "end"
   ]
  },
  {
   "cell_type": "code",
   "execution_count": null,
   "metadata": {
    "scrolled": true
   },
   "outputs": [
    {
     "name": "stdout",
     "output_type": "stream",
     "text": [
      "## All parameters set to default...\n",
      "Any[\"minQc\", \"=\", 2.7]\n",
      "Any[\"minQn\", \"=\", 40]\n",
      "Any[\"maxQn\", \"=\", 5000]\n",
      "Any[\"forcedminstars\", \"=\", 30]\n",
      "Any[\"mingoodsolution\", \"=\", 10]\n",
      "Any[\"niterqminq\", \"=\", 500]\n",
      "Any[\"nburnout\", \"=\", 1000]\n",
      "Any[\"nchain\", \"=\", 8000]\n",
      "Any[\"maxiter\", \"=\", 100000]\n",
      "Any[\"epsmean\", \"=\", 2.5]\n",
      "Any[\"epsdisp\", \"=\", 1.5]\n",
      "Any[\"min_nei\", \"=\", 10]\n",
      "Any[\"min_cl\", \"=\", 15]\n",
      "Any[\"ncoredisp\", \"=\", 10]\n",
      "Any[\"w3dmean\", \"=\", 6.0]\n",
      "Any[\"w3ddisp\", \"=\", 4.0]\n",
      "Any[\"wvelmean\", \"=\", 6.0]\n",
      "Any[\"wveldisp\", \"=\", 4.0]\n",
      "Any[\"whrdmean\", \"=\", 2.0]\n",
      "Any[\"whrddisp\", \"=\", 1.5]\n",
      "Any[\"aperture2d\", \"=\", 1.5]\n",
      "Any[\"maxaperture2d\", \"=\", 15.0]\n",
      "Any[\"aperture3d\", \"=\", 3.0]\n",
      "Any[\"maxaperture3d\", \"=\", 20]\n",
      "Any[\"aperturev\", \"=\", 3.0]\n",
      "Any[\"maxaperturev\", \"=\", 20.0]\n",
      "Any[\"nboot\", \"=\", 50.0]\n",
      "Any[\"labels\", \"=\", \"Qc\"]\n",
      "## Parameters read from test.ext\n",
      "## Data filtered in distance ..\n",
      "## Votable /home/stephane/Science/cluster/GAIA/products/votable.2020/NGC 869-3.0deg.vot read\n",
      "## Filtering done ...\n",
      "## Stars selected: 137915\n",
      "## Cartesian transformation done ...\n",
      "##\n",
      "## Starting cycle 1 ...\n",
      "## ABC/MCMC for DBSCAN FULL (parameters+weighting)...\n",
      "## ABC/MCMC v2\n",
      "### Chains  : 8000\n",
      "### Burn-in : 1000\n",
      "### Minimum Qc : 2.7\n",
      "### Minimum Qn : 40\n",
      "### Maximum Qn : 5000\n",
      "### Maximum iterations: 100000\n",
      "#### Checking the minQc and minQn conditions...\n",
      "#### Minimum good solutions 10\n",
      "#### Number of iterations: 500, maxiter: 15000\n",
      "### Minimum Qc: 2.7\n",
      "### Minimum Qn: 40\n",
      "### init done ...\n",
      "### mini stats...\n",
      "### Qc : 3.054 \n",
      "### Qn : 652.720 \n",
      "### chain:1000\n",
      "### burnout done...\n",
      "### chain:1000\n",
      "### chain:"
     ]
    }
   ],
   "source": [
    "votname= \"NGC 869-3.0deg.vot\"\n",
    "metafile= \"test.ext\"\n",
    "main(votname, metafile)"
   ]
  }
 ],
 "metadata": {
  "@webio": {
   "lastCommId": null,
   "lastKernelId": null
  },
  "kernelspec": {
   "display_name": "Julia 1.4.1",
   "language": "julia",
   "name": "julia-1.4"
  },
  "language_info": {
   "file_extension": ".jl",
   "mimetype": "application/julia",
   "name": "julia",
   "version": "1.4.1"
  }
 },
 "nbformat": 4,
 "nbformat_minor": 2
}
