{
 "cells": [
  {
   "cell_type": "markdown",
   "metadata": {},
   "source": [
    "## Simulate full run\n",
    "\n",
    "Estimation of the total time for the full run with all votable"
   ]
  },
  {
   "cell_type": "code",
   "execution_count": 17,
   "metadata": {},
   "outputs": [],
   "source": [
    "using  Statistics , StatsBase\n",
    "using  DataFrames, Printf , CSV , Query\n",
    "using  Dates, Glob\n",
    "\n",
    "import PyPlot\n",
    "\n",
    "\n",
    "## directory\n",
    "rootdir = ENV[\"GAIA_ROOT\"]\n",
    "wdir    = \"$rootdir/products\"\n",
    "votdir  = \"$wdir/votable.2019\"\n",
    "plotdir = \"$wdir/test\"\n",
    "ocdir   = \"$wdir/octest\"\n",
    "sclist  = \"$rootdir/e2e_products/sc-list-2020.csv\"\n",
    "\n",
    "push!(LOAD_PATH,\"$rootdir/master/src\")\n",
    "using GaiaClustering\n",
    "\n",
    "cd(wdir)"
   ]
  },
  {
   "cell_type": "code",
   "execution_count": 18,
   "metadata": {},
   "outputs": [
    {
     "data": {
      "text/html": [
       "<table class=\"data-frame\"><thead><tr><th></th><th>votname</th><th>nstar</th></tr><tr><th></th><th>String</th><th>Int64</th></tr></thead><tbody><p>1,477 rows × 2 columns</p><tr><th>1</th><td>AH03 J0822-36.4-2.0deg.vot</td><td>69725</td></tr><tr><th>2</th><td>ASCC 100-3.6deg.vot</td><td>189410</td></tr><tr><th>3</th><td>ASCC 102-2.0deg.vot</td><td>89069</td></tr><tr><th>4</th><td>ASCC 103-2.8deg.vot</td><td>164444</td></tr><tr><th>5</th><td>ASCC 105-4.7deg.vot</td><td>542912</td></tr><tr><th>6</th><td>ASCC 106-5.2deg.vot</td><td>434668</td></tr><tr><th>7</th><td>ASCC 107-2.0deg.vot</td><td>98937</td></tr><tr><th>8</th><td>ASCC 108-2.0deg.vot</td><td>89650</td></tr><tr><th>9</th><td>ASCC 109-3.4deg.vot</td><td>296474</td></tr><tr><th>10</th><td>ASCC 11-4.1deg.vot</td><td>140175</td></tr><tr><th>11</th><td>ASCC 110-2.3deg.vot</td><td>137273</td></tr><tr><th>12</th><td>ASCC 112-2.3deg.vot</td><td>89573</td></tr><tr><th>13</th><td>ASCC 113-3.3deg.vot</td><td>218163</td></tr><tr><th>14</th><td>ASCC 114-2.0deg.vot</td><td>80370</td></tr><tr><th>15</th><td>ASCC 115-2.1deg.vot</td><td>103997</td></tr><tr><th>16</th><td>ASCC 116-2.0deg.vot</td><td>84999</td></tr><tr><th>17</th><td>ASCC 117-2.5deg.vot</td><td>86867</td></tr><tr><th>18</th><td>ASCC 118-2.0deg.vot</td><td>63728</td></tr><tr><th>19</th><td>ASCC 119-2.1deg.vot</td><td>74954</td></tr><tr><th>20</th><td>ASCC 12-2.2deg.vot</td><td>45928</td></tr><tr><th>21</th><td>ASCC 120-2.1deg.vot</td><td>84424</td></tr><tr><th>22</th><td>ASCC 124-3.1deg.vot</td><td>127600</td></tr><tr><th>23</th><td>ASCC 126-2.8deg.vot</td><td>116583</td></tr><tr><th>24</th><td>ASCC 128-2.3deg.vot</td><td>84493</td></tr><tr><th>25</th><td>ASCC 13-6.8deg.vot</td><td>390688</td></tr><tr><th>26</th><td>ASCC 14-2.0deg.vot</td><td>35291</td></tr><tr><th>27</th><td>ASCC 15-2.0deg.vot</td><td>36054</td></tr><tr><th>28</th><td>ASCC 16-6.6deg.vot</td><td>218201</td></tr><tr><th>29</th><td>ASCC 17-2.0deg.vot</td><td>32720</td></tr><tr><th>30</th><td>ASCC 18-4.4deg.vot</td><td>101289</td></tr><tr><th>&vellip;</th><td>&vellip;</td><td>&vellip;</td></tr></tbody></table>"
      ],
      "text/latex": [
       "\\begin{tabular}{r|cc}\n",
       "\t& votname & nstar\\\\\n",
       "\t\\hline\n",
       "\t& String & Int64\\\\\n",
       "\t\\hline\n",
       "\t1 & AH03 J0822-36.4-2.0deg.vot & 69725 \\\\\n",
       "\t2 & ASCC 100-3.6deg.vot & 189410 \\\\\n",
       "\t3 & ASCC 102-2.0deg.vot & 89069 \\\\\n",
       "\t4 & ASCC 103-2.8deg.vot & 164444 \\\\\n",
       "\t5 & ASCC 105-4.7deg.vot & 542912 \\\\\n",
       "\t6 & ASCC 106-5.2deg.vot & 434668 \\\\\n",
       "\t7 & ASCC 107-2.0deg.vot & 98937 \\\\\n",
       "\t8 & ASCC 108-2.0deg.vot & 89650 \\\\\n",
       "\t9 & ASCC 109-3.4deg.vot & 296474 \\\\\n",
       "\t10 & ASCC 11-4.1deg.vot & 140175 \\\\\n",
       "\t11 & ASCC 110-2.3deg.vot & 137273 \\\\\n",
       "\t12 & ASCC 112-2.3deg.vot & 89573 \\\\\n",
       "\t13 & ASCC 113-3.3deg.vot & 218163 \\\\\n",
       "\t14 & ASCC 114-2.0deg.vot & 80370 \\\\\n",
       "\t15 & ASCC 115-2.1deg.vot & 103997 \\\\\n",
       "\t16 & ASCC 116-2.0deg.vot & 84999 \\\\\n",
       "\t17 & ASCC 117-2.5deg.vot & 86867 \\\\\n",
       "\t18 & ASCC 118-2.0deg.vot & 63728 \\\\\n",
       "\t19 & ASCC 119-2.1deg.vot & 74954 \\\\\n",
       "\t20 & ASCC 12-2.2deg.vot & 45928 \\\\\n",
       "\t21 & ASCC 120-2.1deg.vot & 84424 \\\\\n",
       "\t22 & ASCC 124-3.1deg.vot & 127600 \\\\\n",
       "\t23 & ASCC 126-2.8deg.vot & 116583 \\\\\n",
       "\t24 & ASCC 128-2.3deg.vot & 84493 \\\\\n",
       "\t25 & ASCC 13-6.8deg.vot & 390688 \\\\\n",
       "\t26 & ASCC 14-2.0deg.vot & 35291 \\\\\n",
       "\t27 & ASCC 15-2.0deg.vot & 36054 \\\\\n",
       "\t28 & ASCC 16-6.6deg.vot & 218201 \\\\\n",
       "\t29 & ASCC 17-2.0deg.vot & 32720 \\\\\n",
       "\t30 & ASCC 18-4.4deg.vot & 101289 \\\\\n",
       "\t$\\dots$ & $\\dots$ & $\\dots$ \\\\\n",
       "\\end{tabular}\n"
      ],
      "text/plain": [
       "1477×2 DataFrame\n",
       "│ Row  │ votname                      │ nstar  │\n",
       "│      │ \u001b[90mString\u001b[39m                       │ \u001b[90mInt64\u001b[39m  │\n",
       "├──────┼──────────────────────────────┼────────┤\n",
       "│ 1    │ AH03 J0822-36.4-2.0deg.vot   │ 69725  │\n",
       "│ 2    │ ASCC 100-3.6deg.vot          │ 189410 │\n",
       "│ 3    │ ASCC 102-2.0deg.vot          │ 89069  │\n",
       "│ 4    │ ASCC 103-2.8deg.vot          │ 164444 │\n",
       "│ 5    │ ASCC 105-4.7deg.vot          │ 542912 │\n",
       "│ 6    │ ASCC 106-5.2deg.vot          │ 434668 │\n",
       "│ 7    │ ASCC 107-2.0deg.vot          │ 98937  │\n",
       "│ 8    │ ASCC 108-2.0deg.vot          │ 89650  │\n",
       "│ 9    │ ASCC 109-3.4deg.vot          │ 296474 │\n",
       "│ 10   │ ASCC 11-4.1deg.vot           │ 140175 │\n",
       "⋮\n",
       "│ 1467 │ vdBergh-Hagen 23-3.2deg.vot  │ 170780 │\n",
       "│ 1468 │ vdBergh-Hagen 245-2.0deg.vot │ 91679  │\n",
       "│ 1469 │ vdBergh-Hagen 34-2.0deg.vot  │ 70918  │\n",
       "│ 1470 │ vdBergh-Hagen 54-2.0deg.vot  │ 63148  │\n",
       "│ 1471 │ vdBergh-Hagen 56-2.0deg.vot  │ 56846  │\n",
       "│ 1472 │ vdBergh-Hagen 84-2.0deg.vot  │ 108331 │\n",
       "│ 1473 │ vdBergh-Hagen 87-2.0deg.vot  │ 102634 │\n",
       "│ 1474 │ vdBergh-Hagen 90-2.0deg.vot  │ 110913 │\n",
       "│ 1475 │ vdBergh-Hagen 91-2.0deg.vot  │ 116984 │\n",
       "│ 1476 │ vdBergh-Hagen 92-2.0deg.vot  │ 105405 │\n",
       "│ 1477 │ vdBergh-Hagen 99-3.4deg.vot  │ 349958 │"
      ]
     },
     "execution_count": 18,
     "metadata": {},
     "output_type": "execute_result"
    }
   ],
   "source": [
    "fileres= \"nstars_votable.2000pc.csv\"\n",
    "res= CSV.read(fileres, delim=\";\")"
   ]
  },
  {
   "cell_type": "code",
   "execution_count": 19,
   "metadata": {},
   "outputs": [
    {
     "data": {
      "image/png": "[encoded data removed]",
      "text/plain": [
       "PyPlot.Figure(PyObject <Figure size 640x480 with 1 Axes>)"
      ]
     },
     "metadata": {},
     "output_type": "display_data"
    }
   ],
   "source": [
    "ax= PyPlot.subplot(111)\n",
    "PyPlot.grid(\"on\")\n",
    "PyPlot.xlabel(\"Nstar\")\n",
    "PyPlot.hist(res.nstar, 100, range=[0, 5e5], density=false, facecolor=\"g\", alpha= 0.5)\n",
    "\n",
    "PyPlot.show()"
   ]
  },
  {
   "cell_type": "code",
   "execution_count": 20,
   "metadata": {},
   "outputs": [
    {
     "data": {
      "image/png": "[encoded data removed]",
      "text/plain": [
       "PyPlot.Figure(PyObject <Figure size 640x480 with 1 Axes>)"
      ]
     },
     "metadata": {},
     "output_type": "display_data"
    },
    {
     "name": "stdout",
     "output_type": "stream",
     "text": [
      "## Total Nstar: 1.32e+08 stars \n",
      "## Total Time : 229.141 days \n"
     ]
    }
   ],
   "source": [
    "## Estimation of the total time\n",
    "\n",
    "timeperchainstar= 5e-5\n",
    "maxiteration= 1e5\n",
    "chain= 10000\n",
    "ncore= 10\n",
    "cyclemax= 3.0\n",
    "\n",
    "totstar= sum(res.nstar)\n",
    "totime= cyclemax * sum( chain*timeperchainstar .* res.nstar ) / (ncore * 3600 * 24)  ## days\n",
    "timeperoc= (cyclemax*chain*timeperchainstar .* res.nstar ) / (ncore * 3600)           ## hours\n",
    "\n",
    "@printf(\"## Total Nstar: %5.4g stars \\n\",totstar)\n",
    "@printf(\"## Total Time : %3.3f days \\n\",totime)\n",
    "\n",
    "\n",
    "ax= PyPlot.subplot(111)\n",
    "PyPlot.grid(\"on\")\n",
    "PyPlot.xlabel(\"Time per OC (hours)\")\n",
    "PyPlot.hist(timeperoc, 100, range=[0, 50], density=false, facecolor=\"r\", alpha= 0.5)\n",
    "\n",
    "PyPlot.show()"
   ]
  }
 ],
 "metadata": {
  "kernelspec": {
   "display_name": "Julia 1.4.1",
   "language": "julia",
   "name": "julia-1.4"
  },
  "language_info": {
   "file_extension": ".jl",
   "mimetype": "application/julia",
   "name": "julia",
   "version": "1.4.1"
  }
 },
 "nbformat": 4,
 "nbformat_minor": 4
}
