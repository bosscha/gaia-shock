{
 "cells": [
  {
   "cell_type": "markdown",
   "id": "350a7a56",
   "metadata": {},
   "source": [
    "### To check the automatic classification\n",
    "\n",
    "From the dataiku classification (ML) the script goes through the OCs with a specific classification (c,u,n)"
   ]
  },
  {
   "cell_type": "code",
   "execution_count": null,
   "id": "698f42e4",
   "metadata": {},
   "outputs": [],
   "source": [
    "import os\n",
    "from IPython.display import Image, display\n",
    "import pandas as pd\n",
    "import numpy as np\n",
    "\n",
    "rootdir = os.environ.get(\"GAIA_ROOT\")\n",
    "\n",
    "ocplot  = \"/home/stephane/Science/GAIA/e2e_products.edr3/res.alma.edr3/e2e_products.edr3/plotSelect\""
   ]
  },
  {
   "cell_type": "code",
   "execution_count": null,
   "id": "cdac2796",
   "metadata": {},
   "outputs": [],
   "source": [
    "scoredfile= \"/home/stephane/Downloads/ocres_testsc_joined_scored.csv\"\n",
    "\n",
    "df= pd.read_csv(scoredfile, sep=\";\")"
   ]
  },
  {
   "cell_type": "code",
   "execution_count": null,
   "id": "7f3394c8",
   "metadata": {},
   "outputs": [],
   "source": [
    "def shuffle(df, n=1, axis=0):     \n",
    "    df = df.copy()\n",
    "    for _ in range(n):\n",
    "        df.apply(np.random.shuffle, axis=axis)\n",
    "        return df"
   ]
  },
  {
   "cell_type": "code",
   "execution_count": null,
   "id": "3a92133c",
   "metadata": {
    "scrolled": false
   },
   "outputs": [],
   "source": [
    "check= \"c\"\n",
    "\n",
    "dfs= df = df.sample(frac = 1)      # shuffle\n",
    "for index, row in dfs.iterrows():\n",
    "    clfile= \"%s.%d.cluster.png\"%(row['votname'], row['cycle'])\n",
    "    clim= os.path.join(ocplot,clfile)\n",
    "        \n",
    "    rawfile= \"%s.%d.raw.png\"%(row['votname'], row['cycle'])\n",
    "    rawim= os.path.join(ocplot,rawfile)\n",
    "    \n",
    "    # display(Image(filename=rawim))\n",
    "    if row['prediction'] == check:\n",
    "        # print(row['votname'], row['cycle'], row['prediction'])\n",
    "        display(Image(filename=rawim))\n",
    "        display(Image(filename=clim))\n",
    "    \n",
    "        value= input(\"#RET\")\n",
    "        print(\"##################### \\n\")"
   ]
  }
 ],
 "metadata": {
  "kernelspec": {
   "display_name": "Python 3 (ipykernel)",
   "language": "python",
   "name": "python3"
  },
  "language_info": {
   "codemirror_mode": {
    "name": "ipython",
    "version": 3
   },
   "file_extension": ".py",
   "mimetype": "text/x-python",
   "name": "python",
   "nbconvert_exporter": "python",
   "pygments_lexer": "ipython3",
   "version": "3.9.5"
  }
 },
 "nbformat": 4,
 "nbformat_minor": 5
}
