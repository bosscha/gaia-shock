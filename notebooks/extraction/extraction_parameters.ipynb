{
 "cells": [
  {
   "cell_type": "markdown",
   "metadata": {},
   "source": [
    "### Testing the extraction parameters"
   ]
  },
  {
   "cell_type": "code",
   "execution_count": 1,
   "metadata": {},
   "outputs": [
    {
     "name": "stderr",
     "output_type": "stream",
     "text": [
      "┌ Info: Precompiling GaiaClustering [top-level]\n",
      "└ @ Base loading.jl:1260\n"
     ]
    }
   ],
   "source": [
    "using PyCall\n",
    "using Statistics , StatsBase\n",
    "using  DataFrames, Printf\n",
    "\n",
    "import PyPlot\n",
    "sns= pyimport(\"seaborn\")\n",
    "\n",
    "using DelimitedFiles\n",
    "\n",
    "## directory\n",
    "rootdir = ENV[\"GAIA_ROOT\"]\n",
    "wdir    = \"$rootdir/products\"\n",
    "votdir  = \"$rootdir/products/votable\"\n",
    "plotdir = \"$rootdir/products/testfull2\"\n",
    "\n",
    "push!(LOAD_PATH,\"$rootdir/master/src\")\n",
    "using GaiaClustering\n",
    "\n",
    "\n",
    "cd(wdir)"
   ]
  },
  {
   "cell_type": "code",
   "execution_count": 2,
   "metadata": {},
   "outputs": [
    {
     "data": {
      "text/plain": [
       "_set_default_params (generic function with 1 method)"
      ]
     },
     "execution_count": 2,
     "metadata": {},
     "output_type": "execute_result"
    }
   ],
   "source": [
    "mutable struct _meta\n",
    "    rootdir::String\n",
    "    wdir::String\n",
    "    votdir::String\n",
    "    plotdir::String\n",
    "    ocdir::String\n",
    "    votname::String\n",
    "    \n",
    "    minQ::Float64\n",
    "    minstars::Int\n",
    "    maxstars::Int\n",
    "    forcedminstars::Int\n",
    "    mingoodsolution::Int\n",
    "    niterqminq::Int\n",
    "    nburnout::Int\n",
    "    niter::Int\n",
    "    maxiters::Int\n",
    "\n",
    "    epsmean::Float64\n",
    "    epsdisp::Float64\n",
    "    min_nei::Int\n",
    "    min_cl::Int\n",
    "    ncoredisp::Int\n",
    "    w3dmean::Float64\n",
    "    w3ddisp::Float64\n",
    "    wvelmean::Float64\n",
    "    wveldisp::Float64\n",
    "    whrdmean::Float64\n",
    "    whrddisp::Float64\n",
    "\n",
    "    aperture2d::Float64\n",
    "    maxaperture2d::Float64 \n",
    "    aperture3d::Float64    \n",
    "    maxaperture3d::Float64\n",
    "    aperturev::Float64   \n",
    "    maxaperturev::Float64\n",
    "    nboot::Int\n",
    "    labels::String\n",
    "    \n",
    "    _meta()= new()\n",
    "end\n",
    "\n",
    "## return the default parameters\n",
    "##\n",
    "function _set_default_params()::_meta\n",
    "    def = _meta()\n",
    "    \n",
    "    ## Directories\n",
    "    def.rootdir =  ENV[\"GAIA_ROOT\"]\n",
    "    def.wdir    = \"$rootdir/e2e_products\"\n",
    "    def.votdir  = \"$wdir/votable\"\n",
    "    def.plotdir = \"$wdir/plots-select\"\n",
    "    def.ocdir   = \"$wdir/ocfull\"\n",
    "    def.votname = \"test.vot\"\n",
    "\n",
    "    ## MCMC\n",
    "    ##\n",
    "    def.minQ    = 2.7\n",
    "    def.minstars = 40\n",
    "    def.maxstars = 10000\n",
    "    def.forcedminstars = 30\n",
    "    def.mingoodsolution = 10        # minimum good solution for Q in check_qminqstar\n",
    "    def.niterqminq = 500            # check_qminqstar..\n",
    "\n",
    "    def.nburnout  = 2000            # burn-in iterations\n",
    "    def.niter     = 15000           # MCMC iterations==number of CHAINS\n",
    "    def.maxiters  = 500000\n",
    "    \n",
    "\n",
    "    ## prior settings\n",
    "    ##\n",
    "    def.epsmean   = 2.5             # epsilon mean\n",
    "    def.epsdisp   = 1.5             # epsilon dispersion\n",
    "    def.min_nei   = 10              # min_nei mean\n",
    "    def.min_cl    = 15              # min_cl mean\n",
    "    def.ncoredisp = 10              # dispersion for min_nei and min_cl\n",
    "    def.w3dmean   = 6.0\n",
    "    def.w3ddisp   = 4.0\n",
    "    def.wvelmean  = 6.0\n",
    "    def.wveldisp  = 4.0\n",
    "    def.whrdmean  = 2.0\n",
    "    def.whrddisp  = 1.5\n",
    "\n",
    "    ## Metrics find_clusters\n",
    "    def.aperture2d    = 1.5\n",
    "    def.maxaperture2d = 15\n",
    "    def.aperture3d    = 3\n",
    "    def.maxaperture3d = 20\n",
    "    def.aperturev     = 3.0\n",
    "    def.maxaperturev  = 20\n",
    "    def.nboot         = 50          # bootstrap number\n",
    "\n",
    "    def.labels        = \"Qc\"        # method to get labels: Qc|Qn\n",
    "    \n",
    "    return(def)\n",
    "end"
   ]
  },
  {
   "cell_type": "code",
   "execution_count": 3,
   "metadata": {},
   "outputs": [
    {
     "data": {
      "text/plain": [
       "_set_param! (generic function with 1 method)"
      ]
     },
     "execution_count": 3,
     "metadata": {},
     "output_type": "execute_result"
    }
   ],
   "source": [
    "function _read_params(file)\n",
    "    par= set_default_params()\n",
    "    t= readdlm(file,comments=true, comment_char='#')\n",
    "    \n",
    "    s= size(t)\n",
    "    for i in 1:s[1]\n",
    "        println(t[i,:])\n",
    "        if t[i,2] == \"=\"\n",
    "            set_param!(par,t[i,1],t[i,3])\n",
    "        else\n",
    "            p= t[i,1]\n",
    "            println(\"### parsing parameter file could be wrong near $p ...\")\n",
    "        end\n",
    "    end\n",
    "    \n",
    "    return(par)\n",
    "end\n",
    "\n",
    "function _set_param!(def, parstr,value)\n",
    "    if parstr == \"rootdir\" def.rootdir= value end\n",
    "    if parstr == \"wdir\"    def.wdir= value end\n",
    "    if parstr == \"votdir\"  def.votdir= value end\n",
    "    if parstr == \"plotdir\" def.plotdir= value end\n",
    "    if parstr == \"ocdir\"   def.ocdir= value end\n",
    "    if parstr == \"votname\" def.votname= value end\n",
    "\n",
    "    if parstr == \"minQ\"            def.minQ= value end\n",
    "    if parstr == \"minstars\"        def.minstars= value end\n",
    "    if parstr == \"maxstars\"        def.maxstars= value end\n",
    "    if parstr == \"forcedminstars\"  def.forcedminstars= value end\n",
    "    if parstr == \"mingoodsolution\" def.mingoodsolution= value end\n",
    "    if parstr == \"niterqminq\"      def.niterqminq= value end\n",
    " \n",
    "    if parstr == \"nburnout\" def.nburnout= value end\n",
    "    if parstr == \"niter\"    def.niter= value end\n",
    "    if parstr == \"maxiters\" def.maxiters= value end\n",
    "    \n",
    "    if parstr == \"epsmean\"   def.epsmean= value end\n",
    "    if parstr == \"epsdisp\"   def.epsdisp= value end\n",
    "    if parstr == \"min_nei\"   def.min_cl= value end\n",
    "    if parstr == \"min_cl\"    def.min_cl= value end    \n",
    "    if parstr == \"ncoredisp\" def.ncoredisp= value end\n",
    "    if parstr == \"w3dmean\"   def.w3dmean= value end\n",
    "    if parstr == \"w3ddisp\"   def.w3ddisp= value end\n",
    "    if parstr == \"wvelmean\"  def.wvelmean= value end     \n",
    "    if parstr == \"wveldisp\"  def.wveldisp= value end\n",
    "    if parstr == \"whrdmean\"  def.whrdmean= value end\n",
    "    if parstr == \"whrddisp\"  def.whrddisp= value end\n",
    "\n",
    "    ## Metrics find_clusters\n",
    "    if parstr == \"aperture2d\"     def.aperture2d= value end\n",
    "    if parstr == \"maxaperture2d\"  def.maxaperture2d= value end\n",
    "    if parstr == \"aperture3d\"     def.aperture3d= value end    \n",
    "    if parstr == \"maxaperture3d\"  def.maxaperture3d= value end\n",
    "    if parstr == \"aperturev\"      def.aperturev= value end\n",
    "    if parstr == \"maxaperturev\"   def.maxaperturev= value end     \n",
    "    if parstr == \"nboot\"          def.nboot= value end\n",
    "    \n",
    "    if parstr == \"labels\"  def.labels= value end\n",
    "\n",
    "end"
   ]
  },
  {
   "cell_type": "code",
   "execution_count": 4,
   "metadata": {},
   "outputs": [
    {
     "data": {
      "text/plain": [
       "_getdata (generic function with 1 method)"
      ]
     },
     "execution_count": 4,
     "metadata": {},
     "output_type": "execute_result"
    }
   ],
   "source": [
    "function _getdata(filevot)\n",
    "    voname = filevot\n",
    "\n",
    "    data       = read_votable(voname)\n",
    "    df         = filter_data(data)\n",
    "    dfcart     = add_cartesian(df)\n",
    " \n",
    "    return(dfcart)\n",
    "end"
   ]
  },
  {
   "cell_type": "code",
   "execution_count": 5,
   "metadata": {},
   "outputs": [
    {
     "data": {
      "text/plain": [
       "main (generic function with 1 method)"
      ]
     },
     "execution_count": 5,
     "metadata": {},
     "output_type": "execute_result"
    }
   ],
   "source": [
    "## Main\n",
    "function main(file)\n",
    "    p= read_params(file)\n",
    "    votname= \"FSR 0224-2.0deg.vot\"\n",
    "    p.votdir= \"/home/stephane/Science/GAIA/products/votable.2020\"\n",
    "    p.votname= votname\n",
    "    \n",
    "    dfcart=  _getdata(p.votdir*\"/\"*p.votname)\n",
    "    println(p)\n",
    "end"
   ]
  },
  {
   "cell_type": "code",
   "execution_count": 6,
   "metadata": {},
   "outputs": [
    {
     "name": "stdout",
     "output_type": "stream",
     "text": [
      "## All parameters set to default...\n",
      "Any[\"minQ\", \"=\", 2.7]\n",
      "Any[\"minstars\", \"=\", 40]\n",
      "Any[\"forcedminstars\", \"=\", 30]\n",
      "Any[\"mingoodsolution\", \"=\", 10]\n",
      "Any[\"niterqminq\", \"=\", 500]\n",
      "Any[\"nburnout\", \"=\", 2000]\n",
      "Any[\"nchain\", \"=\", 150000000]\n",
      "Any[\"maxiters\", \"=\", 500000]\n",
      "Any[\"epsmean\", \"=\", 2.5]\n",
      "Any[\"epsdisp\", \"=\", 1.5]\n",
      "Any[\"min_nei\", \"=\", 10]\n",
      "Any[\"min_cl\", \"=\", 15]\n",
      "Any[\"ncoredisp\", \"=\", 10]\n",
      "Any[\"w3dmean\", \"=\", 6.0]\n",
      "Any[\"w3ddisp\", \"=\", 4.0]\n",
      "Any[\"wvelmean\", \"=\", 6.0]\n",
      "Any[\"wveldisp\", \"=\", 4.0]\n",
      "Any[\"whrdmean\", \"=\", 2.0]\n",
      "Any[\"whrddisp\", \"=\", 1.5]\n",
      "Any[\"aperture2d\", \"=\", 1.5]\n",
      "Any[\"maxaperture2d\", \"=\", 15.0]\n",
      "Any[\"aperture3d\", \"=\", 3.0]\n",
      "Any[\"maxaperture3d\", \"=\", 20]\n",
      "Any[\"aperturev\", \"=\", 3.0]\n",
      "Any[\"maxaperturev\", \"=\", 20.0]\n",
      "Any[\"nboot\", \"=\", 50.0]\n",
      "Any[\"labels\", \"=\", \"Qc\"]\n",
      "## Parameters read from test.ext\n",
      "## Votable /home/stephane/Science/GAIA/products/votable.2020/FSR 0224-2.0deg.vot read\n",
      "## Filtering done ...\n",
      "## Stars selected: 68309\n",
      "## Cartesian transformation done ...\n",
      "meta(\"/home/stephane/Science/GAIA\", \"/home/stephane/Science/GAIA/e2e_products\", \"/home/stephane/Science/GAIA/products/votable.2020\", \"/home/stephane/Science/GAIA/e2e_products/plots-select\", \"/home/stephane/Science/GAIA/e2e_products/oc\", \"FSR 0224-2.0deg.vot\", 2.7, 40, 10000, 30, 10, 500, 2000, 150000000, 500000, 2.5, 1.5, 10, 15, 10, 6.0, 4.0, 6.0, 4.0, 2.0, 1.5, 1.5, 15.0, 3.0, 20.0, 3.0, 20.0, 50, \"Qc\")\n"
     ]
    }
   ],
   "source": [
    "file= \"test.ext\"\n",
    "main(file)"
   ]
  }
 ],
 "metadata": {
  "@webio": {
   "lastCommId": null,
   "lastKernelId": null
  },
  "kernelspec": {
   "display_name": "Julia 1.4.1",
   "language": "julia",
   "name": "julia-1.4"
  },
  "language_info": {
   "file_extension": ".jl",
   "mimetype": "application/julia",
   "name": "julia",
   "version": "1.4.1"
  }
 },
 "nbformat": 4,
 "nbformat_minor": 2
}
