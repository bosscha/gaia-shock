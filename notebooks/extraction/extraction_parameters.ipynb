{
 "cells": [
  {
   "cell_type": "markdown",
   "metadata": {},
   "source": [
    "### Testing the extraction parameters"
   ]
  },
  {
   "cell_type": "code",
   "execution_count": 1,
   "metadata": {},
   "outputs": [],
   "source": [
    "using PyCall\n",
    "using Statistics , StatsBase\n",
    "using  DataFrames, Printf\n",
    "\n",
    "import PyPlot\n",
    "sns= pyimport(\"seaborn\")\n",
    "\n",
    "## directory\n",
    "rootdir = ENV[\"GAIA_ROOT\"]\n",
    "wdir    = \"$rootdir/products\"\n",
    "votdir  = \"$rootdir/products/votable\"\n",
    "plotdir = \"$rootdir/products/testfull2\"\n",
    "\n",
    "push!(LOAD_PATH,\"$rootdir/master/src\")\n",
    "using GaiaClustering\n",
    "\n",
    "\n",
    "cd(wdir)"
   ]
  },
  {
   "cell_type": "code",
   "execution_count": 2,
   "metadata": {},
   "outputs": [
    {
     "data": {
      "text/plain": [
       "_set_default_params (generic function with 1 method)"
      ]
     },
     "execution_count": 2,
     "metadata": {},
     "output_type": "execute_result"
    }
   ],
   "source": [
    "mutable struct _extractParam\n",
    "    rootdir::String\n",
    "    wdir::String\n",
    "    votdir::String\n",
    "    plotdir::String\n",
    "    ocdir::String\n",
    "\n",
    "    minQ::Float64\n",
    "    minstars::Int\n",
    "    maxstars::Int\n",
    "    forcedminstars::Int\n",
    "    mingoodsolution::Int\n",
    "    niterqminq::Int\n",
    "    nburnout::Int\n",
    "    niter::Int\n",
    "\n",
    "    epsmean::Float64\n",
    "    epsdisp::Float64\n",
    "    min_nei::Int\n",
    "    min_cl::Int\n",
    "    ncoredisp::Int\n",
    "    w3dmean::Float64\n",
    "    w3ddisp::Float64\n",
    "    wvelmean::Float64\n",
    "    wveldisp::Float64\n",
    "    whrdmean::Float64\n",
    "    whrddisp::Float64\n",
    "\n",
    "    aperture2d::Float64\n",
    "    maxaperture2d::Float64 \n",
    "    aperture3d::Float64    \n",
    "    maxaperture3d::Float64\n",
    "    aperturev::Float64   \n",
    "    maxaperturev::Float64\n",
    "    nboot::Int\n",
    "    labels::String\n",
    "    \n",
    "    _extractParam()= new()\n",
    "end\n",
    "\n",
    "## return the default parameters\n",
    "##\n",
    "function _set_default_params()::_extractParam\n",
    "    def = _extractParam()\n",
    "    \n",
    "    ## Directories\n",
    "    def.rootdir =  ENV[\"GAIA_ROOT\"]\n",
    "    def.wdir    = \"$rootdir/e2e_products\"\n",
    "    def.votdir  = \"$wdir/votable\"\n",
    "    def.plotdir = \"$wdir/plots-select\"\n",
    "    def.ocdir   = \"$wdir/ocfull\"\n",
    "\n",
    "    ## MCMC\n",
    "    ##\n",
    "    def.minQ    = 2.7\n",
    "    def.minstars = 40\n",
    "    def.maxstars = 10000\n",
    "    def.forcedminstars = 30\n",
    "    def.mingoodsolution = 10        # minimum good solution for Q in check_qminqstar\n",
    "    def.niterqminq = 500            # check_qminqstar..\n",
    "\n",
    "    def.nburnout  = 2000            # burn-in iterations\n",
    "    def.niter     = 15000           # MCMC iterations\n",
    "\n",
    "    ## prior settings\n",
    "    ##\n",
    "    def.epsmean   = 2.5             # epsilon mean\n",
    "    def.epsdisp   = 1.5             # epsilon dispersion\n",
    "    def.min_nei   = 10              # min_nei mean\n",
    "    def.min_cl    = 15              # min_cl mean\n",
    "    def.ncoredisp = 10              # dispersion for min_nei and min_cl\n",
    "    def.w3dmean   = 6.0\n",
    "    def.w3ddisp   = 4.0\n",
    "    def.wvelmean  = 6.0\n",
    "    def.wveldisp  = 4.0\n",
    "    def.whrdmean  = 2.0\n",
    "    def.whrddisp  = 1.5\n",
    "\n",
    "    ## Metrics find_clusters\n",
    "    def.aperture2d    = 1.5\n",
    "    def.maxaperture2d = 15\n",
    "    def.aperture3d    = 3\n",
    "    def.maxaperture3d = 20\n",
    "    def.aperturev     = 3.0\n",
    "    def.maxaperturev  = 20\n",
    "    def.nboot         = 50          # bootstrap number\n",
    "\n",
    "    def.labels        = \"Qc\"        # method to get labels: Qc|Qn\n",
    "    \n",
    "    return(def)\n",
    "end"
   ]
  },
  {
   "cell_type": "code",
   "execution_count": 3,
   "metadata": {},
   "outputs": [
    {
     "data": {
      "text/plain": [
       "_read_params (generic function with 1 method)"
      ]
     },
     "execution_count": 3,
     "metadata": {},
     "output_type": "execute_result"
    }
   ],
   "source": [
    "function _read_params(file)::_extractParam\n",
    "end"
   ]
  },
  {
   "cell_type": "code",
   "execution_count": 4,
   "metadata": {},
   "outputs": [
    {
     "data": {
      "text/plain": [
       "main (generic function with 1 method)"
      ]
     },
     "execution_count": 4,
     "metadata": {},
     "output_type": "execute_result"
    }
   ],
   "source": [
    "## Main\n",
    "function main(file)\n",
    "    \n",
    "    default= _set_default_params()\n",
    "    println(default)\n",
    "end"
   ]
  },
  {
   "cell_type": "code",
   "execution_count": 5,
   "metadata": {},
   "outputs": [
    {
     "name": "stdout",
     "output_type": "stream",
     "text": [
      "_extractParam(\"/home/stephane/Science/GAIA\", \"/home/stephane/Science/GAIA/e2e_products\", \"/home/stephane/Science/GAIA/products/votable\", \"/home/stephane/Science/GAIA/products/plots-select\", \"/home/stephane/Science/GAIA/products/ocfull\", 2.7, 40, 10000, 30, 10, 500, 2000, 15000, 2.5, 1.5, 10, 15, 10, 6.0, 4.0, 6.0, 4.0, 2.0, 1.5, 1.5, 15.0, 3.0, 20.0, 3.0, 20.0, 50, \"Qc\")\n"
     ]
    }
   ],
   "source": [
    "file= \"default.ext\"\n",
    "main(file)"
   ]
  }
 ],
 "metadata": {
  "@webio": {
   "lastCommId": null,
   "lastKernelId": null
  },
  "kernelspec": {
   "display_name": "Julia 1.4.0",
   "language": "julia",
   "name": "julia-1.4"
  },
  "language_info": {
   "file_extension": ".jl",
   "mimetype": "application/julia",
   "name": "julia",
   "version": "1.4.0"
  }
 },
 "nbformat": 4,
 "nbformat_minor": 2
}
