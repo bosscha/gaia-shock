{
 "cells": [
  {
   "cell_type": "markdown",
   "metadata": {},
   "source": [
    "### Testing the extraction parameters"
   ]
  },
  {
   "cell_type": "code",
   "execution_count": 51,
   "metadata": {},
   "outputs": [],
   "source": [
    "using PyCall\n",
    "using Statistics , StatsBase\n",
    "using  DataFrames, Printf\n",
    "\n",
    "import PyPlot\n",
    "sns= pyimport(\"seaborn\")\n",
    "\n",
    "using DelimitedFiles\n",
    "\n",
    "## directory\n",
    "rootdir = ENV[\"GAIA_ROOT\"]\n",
    "wdir    = \"$rootdir/products\"\n",
    "votdir  = \"$rootdir/products/votable\"\n",
    "plotdir = \"$rootdir/products/testfull2\"\n",
    "\n",
    "push!(LOAD_PATH,\"$rootdir/master/src\")\n",
    "using GaiaClustering\n",
    "\n",
    "\n",
    "cd(wdir)"
   ]
  },
  {
   "cell_type": "code",
   "execution_count": 52,
   "metadata": {},
   "outputs": [
    {
     "data": {
      "text/plain": [
       "_set_default_params (generic function with 1 method)"
      ]
     },
     "execution_count": 52,
     "metadata": {},
     "output_type": "execute_result"
    }
   ],
   "source": [
    "mutable struct _extractParam\n",
    "    rootdir::String\n",
    "    wdir::String\n",
    "    votdir::String\n",
    "    plotdir::String\n",
    "    ocdir::String\n",
    "\n",
    "    minQ::Float64\n",
    "    minstars::Int\n",
    "    maxstars::Int\n",
    "    forcedminstars::Int\n",
    "    mingoodsolution::Int\n",
    "    niterqminq::Int\n",
    "    nburnout::Int\n",
    "    niter::Int\n",
    "\n",
    "    epsmean::Float64\n",
    "    epsdisp::Float64\n",
    "    min_nei::Int\n",
    "    min_cl::Int\n",
    "    ncoredisp::Int\n",
    "    w3dmean::Float64\n",
    "    w3ddisp::Float64\n",
    "    wvelmean::Float64\n",
    "    wveldisp::Float64\n",
    "    whrdmean::Float64\n",
    "    whrddisp::Float64\n",
    "\n",
    "    aperture2d::Float64\n",
    "    maxaperture2d::Float64 \n",
    "    aperture3d::Float64    \n",
    "    maxaperture3d::Float64\n",
    "    aperturev::Float64   \n",
    "    maxaperturev::Float64\n",
    "    nboot::Int\n",
    "    labels::String\n",
    "    \n",
    "    _extractParam()= new()\n",
    "end\n",
    "\n",
    "## return the default parameters\n",
    "##\n",
    "function _set_default_params()::_extractParam\n",
    "    def = _extractParam()\n",
    "    \n",
    "    ## Directories\n",
    "    def.rootdir =  ENV[\"GAIA_ROOT\"]\n",
    "    def.wdir    = \"$rootdir/e2e_products\"\n",
    "    def.votdir  = \"$wdir/votable\"\n",
    "    def.plotdir = \"$wdir/plots-select\"\n",
    "    def.ocdir   = \"$wdir/ocfull\"\n",
    "\n",
    "    ## MCMC\n",
    "    ##\n",
    "    def.minQ    = 2.7\n",
    "    def.minstars = 40\n",
    "    def.maxstars = 10000\n",
    "    def.forcedminstars = 30\n",
    "    def.mingoodsolution = 10        # minimum good solution for Q in check_qminqstar\n",
    "    def.niterqminq = 500            # check_qminqstar..\n",
    "\n",
    "    def.nburnout  = 2000            # burn-in iterations\n",
    "    def.niter     = 15000           # MCMC iterations\n",
    "\n",
    "    ## prior settings\n",
    "    ##\n",
    "    def.epsmean   = 2.5             # epsilon mean\n",
    "    def.epsdisp   = 1.5             # epsilon dispersion\n",
    "    def.min_nei   = 10              # min_nei mean\n",
    "    def.min_cl    = 15              # min_cl mean\n",
    "    def.ncoredisp = 10              # dispersion for min_nei and min_cl\n",
    "    def.w3dmean   = 6.0\n",
    "    def.w3ddisp   = 4.0\n",
    "    def.wvelmean  = 6.0\n",
    "    def.wveldisp  = 4.0\n",
    "    def.whrdmean  = 2.0\n",
    "    def.whrddisp  = 1.5\n",
    "\n",
    "    ## Metrics find_clusters\n",
    "    def.aperture2d    = 1.5\n",
    "    def.maxaperture2d = 15\n",
    "    def.aperture3d    = 3\n",
    "    def.maxaperture3d = 20\n",
    "    def.aperturev     = 3.0\n",
    "    def.maxaperturev  = 20\n",
    "    def.nboot         = 50          # bootstrap number\n",
    "\n",
    "    def.labels        = \"Qc\"        # method to get labels: Qc|Qn\n",
    "    \n",
    "    return(def)\n",
    "end"
   ]
  },
  {
   "cell_type": "code",
   "execution_count": 53,
   "metadata": {},
   "outputs": [
    {
     "data": {
      "text/plain": [
       "_read_params (generic function with 1 method)"
      ]
     },
     "execution_count": 53,
     "metadata": {},
     "output_type": "execute_result"
    }
   ],
   "source": [
    "function _read_params(file)\n",
    "    default= _set_default_params()\n",
    "    t= readdlm(file,comments=true, comment_char='#')\n",
    "    \n",
    "    \n",
    "end\n",
    "\n",
    "function _set_params!(def, parstr,value)\n",
    "    if parstr == \"rootdir\" def.rootdir= value end\n",
    "    if parstr == \"wdir\"    def.wdir= value end\n",
    "    if parstr == \"votdir\"  def.votdir= value end\n",
    "    if parstr == \"plotdir\" def.plotdir= value end\n",
    "    if parstr == \"ocdir\"   def.ocdir= value end\n",
    "\n",
    "    if parstr == \"minQ\"            def.minQ= value end\n",
    "    if parstr == \"minstars\"        def.minstars= value end\n",
    "    if parstr == \"maxstars\"        def.maxstars= value end\n",
    "    if parstr == \"forcedminstars\"  def.forcedminstars= value end\n",
    "    if parstr == \"mingoodsolution\" def.mingoodsolutions= value end\n",
    "    if parstr == \"niterqminq\"      def.niterqminq= value end\n",
    "\n",
    "    \n",
    "    def.nburnout  = 2000            # burn-in iterations\n",
    "    def.niter     = 15000           # MCMC iterations\n",
    "\n",
    "    ## prior settings\n",
    "    ##\n",
    "    def.epsmean   = 2.5             # epsilon mean\n",
    "    def.epsdisp   = 1.5             # epsilon dispersion\n",
    "    def.min_nei   = 10              # min_nei mean\n",
    "    def.min_cl    = 15              # min_cl mean\n",
    "    def.ncoredisp = 10              # dispersion for min_nei and min_cl\n",
    "    def.w3dmean   = 6.0\n",
    "    def.w3ddisp   = 4.0\n",
    "    def.wvelmean  = 6.0\n",
    "    def.wveldisp  = 4.0\n",
    "    def.whrdmean  = 2.0\n",
    "    def.whrddisp  = 1.5\n",
    "\n",
    "    ## Metrics find_clusters\n",
    "    def.aperture2d    = 1.5\n",
    "    def.maxaperture2d = 15\n",
    "    def.aperture3d    = 3\n",
    "    def.maxaperture3d = 20\n",
    "    def.aperturev     = 3.0\n",
    "    def.maxaperturev  = 20\n",
    "    def.nboot         = 50          # bootstrap number\n",
    "\n",
    "    def.labels        = \"Q\n",
    "end"
   ]
  },
  {
   "cell_type": "code",
   "execution_count": 54,
   "metadata": {},
   "outputs": [
    {
     "data": {
      "text/plain": [
       "main (generic function with 1 method)"
      ]
     },
     "execution_count": 54,
     "metadata": {},
     "output_type": "execute_result"
    }
   ],
   "source": [
    "## Main\n",
    "function main(file)\n",
    "    _read_params(file)\n",
    "        \n",
    "end"
   ]
  },
  {
   "cell_type": "code",
   "execution_count": 55,
   "metadata": {},
   "outputs": [
    {
     "data": {
      "text/plain": [
       "26×3 Array{Any,2}:\n",
       " \"minQ\"             \"=\"      2.7\n",
       " \"minstars\"         \"=\"     40\n",
       " \"forcedminstars\"   \"=\"     30\n",
       " \"mingoodsolution\"  \"=\"     10\n",
       " \"niterqminq\"       \"=\"    500\n",
       " \"nburnout\"         \"=\"   2000\n",
       " \"niter\"            \"=\"  15000\n",
       " \"epsmean\"          \"=\"      2.5\n",
       " \"epsdisp\"          \"=\"      1.5\n",
       " \"min_nei\"          \"=\"     10\n",
       " \"min_cl\"           \"=\"     15\n",
       " \"ncoredisp\"        \"=\"     10\n",
       " \"w3dmean\"          \"=\"      6.0\n",
       " \"w3ddisp\"          \"=\"      4.0\n",
       " \"wvelmean\"         \"=\"      6.0\n",
       " \"wveldisp\"         \"=\"      4.0\n",
       " \"whrdmean\"         \"=\"      2.0\n",
       " \"whrddisp\"         \"=\"      1.5\n",
       " \"aperture2d\"       \"=\"      1.5\n",
       " \"maxaperture2d\"    \"=\"     15.0\n",
       " \"aperture3d\"       \"=\"      3.0\n",
       " \"maxaperture3d\"    \"=\"     20\n",
       " \"aperturev\"        \"=\"      3.0\n",
       " \"maxaperturev\"     \"=\"     20.0\n",
       " \"nboot\"            \"=\"     50.0\n",
       " \"labels\"           \"=\"       \"Qc\""
      ]
     },
     "execution_count": 55,
     "metadata": {},
     "output_type": "execute_result"
    }
   ],
   "source": [
    "file= \"default.ext\"\n",
    "main(file)"
   ]
  }
 ],
 "metadata": {
  "@webio": {
   "lastCommId": null,
   "lastKernelId": null
  },
  "kernelspec": {
   "display_name": "Julia 1.4.0",
   "language": "julia",
   "name": "julia-1.4"
  },
  "language_info": {
   "file_extension": ".jl",
   "mimetype": "application/julia",
   "name": "julia",
   "version": "1.4.0"
  }
 },
 "nbformat": 4,
 "nbformat_minor": 2
}
