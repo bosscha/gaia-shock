{
 "cells": [
  {
   "cell_type": "markdown",
   "metadata": {},
   "source": [
    "### 2MASS source magnitude\n",
    "\n",
    "Getting the 2MASS magnitude for a source using the Vizier service"
   ]
  },
  {
   "cell_type": "code",
   "execution_count": 77,
   "metadata": {
    "scrolled": true
   },
   "outputs": [],
   "source": [
    "using PyCall\n",
    "\n",
    "@pyimport astroquery.vizier as vizier\n",
    "@pyimport astropy.units as u\n",
    "@pyimport astropy.coordinates as coord"
   ]
  },
  {
   "cell_type": "code",
   "execution_count": 78,
   "metadata": {
    "scrolled": true
   },
   "outputs": [
    {
     "name": "stdout",
     "output_type": "stream",
     "text": [
      "PyObject <SkyCoord (ICRS): (ra, dec) in deg\n",
      "    (299.59028, 35.201599)>\n",
      "1\n"
     ]
    },
    {
     "data": {
      "text/plain": [
       "Float32"
      ]
     },
     "execution_count": 78,
     "metadata": {},
     "output_type": "execute_result"
    }
   ],
   "source": [
    "c = coord.SkyCoord(ra=299.590280, dec=35.201599  , unit=(u.deg, u.deg), frame=\"icrs\")\n",
    "println(c)\n",
    "result = vizier.Vizier[:query_region](c , width=\"1s\",catalog=\"II/246\")\n",
    "println(length(result))\n",
    "typeof(result[1][1][4][1])"
   ]
  }
 ],
 "metadata": {
  "kernelspec": {
   "display_name": "Julia 1.0.1",
   "language": "julia",
   "name": "julia-1.0"
  },
  "language_info": {
   "file_extension": ".jl",
   "mimetype": "application/julia",
   "name": "julia",
   "version": "1.0.1"
  }
 },
 "nbformat": 4,
 "nbformat_minor": 2
}
