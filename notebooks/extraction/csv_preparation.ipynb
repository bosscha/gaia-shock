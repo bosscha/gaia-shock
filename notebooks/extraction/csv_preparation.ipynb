{
 "cells": [
  {
   "cell_type": "markdown",
   "id": "5e03a6c2",
   "metadata": {},
   "source": [
    "# Preparing CSV files"
   ]
  },
  {
   "cell_type": "code",
   "execution_count": 1,
   "id": "cf61dc88",
   "metadata": {},
   "outputs": [
    {
     "data": {
      "text/plain": [
       "\"/home/stephane/Science/GAIA/e2e_products.edr3/res.alma.edr3/e2e_products.edr3\""
      ]
     },
     "execution_count": 1,
     "metadata": {},
     "output_type": "execute_result"
    }
   ],
   "source": [
    "using Glob, CSV, DataFrames\n",
    "using Random , Printf\n",
    "\n",
    "rootdir = ENV[\"GAIA_ROOT\"]\n",
    "\n",
    "wdir    = \"$rootdir/products\"\n",
    "csvdir  = \"$rootdir/e2e_products.edr3/res.alma.edr3/e2e_products.edr3\""
   ]
  },
  {
   "cell_type": "code",
   "execution_count": 2,
   "id": "aaf903f7",
   "metadata": {},
   "outputs": [
    {
     "data": {
      "text/plain": [
       "10-element Vector{String}:\n",
       " \"ocres-0-10.chain.csv\"\n",
       " \"ocres-10-20.chain.csv\"\n",
       " \"ocres-20-30.chain.csv\"\n",
       " \"ocres-30-40.chain.csv\"\n",
       " \"ocres-40-50.chain.csv\"\n",
       " \"ocres-50-60.chain.csv\"\n",
       " \"ocres-60-70.chain.csv\"\n",
       " \"ocres-70-80.chain.csv\"\n",
       " \"ocres-80-90.chain.csv\"\n",
       " \"ocres-90-100.chain.csv\""
      ]
     },
     "execution_count": 2,
     "metadata": {},
     "output_type": "execute_result"
    }
   ],
   "source": [
    "cd(csvdir)\n",
    "\n",
    "# prefix name\n",
    "prefName= \"ocres-test\"\n",
    "\n",
    "csvdone= glob(\"*.done.csv\")\n",
    "csvperf= glob(\"*.perf.csv\")\n",
    "csvmcmc= glob(\"*.mcmc.csv\")\n",
    "csvsc= glob(\"*.sc.csv\")\n",
    "csvchain= glob(\"*.chain.csv\")"
   ]
  },
  {
   "cell_type": "code",
   "execution_count": 3,
   "id": "fe0483c7",
   "metadata": {},
   "outputs": [],
   "source": [
    "df_done= DataFrame()\n",
    "for f in csvdone\n",
    "    df= CSV.read(f, delim= \";\" , DataFrame)\n",
    "    df_done= vcat(df_done,df)\n",
    "end\n",
    "\n",
    "df_perf= DataFrame()\n",
    "for f in csvperf\n",
    "    df= CSV.read(f, delim= \";\" , DataFrame)\n",
    "    df_perf= vcat(df_perf,df)\n",
    "end\n",
    "\n",
    "df_mcmc= DataFrame()\n",
    "for f in csvmcmc\n",
    "    df= CSV.read(f, delim= \";\" , DataFrame)\n",
    "    df_mcmc= vcat(df_mcmc,df)\n",
    "end\n",
    "\n",
    "df_sc= DataFrame()\n",
    "for f in csvsc\n",
    "    df= CSV.read(f, delim= \";\" , DataFrame)\n",
    "    df_sc= vcat(df_sc,df)\n",
    "end\n",
    "\n",
    "df_chain= DataFrame()\n",
    "for f in csvchain\n",
    "    df= CSV.read(f, delim= \";\" , DataFrame)\n",
    "    df_chain= vcat(df_chain,df)\n",
    "end"
   ]
  },
  {
   "cell_type": "code",
   "execution_count": 4,
   "id": "0dfbbf9b",
   "metadata": {},
   "outputs": [
    {
     "name": "stdout",
     "output_type": "stream",
     "text": [
      "## ocres-test.done.csv written... \n",
      "## ocres-test.perf.csv written... \n",
      "## ocres-test.mcmc.csv written... \n",
      "## ocres-test.sc.csv written... \n",
      "## ocres-test.chain.csv written... \n"
     ]
    }
   ],
   "source": [
    "## Save the CSV\n",
    "cd(wdir)\n",
    "\n",
    "doneFile= @sprintf(\"%s.done.csv\", prefName)\n",
    "CSV.write(doneFile, df_done, delim= \";\")\n",
    "@printf(\"## %s written... \\n\", doneFile)\n",
    "\n",
    "perfFile= @sprintf(\"%s.perf.csv\", prefName)\n",
    "CSV.write(perfFile, df_perf, delim= \";\")\n",
    "@printf(\"## %s written... \\n\", perfFile)\n",
    "\n",
    "mcmcFile= @sprintf(\"%s.mcmc.csv\", prefName)\n",
    "CSV.write(mcmcFile, df_mcmc, delim= \";\")\n",
    "@printf(\"## %s written... \\n\", mcmcFile)\n",
    "\n",
    "scFile= @sprintf(\"%s.sc.csv\", prefName)\n",
    "CSV.write(scFile, df_sc, delim= \";\")\n",
    "@printf(\"## %s written... \\n\", scFile)\n",
    "\n",
    "chainFile= @sprintf(\"%s.chain.csv\", prefName)\n",
    "CSV.write(chainFile, df_chain, delim= \";\")\n",
    "@printf(\"## %s written... \\n\", chainFile)\n"
   ]
  }
 ],
 "metadata": {
  "kernelspec": {
   "display_name": "Julia 1.6.1",
   "language": "julia",
   "name": "julia-1.6"
  },
  "language_info": {
   "file_extension": ".jl",
   "mimetype": "application/julia",
   "name": "julia",
   "version": "1.6.1"
  }
 },
 "nbformat": 4,
 "nbformat_minor": 5
}
