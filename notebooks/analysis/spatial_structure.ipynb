{
 "cells": [
  {
   "cell_type": "markdown",
   "metadata": {},
   "source": [
    "### OC spatial structure\n",
    "\n",
    "- 2D, 3D structure\n",
    "- Model fitting\n",
    "- tidal, core radii\n"
   ]
  },
  {
   "cell_type": "code",
   "execution_count": 20,
   "metadata": {},
   "outputs": [],
   "source": [
    "using PyCall\n",
    "using Distributions, Statistics\n",
    "using DataFrames\n",
    "using  LightGraphs, SimpleWeightedGraphs\n",
    "using Random , Printf, Glob\n",
    "\n",
    "import PyPlot , CSV\n",
    "import Distances\n",
    "\n",
    "rootdir = \"/home/stephane/Science/GAIA\"\n",
    "\n",
    "push!(LOAD_PATH,\"$rootdir/master/src\")\n",
    "using GaiaClustering\n",
    "\n",
    "## directory\n",
    "wdir    = \"$rootdir/products\"\n",
    "plotdir = \"$rootdir/products/test\"\n",
    "ocdir= \"$wdir/oc\"\n",
    "\n",
    "cd(wdir)"
   ]
  },
  {
   "cell_type": "code",
   "execution_count": 21,
   "metadata": {},
   "outputs": [
    {
     "data": {
      "text/plain": [
       "_density2D (generic function with 1 method)"
      ]
     },
     "execution_count": 21,
     "metadata": {},
     "output_type": "execute_result"
    }
   ],
   "source": [
    "## radial functions\n",
    "##\n",
    "\n",
    "function _density2D(x , y)\n",
    "    center= [mean(x) ; mean(y)]\n",
    "    \n",
    "    nxy= length(x)\n",
    "    A= Array{Float64}(undef,2,nxy)\n",
    "    for i in 1:nxy\n",
    "        A[1,i]= x[i]\n",
    "        A[2,i]= y[i]\n",
    "    end\n",
    "    \n",
    "    d= Distances.Euclidean()\n",
    "    r= Distances.colwise(d, A, center)\n",
    "    \n",
    "    return(r)\n",
    "end"
   ]
  },
  {
   "cell_type": "code",
   "execution_count": 22,
   "metadata": {},
   "outputs": [
    {
     "name": "stdout",
     "output_type": "stream",
     "text": [
      "[0.101005, 0.162848, 0.182857, 0.287805, 0.305348, 0.333633, 0.380386, 0.420575, 0.423256, 0.432502, 0.4326, 0.433027, 0.435173, 0.443676, 0.455424, 0.456721, 0.457134, 0.466444, 0.477087, 0.501236, 0.502718, 0.520403, 0.523722, 0.569853, 0.575679, 0.583701, 0.619761, 0.637319, 0.647694, 0.65776, 0.658122, 0.724588, 0.724934, 0.728285, 0.733678, 0.748146, 0.76483, 0.773672, 0.785544, 0.80039, 0.830946, 0.84791, 0.858438, 0.873042, 0.875591, 0.896321, 0.896615, 0.902112, 0.902841, 0.911328, 0.946163, 0.947416, 0.952129, 0.969586, 0.972939, 0.984959, 0.996633, 1.0076, 1.00821, 1.01061, 1.02103, 1.0314, 1.04612, 1.05348, 1.05474, 1.05659, 1.06144, 1.11475, 1.13507, 1.14779, 1.14912, 1.20933, 1.25106, 1.2593, 1.2849, 1.29279, 1.3068, 1.31425, 1.31703, 1.3305, 1.36171, 1.38177, 1.40915, 1.4384, 1.44128, 1.45151, 1.47377, 1.47901, 1.4887, 1.49325, 1.50554, 1.51682, 1.52704, 1.53182, 1.56013, 1.57899, 1.57978, 1.59628, 1.5977, 1.61325, 1.62379, 1.64304, 1.65451, 1.6721, 1.67291, 1.67581, 1.67973, 1.72563, 1.72761, 1.75319, 1.77022, 1.79571, 1.83072, 1.83352, 1.83825, 1.84055, 1.85541, 1.87289, 1.88921, 1.91318, 1.94046, 1.95779, 1.96145, 1.96362, 1.97897, 1.98466, 2.00203, 2.02455, 2.03596, 2.04223, 2.0429, 2.05327, 2.06168, 2.07764, 2.09228, 2.10555, 2.11821, 2.13043, 2.18282, 2.20282, 2.23913, 2.24677, 2.26929, 2.28673, 2.30897, 2.34075, 2.35363, 2.37126, 2.375, 2.42435, 2.42599, 2.44337, 2.4444, 2.46231, 2.46278, 2.46407, 2.47465, 2.47929, 2.52671, 2.52926, 2.54821, 2.54906, 2.55513, 2.55625, 2.57842, 2.59006, 2.59851, 2.60221, 2.60289, 2.61632, 2.6359, 2.64584, 2.64758, 2.65954, 2.67617, 2.71489, 2.75274, 2.77611, 2.8267, 2.85659, 2.8642, 2.86579, 2.86735, 2.87428, 2.89334, 2.90342, 2.92309, 2.93737, 2.9501, 2.97241, 2.99313, 3.01374, 3.05546, 3.06974, 3.07474, 3.08522, 3.10639, 3.1189, 3.13228, 3.13713, 3.1741, 3.18023, 3.18533, 3.20781, 3.21069, 3.21171, 3.21244, 3.24455, 3.24961, 3.27, 3.27698, 3.28194, 3.29445, 3.30699, 3.31415, 3.3371, 3.35369, 3.3879, 3.44284, 3.46871, 3.47462, 3.50053, 3.53077, 3.53481, 3.55083, 3.56911, 3.57095, 3.61443, 3.68304, 3.68767, 3.75429, 3.77376, 3.78705, 3.81773, 3.82568, 3.8839, 3.92645, 3.9601, 3.97249, 3.97722, 3.99715, 4.05324, 4.10998, 4.1443, 4.14699, 4.16303, 4.18121, 4.20463, 4.22718, 4.24327, 4.33321, 4.37816, 4.40212, 4.40467, 4.41389, 4.4276, 4.4368, 4.44524, 4.48091, 4.54329, 4.56644, 4.57506, 4.62653, 4.64999, 4.65428, 4.69858, 4.71822, 4.73861, 4.73897, 4.8006, 4.823, 4.82999, 4.83888, 4.85166, 4.86211, 4.86905, 4.88654, 4.90444, 4.90948, 4.92125, 4.93214, 4.97542, 4.99409, 5.00628, 5.01305, 5.04291, 5.07103, 5.17849, 5.19273, 5.23615, 5.33617, 5.38765, 5.40817, 5.44412, 5.58671, 5.60256, 5.61144, 5.61362, 5.66781, 5.74121, 5.77454, 5.79416, 5.79494, 5.80232, 5.88799, 5.98575, 6.01054, 6.13123, 6.13659, 6.14368, 6.15706, 6.15805, 6.26823, 6.27657, 6.29266, 6.33248, 6.36388, 6.42129, 6.44642, 6.45622, 6.47059, 6.48513, 6.49235, 6.66168, 6.66535, 6.7695, 6.83844, 6.85219, 6.8925, 6.9065, 6.91085, 6.9164, 6.92729, 6.96437, 6.96597, 7.06765, 7.08583, 7.08607, 7.10011, 7.22894, 7.35717, 7.3997, 7.40978, 7.47546, 7.49899, 7.5104, 7.62167, 7.92734, 7.9316, 7.93729, 7.97005, 8.02569, 8.05284, 8.13479, 8.14398, 8.19536, 8.23527, 8.38192, 8.44767, 8.52625, 8.54972, 8.56017, 8.91041, 8.98139, 9.02422, 9.1307, 9.19886, 9.32504, 9.44125, 9.45145, 9.52472, 9.59576, 9.73268, 10.1274, 10.2183, 10.2693, 10.7603, 11.0966, 11.6794, 11.8401, 11.9148, 11.9206, 12.0401, 12.197, 13.1258]\n"
     ]
    }
   ],
   "source": [
    "#oc= CSV.read(\"$ocdir/NGC 6124-2.3deg-oc.csv\" , delim= \";\")\n",
    "oc= CSV.read(\"$ocdir/NGC 7086-1.0deg-oc.csv\", delim= \";\")\n",
    "\n",
    "ρ= _density2D(oc[:Y], oc[:Z])\n",
    "\n",
    "\n",
    "println(sort(ρ))"
   ]
  },
  {
   "cell_type": "code",
   "execution_count": 23,
   "metadata": {},
   "outputs": [
    {
     "ename": "PyCall.PyError",
     "evalue": "PyError ($(Expr(:escape, :(ccall(#= /home/stephane/.julia/packages/PyCall/ttONZ/src/pyfncall.jl:44 =# @pysym(:PyObject_Call), PyPtr, (PyPtr, PyPtr, PyPtr), o, pyargsptr, kw))))) <class 'TypeError'>\nTypeError(\"scatter() missing 1 required positional argument: 'y'\")\n",
     "output_type": "error",
     "traceback": [
      "PyError ($(Expr(:escape, :(ccall(#= /home/stephane/.julia/packages/PyCall/ttONZ/src/pyfncall.jl:44 =# @pysym(:PyObject_Call), PyPtr, (PyPtr, PyPtr, PyPtr), o, pyargsptr, kw))))) <class 'TypeError'>\nTypeError(\"scatter() missing 1 required positional argument: 'y'\")\n",
      "",
      "Stacktrace:",
      " [1] pyerr_check at /home/stephane/.julia/packages/PyCall/ttONZ/src/exception.jl:60 [inlined]",
      " [2] pyerr_check at /home/stephane/.julia/packages/PyCall/ttONZ/src/exception.jl:64 [inlined]",
      " [3] macro expansion at /home/stephane/.julia/packages/PyCall/ttONZ/src/exception.jl:84 [inlined]",
      " [4] __pycall!(::PyObject, ::Ptr{PyCall.PyObject_struct}, ::PyObject, ::PyObject) at /home/stephane/.julia/packages/PyCall/ttONZ/src/pyfncall.jl:44",
      " [5] _pycall!(::PyObject, ::PyObject, ::Tuple{Array{Float64,1}}, ::Int64, ::PyObject) at /home/stephane/.julia/packages/PyCall/ttONZ/src/pyfncall.jl:29",
      " [6] _pycall!(::PyObject, ::PyObject, ::Tuple{Array{Float64,1}}, ::Base.Iterators.Pairs{Symbol,Any,Tuple{Symbol,Symbol},NamedTuple{(:s, :facecolor),Tuple{Int64,String}}}) at /home/stephane/.julia/packages/PyCall/ttONZ/src/pyfncall.jl:11",
      " [7] #pycall#110 at /home/stephane/.julia/packages/PyCall/ttONZ/src/pyfncall.jl:86 [inlined]",
      " [8] #pycall at ./none:0 [inlined]",
      " [9] #scatter#99(::Base.Iterators.Pairs{Symbol,Any,Tuple{Symbol,Symbol},NamedTuple{(:s, :facecolor),Tuple{Int64,String}}}, ::Function, ::Array{Float64,1}) at /home/stephane/.julia/packages/PyPlot/cdCMF/src/PyPlot.jl:177",
      " [10] (::getfield(PyPlot, Symbol(\"#kw##scatter\")))(::NamedTuple{(:s, :facecolor),Tuple{Int64,String}}, ::typeof(PyPlot.scatter), ::Array{Float64,1}) at ./none:0",
      " [11] top-level scope at In[23]:4"
     ]
    }
   ],
   "source": [
    "fig= PyPlot.figure(figsize=(10,10))\n",
    "ax= PyPlot.subplot(221)\n",
    "PyPlot.grid(\"on\")\n",
    "PyPlot.scatter(ρ , s=1, facecolor=\"blue\")\n",
    "\n",
    "ax= PyPlot.subplot(222)\n",
    "PyPlot.grid(\"on\")\n",
    "#PyPlot.hist(r , 50, density=false, facecolor=\"g\")\n",
    "\n",
    "PyPlot.show()"
   ]
  }
 ],
 "metadata": {
  "@webio": {
   "lastCommId": null,
   "lastKernelId": null
  },
  "kernelspec": {
   "display_name": "Julia 1.1.0",
   "language": "julia",
   "name": "julia-1.1"
  },
  "language_info": {
   "file_extension": ".jl",
   "mimetype": "application/julia",
   "name": "julia",
   "version": "1.1.0"
  }
 },
 "nbformat": 4,
 "nbformat_minor": 2
}
