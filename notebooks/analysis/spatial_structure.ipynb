{
 "cells": [
  {
   "cell_type": "markdown",
   "metadata": {},
   "source": [
    "### OC spatial structure\n",
    "\n",
    "- 2D, 3D structure\n",
    "- Model fitting\n",
    "- tidal, core radii\n"
   ]
  },
  {
   "cell_type": "code",
   "execution_count": 171,
   "metadata": {},
   "outputs": [],
   "source": [
    "using PyCall\n",
    "using Distributions, Statistics, Distances\n",
    "using DataFrames\n",
    "using  LightGraphs, SimpleWeightedGraphs\n",
    "using Random , Printf, Glob\n",
    "\n",
    "import PyPlot , CSV\n",
    "import Distances\n",
    "\n",
    "rootdir = \"/home/stephane/Science/GAIA\"\n",
    "\n",
    "push!(LOAD_PATH,\"$rootdir/master/src\")\n",
    "using GaiaClustering\n",
    "\n",
    "## directory\n",
    "wdir    = \"$rootdir/products\"\n",
    "plotdir = \"$rootdir/products/test\"\n",
    "ocdir= \"$wdir/oc\"\n",
    "\n",
    "cd(wdir)"
   ]
  },
  {
   "cell_type": "code",
   "execution_count": 172,
   "metadata": {},
   "outputs": [
    {
     "data": {
      "text/plain": [
       "_density3D (generic function with 2 methods)"
      ]
     },
     "execution_count": 172,
     "metadata": {},
     "output_type": "execute_result"
    }
   ],
   "source": [
    "## radial functions\n",
    "##\n",
    "\n",
    "function volumeSphere(r)\n",
    "    return(4 / 3 * π * r^3)\n",
    "end\n",
    "\n",
    "function areaDisk(r)\n",
    "    return(4 * π * r^2)\n",
    "end\n",
    "\n",
    "function _density2D(x , y , nbin=10)\n",
    "    center= [mean(x) ; mean(y)]\n",
    "    \n",
    "    nxy= length(x)\n",
    "    A= Array{Float64}(undef,2,nxy)\n",
    "    for i in 1:nxy\n",
    "        A[1,i]= x[i]\n",
    "        A[2,i]= y[i]\n",
    "    end\n",
    "    \n",
    "    d= Distances.Euclidean()\n",
    "    r= Distances.colwise(d, A, center)\n",
    "    \n",
    "    ρ= [] ; radius= [] ; err= []\n",
    "    rmax= maximum(r)\n",
    "    dr= rmax/nbin\n",
    "    r0=0\n",
    "    for i in 1:nbin\n",
    "        r1= i*dr\n",
    "        indr= (r .> r0) .& (r .<= r1)\n",
    "        nstar= count(indr)\n",
    "        dens= nstar/(areaDisk(r1)-areaDisk(r0))\n",
    "        errDensity= dens / sqrt(nstar)\n",
    "        push!(ρ, dens)\n",
    "        push!(radius, (r1+r0)/2)\n",
    "        push!(err, errDensity)\n",
    "        r0= r1\n",
    "    end\n",
    "    \n",
    "    return(radius, ρ , err)\n",
    "end\n",
    "\n",
    "function _density3D(x , y , z, nbin=10)\n",
    "    center= [mean(x) ; mean(y) ; mean(z)]\n",
    "    println(center)\n",
    "    println(nbin)\n",
    "    \n",
    "    nxy= length(x)\n",
    "    A= Array{Float64}(undef,3,nxy)\n",
    "    for i in 1:nxy\n",
    "        A[1,i]= x[i]\n",
    "        A[2,i]= y[i]\n",
    "        A[3,i]= z[i]\n",
    "    end\n",
    "    \n",
    "    d= Distances.Euclidean()\n",
    "    r= Distances.colwise(d, A, center)\n",
    "    \n",
    "    ρ= [] ; radius= [] ; err=[]\n",
    "    rmax= maximum(r)\n",
    "    dr= rmax/nbin\n",
    "    r0=0\n",
    "    for i in 1:nbin\n",
    "        r1= i*dr\n",
    "        indr= (r .> r0) .& (r .<= r1)\n",
    "        nstar= count(indr)\n",
    "        dens= nstar/(volumeSphere(r1)-volumeSphere(r0))\n",
    "        errDensity= dens / sqrt(nstar)\n",
    "        push!(ρ, dens)\n",
    "        push!(radius, (r1+r0)/2)\n",
    "        push!(err, errDensity)\n",
    "        r0= r1\n",
    "    end\n",
    "    \n",
    "    return(radius, ρ , err)\n",
    "end"
   ]
  },
  {
   "cell_type": "code",
   "execution_count": 173,
   "metadata": {},
   "outputs": [
    {
     "data": {
      "text/plain": [
       "_locdens2d (generic function with 2 methods)"
      ]
     },
     "execution_count": 173,
     "metadata": {},
     "output_type": "execute_result"
    }
   ],
   "source": [
    "## Estimation of the local density around each point\n",
    "## nei: number of neighbor to estimate the density\n",
    "##\n",
    "\n",
    "function _locdens2d(x , y , nei=2)\n",
    "    nxy= length(x)\n",
    "    println(nxy)\n",
    "    A= Array{Float64}(undef,2,nxy)\n",
    "    center= [mean(x) ; mean(y)]\n",
    "    \n",
    "    for i in 1:nxy\n",
    "        A[:,i]= [x[i] y[i]]\n",
    "    end\n",
    "    \n",
    "    d= Euclidean()\n",
    "    p= pairwise(d, A, A, dims=2)\n",
    "    r= Distances.colwise(d, A, center)\n",
    "    locdensrad= []\n",
    "    \n",
    "    for i in 1:nxy\n",
    "        rsort= sort(p[i,:])\n",
    "        rmax= rsort[nei+1]\n",
    "        locdens= (nei+1)/areaDisk(rmax)\n",
    "        push!(locdensrad, locdens)\n",
    "    end\n",
    "    \n",
    "    return(r,locdensrad)\n",
    "end"
   ]
  },
  {
   "cell_type": "code",
   "execution_count": 174,
   "metadata": {},
   "outputs": [
    {
     "name": "stdout",
     "output_type": "stream",
     "text": [
      "[413.375, -0.106644, -1.2706]\n",
      "20\n",
      "2373\n",
      "Any[1.24805, 3.74416, 6.24027, 8.73638, 11.2325, 13.7286, 16.2247, 18.7208, 21.2169, 23.713, 26.2091, 28.7052, 31.2013, 33.6975, 36.1936, 38.6897, 41.1858, 43.6819, 46.178, 48.6741]\n",
      "Any[1.04383, 0.567967, 0.268229, 0.122804, 0.0707128, 0.0433524, 0.0200644, 0.00971893, 0.0077106, 0.00566438, 0.00403471, 0.0021653, 0.00189835, 0.00159959, 0.000729816, 0.000702587, 0.00063882, 0.000400883, 0.000254097, 2.6907e-5]\n"
     ]
    }
   ],
   "source": [
    "#oc= CSV.read(\"$ocdir/NGC 6124-2.3deg-oc.csv\" , delim= \";\")\n",
    "# oc= CSV.read(\"$ocdir/NGC 7086-1.0deg-oc.csv\", delim= \";\")\n",
    "# oc= CSV.read(\"$ocdir/NGC 2516-3.5deg-oc.csv\", delim= \";\")\n",
    "oc= CSV.read(\"test.csv\", delim= \";\")\n",
    "\n",
    "r2d,ρ2d,err2d= _density2D(oc[:Y], oc[:Z],20)\n",
    "r3d,ρ3d,err3d= _density3D(oc[:X], oc[:Y], oc[:Z],20)\n",
    "rad2d, locdens2d= _locdens2d(oc[:Y], oc[:Z], 3)\n",
    "\n",
    "println(r3d)\n",
    "println(ρ3d)"
   ]
  },
  {
   "cell_type": "code",
   "execution_count": 175,
   "metadata": {
    "scrolled": true
   },
   "outputs": [
    {
     "data": {
      "image/png": "[encoded data removed]",
      "text/plain": [
       "PyPlot.Figure(PyObject <Figure size 1000x1000 with 2 Axes>)"
      ]
     },
     "metadata": {},
     "output_type": "display_data"
    }
   ],
   "source": [
    "fig= PyPlot.figure(figsize=(10,10))\n",
    "ax= PyPlot.subplot(221)\n",
    "ax.set_yscale(\"log\")\n",
    "ax.set_xscale(\"log\")\n",
    "ax.set_xlim(r3d[1]*0.9, r3d[end]*1.1)\n",
    "ax.set_ylim(minimum(ρ3d[ρ3d .> 0])*0.5,maximum(ρ3d)*1.2)\n",
    "PyPlot.grid(\"on\")\n",
    "PyPlot.scatter(r3d, ρ3d , s=4, facecolor=\"red\" )\n",
    "PyPlot.errorbar(r3d, ρ3d, yerr=2 .* err3d, linewidth=0.5)\n",
    "\n",
    "ax= PyPlot.subplot(222)\n",
    "ax.set_yscale(\"log\")\n",
    "ax.set_xscale(\"log\")\n",
    "ax.set_xlim(r2d[1]*0.9, r2d[end]*1.1)\n",
    "ax.set_ylim(minimum(ρ2d[ρ2d .> 0])*0.5,maximum(ρ2d)*1.5)\n",
    "PyPlot.grid(\"on\")\n",
    "PyPlot.scatter(r2d, ρ2d , s=4, facecolor=\"blue\" )\n",
    "PyPlot.errorbar(r2d, ρ2d, yerr=2 .* err2d, linewidth=0.5)\n",
    "PyPlot.scatter(rad2d, locdens2d , s=2, facecolor=\"red\" )\n",
    "\n",
    "PyPlot.show()"
   ]
  },
  {
   "cell_type": "markdown",
   "metadata": {},
   "source": [
    "We try to fit the radial density (using MCMC?). It will be used later for the fractal dimension (including the radial density inside)."
   ]
  },
  {
   "cell_type": "markdown",
   "metadata": {},
   "source": [
    "## Fitting the radial profile\n"
   ]
  },
  {
   "cell_type": "code",
   "execution_count": 176,
   "metadata": {},
   "outputs": [],
   "source": [
    "## position from the gravity centered\n",
    "struct _sc2dcentered\n",
    "    nxy::Int\n",
    "    xx::Array{Float64}\n",
    "    yy::Array{Float64}\n",
    "    radius::Array{Float64}\n",
    "    dens::Array{Float64}\n",
    "end\n",
    "\n",
    "## prior model / mcmc\n",
    "mutable struct _mcmc2d\n",
    "    Cmean::Float64\n",
    "    Cdisp::Float64\n",
    "    smean::Float64\n",
    "    sdisp::Float64\n",
    "    mmean::Float64\n",
    "    mdisp::Float64\n",
    "    nburnin::Int\n",
    "    niter::Int\n",
    "end\n",
    "\n",
    "mutable struct _model2d\n",
    "    C::Float64\n",
    "    s::Float64\n",
    "    m::Float64 \n",
    "end\n",
    "\n",
    "mutable struct _mc2d\n",
    "    C::Array{Float64}\n",
    "    s::Array{Float64}\n",
    "    m::Array{Float64}\n",
    "end"
   ]
  },
  {
   "cell_type": "code",
   "execution_count": 177,
   "metadata": {},
   "outputs": [
    {
     "data": {
      "text/plain": [
       "_likelihood2d (generic function with 1 method)"
      ]
     },
     "execution_count": 177,
     "metadata": {},
     "output_type": "execute_result"
    }
   ],
   "source": [
    "function _fdens1(r, θ::_model2d)\n",
    "    r2= r*r\n",
    "    s2= θ.s*θ.s\n",
    "    val = θ.C / (1+r2/s2)^θ.m\n",
    "    return(val)\n",
    "end\n",
    "\n",
    "function _fdens1log(r, θ::_model2d)\n",
    "    r2= r*r\n",
    "    s2= θ.s*θ.s\n",
    "    val = θ.C - θ.m * log(1+r2/s2)\n",
    "    return(val)\n",
    "end\n",
    "\n",
    "## \n",
    "function _likelihood2d(θ::_model2d, oc::_sc2dcentered)\n",
    "    χ2= 0\n",
    "    for i in 1:oc.nxy\n",
    "        desti= _fdens1(oc.radius[i], θ)\n",
    "        #desti= _fdens1log(oc.radius[i], θ)\n",
    "        χ2+= ((desti-oc.dens[i])^2)/oc.nxy     ## σ=1\n",
    "    end\n",
    "    # p= exp(-χ2)\n",
    "    p = min(1, exp(-χ2))\n",
    "    return(p)\n",
    "end"
   ]
  },
  {
   "cell_type": "markdown",
   "metadata": {},
   "source": [
    "# Metropolis-Hasting\n",
    "\n",
    "https://twiecki.io/blog/2015/11/10/mcmc-sampling/\n",
    "\n",
    "proposal = norm(mu_current, proposal_width).rvs()\n",
    "\n",
    "Next, you evaluate whether that's a good place to jump to or not. If the resulting normal distribution with that proposed mu explaines the data better than your old mu, you'll definitely want to go there. What does \"explains the data better\" mean? We quantify fit by computing the probability of the data, given the likelihood (normal) with the proposed parameter values (proposed mu and a fixed sigma = 1). This can easily be computed by calculating the probability for each data point using scipy.stats.normal(mu, sigma).pdf(data) and then multiplying the individual probabilities, i.e. compute the likelihood (usually you would use log probabilities but we omit this here):\n",
    "\n",
    "likelihood_current = norm(mu_current, 1).pdf(data).prod() <br>\n",
    "likelihood_proposal = norm(mu_proposal, 1).pdf(data).prod() <br>\n",
    "\n",
    "# Compute prior probability of current and proposed mu        \n",
    "prior_current = norm(mu_prior_mu, mu_prior_sd).pdf(mu_current) <br>\n",
    "prior_proposal = norm(mu_prior_mu, mu_prior_sd).pdf(mu_proposal) <br>\n",
    "\n",
    "# Nominator of Bayes formula\n",
    "p_current = likelihood_current * prior_current <br>\n",
    "p_proposal = likelihood_proposal * prior_proposal <br>\n",
    "\n",
    "Up until now, we essentially have a hill-climbing algorithm that would just propose movements into random directions and only accept a jump if the mu_proposal has higher likelihood than mu_current. Eventually we'll get to mu = 0 (or close to it) from where no more moves will be possible. However, we want to get a posterior so we'll also have to sometimes accept moves into the other direction. The key trick is by dividing the two probabilities,\n",
    "\n",
    "p_accept = p_proposal / p_current <br> \n",
    "\n",
    "we get an acceptance probability. You can already see that if p_proposal is larger, that probability will be > 1 and we'll definitely accept. However, if p_current is larger, say twice as large, there'll be a 50% chance of moving there:\n",
    "\n",
    "accept = np.random.rand() < p_accept\n",
    "\n",
    "if accept:\n",
    "    # Update position\n",
    "    cur_pos = proposal"
   ]
  },
  {
   "cell_type": "code",
   "execution_count": 178,
   "metadata": {},
   "outputs": [
    {
     "data": {
      "text/plain": [
       "_theta2diter (generic function with 1 method)"
      ]
     },
     "execution_count": 178,
     "metadata": {},
     "output_type": "execute_result"
    }
   ],
   "source": [
    "function _theta2d(mcmc::_mcmc2d, oc::_sc2dcentered)\n",
    "    pC  = Normal(mcmc.Cmean, mcmc.Cdisp)\n",
    "    pm  = Normal(mcmc.mmean, mcmc.mdisp)\n",
    "    ps  = Normal(mcmc.smean, mcmc.sdisp)\n",
    "    \n",
    "    C = rand(pC)     ; pdfC = pdf(pC,C)\n",
    "    m = rand(pm)     ; pdfm = pdf(pm, m)\n",
    "    s = rand(ps)     ; pdfs = pdf(ps, s)\n",
    "        \n",
    "    θ= _model2d(C, s, m)\n",
    "    \n",
    "    pdfC = pdf(pC , C)\n",
    "    pdfm = pdf(pm, m)\n",
    "    pdfs = pdf(ps, s)\n",
    "    ptotal = pdfC*pdfm*pdfs*_likelihood2d(θ, oc)\n",
    "    \n",
    "    return(θ, ptotal) \n",
    "end\n",
    "\n",
    "## next iteration\n",
    "function _theta2diter(θi::_model2d, mcmc::_mcmc2d, oc::_sc2dcentered)\n",
    "    pC  = Normal(mcmc.Cmean, mcmc.Cdisp)\n",
    "    pm  = Normal(mcmc.mmean, mcmc.mdisp)\n",
    "    ps  = Normal(mcmc.smean, mcmc.sdisp)\n",
    "    \n",
    "    C_rw= Normal(θi.C,0.1)\n",
    "    s_rw= Normal(θi.s  , 0.1)\n",
    "    m_rw= Normal(θi.m , 0.04)\n",
    "\n",
    "    new_C = 0.\n",
    "    new_m = 0\n",
    "    new_s = 0\n",
    "        \n",
    "    new_C  = rand(C_rw)\n",
    "    new_m =  rand(m_rw)     \n",
    "    new_s = rand(s_rw)\n",
    "    \n",
    "    θ= _model2d(new_C, new_s, new_m)\n",
    "   \n",
    "    pdfC = pdf(pC , new_C)\n",
    "    pdfm = pdf(pm, new_m)\n",
    "    pdfs = pdf(ps, new_s)\n",
    "    ptotal = pdfC*pdfm*pdfs*_likelihood2d(θ, oc)\n",
    "    \n",
    "    return(θ, ptotal)\n",
    "end"
   ]
  },
  {
   "cell_type": "code",
   "execution_count": 179,
   "metadata": {},
   "outputs": [
    {
     "data": {
      "text/plain": [
       "main_mcmc (generic function with 1 method)"
      ]
     },
     "execution_count": 179,
     "metadata": {},
     "output_type": "execute_result"
    }
   ],
   "source": [
    "function main_mcmc(oc::_sc2dcentered, mcmc::_mcmc2d)\n",
    "    let\n",
    "        mci = _mc2d(zeros(Float64,0),zeros(Float64,0),zeros(Float64,0))\n",
    "        mi, probi = _theta2d(mcmc, oc)\n",
    "        println(\"## Init 2D done...\")\n",
    "    \n",
    "        niter = mcmc.niter\n",
    "        nburn = mcmc.nburnin\n",
    "        nchain = 1\n",
    "        loopAgain = true\n",
    "        burndone = false\n",
    "        ηbest= 0 ; θbest= 0\n",
    "        \n",
    "        while loopAgain\n",
    "            micurrent, probcurrent = _theta2diter(mi , mcmc, oc)\n",
    "   \n",
    "        ### Metropolis-Hasting\n",
    "            α = probcurrent / probi\n",
    "            if α > rand() \n",
    "                mi = micurrent\n",
    "                probi = probcurrent\n",
    "                nchain += 1\n",
    "                if (nchain%50000 == 0) println(\"### chain:\",nchain) end\n",
    "                if nchain > nburn && !burndone println(\"### burnin done...\") ; nchain = 0 ; burndone = true end\n",
    "                if nchain > niter loopAgain = false end\n",
    "                if burndone    \n",
    "                    push!(mci.C, mi.C)\n",
    "                    push!(mci.s, mi.s)\n",
    "                    push!(mci.m, mi.m)\n",
    "                end\n",
    "            else\n",
    "                nchain += 1\n",
    "                if (nchain%50000 == 0) println(\"### chain:\",nchain) end\n",
    "                if nchain > nburn && !burndone println(\"### burnin done...\") ; nchain = 0 ; burndone = true end\n",
    "                if nchain > niter loopAgain = false end\n",
    "                if burndone    \n",
    "                    push!(mci.C, mi.C)\n",
    "                    push!(mci.s, mi.s)\n",
    "                    push!(mci.m, mi.m)\n",
    "                end                    \n",
    "            end\n",
    "            \n",
    "            η= _likelihood2d(mi, oc)\n",
    "            if η > ηbest\n",
    "                ηbest= η\n",
    "                θbest= mi\n",
    "            end\n",
    "        end\n",
    "        \n",
    "        println(\"## MCMC 2D fitting done.\") \n",
    "        \n",
    "        return(mci, θbest)\n",
    "    end\n",
    "end"
   ]
  },
  {
   "cell_type": "code",
   "execution_count": null,
   "metadata": {},
   "outputs": [
    {
     "name": "stdout",
     "output_type": "stream",
     "text": [
      "2373\n",
      "## Running mcmc 2D fitting\n",
      "## Init 2D done...\n"
     ]
    }
   ],
   "source": [
    "## main for 2D fitting\n",
    "oc= CSV.read(\"test.csv\", delim= \";\")\n",
    "r2d,ρ2d,err2d= _density2D(oc[:Y], oc[:Z],30)    ## binned radius\n",
    "rad_2d, loc_2d= _locdens2d(oc[:Y], oc[:Z], 10)   ## density estimated for each point\n",
    "oc2d= _sc2dcentered(length(oc[:Y]), oc[:Y], oc[:Z], rad_2d, loc_2d)\n",
    "\n",
    "## prior\n",
    "C_mean= 15\n",
    "C_disp= 7.5\n",
    "s_mean= 2.5\n",
    "s_disp=0.5\n",
    "m_mean=2\n",
    "m_disp=1\n",
    "#\n",
    "nburnin= 100000\n",
    "niter= 1000000\n",
    "\n",
    "pinit= _mcmc2d(C_mean, C_disp, s_mean, s_disp, m_mean, m_disp, nburnin, niter)\n",
    "\n",
    "##\n",
    "println(\"## Running mcmc 2D fitting\")\n",
    "mci ,  θbest  = main_mcmc(oc2d, pinit) \n",
    "\n",
    "@printf(\"## C: %3.3f (%3.3f) \\n\", median(mci.C), std(mci.C))\n",
    "@printf(\"## s: %3.3f (%3.3f) \\n\", median(mci.s), std(mci.s))\n",
    "@printf(\"## m: %3.3f (%3.3f) \\n\", median(mci.m), std(mci.m))\n",
    "Cmed= median(mci.C)\n",
    "smed= median(mci.s)\n",
    "mmed= median(mci.s)\n",
    "θmed= _model2d(Cmed, smed, mmed)\n",
    "\n",
    "println(\"## Best solution\")\n",
    "@printf(\"## C: %3.3f \\n\", θbest.C)\n",
    "@printf(\"## s: %3.3f \\n\", θbest.s)\n",
    "@printf(\"## m: %3.3f \\n\", θbest.m)\n",
    "\n",
    "## compute the radial distribution for the fitted law\n",
    "ρ2dfit= [] ; ρ2dmed= []\n",
    "\n",
    "for i in 1:length(r2d)\n",
    "    d2di= _fdens1(r2d[i], θbest)\n",
    "    d2dmedi= _fdens1(r2d[i], θmed)\n",
    "    push!(ρ2dfit, d2di)\n",
    "    push!(ρ2dmed, d2dmedi)    \n",
    "end"
   ]
  },
  {
   "cell_type": "code",
   "execution_count": null,
   "metadata": {},
   "outputs": [],
   "source": [
    "### Plot the results\n",
    "###\n",
    "fig = PyPlot.figure(figsize=(10,7))\n",
    "\n",
    "ax = PyPlot.subplot(221)\n",
    "PyPlot.grid(\"on\")\n",
    "nbins = 100\n",
    "h = PyPlot.hist(mci.C,nbins,range = [0.,20], color = \"r\", alpha=0.6 , label = \"C\")\n",
    "PyPlot.xlabel(\"C\")\n",
    "\n",
    "\n",
    "ax = PyPlot.subplot(222)\n",
    "PyPlot.grid(\"on\")\n",
    "nbins = 100\n",
    "h = PyPlot.hist(mci.s,nbins,range = [0.,20], color = \"r\", alpha=0.6 , label = \"C\")\n",
    "PyPlot.xlabel(\"s (pc)\")\n",
    "\n",
    "ax = PyPlot.subplot(223)\n",
    "PyPlot.grid(\"on\")\n",
    "nbins = 100\n",
    "h = PyPlot.hist(mci.m,nbins,range = [0.,10], color = \"r\", alpha=0.6 , label = \"C\")\n",
    "PyPlot.xlabel(\"m\")\n",
    "\n",
    "PyPlot.show()"
   ]
  },
  {
   "cell_type": "code",
   "execution_count": null,
   "metadata": {},
   "outputs": [],
   "source": [
    "## Iterationss\n",
    "\n",
    "fig = PyPlot.figure(figsize=(10,7))\n",
    "\n",
    "ax = PyPlot.subplot(221)\n",
    "PyPlot.grid(\"on\")\n",
    "PyPlot.xlabel(\"C\")\n",
    "PyPlot.plot(mci.C, \"k-\")\n",
    "\n",
    "ax = PyPlot.subplot(222)\n",
    "PyPlot.grid(\"on\")\n",
    "PyPlot.xlabel(\"s\")\n",
    "PyPlot.plot(mci.s, \"r-\")\n",
    "\n",
    "ax = PyPlot.subplot(223)\n",
    "PyPlot.grid(\"on\")\n",
    "PyPlot.xlabel(\"m\")\n",
    "PyPlot.plot(mci.m, \"g-\")\n",
    "\n",
    "PyPlot.show()"
   ]
  },
  {
   "cell_type": "code",
   "execution_count": null,
   "metadata": {},
   "outputs": [],
   "source": [
    "fig= PyPlot.figure(figsize=(10,10))\n",
    "\n",
    "ax= PyPlot.subplot(221)\n",
    "ax.set_yscale(\"log\")\n",
    "ax.set_xscale(\"log\")\n",
    "ax.set_xlim(r2d[1]*0.9, r2d[end]*1.1)\n",
    "ax.set_ylim(minimum(loc_2d[loc_2d .> 0])*0.5,maximum(loc_2d)*1.5)\n",
    "PyPlot.grid(\"on\")\n",
    "PyPlot.scatter(r2d, ρ2d , s=4, facecolor=\"blue\" )\n",
    "PyPlot.errorbar(r2d, ρ2d, yerr=2 .* err2d, linewidth=0.5)\n",
    "PyPlot.scatter(rad_2d, loc_2d , s=2, facecolor=\"red\" )\n",
    "PyPlot.plot(r2d, ρ2dfit, \"k-\", linewidth=1)\n",
    "PyPlot.plot(r2d, ρ2dmed, \"g-.\", linewidth=1)\n",
    "\n",
    "PyPlot.show()"
   ]
  }
 ],
 "metadata": {
  "@webio": {
   "lastCommId": null,
   "lastKernelId": null
  },
  "kernelspec": {
   "display_name": "Julia 1.1.0",
   "language": "julia",
   "name": "julia-1.1"
  },
  "language_info": {
   "file_extension": ".jl",
   "mimetype": "application/julia",
   "name": "julia",
   "version": "1.1.0"
  }
 },
 "nbformat": 4,
 "nbformat_minor": 2
}
