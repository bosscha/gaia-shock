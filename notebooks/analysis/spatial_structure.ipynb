{
 "cells": [
  {
   "cell_type": "markdown",
   "metadata": {},
   "source": [
    "### OC spatial structure\n",
    "\n",
    "- 2D, 3D structure\n",
    "- Model fitting\n",
    "- tidal, core radii\n"
   ]
  },
  {
   "cell_type": "code",
   "execution_count": 150,
   "metadata": {},
   "outputs": [],
   "source": [
    "using PyCall\n",
    "using Distributions, Statistics, Distances\n",
    "using DataFrames\n",
    "using  LightGraphs, SimpleWeightedGraphs\n",
    "using Random , Printf, Glob\n",
    "\n",
    "import PyPlot , CSV\n",
    "import Distances\n",
    "\n",
    "rootdir = \"/home/stephane/Science/GAIA\"\n",
    "\n",
    "push!(LOAD_PATH,\"$rootdir/master/src\")\n",
    "using GaiaClustering\n",
    "\n",
    "## directory\n",
    "wdir    = \"$rootdir/products\"\n",
    "plotdir = \"$rootdir/products/test\"\n",
    "ocdir= \"$wdir/oc\"\n",
    "\n",
    "cd(wdir)"
   ]
  },
  {
   "cell_type": "code",
   "execution_count": 151,
   "metadata": {},
   "outputs": [
    {
     "data": {
      "text/plain": [
       "_density3D (generic function with 2 methods)"
      ]
     },
     "execution_count": 151,
     "metadata": {},
     "output_type": "execute_result"
    }
   ],
   "source": [
    "## radial functions\n",
    "##\n",
    "\n",
    "function volumeSphere(r)\n",
    "    return(4 / 3 * π * r^3)\n",
    "end\n",
    "\n",
    "function areaDisk(r)\n",
    "    return(4 * π * r^2)\n",
    "end\n",
    "\n",
    "function _density2D(x , y , nbin=10)\n",
    "    center= [mean(x) ; mean(y)]\n",
    "    \n",
    "    nxy= length(x)\n",
    "    A= Array{Float64}(undef,2,nxy)\n",
    "    for i in 1:nxy\n",
    "        A[1,i]= x[i]\n",
    "        A[2,i]= y[i]\n",
    "    end\n",
    "    \n",
    "    d= Distances.Euclidean()\n",
    "    r= Distances.colwise(d, A, center)\n",
    "    \n",
    "    ρ= [] ; radius= [] ; err= []\n",
    "    rmax= maximum(r)\n",
    "    dr= rmax/nbin\n",
    "    r0=0\n",
    "    for i in 1:nbin\n",
    "        r1= i*dr\n",
    "        indr= (r .> r0) .& (r .<= r1)\n",
    "        nstar= count(indr)\n",
    "        dens= nstar/(areaDisk(r1)-areaDisk(r0))\n",
    "        errDensity= dens / sqrt(nstar)\n",
    "        push!(ρ, dens)\n",
    "        push!(radius, (r1+r0)/2)\n",
    "        push!(err, errDensity)\n",
    "        r0= r1\n",
    "    end\n",
    "    \n",
    "    return(radius, ρ , err)\n",
    "end\n",
    "\n",
    "function _density3D(x , y , z, nbin=10)\n",
    "    center= [mean(x) ; mean(y) ; mean(z)]\n",
    "    println(center)\n",
    "    println(nbin)\n",
    "    \n",
    "    nxy= length(x)\n",
    "    A= Array{Float64}(undef,3,nxy)\n",
    "    for i in 1:nxy\n",
    "        A[1,i]= x[i]\n",
    "        A[2,i]= y[i]\n",
    "        A[3,i]= z[i]\n",
    "    end\n",
    "    \n",
    "    d= Distances.Euclidean()\n",
    "    r= Distances.colwise(d, A, center)\n",
    "    \n",
    "    ρ= [] ; radius= [] ; err=[]\n",
    "    rmax= maximum(r)\n",
    "    dr= rmax/nbin\n",
    "    r0=0\n",
    "    for i in 1:nbin\n",
    "        r1= i*dr\n",
    "        indr= (r .> r0) .& (r .<= r1)\n",
    "        nstar= count(indr)\n",
    "        dens= nstar/(volumeSphere(r1)-volumeSphere(r0))\n",
    "        errDensity= dens / sqrt(nstar)\n",
    "        push!(ρ, dens)\n",
    "        push!(radius, (r1+r0)/2)\n",
    "        push!(err, errDensity)\n",
    "        r0= r1\n",
    "    end\n",
    "    \n",
    "    return(radius, ρ , err)\n",
    "end"
   ]
  },
  {
   "cell_type": "code",
   "execution_count": 152,
   "metadata": {},
   "outputs": [
    {
     "data": {
      "text/plain": [
       "_locdens2d (generic function with 2 methods)"
      ]
     },
     "execution_count": 152,
     "metadata": {},
     "output_type": "execute_result"
    }
   ],
   "source": [
    "## Estimation of the local density around each point\n",
    "## nei: number of neighbor to estimate the density\n",
    "##\n",
    "\n",
    "function _locdens2d(x , y , nei=2)\n",
    "    nxy= length(x)\n",
    "    println(nxy)\n",
    "    A= Array{Float64}(undef,2,nxy)\n",
    "    center= [mean(x) ; mean(y)]\n",
    "    \n",
    "    for i in 1:nxy\n",
    "        A[:,i]= [x[i] y[i]]\n",
    "    end\n",
    "    \n",
    "    d= Euclidean()\n",
    "    p= pairwise(d, A, A, dims=2)\n",
    "    r= Distances.colwise(d, A, center)\n",
    "    locdensrad= []\n",
    "    \n",
    "    for i in 1:nxy\n",
    "        rsort= sort(p[i,:])\n",
    "        rmax= rsort[nei+1]\n",
    "        locdens= (nei+1)/areaDisk(rmax)\n",
    "        push!(locdensrad, locdens)\n",
    "    end\n",
    "    \n",
    "    return(r,locdensrad)\n",
    "end"
   ]
  },
  {
   "cell_type": "code",
   "execution_count": 153,
   "metadata": {},
   "outputs": [
    {
     "name": "stdout",
     "output_type": "stream",
     "text": [
      "[264.085, 3.62119, 2.16915]\n",
      "3\n",
      "559\n",
      "Any[8.58751, 25.7625, 42.9376]\n",
      "Any[0.0101782, 0.00142038, 0.00032737]\n"
     ]
    }
   ],
   "source": [
    "#oc= CSV.read(\"$ocdir/NGC 6124-2.3deg-oc.csv\" , delim= \";\")\n",
    "# oc= CSV.read(\"$ocdir/NGC 7086-1.0deg-oc.csv\", delim= \";\")\n",
    "# oc= CSV.read(\"$ocdir/NGC 2516-3.5deg-oc.csv\", delim= \";\")\n",
    "oc= CSV.read(\"test.csv\", delim= \";\")\n",
    "\n",
    "r2d,ρ2d,err2d= _density2D(oc[:Y], oc[:Z],20)\n",
    "r3d,ρ3d,err3d= _density3D(oc[:X], oc[:Y], oc[:Z],3)\n",
    "rad2d, locdens2d= _locdens2d(oc[:Y], oc[:Z], 20)\n",
    "\n",
    "println(r3d)\n",
    "println(ρ3d)"
   ]
  },
  {
   "cell_type": "code",
   "execution_count": 154,
   "metadata": {
    "scrolled": true
   },
   "outputs": [
    {
     "data": {
      "image/png": "[encoded data removed]",
      "text/plain": [
       "PyPlot.Figure(PyObject <Figure size 1000x1000 with 2 Axes>)"
      ]
     },
     "metadata": {},
     "output_type": "display_data"
    }
   ],
   "source": [
    "fig= PyPlot.figure(figsize=(10,10))\n",
    "ax= PyPlot.subplot(221)\n",
    "ax.set_yscale(\"log\")\n",
    "ax.set_xscale(\"log\")\n",
    "ax.set_xlim(r3d[1]*0.9, r3d[end]*1.1)\n",
    "ax.set_ylim(minimum(ρ3d[ρ3d .> 0])*0.5,maximum(ρ3d)*1.2)\n",
    "PyPlot.grid(\"on\")\n",
    "PyPlot.scatter(r3d, ρ3d , s=4, facecolor=\"red\" )\n",
    "PyPlot.errorbar(r3d, ρ3d, yerr=2 .* err3d, linewidth=0.5)\n",
    "\n",
    "ax= PyPlot.subplot(222)\n",
    "ax.set_yscale(\"log\")\n",
    "ax.set_xscale(\"log\")\n",
    "ax.set_xlim(r2d[1]*0.9, r2d[end]*1.1)\n",
    "ax.set_ylim(minimum(ρ2d[ρ2d .> 0])*0.5,maximum(ρ2d)*1.1)\n",
    "PyPlot.grid(\"on\")\n",
    "PyPlot.scatter(r2d, ρ2d , s=4, facecolor=\"blue\" )\n",
    "PyPlot.errorbar(r2d, ρ2d, yerr=2 .* err2d, linewidth=0.5)\n",
    "PyPlot.scatter(rad2d, locdens2d , s=2, facecolor=\"red\" )\n",
    "\n",
    "PyPlot.show()"
   ]
  },
  {
   "cell_type": "markdown",
   "metadata": {},
   "source": [
    "We try to fit the radial density (using MCMC?). It will be used later for the fractal dimension (including the radial density inside)."
   ]
  },
  {
   "cell_type": "markdown",
   "metadata": {},
   "source": [
    "## Fitting the radial profile\n"
   ]
  },
  {
   "cell_type": "code",
   "execution_count": 155,
   "metadata": {},
   "outputs": [],
   "source": [
    "## position from the gravity centered\n",
    "struct _sc2d\n",
    "    nxy::Int\n",
    "    xx::Array{Float64}\n",
    "    yy::Array{Float64}\n",
    "    radius::Array{Float64}\n",
    "    dens::Array{Float64}\n",
    "end\n",
    "\n",
    "mutable struct _model\n",
    "    C::Float64\n",
    "    s::Float64\n",
    "    m::Float64\n",
    "end"
   ]
  },
  {
   "cell_type": "code",
   "execution_count": 156,
   "metadata": {},
   "outputs": [
    {
     "data": {
      "text/plain": [
       "_likelihood2d (generic function with 2 methods)"
      ]
     },
     "execution_count": 156,
     "metadata": {},
     "output_type": "execute_result"
    }
   ],
   "source": [
    "function _fdens1(x , y, θ::_model)\n",
    "    r2= x*x+y*y\n",
    "    s2= θ.s*θ.s\n",
    "    val = θ.C / (1+r2/s2)^θ.m\n",
    "    \n",
    "    return(val)\n",
    "end\n",
    "\n",
    "## \n",
    "function _likelihood2d(θ::_model, p::_sc2d, nei=2)\n",
    "    dest= _fdens1(p.xx[istar], p.yy[istar], θ )\n",
    "    \n",
    "    ## local estimation\n",
    "    di= sort(p.distMat[istar,:])\n",
    "    arealoc= π*di[nei+1]^2\n",
    "    locDens= (nei+1)/ arealoc\n",
    "    χ2= (dest-locDens)^2     ## σ=1\n",
    "    \n",
    "    return(χ2)\n",
    "end"
   ]
  },
  {
   "cell_type": "markdown",
   "metadata": {},
   "source": [
    "# Metropolis-Hasting\n",
    "\n",
    "https://twiecki.io/blog/2015/11/10/mcmc-sampling/\n",
    "\n",
    "proposal = norm(mu_current, proposal_width).rvs()\n",
    "\n",
    "Next, you evaluate whether that's a good place to jump to or not. If the resulting normal distribution with that proposed mu explaines the data better than your old mu, you'll definitely want to go there. What does \"explains the data better\" mean? We quantify fit by computing the probability of the data, given the likelihood (normal) with the proposed parameter values (proposed mu and a fixed sigma = 1). This can easily be computed by calculating the probability for each data point using scipy.stats.normal(mu, sigma).pdf(data) and then multiplying the individual probabilities, i.e. compute the likelihood (usually you would use log probabilities but we omit this here):\n",
    "\n",
    "likelihood_current = norm(mu_current, 1).pdf(data).prod() <br>\n",
    "likelihood_proposal = norm(mu_proposal, 1).pdf(data).prod() <br>\n",
    "\n",
    "# Compute prior probability of current and proposed mu        \n",
    "prior_current = norm(mu_prior_mu, mu_prior_sd).pdf(mu_current) <br>\n",
    "prior_proposal = norm(mu_prior_mu, mu_prior_sd).pdf(mu_proposal) <br>\n",
    "\n",
    "# Nominator of Bayes formula\n",
    "p_current = likelihood_current * prior_current <br>\n",
    "p_proposal = likelihood_proposal * prior_proposal <br>\n",
    "\n",
    "Up until now, we essentially have a hill-climbing algorithm that would just propose movements into random directions and only accept a jump if the mu_proposal has higher likelihood than mu_current. Eventually we'll get to mu = 0 (or close to it) from where no more moves will be possible. However, we want to get a posterior so we'll also have to sometimes accept moves into the other direction. The key trick is by dividing the two probabilities,\n",
    "\n",
    "p_accept = p_proposal / p_current <br> \n",
    "\n",
    "we get an acceptance probability. You can already see that if p_proposal is larger, that probability will be > 1 and we'll definitely accept. However, if p_current is larger, say twice as large, there'll be a 50% chance of moving there:\n",
    "\n",
    "accept = np.random.rand() < p_accept\n",
    "\n",
    "if accept:\n",
    "    # Update position\n",
    "    cur_pos = proposal"
   ]
  },
  {
   "cell_type": "code",
   "execution_count": 157,
   "metadata": {},
   "outputs": [
    {
     "data": {
      "text/plain": [
       "_thetaiter (generic function with 1 method)"
      ]
     },
     "execution_count": 157,
     "metadata": {},
     "output_type": "execute_result"
    }
   ],
   "source": [
    "function _init2D_mcmc(x, y)\n",
    "    nxy= length(x)\n",
    "    A= Array{Float64}(undef,2,nxy)\n",
    "    xc= mean(x) ; yc= mean(y) \n",
    "    center=  [xc ; yc]\n",
    "    \n",
    "    for i in 1:nxy\n",
    "            A[:,i]= [x[i]-xc y[i]-yc]\n",
    "    end\n",
    "    d= Euclidean()\n",
    "    p= pairwise(d, A, A, dims=2)\n",
    "    r= Distances.colwise(d, A, center)\n",
    "    \n",
    "    sc2d= _sc2d(nxy, x, y, p)\n",
    "    \n",
    "    Cest= nxy/ (4*π*maximum(r)^2)    ## initial approximation\n",
    "    sest= maximum(r)/2\n",
    "    mest= 2\n",
    "    θi= _model(Cest, sest, mest)\n",
    "end\n",
    "\n",
    "## next iteration\n",
    "function _thetaiter(θi::_model)\n",
    "    \n",
    "end"
   ]
  }
 ],
 "metadata": {
  "@webio": {
   "lastCommId": null,
   "lastKernelId": null
  },
  "kernelspec": {
   "display_name": "Julia 1.1.0",
   "language": "julia",
   "name": "julia-1.1"
  },
  "language_info": {
   "file_extension": ".jl",
   "mimetype": "application/julia",
   "name": "julia",
   "version": "1.1.0"
  }
 },
 "nbformat": 4,
 "nbformat_minor": 2
}
