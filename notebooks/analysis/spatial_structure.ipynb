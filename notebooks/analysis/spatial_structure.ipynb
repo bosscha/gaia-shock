{
 "cells": [
  {
   "cell_type": "markdown",
   "metadata": {},
   "source": [
    "### OC spatial structure\n",
    "\n",
    "- 2D, 3D structure\n",
    "- Model fitting\n",
    "- tidal, core radii\n"
   ]
  },
  {
   "cell_type": "code",
   "execution_count": 226,
   "metadata": {},
   "outputs": [],
   "source": [
    "using PyCall\n",
    "using Distributions, Statistics\n",
    "using DataFrames\n",
    "using  LightGraphs, SimpleWeightedGraphs\n",
    "using Random , Printf, Glob\n",
    "\n",
    "import PyPlot , CSV\n",
    "import Distances\n",
    "\n",
    "rootdir = \"/home/stephane/Science/GAIA\"\n",
    "\n",
    "push!(LOAD_PATH,\"$rootdir/master/src\")\n",
    "using GaiaClustering\n",
    "\n",
    "## directory\n",
    "wdir    = \"$rootdir/products\"\n",
    "plotdir = \"$rootdir/products/test\"\n",
    "ocdir= \"$wdir/oc\"\n",
    "\n",
    "cd(wdir)"
   ]
  },
  {
   "cell_type": "code",
   "execution_count": 227,
   "metadata": {},
   "outputs": [
    {
     "data": {
      "text/plain": [
       "_density3D (generic function with 2 methods)"
      ]
     },
     "execution_count": 227,
     "metadata": {},
     "output_type": "execute_result"
    }
   ],
   "source": [
    "## radial functions\n",
    "##\n",
    "\n",
    "function volumeSphere(r)\n",
    "    return(4 / 3 * π * r^3)\n",
    "end\n",
    "\n",
    "function areaDisk(r)\n",
    "    return(4 * π * r^2)\n",
    "end\n",
    "\n",
    "function _density2D(x , y , nbin=10)\n",
    "    center= [mean(x) ; mean(y)]\n",
    "    \n",
    "    nxy= length(x)\n",
    "    A= Array{Float64}(undef,2,nxy)\n",
    "    for i in 1:nxy\n",
    "        A[1,i]= x[i]\n",
    "        A[2,i]= y[i]\n",
    "    end\n",
    "    \n",
    "    d= Distances.Euclidean()\n",
    "    r= Distances.colwise(d, A, center)\n",
    "    \n",
    "    ρ= [] ; radius= [] ; err= []\n",
    "    rmax= maximum(r)\n",
    "    dr= rmax/nbin\n",
    "    r0=0\n",
    "    for i in 1:nbin\n",
    "        r1= i*dr\n",
    "        indr= (r .> r0) .& (r .<= r1)\n",
    "        nstar= count(indr)\n",
    "        dens= nstar/(areaDisk(r1)-areaDisk(r0))\n",
    "        errDensity= dens / sqrt(nstar)\n",
    "        push!(ρ, dens)\n",
    "        push!(radius, (r1+r0)/2)\n",
    "        push!(err, errDensity)\n",
    "        r0= r1\n",
    "    end\n",
    "    \n",
    "    return(radius, ρ , err)\n",
    "end\n",
    "\n",
    "function _density3D(x , y , z, nbin=10)\n",
    "    center= [mean(x) ; mean(y) ; mean(y)]\n",
    "    println(center)\n",
    "    println(nbin)\n",
    "    \n",
    "    nxy= length(x)\n",
    "    A= Array{Float64}(undef,3,nxy)\n",
    "    for i in 1:nxy\n",
    "        A[1,i]= x[i]\n",
    "        A[2,i]= y[i]\n",
    "        A[3,i]= z[i]\n",
    "    end\n",
    "    \n",
    "    d= Distances.Euclidean()\n",
    "    r= Distances.colwise(d, A, center)\n",
    "    \n",
    "    ρ= [] ; radius= [] ; err=[]\n",
    "    rmax= maximum(r)\n",
    "    dr= rmax/nbin\n",
    "    r0=0\n",
    "    for i in 1:nbin\n",
    "        r1= i*dr\n",
    "        indr= (r .> r0) .& (r .<= r1)\n",
    "        nstar= count(indr)\n",
    "        dens= nstar/(volumeSphere(r1)-volumeSphere(r0))\n",
    "        errDensity= dens / sqrt(nstar)\n",
    "        push!(ρ, dens)\n",
    "        push!(radius, (r1+r0)/2)\n",
    "        push!(err, errDensity)\n",
    "        r0= r1\n",
    "    end\n",
    "    \n",
    "    return(radius, ρ , err)\n",
    "end"
   ]
  },
  {
   "cell_type": "code",
   "execution_count": 228,
   "metadata": {},
   "outputs": [
    {
     "name": "stdout",
     "output_type": "stream",
     "text": [
      "[264.085, 3.62119, 3.62119]\n",
      "20\n",
      "Any[1.28972, 3.86916, 6.4486, 9.02804, 11.6075, 14.1869, 16.7664, 19.3458, 21.9252, 24.5047, 27.0841, 29.6636, 32.243, 34.8224, 37.4019, 39.9813, 42.5608, 45.1402, 47.7196, 50.2991]\n",
      "Any[0.055641, 0.0496795, 0.0263563, 0.0127824, 0.0100336, 0.007643, 0.00361448, 0.0027162, 0.00230769, 0.00153988, 0.00138682, 0.000910999, 0.0010974, 0.000686612, 0.00055112, 0.000636669, 0.000442677, 0.000166499, 0.000135446, 7.31477e-5]\n"
     ]
    }
   ],
   "source": [
    "#oc= CSV.read(\"$ocdir/NGC 6124-2.3deg-oc.csv\" , delim= \";\")\n",
    "# oc= CSV.read(\"$ocdir/NGC 7086-1.0deg-oc.csv\", delim= \";\")\n",
    "# oc= CSV.read(\"$ocdir/NGC 2516-3.5deg-oc.csv\", delim= \";\")\n",
    "oc= CSV.read(\"test.csv\", delim= \";\")\n",
    "\n",
    "r2d,ρ2d,err2d= _density2D(oc[:Y], oc[:Z],20)\n",
    "r3d,ρ3d,err3d= _density3D(oc[:X], oc[:Y], oc[:Z], 20)\n",
    "\n",
    "println(r3d)\n",
    "println(ρ3d)"
   ]
  },
  {
   "cell_type": "code",
   "execution_count": 229,
   "metadata": {},
   "outputs": [
    {
     "data": {
      "image/png": "[encoded data removed]",
      "text/plain": [
       "PyPlot.Figure(PyObject <Figure size 1000x1000 with 2 Axes>)"
      ]
     },
     "metadata": {},
     "output_type": "display_data"
    }
   ],
   "source": [
    "fig= PyPlot.figure(figsize=(10,10))\n",
    "ax= PyPlot.subplot(221)\n",
    "ax.set_yscale(\"log\")\n",
    "ax.set_xscale(\"log\")\n",
    "ax.set_xlim(r3d[1]*0.9, r3d[end]*1.1)\n",
    "ax.set_ylim(minimum(ρ3d[ρ3d .> 0])*0.5,maximum(ρ3d)*1.2)\n",
    "PyPlot.grid(\"on\")\n",
    "PyPlot.scatter(r3d, ρ3d , s=4, facecolor=\"red\" )\n",
    "PyPlot.errorbar(r3d, ρ3d, yerr=2 .* err3d, linewidth=0.5)\n",
    "\n",
    "ax= PyPlot.subplot(222)\n",
    "ax.set_yscale(\"log\")\n",
    "ax.set_xscale(\"log\")\n",
    "ax.set_xlim(r2d[1]*0.9, r2d[end]*1.1)\n",
    "ax.set_ylim(minimum(ρ2d[ρ2d .> 0])*0.5,maximum(ρ2d)*1.2)\n",
    "PyPlot.grid(\"on\")\n",
    "PyPlot.scatter(r2d, ρ2d , s=4, facecolor=\"blue\" )\n",
    "PyPlot.errorbar(r2d, ρ2d, yerr=2 .* err2d, linewidth=0.5)\n",
    "\n",
    "PyPlot.show()"
   ]
  },
  {
   "cell_type": "markdown",
   "metadata": {},
   "source": [
    "We try to fit the radial density (using MCMC?). It will be used later for the fractal dimension (including the radial density inside)."
   ]
  },
  {
   "cell_type": "code",
   "execution_count": null,
   "metadata": {},
   "outputs": [],
   "source": []
  }
 ],
 "metadata": {
  "@webio": {
   "lastCommId": null,
   "lastKernelId": null
  },
  "kernelspec": {
   "display_name": "Julia 1.1.0",
   "language": "julia",
   "name": "julia-1.1"
  },
  "language_info": {
   "file_extension": ".jl",
   "mimetype": "application/julia",
   "name": "julia",
   "version": "1.1.0"
  }
 },
 "nbformat": 4,
 "nbformat_minor": 2
}
