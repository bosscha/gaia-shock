{
 "cells": [
  {
   "cell_type": "markdown",
   "metadata": {},
   "source": [
    "## Testing Julia for GAIA\n",
    "\n",
    "using the julia language for GAIA analaysis"
   ]
  },
  {
   "cell_type": "code",
   "execution_count": 3,
   "metadata": {},
   "outputs": [],
   "source": [
    "using PyCall\n",
    "using DataFrames\n",
    "\n",
    "@pyimport astropy.io.votable as votable\n",
    "@pyimport matplotlib.pyplot as plt\n",
    "\n",
    "## directory\n",
    "rootdir = \"/home/stephane/Science/cluster/GAIA\"\n",
    "wdir    = \"/home/stephane/Science/cluster/GAIA/products\"\n",
    "\n",
    "cd(wdir)"
   ]
  },
  {
   "cell_type": "code",
   "execution_count": 49,
   "metadata": {},
   "outputs": [
    {
     "name": "stdout",
     "output_type": "stream",
     "text": [
      "type of the fieldname o is Ptr{PyCall.PyObject_struct}\n",
      "Symbol[:ID, :_ID, :__bytes__, :__class__, :__delattr__, :__dict__, :__dir__, :__doc__, :__eq__, :__format__, :__ge__, :__getattribute__, :__gt__, :__hash__, :__init__, :__init_subclass__, :__le__, :__lt__, :__module__, :__ne__, :__new__, :__reduce__, :__reduce_ex__, :__repr__, :__setattr__, :__sizeof__, :__str__, :__subclasshook__, :__weakref__, :_add_definitions, :_add_field, :_add_group, :_add_info, :_add_link, :_add_param, :_add_unknown_tag, :_attr_list, :_config, :_description, :_element_name, :_empty, :_fields, :_format, :_get_binary_data_stream, :_groups, :_ignore_add, :_infos, :_links, :_name, :_nrows, :_params, :_parse_binary, :_parse_fits, :_parse_tabledata, :_pos, :_ref, :_resize_strategy, :_ucd, :_ucd_in_v1_2, :_votable, :_write_binary, :_write_tabledata, :array, :create_arrays, :description, :fields, :format, :from_table, :get_field_by_id, :get_field_by_id_or_name, :get_fields_by_utype, :get_group_by_id, :get_groups_by_utype, :groups, :infos, :is_empty, :iter_fields_and_params, :iter_groups, :iter_info, :links, :name, :nrows, :params, :parse, :ref, :to_table, :to_xml, :ucd, :utype]"
     ]
    },
    {
     "ename": "LoadError",
     "evalue": "TypeError: in Type{...} expression, expected UnionAll, got PyObject",
     "output_type": "error",
     "traceback": [
      "TypeError: in Type{...} expression, expected UnionAll, got PyObject",
      "",
      "Stacktrace:",
      " [1] top-level scope at none:0"
     ]
    }
   ],
   "source": [
    "voname = \"NGC 2516-1.0deg.vot\"\n",
    "vot = votable.parse(voname)\n",
    "\n",
    "T = typeof(vot)\n",
    "for (name, typ) in zip(fieldnames(T), T.types)\n",
    "     println(\"type of the fieldname $name is $typ\")\n",
    " end\n",
    " \n",
    "b= vot[:get_first_table]() \n",
    "\n",
    "# c = convert(Array, b::PyObject)\n",
    "#print(b)\n",
    "print(keys(b::PyObject))\n",
    "\n",
    "\n",
    "# print(b[\"array\"][\"data\"])\n",
    "\n",
    "#for s in b[\"array\"][\"data\"]\n",
    "    #println(s)\n",
    "#end\n",
    "\n",
    "begin\n",
    "    local ind ::Int32 = 1\n",
    "\n",
    "    println(b)\n",
    "    for dat in b[\"array\"][\"data\"][1]\n",
    "        println(ind)\n",
    "        println(dat)\n",
    "        ind += 1\n",
    "    end\n",
    "    lgal = b[\"array\"][\"data\"][1][74]\n",
    "    bgal = b[\"array\"][\"data\"][1][75]  \n",
    "    \n",
    "end"
   ]
  }
 ],
 "metadata": {
  "kernelspec": {
   "display_name": "Julia 1.0.0",
   "language": "julia",
   "name": "julia-1.0"
  },
  "language_info": {
   "file_extension": ".jl",
   "mimetype": "application/julia",
   "name": "julia",
   "version": "1.0.0"
  }
 },
 "nbformat": 4,
 "nbformat_minor": 2
}
