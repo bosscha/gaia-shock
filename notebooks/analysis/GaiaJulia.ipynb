{
 "cells": [
  {
   "cell_type": "markdown",
   "metadata": {},
   "source": [
    "## Testing Julia for GAIA\n",
    "\n",
    "using the julia language for GAIA analaysis"
   ]
  },
  {
   "cell_type": "code",
   "execution_count": 25,
   "metadata": {},
   "outputs": [],
   "source": [
    "using PyCall\n",
    "\n",
    "@pyimport astropy.io.votable as votable\n",
    "@pyimport matplotlib.pyplot as plt\n",
    "\n",
    "## directory\n",
    "rootdir = \"/home/stephane/Science/GAIA\"\n",
    "wdir    = \"/home/stephane/Science/GAIA/products\"\n",
    "\n",
    "cd(wdir)"
   ]
  },
  {
   "cell_type": "code",
   "execution_count": 26,
   "metadata": {},
   "outputs": [
    {
     "name": "stdout",
     "output_type": "stream",
     "text": [
      "type of the fieldname o is Ptr{PyCall.PyObject_struct}\n"
     ]
    },
    {
     "ename": "LoadError",
     "evalue": "MethodError: no method matching get(::Type{PyObject}, ::String)\nClosest candidates are:\n  get(!Matched::Base.EnvDict, ::AbstractString, !Matched::Any) at env.jl:77\n  get(!Matched::REPL.Terminals.TTYTerminal, ::Any, !Matched::Any) at /buildworker/worker/package_linux64/build/usr/share/julia/stdlib/v1.0/REPL/src/Terminals.jl:174\n  get(!Matched::PyObject, ::Any) at /home/stephane/.julia/packages/PyCall/fiJ3o/src/PyCall.jl:775\n  ...",
     "output_type": "error",
     "traceback": [
      "MethodError: no method matching get(::Type{PyObject}, ::String)\nClosest candidates are:\n  get(!Matched::Base.EnvDict, ::AbstractString, !Matched::Any) at env.jl:77\n  get(!Matched::REPL.Terminals.TTYTerminal, ::Any, !Matched::Any) at /buildworker/worker/package_linux64/build/usr/share/julia/stdlib/v1.0/REPL/src/Terminals.jl:174\n  get(!Matched::PyObject, ::Any) at /home/stephane/.julia/packages/PyCall/fiJ3o/src/PyCall.jl:775\n  ...",
      "",
      "Stacktrace:",
      " [1] top-level scope at none:0"
     ]
    }
   ],
   "source": [
    "voname = \"NGC 2682-3.0deg.vot\"\n",
    "vot = votable.parse(voname)\n",
    "\n",
    "T = typeof(vot)\n",
    "for (name, typ) in zip(fieldnames(T), T.types)\n",
    "    println(\"type of the fieldname $name is $typ\")\n",
    "end\n",
    "\n",
    "convert(T, vot::PyObject)\n",
    "\n",
    "get(T, \"tables\")"
   ]
  }
 ],
 "metadata": {
  "kernelspec": {
   "display_name": "Julia 1.0.0",
   "language": "julia",
   "name": "julia-1.0"
  },
  "language_info": {
   "file_extension": ".jl",
   "mimetype": "application/julia",
   "name": "julia",
   "version": "1.0.0"
  }
 },
 "nbformat": 4,
 "nbformat_minor": 2
}
