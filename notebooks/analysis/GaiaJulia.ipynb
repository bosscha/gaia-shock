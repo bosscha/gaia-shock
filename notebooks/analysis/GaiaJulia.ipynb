{
 "cells": [
  {
   "cell_type": "markdown",
   "metadata": {},
   "source": [
    "## Testing Julia for GAIA\n",
    "\n",
    "using the julia language for GAIA analaysis"
   ]
  },
  {
   "cell_type": "code",
   "execution_count": 30,
   "metadata": {},
   "outputs": [],
   "source": [
    "using PyCall\n",
    "\n",
    "@pyimport astropy.io.votable as votable\n",
    "@pyimport matplotlib.pyplot as plt\n",
    "\n",
    "## directory\n",
    "rootdir = \"/home/stephane/Science/cluster/GAIA\"\n",
    "wdir    = \"/home/stephane/Science/cluster/GAIA/products\"\n",
    "\n",
    "cd(wdir)"
   ]
  },
  {
   "cell_type": "code",
   "execution_count": 43,
   "metadata": {},
   "outputs": [
    {
     "name": "stdout",
     "output_type": "stream",
     "text": [
      "type of the fieldname o is Ptr{PyCall.PyObject_struct}\n",
      "PyObject <Table masked=True length=17883>\n",
      "    solution_id             designation          ... epoch_photometry_url\n",
      "                                                 ...                     \n",
      "       int64                   object            ...        object       \n",
      "------------------- ---------------------------- ... --------------------\n",
      "1635721458409799680 Gaia DR2 5289191854965989504 ...                   --\n",
      "1635721458409799680 Gaia DR2 5289196188589089664 ...                   --\n",
      "1635721458409799680 Gaia DR2 5289195982430680960 ...                   --\n",
      "1635721458409799680 Gaia DR2 5289195913711204096 ...                   --\n",
      "1635721458409799680 Gaia DR2 5289196188589111296 ...                   --\n",
      "1635721458409799680 Gaia DR2 5289195157796960384 ...                   --\n",
      "1635721458409799680 Gaia DR2 5289196257308566784 ...                   --\n",
      "1635721458409799680 Gaia DR2 5289384273797039616 ...                   --\n",
      "1635721458409799680 Gaia DR2 5289385304589191296 ...                   --\n",
      "1635721458409799680 Gaia DR2 5289385373308668800 ...                   --\n",
      "1635721458409799680 Gaia DR2 5289384269500307712 ...                   --\n",
      "1635721458409799680 Gaia DR2 5289859159741481728 ...                   --\n",
      "                ...                          ... ...                  ...\n",
      "1635721458409799680 Gaia DR2 5291029418070468352 ...                   --\n",
      "1635721458409799680 Gaia DR2 5291030719443308672 ...                   --\n",
      "1635721458409799680 Gaia DR2 5291101122547919872 ...                   --\n",
      "1635721458409799680 Gaia DR2 5291067454301161088 ...                   --\n",
      "1635721458409799680 Gaia DR2 5291035499744276224 ...                   --\n",
      "1635721458409799680 Gaia DR2 5291100611448497152 ...                   --\n",
      "1635721458409799680 Gaia DR2 5291055153514757632 ...                   --\n",
      "1635721458409799680 Gaia DR2 5291027871882164224 ...                   --\n",
      "1635721458409799680 Gaia DR2 5291059414122314240 ...                   --\n",
      "1635721458409799680 Gaia DR2 5291040516266047232 ...                   --\n",
      "1635721458409799680 Gaia DR2 5291049759035585536 ...                   --\n",
      "1635721458409799680 Gaia DR2 5291038763919550464 ...                   --\n",
      "type of the fieldname o is Ptr{PyCall.PyObject_struct}\n"
     ]
    },
    {
     "data": {
      "text/plain": [
       "PyObject <VOTABLE>... 1 tables ...</VOTABLE>"
      ]
     },
     "execution_count": 43,
     "metadata": {},
     "output_type": "execute_result"
    }
   ],
   "source": [
    "voname = \"NGC 2516-1.0deg.vot\"\n",
    "vot = votable.parse(voname)\n",
    "\n",
    "T = typeof(vot)\n",
    "for (name, typ) in zip(fieldnames(T), T.types)\n",
    "     println(\"type of the fieldname $name is $typ\")\n",
    " end\n",
    " a = convert(T, vot::PyObject)\n",
    "\n",
    "\n",
    "b= a[:get_first_table]() \n",
    "println(b)\n"
   ]
  }
 ],
 "metadata": {
  "kernelspec": {
   "display_name": "Julia 1.0.0",
   "language": "julia",
   "name": "julia-1.0"
  },
  "language_info": {
   "file_extension": ".jl",
   "mimetype": "application/julia",
   "name": "julia",
   "version": "1.0.0"
  }
 },
 "nbformat": 4,
 "nbformat_minor": 2
}
