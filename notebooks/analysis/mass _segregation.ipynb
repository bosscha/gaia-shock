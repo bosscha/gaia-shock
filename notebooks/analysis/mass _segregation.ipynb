{
 "cells": [
  {
   "cell_type": "markdown",
   "metadata": {},
   "source": [
    "### Mass segregation\n",
    "\n",
    "Analysis of the mass segregation in the stellar clusters using different indices <br>\n",
    "In particular we use the MST-based metric (e.g. Yu et al. 2011)"
   ]
  },
  {
   "cell_type": "code",
   "execution_count": 1,
   "metadata": {},
   "outputs": [
    {
     "name": "stderr",
     "output_type": "stream",
     "text": [
      "┌ Info: Recompiling stale cache file /home/stephane/.julia/compiled/v1.1/GaiaClustering.ji for GaiaClustering [top-level]\n",
      "└ @ Base loading.jl:1184\n",
      "┌ Warning: `@pyimport foo` is deprecated in favor of `foo = pyimport(\"foo\")`.\n",
      "│   caller = _pywrap_pyimport(::PyObject) at PyCall.jl:407\n",
      "└ @ PyCall /home/stephane/.julia/packages/PyCall/ttONZ/src/PyCall.jl:407\n"
     ]
    }
   ],
   "source": [
    "using PyCall\n",
    "using Distributions\n",
    "using Statistics\n",
    "using DataFrames\n",
    "using Distances, LightGraphs, SimpleWeightedGraphs\n",
    "using Random , Printf, Glob\n",
    "\n",
    "rootdir = \"/home/stephane/Science/GAIA\"\n",
    "\n",
    "push!(LOAD_PATH,\"$rootdir/master/src\")\n",
    "using GaiaClustering\n",
    "\n",
    "import PyPlot , CSV\n",
    "\n",
    "@pyimport astroquery.vizier as vizier\n",
    "@pyimport astropy.units as u\n",
    "@pyimport astropy.coordinates as coord\n",
    "\n",
    "\n",
    "## directory\n",
    "wdir    = \"$rootdir/products\"\n",
    "plotdir = \"$rootdir/products/test\"\n",
    "ocdir= \"$wdir/oc\"\n",
    "\n",
    "cd(wdir)"
   ]
  },
  {
   "cell_type": "code",
   "execution_count": 2,
   "metadata": {},
   "outputs": [
    {
     "data": {
      "text/html": [
       "<table class=\"data-frame\"><thead><tr><th></th><th>ra</th><th>dec</th><th>l</th><th>b</th><th>distance</th><th>pmra</th><th>pmdec</th><th>X</th><th>Y</th><th>Z</th><th>vl</th><th>vb</th><th>vrad</th><th>gbar</th><th>rp</th><th>bp</th></tr><tr><th></th><th>Float64⍰</th><th>Float64⍰</th><th>Float64⍰</th><th>Float64⍰</th><th>Float64⍰</th><th>Float64⍰</th><th>Float64⍰</th><th>Float64⍰</th><th>Float64⍰</th><th>Float64⍰</th><th>Float64⍰</th><th>Float64⍰</th><th>Float64⍰</th><th>Float64⍰</th><th>Float64⍰</th><th>Float64⍰</th></tr></thead><tbody><p>385 rows × 16 columns</p><tr><th>1</th><td>322.588</td><td>51.3556</td><td>94.2283</td><td>0.0521341</td><td>1672.01</td><td>-1.69564</td><td>-1.56564</td><td>1671.99</td><td>-5.89749</td><td>-3.76196</td><td>-18.2902</td><td>0.152185</td><td>NaN</td><td>15.0727</td><td>13.5945</td><td>14.6117</td></tr><tr><th>2</th><td>322.686</td><td>51.3391</td><td>94.2614</td><td>-0.00153599</td><td>1640.93</td><td>-1.66993</td><td>-1.61461</td><td>1640.91</td><td>-4.84059</td><td>-5.22912</td><td>-18.0648</td><td>-0.289149</td><td>NaN</td><td>16.3507</td><td>14.6722</td><td>16.0221</td></tr><tr><th>3</th><td>322.601</td><td>51.3638</td><td>94.2395</td><td>0.0527067</td><td>1642.32</td><td>-1.54933</td><td>-1.66081</td><td>1642.31</td><td>-5.47028</td><td>-3.67876</td><td>-17.6421</td><td>-1.17318</td><td>NaN</td><td>16.1403</td><td>14.509</td><td>15.7678</td></tr><tr><th>4</th><td>322.805</td><td>51.4962</td><td>94.4229</td><td>0.0624116</td><td>1693.41</td><td>-1.66808</td><td>-1.64562</td><td>1693.41</td><td>-0.220098</td><td>-3.50636</td><td>-18.8011</td><td>-0.520765</td><td>NaN</td><td>14.675</td><td>13.2838</td><td>14.1834</td></tr><tr><th>5</th><td>322.621</td><td>51.5978</td><td>94.4089</td><td>0.214773</td><td>1605.36</td><td>-1.87723</td><td>-1.61163</td><td>1605.36</td><td>-0.6029</td><td>0.944947</td><td>-18.8085</td><td>0.828554</td><td>NaN</td><td>15.3795</td><td>13.3523</td><td>14.3225</td></tr><tr><th>6</th><td>322.455</td><td>51.3924</td><td>94.1931</td><td>0.135711</td><td>1705.14</td><td>-1.61338</td><td>-1.49453</td><td>1705.13</td><td>-7.06308</td><td>-1.34923</td><td>-17.7743</td><td>0.15136</td><td>NaN</td><td>14.5613</td><td>13.2231</td><td>14.0487</td></tr><tr><th>7</th><td>322.598</td><td>51.6286</td><td>94.4197</td><td>0.246928</td><td>1749.06</td><td>-1.88835</td><td>-1.69633</td><td>1749.06</td><td>-0.327476</td><td>2.01112</td><td>-21.0396</td><td>0.460219</td><td>NaN</td><td>17.1825</td><td>15.5454</td><td>17.1161</td></tr><tr><th>8</th><td>322.668</td><td>51.5685</td><td>94.4105</td><td>0.173195</td><td>1720.84</td><td>-1.56654</td><td>-1.92731</td><td>1720.84</td><td>-0.598675</td><td>-0.235865</td><td>-20.073</td><td>-2.73675</td><td>NaN</td><td>18.5067</td><td>16.7454</td><td>18.5308</td></tr><tr><th>9</th><td>322.574</td><td>51.6506</td><td>94.4239</td><td>0.273015</td><td>1691.94</td><td>-1.6225</td><td>-1.7202</td><td>1691.94</td><td>-0.190436</td><td>2.71579</td><td>-18.9293</td><td>-1.14738</td><td>NaN</td><td>13.0162</td><td>11.622</td><td>12.5172</td></tr><tr><th>10</th><td>322.755</td><td>51.504</td><td>94.4057</td><td>0.0892329</td><td>1664.77</td><td>-1.66122</td><td>-1.50347</td><td>1664.76</td><td>-0.718156</td><td>-2.66774</td><td>-17.6779</td><td>0.283079</td><td>NaN</td><td>17.5589</td><td>15.8736</td><td>17.3278</td></tr><tr><th>11</th><td>322.597</td><td>51.7036</td><td>94.4704</td><td>0.302094</td><td>1733.18</td><td>-1.5133</td><td>-1.78253</td><td>1733.18</td><td>1.21172</td><td>3.66161</td><td>-19.0867</td><td>-2.16858</td><td>NaN</td><td>17.7233</td><td>16.0599</td><td>17.6369</td></tr><tr><th>12</th><td>322.783</td><td>51.4997</td><td>94.4153</td><td>0.0744472</td><td>1630.12</td><td>-1.74792</td><td>-1.60068</td><td>1630.12</td><td>-0.429901</td><td>-3.03289</td><td>-18.3124</td><td>0.178975</td><td>NaN</td><td>17.7166</td><td>15.9313</td><td>17.5181</td></tr><tr><th>13</th><td>322.743</td><td>51.4769</td><td>94.3818</td><td>0.0744392</td><td>1550.44</td><td>-1.63559</td><td>-1.54842</td><td>1550.44</td><td>-1.31438</td><td>-2.88486</td><td>-16.5519</td><td>-0.103605</td><td>NaN</td><td>16.1846</td><td>14.4741</td><td>15.6294</td></tr><tr><th>14</th><td>322.363</td><td>51.5701</td><td>94.2732</td><td>0.304484</td><td>1666.51</td><td>-1.526</td><td>-1.47912</td><td>1666.5</td><td>-4.57237</td><td>3.59028</td><td>-16.7862</td><td>-0.215565</td><td>NaN</td><td>18.5218</td><td>16.6565</td><td>18.5637</td></tr><tr><th>15</th><td>322.767</td><td>51.5088</td><td>94.4144</td><td>0.0875972</td><td>1548.67</td><td>-1.63202</td><td>-1.61803</td><td>1548.67</td><td>-0.43122</td><td>-2.52592</td><td>-16.8627</td><td>-0.500136</td><td>NaN</td><td>17.8675</td><td>15.9913</td><td>17.5171</td></tr><tr><th>16</th><td>322.737</td><td>51.4994</td><td>94.3943</td><td>0.0936407</td><td>1612.06</td><td>-1.41002</td><td>-1.64282</td><td>1612.06</td><td>-1.0158</td><td>-2.45927</td><td>-16.4435</td><td>-1.81035</td><td>NaN</td><td>18.5154</td><td>16.6805</td><td>18.3513</td></tr><tr><th>17</th><td>322.477</td><td>51.5531</td><td>94.3129</td><td>0.24359</td><td>1755.48</td><td>-1.57974</td><td>-1.52968</td><td>1755.48</td><td>-3.59957</td><td>1.91624</td><td>-18.2959</td><td>-0.254207</td><td>NaN</td><td>16.9329</td><td>15.3516</td><td>16.8407</td></tr><tr><th>18</th><td>322.918</td><td>51.6784</td><td>94.5988</td><td>0.147605</td><td>1721.6</td><td>-1.63872</td><td>-1.69629</td><td>1721.59</td><td>5.06052</td><td>-1.00486</td><td>-19.2194</td><td>-1.02493</td><td>NaN</td><td>14.0229</td><td>12.6572</td><td>13.5782</td></tr><tr><th>19</th><td>322.702</td><td>51.466</td><td>94.3557</td><td>0.0839902</td><td>1718.02</td><td>-1.67893</td><td>-1.49503</td><td>1718.02</td><td>-2.24084</td><td>-2.91029</td><td>-18.3016</td><td>0.454078</td><td>NaN</td><td>15.5117</td><td>14.0429</td><td>15.1614</td></tr><tr><th>20</th><td>322.636</td><td>51.5973</td><td>94.4152</td><td>0.208126</td><td>1662.17</td><td>-1.73273</td><td>-1.61663</td><td>1662.17</td><td>-0.44034</td><td>0.785554</td><td>-18.6706</td><td>0.0465018</td><td>NaN</td><td>12.6236</td><td>11.124</td><td>12.1542</td></tr><tr><th>21</th><td>322.596</td><td>51.6044</td><td>94.4023</td><td>0.230044</td><td>1719.06</td><td>-1.74196</td><td>-1.53213</td><td>1719.06</td><td>-0.84297</td><td>1.47006</td><td>-18.8933</td><td>0.61193</td><td>NaN</td><td>13.3758</td><td>12.0236</td><td>12.9024</td></tr><tr><th>22</th><td>322.753</td><td>51.6446</td><td>94.5009</td><td>0.192725</td><td>1602.6</td><td>-1.53928</td><td>-1.74</td><td>1602.59</td><td>1.97135</td><td>0.326604</td><td>-17.5679</td><td>-1.67216</td><td>NaN</td><td>18.5532</td><td>16.6108</td><td>18.3264</td></tr><tr><th>23</th><td>322.661</td><td>51.5538</td><td>94.3971</td><td>0.165461</td><td>1580.01</td><td>-1.71526</td><td>-1.77627</td><td>1580.01</td><td>-0.918858</td><td>-0.429819</td><td>-18.4697</td><td>-0.923953</td><td>NaN</td><td>16.8731</td><td>15.0307</td><td>16.59</td></tr><tr><th>24</th><td>322.802</td><td>51.4465</td><td>94.3876</td><td>0.02748</td><td>1619.79</td><td>-1.54354</td><td>-1.7592</td><td>1619.78</td><td>-1.20981</td><td>-4.34146</td><td>-17.8798</td><td>-1.78728</td><td>NaN</td><td>17.8505</td><td>16.0752</td><td>17.6188</td></tr><tr><th>25</th><td>322.845</td><td>51.4826</td><td>94.432</td><td>0.035371</td><td>1547.65</td><td>-1.63379</td><td>-1.55755</td><td>1547.64</td><td>0.0438558</td><td>-3.93495</td><td>-16.5579</td><td>-0.184409</td><td>NaN</td><td>15.9569</td><td>14.2883</td><td>15.3517</td></tr><tr><th>26</th><td>322.79</td><td>51.4507</td><td>94.385</td><td>0.035624</td><td>1650.02</td><td>-1.74878</td><td>-1.7149</td><td>1650.02</td><td>-1.3075</td><td>-4.18796</td><td>-19.1506</td><td>-0.468908</td><td>NaN</td><td>13.4601</td><td>12.0364</td><td>12.8794</td></tr><tr><th>27</th><td>322.582</td><td>51.6454</td><td>94.4237</td><td>0.266197</td><td>1566.28</td><td>-1.63121</td><td>-1.64444</td><td>1566.28</td><td>-0.183921</td><td>2.32772</td><td>-17.1855</td><td>-0.609595</td><td>NaN</td><td>19.1885</td><td>17.126</td><td>19.1301</td></tr><tr><th>28</th><td>322.526</td><td>51.6525</td><td>94.4033</td><td>0.295086</td><td>1595.77</td><td>-1.49274</td><td>-1.68468</td><td>1595.76</td><td>-0.754417</td><td>3.17613</td><td>-16.955</td><td>-1.54703</td><td>NaN</td><td>15.98</td><td>14.3032</td><td>15.5116</td></tr><tr><th>29</th><td>322.24</td><td>51.4786</td><td>94.1546</td><td>0.290737</td><td>1643.94</td><td>-1.64478</td><td>-1.51793</td><td>1643.92</td><td>-7.91382</td><td>3.14723</td><td>-17.4389</td><td>0.232274</td><td>NaN</td><td>16.996</td><td>15.3164</td><td>16.6976</td></tr><tr><th>30</th><td>322.285</td><td>51.4109</td><td>94.1285</td><td>0.222141</td><td>1706.44</td><td>-1.81961</td><td>-1.46552</td><td>1706.42</td><td>-8.99004</td><td>1.2239</td><td>-18.8376</td><td>1.50995</td><td>NaN</td><td>15.4894</td><td>14.0711</td><td>15.0566</td></tr><tr><th>&vellip;</th><td>&vellip;</td><td>&vellip;</td><td>&vellip;</td><td>&vellip;</td><td>&vellip;</td><td>&vellip;</td><td>&vellip;</td><td>&vellip;</td><td>&vellip;</td><td>&vellip;</td><td>&vellip;</td><td>&vellip;</td><td>&vellip;</td><td>&vellip;</td><td>&vellip;</td><td>&vellip;</td></tr></tbody></table>"
      ],
      "text/latex": [
       "\\begin{tabular}{r|cccccccccccccccc}\n",
       "\t& ra & dec & l & b & distance & pmra & pmdec & X & Y & Z & vl & vb & vrad & gbar & rp & bp\\\\\n",
       "\t\\hline\n",
       "\t& Float64⍰ & Float64⍰ & Float64⍰ & Float64⍰ & Float64⍰ & Float64⍰ & Float64⍰ & Float64⍰ & Float64⍰ & Float64⍰ & Float64⍰ & Float64⍰ & Float64⍰ & Float64⍰ & Float64⍰ & Float64⍰\\\\\n",
       "\t\\hline\n",
       "\t1 & 322.588 & 51.3556 & 94.2283 & 0.0521341 & 1672.01 & -1.69564 & -1.56564 & 1671.99 & -5.89749 & -3.76196 & -18.2902 & 0.152185 & NaN & 15.0727 & 13.5945 & 14.6117 \\\\\n",
       "\t2 & 322.686 & 51.3391 & 94.2614 & -0.00153599 & 1640.93 & -1.66993 & -1.61461 & 1640.91 & -4.84059 & -5.22912 & -18.0648 & -0.289149 & NaN & 16.3507 & 14.6722 & 16.0221 \\\\\n",
       "\t3 & 322.601 & 51.3638 & 94.2395 & 0.0527067 & 1642.32 & -1.54933 & -1.66081 & 1642.31 & -5.47028 & -3.67876 & -17.6421 & -1.17318 & NaN & 16.1403 & 14.509 & 15.7678 \\\\\n",
       "\t4 & 322.805 & 51.4962 & 94.4229 & 0.0624116 & 1693.41 & -1.66808 & -1.64562 & 1693.41 & -0.220098 & -3.50636 & -18.8011 & -0.520765 & NaN & 14.675 & 13.2838 & 14.1834 \\\\\n",
       "\t5 & 322.621 & 51.5978 & 94.4089 & 0.214773 & 1605.36 & -1.87723 & -1.61163 & 1605.36 & -0.6029 & 0.944947 & -18.8085 & 0.828554 & NaN & 15.3795 & 13.3523 & 14.3225 \\\\\n",
       "\t6 & 322.455 & 51.3924 & 94.1931 & 0.135711 & 1705.14 & -1.61338 & -1.49453 & 1705.13 & -7.06308 & -1.34923 & -17.7743 & 0.15136 & NaN & 14.5613 & 13.2231 & 14.0487 \\\\\n",
       "\t7 & 322.598 & 51.6286 & 94.4197 & 0.246928 & 1749.06 & -1.88835 & -1.69633 & 1749.06 & -0.327476 & 2.01112 & -21.0396 & 0.460219 & NaN & 17.1825 & 15.5454 & 17.1161 \\\\\n",
       "\t8 & 322.668 & 51.5685 & 94.4105 & 0.173195 & 1720.84 & -1.56654 & -1.92731 & 1720.84 & -0.598675 & -0.235865 & -20.073 & -2.73675 & NaN & 18.5067 & 16.7454 & 18.5308 \\\\\n",
       "\t9 & 322.574 & 51.6506 & 94.4239 & 0.273015 & 1691.94 & -1.6225 & -1.7202 & 1691.94 & -0.190436 & 2.71579 & -18.9293 & -1.14738 & NaN & 13.0162 & 11.622 & 12.5172 \\\\\n",
       "\t10 & 322.755 & 51.504 & 94.4057 & 0.0892329 & 1664.77 & -1.66122 & -1.50347 & 1664.76 & -0.718156 & -2.66774 & -17.6779 & 0.283079 & NaN & 17.5589 & 15.8736 & 17.3278 \\\\\n",
       "\t11 & 322.597 & 51.7036 & 94.4704 & 0.302094 & 1733.18 & -1.5133 & -1.78253 & 1733.18 & 1.21172 & 3.66161 & -19.0867 & -2.16858 & NaN & 17.7233 & 16.0599 & 17.6369 \\\\\n",
       "\t12 & 322.783 & 51.4997 & 94.4153 & 0.0744472 & 1630.12 & -1.74792 & -1.60068 & 1630.12 & -0.429901 & -3.03289 & -18.3124 & 0.178975 & NaN & 17.7166 & 15.9313 & 17.5181 \\\\\n",
       "\t13 & 322.743 & 51.4769 & 94.3818 & 0.0744392 & 1550.44 & -1.63559 & -1.54842 & 1550.44 & -1.31438 & -2.88486 & -16.5519 & -0.103605 & NaN & 16.1846 & 14.4741 & 15.6294 \\\\\n",
       "\t14 & 322.363 & 51.5701 & 94.2732 & 0.304484 & 1666.51 & -1.526 & -1.47912 & 1666.5 & -4.57237 & 3.59028 & -16.7862 & -0.215565 & NaN & 18.5218 & 16.6565 & 18.5637 \\\\\n",
       "\t15 & 322.767 & 51.5088 & 94.4144 & 0.0875972 & 1548.67 & -1.63202 & -1.61803 & 1548.67 & -0.43122 & -2.52592 & -16.8627 & -0.500136 & NaN & 17.8675 & 15.9913 & 17.5171 \\\\\n",
       "\t16 & 322.737 & 51.4994 & 94.3943 & 0.0936407 & 1612.06 & -1.41002 & -1.64282 & 1612.06 & -1.0158 & -2.45927 & -16.4435 & -1.81035 & NaN & 18.5154 & 16.6805 & 18.3513 \\\\\n",
       "\t17 & 322.477 & 51.5531 & 94.3129 & 0.24359 & 1755.48 & -1.57974 & -1.52968 & 1755.48 & -3.59957 & 1.91624 & -18.2959 & -0.254207 & NaN & 16.9329 & 15.3516 & 16.8407 \\\\\n",
       "\t18 & 322.918 & 51.6784 & 94.5988 & 0.147605 & 1721.6 & -1.63872 & -1.69629 & 1721.59 & 5.06052 & -1.00486 & -19.2194 & -1.02493 & NaN & 14.0229 & 12.6572 & 13.5782 \\\\\n",
       "\t19 & 322.702 & 51.466 & 94.3557 & 0.0839902 & 1718.02 & -1.67893 & -1.49503 & 1718.02 & -2.24084 & -2.91029 & -18.3016 & 0.454078 & NaN & 15.5117 & 14.0429 & 15.1614 \\\\\n",
       "\t20 & 322.636 & 51.5973 & 94.4152 & 0.208126 & 1662.17 & -1.73273 & -1.61663 & 1662.17 & -0.44034 & 0.785554 & -18.6706 & 0.0465018 & NaN & 12.6236 & 11.124 & 12.1542 \\\\\n",
       "\t21 & 322.596 & 51.6044 & 94.4023 & 0.230044 & 1719.06 & -1.74196 & -1.53213 & 1719.06 & -0.84297 & 1.47006 & -18.8933 & 0.61193 & NaN & 13.3758 & 12.0236 & 12.9024 \\\\\n",
       "\t22 & 322.753 & 51.6446 & 94.5009 & 0.192725 & 1602.6 & -1.53928 & -1.74 & 1602.59 & 1.97135 & 0.326604 & -17.5679 & -1.67216 & NaN & 18.5532 & 16.6108 & 18.3264 \\\\\n",
       "\t23 & 322.661 & 51.5538 & 94.3971 & 0.165461 & 1580.01 & -1.71526 & -1.77627 & 1580.01 & -0.918858 & -0.429819 & -18.4697 & -0.923953 & NaN & 16.8731 & 15.0307 & 16.59 \\\\\n",
       "\t24 & 322.802 & 51.4465 & 94.3876 & 0.02748 & 1619.79 & -1.54354 & -1.7592 & 1619.78 & -1.20981 & -4.34146 & -17.8798 & -1.78728 & NaN & 17.8505 & 16.0752 & 17.6188 \\\\\n",
       "\t25 & 322.845 & 51.4826 & 94.432 & 0.035371 & 1547.65 & -1.63379 & -1.55755 & 1547.64 & 0.0438558 & -3.93495 & -16.5579 & -0.184409 & NaN & 15.9569 & 14.2883 & 15.3517 \\\\\n",
       "\t26 & 322.79 & 51.4507 & 94.385 & 0.035624 & 1650.02 & -1.74878 & -1.7149 & 1650.02 & -1.3075 & -4.18796 & -19.1506 & -0.468908 & NaN & 13.4601 & 12.0364 & 12.8794 \\\\\n",
       "\t27 & 322.582 & 51.6454 & 94.4237 & 0.266197 & 1566.28 & -1.63121 & -1.64444 & 1566.28 & -0.183921 & 2.32772 & -17.1855 & -0.609595 & NaN & 19.1885 & 17.126 & 19.1301 \\\\\n",
       "\t28 & 322.526 & 51.6525 & 94.4033 & 0.295086 & 1595.77 & -1.49274 & -1.68468 & 1595.76 & -0.754417 & 3.17613 & -16.955 & -1.54703 & NaN & 15.98 & 14.3032 & 15.5116 \\\\\n",
       "\t29 & 322.24 & 51.4786 & 94.1546 & 0.290737 & 1643.94 & -1.64478 & -1.51793 & 1643.92 & -7.91382 & 3.14723 & -17.4389 & 0.232274 & NaN & 16.996 & 15.3164 & 16.6976 \\\\\n",
       "\t30 & 322.285 & 51.4109 & 94.1285 & 0.222141 & 1706.44 & -1.81961 & -1.46552 & 1706.42 & -8.99004 & 1.2239 & -18.8376 & 1.50995 & NaN & 15.4894 & 14.0711 & 15.0566 \\\\\n",
       "\t$\\dots$ & $\\dots$ & $\\dots$ & $\\dots$ & $\\dots$ & $\\dots$ & $\\dots$ & $\\dots$ & $\\dots$ & $\\dots$ & $\\dots$ & $\\dots$ & $\\dots$ & $\\dots$ & $\\dots$ & $\\dots$ & $\\dots$ \\\\\n",
       "\\end{tabular}\n"
      ],
      "text/plain": [
       "385×16 DataFrame. Omitted printing of 10 columns\n",
       "│ Row │ ra       │ dec      │ l        │ b           │ distance │ pmra     │\n",
       "│     │ \u001b[90mFloat64⍰\u001b[39m │ \u001b[90mFloat64⍰\u001b[39m │ \u001b[90mFloat64⍰\u001b[39m │ \u001b[90mFloat64⍰\u001b[39m    │ \u001b[90mFloat64⍰\u001b[39m │ \u001b[90mFloat64⍰\u001b[39m │\n",
       "├─────┼──────────┼──────────┼──────────┼─────────────┼──────────┼──────────┤\n",
       "│ 1   │ 322.588  │ 51.3556  │ 94.2283  │ 0.0521341   │ 1672.01  │ -1.69564 │\n",
       "│ 2   │ 322.686  │ 51.3391  │ 94.2614  │ -0.00153599 │ 1640.93  │ -1.66993 │\n",
       "│ 3   │ 322.601  │ 51.3638  │ 94.2395  │ 0.0527067   │ 1642.32  │ -1.54933 │\n",
       "│ 4   │ 322.805  │ 51.4962  │ 94.4229  │ 0.0624116   │ 1693.41  │ -1.66808 │\n",
       "│ 5   │ 322.621  │ 51.5978  │ 94.4089  │ 0.214773    │ 1605.36  │ -1.87723 │\n",
       "│ 6   │ 322.455  │ 51.3924  │ 94.1931  │ 0.135711    │ 1705.14  │ -1.61338 │\n",
       "│ 7   │ 322.598  │ 51.6286  │ 94.4197  │ 0.246928    │ 1749.06  │ -1.88835 │\n",
       "│ 8   │ 322.668  │ 51.5685  │ 94.4105  │ 0.173195    │ 1720.84  │ -1.56654 │\n",
       "│ 9   │ 322.574  │ 51.6506  │ 94.4239  │ 0.273015    │ 1691.94  │ -1.6225  │\n",
       "│ 10  │ 322.755  │ 51.504   │ 94.4057  │ 0.0892329   │ 1664.77  │ -1.66122 │\n",
       "⋮\n",
       "│ 375 │ 322.229  │ 51.7651  │ 94.3469  │ 0.503194    │ 1742.72  │ -1.71923 │\n",
       "│ 376 │ 322.434  │ 51.6943  │ 94.3907  │ 0.364308    │ 1733.45  │ -1.23872 │\n",
       "│ 377 │ 322.54   │ 51.8387  │ 94.537   │ 0.424816    │ 1766.28  │ -1.65525 │\n",
       "│ 378 │ 322.484  │ 51.7206  │ 94.4309  │ 0.362503    │ 1557.8   │ -1.83405 │\n",
       "│ 379 │ 322.532  │ 51.9078  │ 94.5811  │ 0.478261    │ 1548.23  │ -1.50716 │\n",
       "│ 380 │ 322.461  │ 51.8434  │ 94.505   │ 0.461452    │ 1541.68  │ -1.65349 │\n",
       "│ 381 │ 322.446  │ 51.8084  │ 94.474   │ 0.442632    │ 1734.92  │ -1.23572 │\n",
       "│ 382 │ 322.368  │ 51.6015  │ 94.2971  │ 0.324968    │ 1602.17  │ -2.03871 │\n",
       "│ 383 │ 322.206  │ 51.6061  │ 94.2271  │ 0.397693    │ 1733.64  │ -1.88323 │\n",
       "│ 384 │ 322.22   │ 51.746   │ 94.3295  │ 0.493331    │ 1714.61  │ -1.57295 │\n",
       "│ 385 │ 322.246  │ 51.88    │ 94.4338  │ 0.579166    │ 1680.43  │ -1.71555 │"
      ]
     },
     "execution_count": 2,
     "metadata": {},
     "output_type": "execute_result"
    }
   ],
   "source": [
    "## Test OC\n",
    "##\n",
    "\n",
    "#oc= CSV.read(\"$ocdir/NGC 6124-2.3deg-oc.csv\" , delim= \";\")\n",
    "oc= CSV.read(\"$ocdir/NGC 7086-1.0deg-oc.csv\", delim= \";\")"
   ]
  },
  {
   "cell_type": "code",
   "execution_count": 3,
   "metadata": {},
   "outputs": [
    {
     "data": {
      "text/plain": [
       "_mst_graph (generic function with 3 methods)"
      ]
     },
     "execution_count": 3,
     "metadata": {},
     "output_type": "execute_result"
    }
   ],
   "source": [
    "## Create a graph with the selected stars\n",
    "## ind: subset to select the x,y\n",
    "## dtyp= \"2d\" or \"3d\"\n",
    "\n",
    "function _mst_graph(ind,x,y,z=[] , dtyp=\"2d\")\n",
    "    nxy= length(ind)\n",
    "    if dtyp == \"2d\"\n",
    "        A= Array{Float64}(undef,2,nxy)\n",
    "    elseif dtyp == \"3d\"\n",
    "       A= Array{Float64}(undef,3,nxy) \n",
    "    end\n",
    "    \n",
    "    for i in 1:nxy\n",
    "        if dtyp == \"2d\"\n",
    "            A[:,i]= [x[ind[i]] y[ind[i]]]\n",
    "        elseif dtyp == \"3d\"\n",
    "            A[:,i]= [x[ind[i]] y[ind[i]] z[ind[i]]]\n",
    "        end\n",
    "    end\n",
    "    \n",
    "    d= Euclidean()\n",
    "    p= pairwise(d, A, A, dims=2)\n",
    "    #println(p)\n",
    "    \n",
    "    src= Array{Int}(undef,0)\n",
    "    dst= Array{Int}(undef,0)\n",
    "    wgt= Array{Float64}(undef,0)\n",
    "\n",
    "    for i in 1:nxy\n",
    "        for j in 1:nxy\n",
    "            if i != j\n",
    "                push!(src,i)\n",
    "                push!(dst,j)\n",
    "                push!(wgt,p[i,j]) \n",
    "            end\n",
    "        end\n",
    "    end\n",
    "    \n",
    "    G= SimpleWeightedGraph(src, dst, wgt)\n",
    "    \n",
    "    kr= kruskal_mst(G, G.weights)\n",
    "    \n",
    "    #for w in kr\n",
    "    #    @printf(\"%d - %d : %3.3f\\n\",w.src,w.dst, w.weight)\n",
    "    #end\n",
    "    \n",
    "    return(kr)\n",
    "end\n"
   ]
  },
  {
   "cell_type": "code",
   "execution_count": 4,
   "metadata": {},
   "outputs": [
    {
     "data": {
      "text/plain": [
       "_kappa_ms (generic function with 4 methods)"
      ]
     },
     "execution_count": 4,
     "metadata": {},
     "output_type": "execute_result"
    }
   ],
   "source": [
    "## Computation of the λMST using either arithmetic or geometric average (Olczak et al. 2011)\n",
    "##\n",
    "## dtype= \"ari\" or \"geo\"\n",
    "function _lambda_mst(edges, dtyp=\"ari\")\n",
    "    nedg= length(edges)\n",
    "    # println(nedg)\n",
    "    ltot= 0\n",
    "    \n",
    "    for w in edges\n",
    "        if dtyp== \"ari\"\n",
    "            ltot+= w.weight\n",
    "        elseif dtyp== \"geo\"\n",
    "            ltot+= log(w.weight)\n",
    "        end\n",
    "    end\n",
    "    \n",
    "    if dtyp== \"ari\"\n",
    "        λmst= ltot/nedg\n",
    "    elseif dtyp== \"geo\"\n",
    "        λmst= exp(ltot/nedg)\n",
    "    end\n",
    "    return(λmst)\n",
    "end\n",
    "\n",
    "## estimate the sample size for the stats given n and N for the massive and total sample\n",
    "## p= 99%\n",
    "## Olczak et al. 2011)\n",
    "function _sample_size(n, N, p=0.99)\n",
    "    k= log(1-p)/log(1-n/N)\n",
    "    return(convert(Int,ceil(k)))\n",
    "end\n",
    "\n",
    "## Compute the mass segregation metric comparing two population set (2nd is random)\n",
    "##\n",
    "## nrandom: number of random set (default=1)\n",
    "##\n",
    "function _kappa_ms(indMass, x, y , z, nrandom=1, dtyp=\"2d\", daver= \"geo\")\n",
    "    npop= length(indMass)\n",
    "    ntot= length(x)\n",
    "    \n",
    "    ## Massive stars\n",
    "    krMass= _mst_graph(indMass, x,y,z , dtyp)\n",
    "    λMass= _lambda_mst(krMass,daver)\n",
    "    ## Random set\n",
    "    λArr= []\n",
    "    κArr= []\n",
    "    for i in 1:nrandom\n",
    "        perm= randperm(ntot)\n",
    "        indRef= perm[1:npop]\n",
    "        krRef= _mst_graph(indRef, x,y,z, dtyp)\n",
    "        λRef= _lambda_mst(krRef,daver)\n",
    "        push!(λArr,λRef)\n",
    "        push!(κArr, log(λRef/λMass))\n",
    "    end\n",
    "    λMean= mean(λArr)\n",
    "    σκ= std(κArr)\n",
    "    ## ratio (log) of the reference over massive ones\n",
    "    κms= log(λMean/λMass)\n",
    "    \n",
    "    return(κms , σκ)\n",
    "end"
   ]
  },
  {
   "cell_type": "code",
   "execution_count": 5,
   "metadata": {},
   "outputs": [
    {
     "data": {
      "text/plain": [
       "_get_kappaMS (generic function with 4 methods)"
      ]
     },
     "execution_count": 5,
     "metadata": {},
     "output_type": "execute_result"
    }
   ],
   "source": [
    "## Select the N percentile most massive stars (brighter)\n",
    "##\n",
    "\n",
    "function _select_massivestars(mag, percentile=5 , reverse=false)\n",
    "    nstar= length(mag)\n",
    "    isort= sortperm(mag, rev=reverse)\n",
    "    \n",
    "    nselect= convert(Int, floor(nstar*percentile/100))\n",
    "    return(isort[1:nselect])\n",
    "end\n",
    "\n",
    "\n",
    "## return the MS kappa and kappa_err\n",
    "## IN\n",
    "## mag: magnitude array\n",
    "## X,Y,Z: positions array\n",
    "## perc: percentile of massive stars\n",
    "## dtyp: \"3d\" or \"2d\"\n",
    "## daver: \"geo\" or \"ari\"\n",
    "## reverse: false:massive, true:light - stars\n",
    "\n",
    "function _get_kappaMS(mag, X, Y, Z, perc, dtyp=\"3d\", daver=\"geo\", reverse=false)\n",
    "    imass= _select_massivestars(mag, perc, reverse)\n",
    "    ns= _sample_size(length(imass), length(X))\n",
    "    κms, κms_err= _kappa_ms(imass, X, Y, Z, ns, dtyp, daver)\n",
    "    return(κms, κms_err)\n",
    "end"
   ]
  },
  {
   "cell_type": "code",
   "execution_count": 6,
   "metadata": {},
   "outputs": [
    {
     "data": {
      "text/plain": [
       "_get_Q (generic function with 1 method)"
      ]
     },
     "execution_count": 6,
     "metadata": {},
     "output_type": "execute_result"
    }
   ],
   "source": [
    "## Compute the Q ratio structure to measure the clustering of the OC.\n",
    "## See Cartwright et al. (2004)\n",
    "## directly adapted to 3D\n",
    "##\n",
    "\n",
    "### !!!!!!! Normalization to be checked on λ , Cartwright & 2004\n",
    "function _get_Q(X, Y , Z)\n",
    "    nxyz= length(X)\n",
    "    A= Array{Float64}(undef,3,nxyz) \n",
    "    for i in 1:nxyz\n",
    "            A[:,i]= [X[i] Y[i] Z[i]]\n",
    "    end\n",
    "    \n",
    "    d= Euclidean()\n",
    "    p= pairwise(d, A, A, dims=2)\n",
    "    \n",
    "    src= Array{Int}(undef,0)\n",
    "    dst= Array{Int}(undef,0)\n",
    "    wgt= Array{Float64}(undef,0)\n",
    "\n",
    "    for i in 1:nxyz\n",
    "        for j in 1:nxyz\n",
    "            if i != j\n",
    "                push!(src,i)\n",
    "                push!(dst,j)\n",
    "                push!(wgt,p[i,j]) \n",
    "            end\n",
    "        end\n",
    "    end\n",
    "    \n",
    "    G= SimpleWeightedGraph(src, dst, wgt)\n",
    "    kr= kruskal_mst(G, G.weights)\n",
    "    \n",
    "    ## compute the mean (arithmtic) edge of MST and of star separation. We do not apply other normalization\n",
    "    λmst= 0\n",
    "    for w in kr\n",
    "        λmst+= w.weight\n",
    "    end\n",
    "    ## not the original normalization of Cartwright!\n",
    "    k= (4π / 3 / nxyz )^(1/3)\n",
    "    λmst /= k*length(kr)\n",
    "    \n",
    "    npair= nxyz*(nxyz-1)/2\n",
    "    sbar= sum(p) / npair\n",
    "    \n",
    "    Q= λmst / sbar\n",
    "end"
   ]
  },
  {
   "cell_type": "code",
   "execution_count": 7,
   "metadata": {},
   "outputs": [
    {
     "data": {
      "image/png": "[encoded data removed]",
      "text/plain": [
       "PyPlot.Figure(PyObject <Figure size 640x480 with 1 Axes>)"
      ]
     },
     "metadata": {},
     "output_type": "display_data"
    },
    {
     "name": "stdout",
     "output_type": "stream",
     "text": [
      "0.30929209039839295\n",
      "0.07707671292305804\n"
     ]
    }
   ],
   "source": [
    "## Main\n",
    "\n",
    "# kr= _mst_graph([1,5,10,16,20,27,30], oc[:X], oc[:Y] , oc[:Z] , \"2d\")\n",
    "#  _lambda_mst(kr,\"geo\")\n",
    "\n",
    "\n",
    "imass= _select_massivestars(oc[:gbar], 15)\n",
    "ns= _sample_size(length(imass), length(oc[:X]))\n",
    "y, yerr= _kappa_ms( imass, oc[:X], oc[:Y] , oc[:Z], ns, \"3d\", \"geo\")\n",
    "println(y)\n",
    "println(yerr)\n",
    "\n",
    "\n",
    "## plots..\n",
    "\n",
    "percentile=[]\n",
    "Κms= []\n",
    "errΚms= []\n",
    "\n",
    "for perc in 5:95\n",
    "    push!(percentile, perc)\n",
    "     imass= _select_massivestars(oc[:gbar], perc, false)\n",
    "    ns= _sample_size(length(imass), length(oc[:X]))\n",
    "    y, yerr= _kappa_ms( imass, oc[:X], oc[:Y] , oc[:Z], ns, \"3d\", \"geo\")\n",
    "    push!(Κms, y)\n",
    "    push!(errΚms, yerr)   \n",
    "end\n",
    "\n",
    "\n",
    "PyPlot.errorbar(percentile, Κms, yerr=errΚms)\n",
    "PyPlot.plot([0,100],[0,0])\n",
    "PyPlot.show()"
   ]
  },
  {
   "cell_type": "code",
   "execution_count": 8,
   "metadata": {},
   "outputs": [
    {
     "data": {
      "image/png": "[encoded data removed]",
      "text/plain": [
       "PyPlot.Figure(PyObject <Figure size 1000x1000 with 2 Axes>)"
      ]
     },
     "metadata": {},
     "output_type": "display_data"
    },
    {
     "name": "stdout",
     "output_type": "stream",
     "text": [
      "-0.03375937140562855\n"
     ]
    }
   ],
   "source": [
    "## Loop over all OCs\n",
    "\n",
    "cd(ocdir)\n",
    "files= glob(\"*csv\")\n",
    "cd(wdir)\n",
    "\n",
    "percms= 10\n",
    "ilabel= []\n",
    "Κms= []\n",
    "errΚms= []\n",
    "i= 0\n",
    "for f in files\n",
    "    i+= 1\n",
    "    oc= CSV.read(\"$ocdir/$f\" , delim= \";\")\n",
    "    # imass= _select_massivestars(oc[:gbar], percms)\n",
    "    # ns= _sample_size(length(imass), length(oc[:X]))\n",
    "    # y, yerr= _kappa_ms( imass, oc[:X], oc[:Y] , oc[:Z], ns, \"3d\", \"geo\")\n",
    "    y, yerr= _get_kappaMS(oc[:gbar],oc[:X], oc[:Y] , oc[:Z], percms, \"3d\", \"geo\", true)\n",
    "    #y= _get_Q(oc[:X], oc[:Y] , oc[:Z]) ; yerr=1\n",
    "    push!(ilabel, i)\n",
    "    push!(Κms, y)\n",
    "    push!(errΚms, yerr)  \n",
    "end\n",
    "\n",
    "println(mean(Κms))\n",
    "\n",
    "fig= PyPlot.figure(figsize=(10,10))\n",
    "\n",
    "ax= PyPlot.subplot(221)\n",
    "PyPlot.grid(\"on\")\n",
    "PyPlot.errorbar(ilabel, Κms, yerr=errΚms)\n",
    "PyPlot.plot([0,length(ilabel)],[0,0])\n",
    "\n",
    "ax= PyPlot.subplot(222)\n",
    "PyPlot.grid(\"on\")\n",
    "PyPlot.hist(Κms , 40, density=false, facecolor=\"g\")\n",
    "\n",
    "PyPlot.show()"
   ]
  },
  {
   "cell_type": "code",
   "execution_count": 9,
   "metadata": {},
   "outputs": [
    {
     "data": {
      "text/plain": [
       "0.30986790985762763"
      ]
     },
     "execution_count": 9,
     "metadata": {},
     "output_type": "execute_result"
    }
   ],
   "source": [
    "### Q structure factor\n",
    "_get_Q(oc[:X], oc[:Y] , oc[:Z])"
   ]
  },
  {
   "cell_type": "code",
   "execution_count": 10,
   "metadata": {
    "scrolled": true
   },
   "outputs": [
    {
     "data": {
      "text/plain": [
       "\"votlist.finalSample_metric0.01-age.MS.csv\""
      ]
     },
     "execution_count": 10,
     "metadata": {},
     "output_type": "execute_result"
    }
   ],
   "source": [
    "## looping on all OCs to compute MS and Q\n",
    "##\n",
    "ocage= CSV.read(\"votlist.finalSample_metric0.01-age.csv\", delim=\";\")\n",
    "\n",
    "t1= Array{Float64,1}(undef,0) ; t2= Array{Float64,1}(undef,0) ; t3= Array{Float64,1}(undef,0)\n",
    "t4= Array{Float64,1}(undef,0) ; t5= Array{Float64,1}(undef,0) ; t6= Array{Float64,1}(undef,0)\n",
    "\n",
    "t7= Array{Float64,1}(undef,0) ; t8= Array{Float64,1}(undef,0) ; t9= Array{Float64,1}(undef,0)\n",
    "t10= Array{Float64,1}(undef,0) ; t11= Array{Float64,1}(undef,0) ; t12= Array{Float64,1}(undef,0)\n",
    "t13= Array{Float64,1}(undef,0) \n",
    "\n",
    "for vot in ocage[:votname]\n",
    "    ocfile= @sprintf(\"%s/%s-oc.csv\", ocdir, vot[1:end-4])\n",
    "    oc= CSV.read(ocfile, delim= \";\")\n",
    "    \n",
    "    κ10, κ10_err= get_kappaMS(oc[:gbar],oc[:X], oc[:Y] , oc[:Z], 10, \"3d\", \"geo\", false)\n",
    "    κ15, κ15_err= get_kappaMS(oc[:gbar],oc[:X], oc[:Y] , oc[:Z], 15, \"3d\", \"geo\", false)\n",
    "    κ20, κ20_err= get_kappaMS(oc[:gbar],oc[:X], oc[:Y] , oc[:Z], 20, \"3d\", \"geo\", false)\n",
    "    κlight10, κlight10_err= _get_kappaMS(oc[:gbar],oc[:X], oc[:Y] , oc[:Z], 10, \"3d\", \"geo\", true)\n",
    "    κlight15, κlight15_err= _get_kappaMS(oc[:gbar],oc[:X], oc[:Y] , oc[:Z], 15, \"3d\", \"geo\", true)\n",
    "    κlight20, κlight20_err= _get_kappaMS(oc[:gbar],oc[:X], oc[:Y] , oc[:Z], 20, \"3d\", \"geo\", true)\n",
    "    Q= get_Q(oc[:X], oc[:Y] , oc[:Z])\n",
    "    \n",
    "    push!(t1, κ10) ; push!(t2, κ10_err)  ; push!(t3, κ15) ; push!(t4, κ15_err)  \n",
    "    push!(t5, κ20) ; push!(t6, κ20_err)\n",
    "    push!(t7, κlight10) ; push!(t8, κlight10_err)  ; push!(t9, κlight15) ; push!(t10, κlight15_err)  \n",
    "    push!(t11, κlight20) ; push!(t12, κlight20_err) \n",
    "    push!(t13, Q)\n",
    "end\n",
    "\n",
    "ocage.kappa10= t1 ; ocage.kappa10err= t2 ; ocage.kappa15= t3 ; ocage.kappa15err= t4\n",
    "ocage.kappa20= t5 ; ocage.kappa20err= t6\n",
    "ocage.kappalight10= t7 ; ocage.kappalight10err= t8 ; ocage.kappalight15= t9 ; ocage.kappalight15err= t10\n",
    "ocage.kappalight20= t11 ; ocage.kappalight20err= t12\n",
    "ocage.Q= t13\n",
    "\n",
    "CSV.write(\"votlist.finalSample_metric0.01-age.MS.csv\", ocage, delim=\";\")"
   ]
  },
  {
   "cell_type": "code",
   "execution_count": 15,
   "metadata": {},
   "outputs": [
    {
     "data": {
      "image/png": "[encoded data removed]",
      "text/plain": [
       "PyPlot.Figure(PyObject <Figure size 1000x1000 with 2 Axes>)"
      ]
     },
     "metadata": {},
     "output_type": "display_data"
    }
   ],
   "source": [
    "fig= PyPlot.figure(figsize=(10,10))\n",
    "\n",
    "ax= PyPlot.subplot(221)\n",
    "PyPlot.grid(\"on\")\n",
    "PyPlot.scatter(ocage[:log_age],ocage[:kappalight20] , s=1, facecolor=\"blue\")\n",
    "\n",
    "ax= PyPlot.subplot(222)\n",
    "PyPlot.grid(\"on\")\n",
    "PyPlot.hist(ocage[:kappa10] , 50, density=false, facecolor=\"g\")\n",
    "PyPlot.hist(ocage[:kappalight10] , 50, density=false, facecolor=\"r\", alpha=0.5)\n",
    "\n",
    "PyPlot.show()"
   ]
  }
 ],
 "metadata": {
  "@webio": {
   "lastCommId": null,
   "lastKernelId": null
  },
  "kernelspec": {
   "display_name": "Julia 1.1.0",
   "language": "julia",
   "name": "julia-1.1"
  },
  "language_info": {
   "file_extension": ".jl",
   "mimetype": "application/julia",
   "name": "julia",
   "version": "1.1.0"
  }
 },
 "nbformat": 4,
 "nbformat_minor": 2
}
