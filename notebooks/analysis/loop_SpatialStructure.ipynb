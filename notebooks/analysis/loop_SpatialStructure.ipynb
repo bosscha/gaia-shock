{
 "cells": [
  {
   "cell_type": "markdown",
   "metadata": {},
   "source": [
    "## Loop for Spatial Structure Parameter"
   ]
  },
  {
   "cell_type": "code",
   "execution_count": 1,
   "metadata": {},
   "outputs": [
    {
     "name": "stderr",
     "output_type": "stream",
     "text": [
      "┌ Info: Recompiling stale cache file /home/stephane/.julia/compiled/v1.2/GaiaClustering.ji for GaiaClustering [top-level]\n",
      "└ @ Base loading.jl:1240\n"
     ]
    }
   ],
   "source": [
    "using PyCall\n",
    "using Distributions, Statistics, Distances\n",
    "using DataFrames\n",
    "using LightGraphs, SimpleWeightedGraphs\n",
    "using Random , Printf, Glob\n",
    "\n",
    "import PyPlot , CSV\n",
    "import Distances, StatsBase\n",
    "\n",
    "rootdir = \"/home/stephane/Science/cluster/GAIA\"\n",
    "\n",
    "push!(LOAD_PATH,\"$rootdir/master/src\")\n",
    "using GaiaClustering\n",
    "\n",
    "## directory\n",
    "wdir    = \"$rootdir/products\"\n",
    "plotdir = \"$rootdir/products/test\"\n",
    "ocdir= \"$wdir/oc\"\n",
    "\n",
    "cd(wdir)"
   ]
  },
  {
   "cell_type": "code",
   "execution_count": 2,
   "metadata": {},
   "outputs": [
    {
     "name": "stdout",
     "output_type": "stream",
     "text": [
      "## ocfile: ASCC 10-2.7deg-oc.csv\n",
      "## fitting the radial profile....\n",
      "## file /home/stephane/Science/cluster/GAIA/products/oc/ASCC 10-2.7deg-oc.csv read...\n",
      "## Density profiles computed...\n",
      "## Prior Guess:\n",
      "GaiaClustering.modelCauchy(4.737930965435087, 1.9269167756933834, 3.0)\n",
      "## prior estimated...\n",
      "## Running mcmc 2D fitting\n"
     ]
    },
    {
     "ename": "MethodError",
     "evalue": "MethodError: no method matching theta(::GaiaClustering.mcmcCauchy, ::GaiaClustering.sc2dcentered, ::typeof(GaiaClustering.likelihood2dbin), ::Bool)",
     "output_type": "error",
     "traceback": [
      "MethodError: no method matching theta(::GaiaClustering.mcmcCauchy, ::GaiaClustering.sc2dcentered, ::typeof(GaiaClustering.likelihood2dbin), ::Bool)",
      "",
      "Stacktrace:",
      " [1] main_mcmc(::GaiaClustering.sc2dcentered, ::GaiaClustering.mcmcCauchy, ::typeof(GaiaClustering.likelihood2dbin), ::Bool, ::Bool) at /home/stephane/Science/cluster/GAIA/master/src/spatialStructure.jl:246",
      " [2] spatialParameter(::String, ::Int64, ::Int64, ::Int64, ::Bool) at /home/stephane/Science/cluster/GAIA/master/src/spatialStructure.jl:52",
      " [3] top-level scope at ./In[2]:16"
     ]
    }
   ],
   "source": [
    "cd(ocdir)\n",
    "files= glob(\"*csv\")\n",
    "cd(wdir)\n",
    "\n",
    "ilabel= []\n",
    "\n",
    "i= 0\n",
    "for f in files\n",
    "    i+= 1\n",
    "    # oc= CSV.read(\"$ocdir/$f\" , delim= \";\")\n",
    "    ocfile= \"$ocdir/$f\"\n",
    "    println(\"## ocfile: $f\")\n",
    "    println(\"## fitting the radial profile....\")\n",
    "    \n",
    "    ntest= 50 ; nbin=20 ; niter=50000\n",
    "    θfit, θfiterr= spatialParameter(ocfile, ntest, nbin, niter, true)\n",
    "    println(θfit)\n",
    "    println(θfiterr)\n",
    "    println(\" \")\n",
    "    push!(ilabel, i)\n",
    "end"
   ]
  }
 ],
 "metadata": {
  "@webio": {
   "lastCommId": null,
   "lastKernelId": null
  },
  "kernelspec": {
   "display_name": "Julia 1.2.0",
   "language": "julia",
   "name": "julia-1.2"
  },
  "language_info": {
   "file_extension": ".jl",
   "mimetype": "application/julia",
   "name": "julia",
   "version": "1.2.0"
  }
 },
 "nbformat": 4,
 "nbformat_minor": 2
}
