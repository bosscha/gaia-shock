{
 "cells": [
  {
   "cell_type": "markdown",
   "metadata": {},
   "source": [
    "## Testing Julia for GAIA\n",
    "\n",
    "using the julia language for GAIA analaysis"
   ]
  },
  {
   "cell_type": "code",
   "execution_count": 24,
   "metadata": {},
   "outputs": [
    {
     "data": {
      "text/plain": [
       "normalizationVector (generic function with 1 method)"
      ]
     },
     "execution_count": 24,
     "metadata": {},
     "output_type": "execute_result"
    }
   ],
   "source": [
    "using PyCall\n",
    "using DataFrames\n",
    "using Clustering\n",
    "using Statistics\n",
    "\n",
    "import PyPlot; const plt = PyPlot\n",
    "\n",
    "@pyimport astropy.io.votable as votable\n",
    "# @pyimport matplotlib.pyplot as plt\n",
    "\n",
    "## directory\n",
    "rootdir = \"/home/stephane/Science/cluster/GAIA\"\n",
    "wdir    = \"/home/stephane/Science/cluster/GAIA/products\"\n",
    "\n",
    "cd(wdir)\n",
    "\n",
    "## gaia module to deal with data\n",
    "include(\"../master/src/data.jl\")"
   ]
  },
  {
   "cell_type": "code",
   "execution_count": 25,
   "metadata": {},
   "outputs": [],
   "source": [
    "## Types and Constants\n",
    "\n",
    "DEG2RAD =  π / 180.\n",
    "\n",
    "mutable struct Df\n",
    "    ndata::Int32\n",
    "    data::Array{Float64}\n",
    "    err::Array{Float64}\n",
    "end\n",
    "\n",
    "#function copy(s::Df)\n",
    "#    c = Df(s.ndata, zeros(length(s.data[:,1]),s.ndata), zeros(length(s.err[:,1]),s.ndata))\n",
    "#    c.data[:,:] = s.data[:,:]\n",
    "#    c.err[:,:]  = s.err[:,:]\n",
    "    \n",
    "#    return(c)\n",
    "#end\n",
    "    "
   ]
  },
  {
   "cell_type": "code",
   "execution_count": null,
   "metadata": {
    "scrolled": false
   },
   "outputs": [],
   "source": [
    "## Main program\n",
    "# voname = \"NGC 2516-1.0deg.vot\"\n",
    "voname = \"test.vot\"\n",
    "\n",
    "data       = read_votable(voname)\n",
    "df         = filter_data(data)\n",
    "dfcart     = add_cartesian(df)\n",
    "\n",
    "blck       = [[1,2,3],[4,5], [6,7,8]]\n",
    "wghtblck   = [3.,2.,1.5]\n",
    "norm = \"normal\"\n",
    "dfcartnorm = normalization_PerBlock(dfcart, blck, wghtblck , norm) \n"
   ]
  },
  {
   "cell_type": "code",
   "execution_count": null,
   "metadata": {},
   "outputs": [],
   "source": [
    "## Clustering ..\n",
    "println(\"## Starting DBSCAN ...\")\n",
    "\n",
    "eps = 3.0\n",
    "\n",
    "res = dbscan(dfcartnorm.data , eps , leafsize=20, min_neighbors=5, min_cluster_size=10)\n",
    "\n",
    "println(typeof(res))\n",
    "\n",
    "\n",
    "for cl in res\n",
    "    println(length(cl.core_indices))\n",
    "    println(length(cl.boundary_indices))\n",
    "end\n",
    "\n",
    "indx = res[1].core_indices\n",
    "append!(indx, res[1].boundary_indices)\n",
    "\n",
    "#println(source.data[:,1])\n",
    "x = dfcartnorm.data[1,indx]\n",
    "y = dfcartnorm.data[3,indx]\n",
    "\n",
    "\n",
    "plt.scatter(x, y , s = 0.4 )\n",
    "plt.show()"
   ]
  }
 ],
 "metadata": {
  "kernelspec": {
   "display_name": "Julia 1.0.0",
   "language": "julia",
   "name": "julia-1.0"
  },
  "language_info": {
   "file_extension": ".jl",
   "mimetype": "application/julia",
   "name": "julia",
   "version": "1.0.0"
  }
 },
 "nbformat": 4,
 "nbformat_minor": 2
}
