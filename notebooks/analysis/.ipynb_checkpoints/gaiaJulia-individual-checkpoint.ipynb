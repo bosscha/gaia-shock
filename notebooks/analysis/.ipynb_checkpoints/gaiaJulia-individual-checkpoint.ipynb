{
 "cells": [
  {
   "cell_type": "markdown",
   "metadata": {},
   "source": [
    "### Individual solution with the plots"
   ]
  },
  {
   "cell_type": "code",
   "execution_count": 15,
   "metadata": {},
   "outputs": [],
   "source": [
    "using PyCall\n",
    "using Distributions\n",
    "using Statistics\n",
    "\n",
    "using Distances\n",
    "using Random\n",
    "\n",
    "push!(LOAD_PATH,\"/home/stephane/Science/cluster/GAIA/master/src\")\n",
    "using GaiaClustering\n",
    "\n",
    "import PyPlot\n",
    "\n",
    "\n",
    "## directory\n",
    "rootdir = \"/home/stephane/Science/cluster/GAIA\"\n",
    "wdir    = \"/home/stephane/Science/cluster/GAIA/products\"\n",
    "plotdir = \"/home/stephane/Science/cluster/GAIA/products/test\"\n",
    "\n",
    "cd(wdir)\n",
    "\n",
    "## bais properties of a cluster"
   ]
  },
  {
   "cell_type": "code",
   "execution_count": 16,
   "metadata": {},
   "outputs": [
    {
     "data": {
      "text/plain": [
       "getdata (generic function with 1 method)"
      ]
     },
     "execution_count": 16,
     "metadata": {},
     "output_type": "execute_result"
    }
   ],
   "source": [
    "function getdata(filevot)\n",
    "    voname = filevot\n",
    "\n",
    "    data       = read_votable(voname)\n",
    "    df         = filter_data(data)\n",
    "    dfcart     = add_cartesian(df)\n",
    "    blck       = [[1,2,3],[4,5], [6,7,8]]\n",
    "    wghtblck   = [4.0,5.0,1.0]\n",
    "    norm       = \"identity\"\n",
    "\n",
    "    dfcartnorm , scale8 = normalization_PerBlock(dfcart, blck, wghtblck , norm, false) \n",
    "    return(df, dfcart , dfcartnorm)\n",
    "end"
   ]
  },
  {
   "cell_type": "code",
   "execution_count": 17,
   "metadata": {},
   "outputs": [
    {
     "data": {
      "text/plain": [
       "_plot_cluster (generic function with 3 methods)"
      ]
     },
     "execution_count": 17,
     "metadata": {},
     "output_type": "execute_result"
    }
   ],
   "source": [
    "## label from the dbscan labels with maximum stars\n",
    "function _find_cluster_label(labels)\n",
    "    let\n",
    "    i = 1 ; nmax = 0 ; ilabel = 1\n",
    "        for ilab in labels\n",
    "            nlab = length(ilab)\n",
    "            if nlab > nmax\n",
    "                ilabel = i\n",
    "                nmax= nlab\n",
    "            end\n",
    "            i += 1\n",
    "        end\n",
    "    return(ilabel, nmax)\n",
    "    end\n",
    "end\n",
    "\n",
    "## compute the properties of the cluster with indices indx\n",
    "function _get_properties_SC(indx, df::GaiaClustering.Df, dfcart::GaiaClustering.Df)::GaiaClustering.SCproperties\n",
    "    nstars   = length(indx)\n",
    "    distance = mean(df.data[3,indx])\n",
    "    l        = mean(df.data[1,indx])\n",
    "    b        = mean(df.data[2,indx])\n",
    "    vra      = mean(df.data[4,indx])\n",
    "    vdec     = mean(df.data[5,indx])\n",
    "    xdisp    = std(dfcart.data[1,indx])\n",
    "    ydisp    = std(dfcart.data[2,indx])\n",
    "    zdisp    = std(dfcart.data[3,indx])\n",
    "    vradisp  = std(df.data[4,indx])\n",
    "    vdecdisp = std(df.data[5,indx])\n",
    "    \n",
    "    sc = GaiaClustering.SCproperties(nstars , distance, l , b , vra , vdec ,  xdisp , ydisp , zdisp , vradisp, vdecdisp)\n",
    "    return(sc)\n",
    "    \n",
    "end\n",
    "\n",
    "\n",
    "function _plot_cluster(plotdir, voname, indx, sc::GaiaClustering.SCproperties, df::GaiaClustering.Df, showplot = true , cmap = \"gist_stern\")\n",
    "\n",
    "    PyPlot.plt[:figure](figsize=(9.0,13.0))\n",
    "\n",
    "    PyPlot.plt[:subplot](3, 2, 1 , xlim = [-20,20] , ylim = [-20,20])\n",
    "    xx = df.data[2,indx]\n",
    "    yy = df.data[3,indx]\n",
    "    ## A circle of radius std(z)\n",
    "    # xc = mean(df.data[2,indx]) ; yc = mean(df.data[3,indx])\n",
    "    # circle1 = PyPlot.plt[:Circle](0.,0.,1.)\n",
    "    PyPlot.plt[:scatter](xx, yy , s = 1.0 )\n",
    "    PyPlot.plt[:xlabel](\"Y (pc)\")\n",
    "    PyPlot.plt[:ylabel](\"Z (pc)\")\n",
    "    PyPlot.plt[:grid](true)\n",
    "    \n",
    "    PyPlot.plt[:subplot](3, 2, 2 , ylim = [-20,20])\n",
    "    xx = df.data[1,indx]\n",
    "    yy = df.data[3,indx]\n",
    "    PyPlot.plt[:scatter](xx, yy , s = 1.0 )\n",
    "    PyPlot.plt[:xlabel](\"X (pc)\")\n",
    "    PyPlot.plt[:ylabel](\"Z (pc)\")\n",
    "    PyPlot.plt[:grid](true)\n",
    "    \n",
    "    PyPlot.plt[:subplot](3, 2, 3 , xlim = [-20,20])\n",
    "    xx = df.data[2,indx]\n",
    "    yy = df.data[1,indx]\n",
    "    PyPlot.plt[:scatter](xx, yy , s = 1.0 )\n",
    "    PyPlot.plt[:xlabel](\"Y (pc)\")\n",
    "    PyPlot.plt[:ylabel](\"X (pc)\")\n",
    "    PyPlot.plt[:grid](true)\n",
    "        \n",
    "    PyPlot.plt[:subplot](3, 2, 4)\n",
    "    PyPlot.plt[:axis](\"off\")\n",
    "    ## text to display\n",
    "    text =[]\n",
    "    v = sc.nstars ; txt = \"N stars   : $v\" ; push!(text,txt)\n",
    "    v = sc.distance ; txt = \"Distance  : $v (pc)\" ; push!(text,txt)\n",
    "    v = sc.l ; txt = \"l         : $v (degree)\" ; push!(text,txt)\n",
    "    v = sc.b ; txt = \"b         : $v (degree)\" ; push!(text,txt)\n",
    "    v = sc.vra ; txt = \"VRA       : $v (km/s)\" ; push!(text,txt)\n",
    "    v = sc.vdec ; txt = \"VDec      : $v (km/s)\"; push!(text,txt)\n",
    "    v = sc.xdisp ; txt = \"X disp.   : $v (pc)\" ; push!(text,txt)\n",
    "    v = sc.ydisp ; txt = \"Y disp.   : $v (pc)\" ; push!(text,txt)\n",
    "    v = sc.zdisp ; txt = \"Z disp.   : $v (pc)\" ; push!(text,txt)\n",
    "    v = sc.vradisp ; txt = \"VRA disp. : $v (km/s)\" ; push!(text,txt)\n",
    "    v = sc.vdecdisp ; txt = \"VDec disp.: $v (km/s)\" ; push!(text,txt) \n",
    "    show_text(-0.01,0.0, text , 1.0)\n",
    "    \n",
    "    PyPlot.plt[:subplot](3, 2, 5 )\n",
    "    PyPlot.plt[:axis](\"on\")    \n",
    "    xx = df.data[7,indx]\n",
    "    yy = -df.data[6,indx]\n",
    "    PyPlot.plt[:scatter](xx, yy , s = 1.0 )\n",
    "    PyPlot.plt[:xlabel](\"G-Rp\")\n",
    "    PyPlot.plt[:ylabel](\"G\")\n",
    "    PyPlot.plt[:grid](true)\n",
    "    \n",
    "    PyPlot.plt[:subplot](3, 2, 6 )\n",
    "    xx = df.data[4,indx]\n",
    "    yy = df.data[5,indx]\n",
    "    PyPlot.plt[:scatter](xx, yy , s = 1.0 )\n",
    "    PyPlot.plt[:xlabel](\"Vra (km/s)\")\n",
    "    PyPlot.plt[:ylabel](\"Vdec (km/s)\")\n",
    "    PyPlot.plt[:grid](true)\n",
    "    \n",
    "    figname = plotdir*\"/\"*voname*\"-cluster.png\"\n",
    "    PyPlot.plt[:savefig](figname)\n",
    "    if showplot PyPlot.plt[:show]() end\n",
    "end"
   ]
  },
  {
   "cell_type": "code",
   "execution_count": 18,
   "metadata": {},
   "outputs": [
    {
     "name": "stdout",
     "output_type": "stream",
     "text": [
      "## Main ...\n",
      "## Votable test.vot read\n",
      "## Filtering done ...\n",
      "## Stars selected: 16054\n",
      "## Cartesian transformation done ...\n",
      "## Normalization identity done...\n",
      "### [1pc,1pc,1pc,1km/s,1km/s,1mag,1mag] equivalent to [0.398015, 0.398015, 0.398015, 0.497519, 0.497519, 0.0995037, 0.0995037, 0.0995037]\n",
      "##\n",
      "ϵ : 2.5\n",
      "## dbscan..\n",
      "## done.\n",
      "### 1 clusters found.)\n",
      "### Label solution: 1\n",
      "### N stars: 318\n"
     ]
    },
    {
     "ename": "LoadError",
     "evalue": "UndefVarError: SCproperties not defined",
     "output_type": "error",
     "traceback": [
      "UndefVarError: SCproperties not defined",
      "",
      "Stacktrace:",
      " [1] _get_properties_SC(::Array{Int64,1}, ::GaiaClustering.Df, ::GaiaClustering.Df) at ./In[17]:31",
      " [2] @main(::LineNumberNode, ::Module, ::Any) at ./In[18]:21"
     ]
    }
   ],
   "source": [
    "macro main(votname)\n",
    "    Random.seed!(1237)\n",
    "    println(\"## Main ...\")\n",
    "    \n",
    "    ## Get the cluster data..\n",
    "    df ,  dfcart, dfnorm = getdata(votname)\n",
    "    \n",
    "    eps = 2.5\n",
    "    min_nei = 5\n",
    "    min_cl = 15\n",
    "    println(\"ϵ : $eps\")\n",
    "\n",
    "    println(\"## dbscan..\")\n",
    "    labels = clusters(dfnorm.data , eps , 20, min_nei, min_cl)\n",
    "    labelmax , nmax = find_cluster_label(labels)\n",
    "    println(\"## done.\")\n",
    "    \n",
    "    println(\"### $(length(labels)) clusters found.)\")\n",
    "    println(\"### Label solution: $labelmax\")\n",
    "    println(\"### N stars: $nmax\")\n",
    "    scproperties = _get_properties_SC(labels[labelmax] , df, dfcart)\n",
    "    println(scproperties)\n",
    "    _plot_cluster(plotdir, votname, labels[labelmax], scproperties,  dfcart)\n",
    "    \n",
    "    \n",
    "end\n",
    "\n",
    "@main(\"test.vot\")"
   ]
  }
 ],
 "metadata": {
  "kernelspec": {
   "display_name": "Julia 1.0.0",
   "language": "julia",
   "name": "julia-1.0"
  },
  "language_info": {
   "file_extension": ".jl",
   "mimetype": "application/julia",
   "name": "julia",
   "version": "1.0.0"
  }
 },
 "nbformat": 4,
 "nbformat_minor": 2
}
