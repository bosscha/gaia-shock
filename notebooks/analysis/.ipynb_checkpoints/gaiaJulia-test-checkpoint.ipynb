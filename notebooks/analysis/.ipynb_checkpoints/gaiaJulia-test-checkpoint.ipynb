{
 "cells": [
  {
   "cell_type": "markdown",
   "metadata": {},
   "source": [
    "## Testing Julia for GAIA\n",
    "\n",
    "using the julia language for GAIA analaysis <br>\n",
    "\n",
    "1. Testing the optimization of the dbscan\n",
    "2. Testng Affinity propagation\n"
   ]
  },
  {
   "cell_type": "code",
   "execution_count": 1,
   "metadata": {},
   "outputs": [
    {
     "ename": "ArgumentError",
     "evalue": "ArgumentError: Package gaiaClustering not found in current path:\n- Run `Pkg.add(\"gaiaClustering\")` to install the gaiaClustering package.\n",
     "output_type": "error",
     "traceback": [
      "ArgumentError: Package gaiaClustering not found in current path:\n- Run `Pkg.add(\"gaiaClustering\")` to install the gaiaClustering package.\n",
      "",
      "Stacktrace:",
      " [1] require(::Module, ::Symbol) at ./loading.jl:817",
      " [2] top-level scope at In[1]:10"
     ]
    }
   ],
   "source": [
    "using PyCall\n",
    "using DataFrames\n",
    "using Statistics\n",
    "\n",
    "using Clustering \n",
    "using Statistics\n",
    "using Distances\n",
    "\n",
    "push!(LOAD_PATH,\"/home/stephane/Science/cluster/GAIA/master/src\")\n",
    "using GaiaClustering\n",
    "\n",
    "import PyPlot; const plt = PyPlot\n",
    "\n",
    "@pyimport astropy.io.votable as votable\n",
    "# @pyimport matplotlib.pyplot as plt\n",
    "\n",
    "## directory\n",
    "rootdir = \"/home/stephane/Science/cluster/GAIA\"\n",
    "wdir    = \"/home/stephane/Science/cluster/GAIA/products\"\n",
    "\n",
    "cd(wdir)"
   ]
  },
  {
   "cell_type": "code",
   "execution_count": 2,
   "metadata": {
    "scrolled": false
   },
   "outputs": [
    {
     "ename": "UndefVarError",
     "evalue": "UndefVarError: read_votable not defined",
     "output_type": "error",
     "traceback": [
      "UndefVarError: read_votable not defined",
      "",
      "Stacktrace:",
      " [1] top-level scope at In[2]:4"
     ]
    }
   ],
   "source": [
    "## Main program\n",
    "\n",
    "voname = \"test.vot\"\n",
    "\n",
    "data       = read_votable(voname)\n",
    "df         = filter_data(data)\n",
    "dfcart     = add_cartesian(df)\n",
    "blck       = [[1,2,3],[4,5], [6,7,8]]\n",
    "wghtblck   = [5.0,8.0,1.0]\n",
    "norm       = \"identity\"\n",
    "\n",
    "dfcartnorm , scale8 = normalization_PerBlock(dfcart, blck, wghtblck , norm, false) "
   ]
  },
  {
   "cell_type": "code",
   "execution_count": 3,
   "metadata": {},
   "outputs": [
    {
     "name": "stdout",
     "output_type": "stream",
     "text": [
      "## Starting Clustering ...\n",
      "ϵ : 4.5\n"
     ]
    },
    {
     "ename": "UndefVarError",
     "evalue": "UndefVarError: copy1 not defined",
     "output_type": "error",
     "traceback": [
      "UndefVarError: copy1 not defined",
      "",
      "Stacktrace:",
      " [1] top-level scope at In[3]:9"
     ]
    }
   ],
   "source": [
    "## Clustering ..\n",
    "println(\"## Starting Clustering ...\")\n",
    "\n",
    "\n",
    "###########################3\n",
    "eps = 4.5\n",
    "\n",
    "println(\"ϵ : $eps\")\n",
    "\n",
    "dftemp = copy1(dfcartnorm)\n",
    "\n",
    "println(\"## dbscan..\")\n",
    "res1 = dbscan(dftemp.data , eps , leafsize=20, min_neighbors=10, min_cluster_size=25)\n",
    "println(\"### done ...\")\n",
    "\n",
    "println(\"## Ward\")\n",
    "d = pairwise(Euclidean(), dftemp.data, dftemp.data)\n",
    "res = hclust(d)\n",
    "println(\"### done ...\")\n",
    "\n",
    "# println(res.order)\n",
    "# println(res.heights)\n",
    "\n",
    "ind = findall( x -> x < 1.0, res.heights)\n",
    "\n",
    "indx = res.order[ind]\n",
    "println(length(indx))\n",
    "\n",
    "i = 1\n",
    "for cl in res1\n",
    "    println(\"i : $i\")\n",
    "    i += 1\n",
    "    indx1 = cl.core_indices\n",
    "    append!(indx1, cl.boundary_indices) \n",
    "    println(length(indx1))\n",
    "    mean1 = mean(dfcart.data[1,indx1])\n",
    "    lgal1 = mean(df.data[1,indx1])\n",
    "    bgal1 = mean(df.data[2,indx1])\n",
    "    println(\"Mean: $mean1\")\n",
    "    println(\"lgal : $lgal1\")\n",
    "    println(\"bgal : $bgal1\")\n",
    "end\n",
    "indx = res1[1].core_indices\n",
    "append!(indx, res1[1].boundary_indices)   \n",
    "\n",
    "sdb = length(res1)\n",
    "println(\"Number of dbscan cluster $sdb\")\n",
    "\n",
    "# indx = find1(res , 8)\n",
    "\n"
   ]
  },
  {
   "cell_type": "code",
   "execution_count": 4,
   "metadata": {},
   "outputs": [
    {
     "ename": "UndefVarError",
     "evalue": "UndefVarError: plt not defined",
     "output_type": "error",
     "traceback": [
      "UndefVarError: plt not defined",
      "",
      "Stacktrace:",
      " [1] top-level scope at In[4]:1"
     ]
    }
   ],
   "source": [
    "plt.figure(figsize=(8.0,8.0))\n",
    "\n",
    "plt.subplot(2, 2, 1 , xlim = [-15,15], ylim = [-15,15])\n",
    "x = dfcart.data[2,indx]\n",
    "y = dfcart.data[3,indx]\n",
    "plt.scatter(x, y , s = 0.1 )\n",
    "\n",
    "plt.subplot(2, 2, 2)\n",
    "x = dfcart.data[1,indx]\n",
    "y = dfcart.data[2,indx]\n",
    "plt.scatter(x, y , s = 0.1 )\n",
    "\n",
    "plt.subplot(2, 2, 3)\n",
    "x = dfcart.data[7,indx]\n",
    "y = -dfcart.data[6,indx]\n",
    "plt.scatter(x, y , s = 0.1 )\n",
    "\n",
    "plt.subplot(2, 2, 4)\n",
    "x = dfcart.data[4,indx]\n",
    "y = -dfcart.data[5,indx]\n",
    "plt.scatter(x, y , s = 0.1 )\n",
    "\n",
    "\n",
    "plt.show()"
   ]
  }
 ],
 "metadata": {
  "kernelspec": {
   "display_name": "Julia 1.0.0",
   "language": "julia",
   "name": "julia-1.0"
  },
  "language_info": {
   "file_extension": ".jl",
   "mimetype": "application/julia",
   "name": "julia",
   "version": "1.0.0"
  }
 },
 "nbformat": 4,
 "nbformat_minor": 2
}
