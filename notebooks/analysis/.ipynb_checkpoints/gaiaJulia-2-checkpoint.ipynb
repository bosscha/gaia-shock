{
 "cells": [
  {
   "cell_type": "markdown",
   "metadata": {},
   "source": [
    "## Testing Julia for GAIA\n",
    "\n",
    "using the julia language for GAIA analaysis"
   ]
  },
  {
   "cell_type": "code",
   "execution_count": 1,
   "metadata": {},
   "outputs": [],
   "source": [
    "using PyCall\n",
    "using DataFrames\n",
    "using Clustering\n",
    "using Statistics\n",
    "\n",
    "import PyPlot; const plt = PyPlot\n",
    "\n",
    "\n",
    "@pyimport astropy.io.votable as votable\n",
    "# @pyimport matplotlib.pyplot as plt\n",
    "\n",
    "## directory\n",
    "rootdir = \"/home/stephane/Science/cluster/GAIA\"\n",
    "wdir    = \"/home/stephane/Science/cluster/GAIA/products\"\n",
    "\n",
    "cd(wdir)"
   ]
  },
  {
   "cell_type": "code",
   "execution_count": 2,
   "metadata": {},
   "outputs": [],
   "source": [
    "## Types and Constants\n",
    "\n",
    "DEG2RAD =  π / 180.\n",
    "\n",
    "mutable struct Df\n",
    "    ndata::Int32\n",
    "    data::Array{Float64}\n",
    "    err::Array{Float64}\n",
    "end\n",
    "\n",
    "function copy(s::Df)\n",
    "    c = Df(s.ndata, zeros(length(s.data[:,1]),s.ndata), zeros(length(s.err[:,1]),s.ndata))\n",
    "    c.data[:,:] = s.data[:,:]\n",
    "    c.err[:,:]  = s.err[:,:]\n",
    "    \n",
    "    return(c)\n",
    "end\n",
    "    "
   ]
  },
  {
   "cell_type": "code",
   "execution_count": 3,
   "metadata": {},
   "outputs": [
    {
     "data": {
      "text/plain": [
       "filter_data (generic function with 5 methods)"
      ]
     },
     "execution_count": 3,
     "metadata": {},
     "output_type": "execute_result"
    }
   ],
   "source": [
    "## function to create the df and filter the data\n",
    "#########\n",
    "function read_votable(voname::String)\n",
    "    \n",
    "    vot = votable.parse(voname)\n",
    "    data = vot[:get_first_table]() \n",
    "    \n",
    "    println(\"## Votable $voname read\")\n",
    "    \n",
    "    return(data[\"array\"][\"data\"])\n",
    "end\n",
    "\n",
    "\n",
    "#########\n",
    "function filter_data(gaia, dist_range = [0., 2000], vra_range = [-250,250], vdec_range = [-250.,250], mag_range =[-1e9, 1e9])::Df\n",
    "\n",
    "    ngaia = length(gaia)\n",
    "    \n",
    "    lgal = zeros(ngaia)\n",
    "    bgal = zeros(ngaia)    \n",
    "    distance = zeros(ngaia)    \n",
    "    vra = zeros(ngaia)\n",
    "    vdec = zeros(ngaia)    \n",
    "    g = zeros(ngaia)\n",
    "    rp = zeros(ngaia)     \n",
    "    bp = zeros(ngaia) \n",
    "    \n",
    "    for i in 1:ngaia\n",
    "        lgal[i]     = convert(Float64,gaia[i][\"l\"])\n",
    "        bgal[i]     = convert(Float64,gaia[i][\"b\"])\n",
    "        distance[i] = 1000. / convert(Float64,gaia[i][\"parallax\"])\n",
    "        pmra  = convert(Float64,gaia[i][\"pmra\"])\n",
    "        pmdec = convert(Float64,gaia[i][\"pmdec\"])\n",
    "        vra[i]      = 4.74e-3 * pmra  * distance[i]\n",
    "        vdec[i]     = 4.74e-3 * pmdec * distance[i]\n",
    "        \n",
    "        g[i]        = convert(Float64,gaia[i][\"phot_g_mean_mag\"])\n",
    "        rp[i]       = convert(Float64,gaia[i][\"phot_rp_mean_mag\"])\n",
    "        bp[i]       = convert(Float64,gaia[i][\"phot_bp_mean_mag\"])\n",
    "        \n",
    "        \n",
    "    end\n",
    "    \n",
    "    ## Filtering ...\n",
    "    i1 =  distance .> dist_range[1]\n",
    "    i2 =  distance .< dist_range[2]\n",
    "    i3 =  vra .> vra_range[1]\n",
    "    i4 =  vra .< vra_range[2]\n",
    "    i5 =  vdec .> vdec_range[1]\n",
    "    i6 =  vdec .< vdec_range[2]\n",
    "    i7 = g  .> mag_range[1]\n",
    "    i8 = g  .< mag_range[2]\n",
    "    i9  = rp  .> mag_range[1]\n",
    "    i10 = rp  .< mag_range[2]\n",
    "    i11  = bp  .> mag_range[1]\n",
    "    i12  = bp  .< mag_range[2]\n",
    "     \n",
    "    ifinal = i1 .& i2 .& i3 .& i4 .& i5 .& i6 .& i7 .& i8 .& i9 .& i10 .& i11 .& i12 \n",
    "    \n",
    "    ## G magnitude\n",
    "     # gbar =  g[ifinal] - 5. * log10.(distance[ifinal]) + 17.\n",
    "    gbar =  g[ifinal] - 5 .* log10.(distance[ifinal]) .+ 17.\n",
    "    \n",
    "    ## Df of the filtered dat\n",
    "    ndata = length(distance[ifinal])\n",
    "    s = Df(ndata, zeros(8,ndata))\n",
    "    \n",
    "    s.data[1,:] = lgal[ifinal]\n",
    "    s.data[2,:] = bgal[ifinal]\n",
    "    s.data[3,:] = distance[ifinal]\n",
    "    s.data[4,:] = vra[ifinal]\n",
    "    s.data[5,:] = vdec[ifinal]\n",
    "    s.data[6,:] = gbar\n",
    "    s.data[7,:] = g[ifinal] .- rp[ifinal]\n",
    "    s.data[8,:] = bp[ifinal] .- g[ifinal]\n",
    "    \n",
    "    println(\"## Filtering done ...\")\n",
    "    println(\"## Stars selected: $ndata\")\n",
    "    \n",
    "    return(s)\n",
    "    \n",
    "end"
   ]
  },
  {
   "cell_type": "code",
   "execution_count": 4,
   "metadata": {},
   "outputs": [
    {
     "data": {
      "text/plain": [
       "normalizationVector (generic function with 1 method)"
      ]
     },
     "execution_count": 4,
     "metadata": {},
     "output_type": "execute_result"
    }
   ],
   "source": [
    "######\n",
    "function add_cartesian(s::Df, centering = true)::Df\n",
    "    \n",
    "    dfresult = copy(s)\n",
    "    off = zeros(2)\n",
    "    \n",
    "    if centering\n",
    "        off[1] = mean(s.data[1,:])\n",
    "        off[2] = mean(s.data[2,:])\n",
    "    end\n",
    "    \n",
    "    lgal = DEG2RAD .* (s.data[1,:] .- off[1])\n",
    "    bgal = DEG2RAD .* (s.data[2,:] .- off[2])\n",
    "    \n",
    "    dfresult.data[1,:] = s.data[3,:] .* cos.(bgal) .* cos.(lgal)\n",
    "    dfresult.data[2,:] = s.data[3,:] .* cos.(bgal) .* sin.(lgal)\n",
    "    dfresult.data[3,:] = s.data[3,:] .* sin.(bgal)\n",
    "    \n",
    "    println(\"## Cartesian transformation done ...\")\n",
    "    \n",
    "    return(dfresult)    \n",
    "end\n",
    "\n",
    "####################\n",
    "function  normalization_PerBlock(s::Df, block , weightblock, norm , density = false)::Df\n",
    "   \n",
    "    dfresult    = copy(s)\n",
    "    totalWeight = sum(weightblock)\n",
    "    \n",
    "    for axis in block, weight in weightblock\n",
    "        normK = normalizationVector(norm, density, dfresult.data[:,axis])\n",
    "        normK[1] = normK[1] / totalWeight\n",
    "        dfresult.data[:,axis]    =   weight .* (s.data[:,axis] .- normK[1] ) ./ normK[2]\n",
    "    end\n",
    "    \n",
    "    println(\"## Normalization $norm done...\")\n",
    "    return(dfresult)\n",
    "end\n",
    " \n",
    "#############\n",
    "function normalizationVector(norm, density, arr)\n",
    "        \n",
    "    vecNorm = [0.0, 1.0]\n",
    "        \n",
    "    if norm == \"identity\"\n",
    "        vecNorm = [0.0, 1.0]\n",
    "            \n",
    "        elseif norm == \"normal\"\n",
    "            stdArr = std(arr)\n",
    "            meanArr = mean(arr)\n",
    "            vecNorm  = [meanArr , stdArr]\n",
    "            \n",
    "        elseif norm == \"minmax\"\n",
    "            minarr  = min(arr)\n",
    "            maxarr  = max(arr)\n",
    "            vecNorm = [minarr, maxarr-minarr]\n",
    "    end\n",
    "            \n",
    "    if density\n",
    "        vecNorm[1] = vecNorm[1] * length(arr[:,0])\n",
    "    end\n",
    "        \n",
    "    return(vecNorm)\n",
    "end"
   ]
  },
  {
   "cell_type": "code",
   "execution_count": 5,
   "metadata": {
    "scrolled": false
   },
   "outputs": [
    {
     "name": "stdout",
     "output_type": "stream",
     "text": [
      "## Votable NGC 2516-1.0deg.vot  read\n",
      "## Filtering done ...\n",
      "## Stars selected: 13557\n",
      "## Cartesian transformation done ...\n",
      "## Normalization normal done...\n"
     ]
    }
   ],
   "source": [
    "## Main program\n",
    "voname = \"NGC 2516-1.0deg.vot\"\n",
    "\n",
    "data       = read_votable(voname)\n",
    "df         = filter_data(data)\n",
    "dfcart     = add_cartesian(df)\n",
    "\n",
    "blck       = [[1,2,3],[4,5], [6,7,8]]\n",
    "wghtblck   = [3.,2.,1.5]\n",
    "norm = \"normal\"\n",
    "dfcartnorm = normalization_PerBlock(dfcart, blck, wghtblck , norm) \n",
    "\n"
   ]
  },
  {
   "cell_type": "code",
   "execution_count": 6,
   "metadata": {},
   "outputs": [
    {
     "name": "stdout",
     "output_type": "stream",
     "text": [
      "## Starting DBSCAN ...\n"
     ]
    },
    {
     "ename": "MethodError",
     "evalue": "MethodError: no method matching assignments(::Array{DbscanCluster,1})\nClosest candidates are:\n  assignments(!Matched::ClusteringResult) at /home/stephane/.julia/packages/Clustering/jd204/src/utils.jl:11",
     "output_type": "error",
     "traceback": [
      "MethodError: no method matching assignments(::Array{DbscanCluster,1})\nClosest candidates are:\n  assignments(!Matched::ClusteringResult) at /home/stephane/.julia/packages/Clustering/jd204/src/utils.jl:11",
      "",
      "Stacktrace:",
      " [1] top-level scope at In[6]:8"
     ]
    }
   ],
   "source": [
    "## Clustering ..\n",
    "println(\"## Starting DBSCAN ...\")\n",
    "\n",
    "eps = 2.0\n",
    "\n",
    "res = dbscan(dfcartnorm.data , eps , leafsize=20, min_neighbors=5, min_cluster_size=10)\n",
    "\n",
    "a = assignments(res)\n",
    "println(a)\n",
    "\n",
    "#println(source.data[:,1])\n",
    "x = dfcartnorm.data[1,:]\n",
    "y = dfcartnorm.data[2,:]\n",
    "\n",
    "plt.scatter(x, y , s = 0.5 )\n",
    "plt.show()"
   ]
  }
 ],
 "metadata": {
  "kernelspec": {
   "display_name": "Julia 1.0.0",
   "language": "julia",
   "name": "julia-1.0"
  },
  "language_info": {
   "file_extension": ".jl",
   "mimetype": "application/julia",
   "name": "julia",
   "version": "1.0.0"
  }
 },
 "nbformat": 4,
 "nbformat_minor": 2
}
