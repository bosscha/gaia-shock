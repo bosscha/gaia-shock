{
 "cells": [
  {
   "cell_type": "markdown",
   "metadata": {},
   "source": [
    "## Testing Julia for GAIA\n",
    "\n",
    "using the julia language for GAIA analaysis"
   ]
  },
  {
   "cell_type": "code",
   "execution_count": 17,
   "metadata": {},
   "outputs": [],
   "source": [
    "using PyCall\n",
    "using DataFrames\n",
    "\n",
    "@pyimport astropy.io.votable as votable\n",
    "@pyimport matplotlib.pyplot as plt\n",
    "\n",
    "## directory\n",
    "rootdir = \"/home/stephane/Science/cluster/GAIA\"\n",
    "wdir    = \"/home/stephane/Science/cluster/GAIA/products\"\n",
    "\n",
    "cd(wdir)\n"
   ]
  },
  {
   "cell_type": "code",
   "execution_count": 18,
   "metadata": {},
   "outputs": [],
   "source": [
    "## Types\n",
    "\n",
    "mutable struct Df\n",
    "    ndata::Int32\n",
    "    data::Array{Float64}\n",
    "end\n"
   ]
  },
  {
   "cell_type": "code",
   "execution_count": 19,
   "metadata": {},
   "outputs": [],
   "source": [
    "## function to create the df and filter the data\n",
    "#########\n",
    "function readVotable(voname::String)\n",
    "    \n",
    "    vot = votable.parse(voname)\n",
    "    data = vot[:get_first_table]() \n",
    "    \n",
    "    println(\"## Votable $voname  read\")\n",
    "    \n",
    "    return(data[\"array\"][\"data\"])\n",
    "end\n",
    "\n",
    "#########\n",
    "function filterData(gaia, dist_range = [0., 2000], vra_range = [-250,250], vdec_range = [-250.,250], mag_range =[-1e9, 1e9])\n",
    "\n",
    "    ngaia = length(gaia)\n",
    "    \n",
    "    lgal = zeros(ngaia)\n",
    "    bgal = zeros(ngaia)    \n",
    "    distance = zeros(ngaia)    \n",
    "    vra = zeros(ngaia)\n",
    "    vdec = zeros(ngaia)    \n",
    "    g = zeros(ngaia)\n",
    "    rp = zeros(ngaia)     \n",
    "    bp = zeros(ngaia) \n",
    "    \n",
    "    for i in 1:ngaia\n",
    "        lgal[i]     = convert(Float64,gaia[i][\"l\"])\n",
    "        bgal[i]     = convert(Float64,gaia[i][\"b\"])\n",
    "        distance[i] = 1000. / convert(Float64,gaia[i][\"parallax\"])\n",
    "        pmra  = convert(Float64,gaia[i][\"pmra\"])\n",
    "        pmdec = convert(Float64,gaia[i][\"pmdec\"])\n",
    "        vra[i]      = 4.74e-3 * pmra  * distance[i]\n",
    "        vdec[i]     = 4.74e-3 * pmdec * distance[i]\n",
    "        \n",
    "        g[i]        = convert(Float64,gaia[i][\"phot_g_mean_mag\"])\n",
    "        rp[i]       = convert(Float64,gaia[i][\"phot_rp_mean_mag\"])\n",
    "        bp[i]       = convert(Float64,gaia[i][\"phot_bp_mean_mag\"])\n",
    "        \n",
    "        \n",
    "    end\n",
    "    \n",
    "    ## Filtering ...\n",
    "    i1 =  distance .> dist_range[1]\n",
    "    i2 =  distance .< dist_range[2]\n",
    "    i3 =  vra .> vra_range[1]\n",
    "    i4 =  vra .< vra_range[2]\n",
    "    i5 =  vdec .> vdec_range[1]\n",
    "    i6 =  vdec .< vdec_range[2]\n",
    "    i7 = g  .> mag_range[1]\n",
    "    i8 = g  .< mag_range[2]\n",
    "    i9  = rp  .> mag_range[1]\n",
    "    i10 = rp  .< mag_range[2]\n",
    "    i11  = bp  .> mag_range[1]\n",
    "    i12  = bp  .< mag_range[2]\n",
    "     \n",
    "    ifinal = i1 .& i2 .& i3 .& i4 .& i5 .& i6 .& i7 .& i8 .& i9 .& i10 .& i11 .& i12 \n",
    "    \n",
    "    ## G magnitude\n",
    "     # gbar =  g[ifinal] - 5. * log10.(distance[ifinal]) + 17.\n",
    "    gbar =  g[ifinal] - 5.*log10.(distance[ifinal]) .+ 17.\n",
    "    \n",
    "    ## Df of the filtered dat\n",
    "    ndata = length(distance[ifinal])\n",
    "    s = Df(ndata, zeros(8,ndata))\n",
    "    \n",
    "    s.data[1,:] = lgal[ifinal]\n",
    "    s.data[2,:] = bgal[ifinal]\n",
    "    s.data[3,:] = distance[ifinal]\n",
    "    s.data[4,:] = vra[ifinal]\n",
    "    s.data[5,:] = vdec[ifinal]\n",
    "    s.data[6,:] = gbar\n",
    "    s.data[7,:] = g[ifinal] .- rp[ifinal]\n",
    "    s.data[8,:] = bp[ifinal] .- g[ifinal]\n",
    "    \n",
    "    println(\"## Filtering done ...\")\n",
    "    println(\"## Stars selected: $ndata\")\n",
    "    \n",
    "    return(s)\n",
    "    \n",
    "end\n",
    "\n"
   ]
  },
  {
   "cell_type": "code",
   "execution_count": 20,
   "metadata": {
    "scrolled": false
   },
   "outputs": [
    {
     "name": "stdout",
     "output_type": "stream",
     "text": [
      "## Votable NGC 2516-1.0deg.vot  read\n",
      "## Filtering done ...\n",
      "## Stars selected: 13557\n"
     ]
    },
    {
     "data": {
      "text/plain": [
       "Df(13557, [273.922 273.832 … 272.978 273.017; -16.8485 -16.8543 … -15.3633 -15.6951; … ; 1.15803 0.698355 … 0.773337 0.68058; 1.3205 0.556925 … 0.657038 0.528351])"
      ]
     },
     "execution_count": 20,
     "metadata": {},
     "output_type": "execute_result"
    }
   ],
   "source": [
    "## Main program\n",
    "voname = \"NGC 2516-1.0deg.vot\"\n",
    "\n",
    "data = readVotable(voname)\n",
    "source = filterData(data)"
   ]
  }
 ],
 "metadata": {
  "kernelspec": {
   "display_name": "Julia 1.0.0",
   "language": "julia",
   "name": "julia-1.0"
  },
  "language_info": {
   "file_extension": ".jl",
   "mimetype": "application/julia",
   "name": "julia",
   "version": "1.0.0"
  }
 },
 "nbformat": 4,
 "nbformat_minor": 2
}
