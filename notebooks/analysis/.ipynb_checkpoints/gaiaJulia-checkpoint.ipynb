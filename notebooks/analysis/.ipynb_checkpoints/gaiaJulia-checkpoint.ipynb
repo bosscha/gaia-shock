{
 "cells": [
  {
   "cell_type": "markdown",
   "metadata": {},
   "source": [
    "## Testing Julia for GAIA\n",
    "\n",
    "using the julia language for GAIA analaysis"
   ]
  },
  {
   "cell_type": "code",
   "execution_count": 1,
   "metadata": {},
   "outputs": [
    {
     "data": {
      "text/plain": [
       "normalizationVector (generic function with 1 method)"
      ]
     },
     "execution_count": 1,
     "metadata": {},
     "output_type": "execute_result"
    }
   ],
   "source": [
    "using PyCall\n",
    "using DataFrames\n",
    "using Clustering\n",
    "using Statistics\n",
    "\n",
    "import PyPlot; const plt = PyPlot\n",
    "\n",
    "@pyimport astropy.io.votable as votable\n",
    "# @pyimport matplotlib.pyplot as plt\n",
    "\n",
    "## directory\n",
    "rootdir = \"/home/stephane/Science/cluster/GAIA\"\n",
    "wdir    = \"/home/stephane/Science/cluster/GAIA/products\"\n",
    "\n",
    "cd(wdir)\n",
    "\n",
    "## gaia module to deal with data\n",
    "include(\"../master/src/data.jl\")"
   ]
  },
  {
   "cell_type": "code",
   "execution_count": 2,
   "metadata": {},
   "outputs": [],
   "source": [
    "## Types and Constants\n",
    "\n",
    "DEG2RAD =  π / 180.\n",
    "\n",
    "mutable struct Df\n",
    "    ndata::Int32\n",
    "    data::Array{Float64}\n",
    "    err::Array{Float64}\n",
    "end\n",
    "\n",
    "#function copy(s::Df)\n",
    "#    c = Df(s.ndata, zeros(length(s.data[:,1]),s.ndata), zeros(length(s.err[:,1]),s.ndata))\n",
    "#    c.data[:,:] = s.data[:,:]\n",
    "#    c.err[:,:]  = s.err[:,:]\n",
    "    \n",
    "#    return(c)\n",
    "#end\n",
    "    "
   ]
  },
  {
   "cell_type": "code",
   "execution_count": 3,
   "metadata": {
    "scrolled": false
   },
   "outputs": [
    {
     "name": "stdout",
     "output_type": "stream",
     "text": [
      "## Votable test.vot read\n",
      "## Filtering done ...\n",
      "## Stars selected: 47155\n",
      "## Cartesian transformation done ...\n",
      "## Normalization normal done...\n"
     ]
    },
    {
     "data": {
      "text/plain": [
       "Df(47155, [6.0214 9.16503 … 962.172 403.502; -0.169351 -0.199078 … -40.3744 -16.7383; … ; -0.071169 -0.0705846 … 0.932251 0.976196; -0.0719234 -0.0710476 … 0.855864 0.977142], [0.0490099 0.0566023 … 0.0872466 0.0744949; 0.0 0.0 … 0.0 0.0; … ; 0.0 0.0 … 0.0 0.0; 0.0 0.0 … 0.0 0.0])"
      ]
     },
     "execution_count": 3,
     "metadata": {},
     "output_type": "execute_result"
    }
   ],
   "source": [
    "## Main program\n",
    "# voname = \"NGC 2516-1.0deg.vot\"\n",
    "voname = \"test.vot\"\n",
    "\n",
    "data       = read_votable(voname)\n",
    "df         = filter_data(data)\n",
    "dfcart     = add_cartesian(df)\n",
    "\n",
    "blck       = [[1,2,3],[4,5], [6,7,8]]\n",
    "wghtblck   = [3.,2.,1.5]\n",
    "norm = \"normal\"\n",
    "dfcartnorm = normalization_PerBlock(dfcart, blck, wghtblck , norm) \n"
   ]
  },
  {
   "cell_type": "code",
   "execution_count": 6,
   "metadata": {},
   "outputs": [
    {
     "name": "stdout",
     "output_type": "stream",
     "text": [
      "## Starting DBSCAN ...\n"
     ]
    },
    {
     "data": {
      "image/png": "[encoded data removed]",
      "text/plain": [
       "PyPlot.Figure(PyObject <matplotlib.figure.Figure object at 0x7f9cafb6c630>)"
      ]
     },
     "metadata": {},
     "output_type": "display_data"
    },
    {
     "name": "stdout",
     "output_type": "stream",
     "text": [
      "Array{DbscanCluster,1}\n",
      "33\n",
      "33\n",
      "31\n",
      "22\n",
      "24\n",
      "15\n",
      "6\n",
      "11\n",
      "6\n",
      "7\n",
      "2\n",
      "13\n",
      "4\n",
      "11\n",
      "2\n",
      "9\n"
     ]
    }
   ],
   "source": [
    "## Clustering ..\n",
    "println(\"## Starting DBSCAN ...\")\n",
    "\n",
    "eps = 4.0\n",
    "\n",
    "res = dbscan(dfcartnorm.data , eps , leafsize=20, min_neighbors=5, min_cluster_size=10)\n",
    "\n",
    "println(typeof(res))\n",
    "\n",
    "\n",
    "for cl in res\n",
    "    println(length(cl.core_indices))\n",
    "    println(length(cl.boundary_indices))\n",
    "end\n",
    "\n",
    "indx = res[1].core_indices\n",
    "append!(indx, res[1].boundary_indices)\n",
    "\n",
    "#println(source.data[:,1])\n",
    "x = dfcartnorm.data[3,indx]\n",
    "y = dfcartnorm.data[1,indx]\n",
    "\n",
    "\n",
    "plt.scatter(x, y , s = 0.4 )\n",
    "plt.show()"
   ]
  }
 ],
 "metadata": {
  "kernelspec": {
   "display_name": "Julia 1.0.0",
   "language": "julia",
   "name": "julia-1.0"
  },
  "language_info": {
   "file_extension": ".jl",
   "mimetype": "application/julia",
   "name": "julia",
   "version": "1.0.0"
  }
 },
 "nbformat": 4,
 "nbformat_minor": 2
}
