{
 "cells": [
  {
   "cell_type": "markdown",
   "metadata": {},
   "source": [
    "### Tests\n",
    "Use of the agglomerative clustering with HR diagram.\n",
    "\n",
    "We test here dbscan parameters to detect good solutions for clustering"
   ]
  },
  {
   "cell_type": "code",
   "execution_count": 16,
   "metadata": {},
   "outputs": [],
   "source": [
    "import sys, os\n",
    "sys.path.append('../../src')\n",
    "\n",
    "from numba import jit\n",
    "\n",
    "import matplotlib.pyplot as plt\n",
    "from pylab import rcParams\n",
    "from mpl_toolkits.mplot3d import Axes3D\n",
    "import numpy as np\n",
    "import pandas as pd\n",
    "import pickle\n",
    "\n",
    "from math import ceil\n",
    "import math\n",
    "import gaia_utils as gu\n",
    "from sklearn import cluster\n",
    "from sklearn.neighbors import kneighbors_graph\n",
    "from astroML.correlation import two_point\n",
    "from astroML.correlation import bootstrap_two_point_angular\n",
    "\n",
    "%matplotlib inline\n",
    "\n",
    "## directory\n",
    "rootdir = \"/home/stephane/Science/GAIA\"\n",
    "wdir    = \"%s/products\"%(rootdir)\n",
    "datadir = \"%s/master/notebooks/data\"%(rootdir)\n",
    "\n",
    "os.chdir(wdir)\n",
    "rcParams['figure.figsize'] = 9, 6\n",
    "###################################\n",
    "\n",
    "clustername = \"NGC 1647\"\n",
    "# voname = 'NGC 752-1.0deg.vot'\n",
    "# voname = 'NGC 2682-3.0deg.vot'\n",
    "voname = 'NGC 1647-2.0deg.vot'\n",
    "# voname = \"Ruprecht 1-2.0deg.vot\"\n",
    "\n",
    "RADIUS   = 2.0\n",
    "kCluster = 8\n",
    "votable_disk = False\n",
    "distclust = 572.0\n",
    "WEIGHT = [6.5, 6.5, 10.7, 4.1, 4.1, 2.1, 2.1, 2.1]\n"
   ]
  },
  {
   "cell_type": "code",
   "execution_count": 17,
   "metadata": {},
   "outputs": [],
   "source": [
    "## plot2D and plot3D\n",
    "\n",
    "\n",
    "def plot2d(df, labels, ilab, cmap = \"gist_stern\" ,color = False):\n",
    "    \n",
    "    rcParams['figure.figsize'] = 14, 14\n",
    "    f, axarr = plt.subplots(2, 2)\n",
    "    \n",
    "    if color:\n",
    "        axarr[0,0].scatter(df[np.where(labels == ilab),0],df[np.where(labels == ilab),1],  s = 0.5, c= df[np.where(labels == ilab),2], cmap=cmap )\n",
    "    else:\n",
    "        axarr[0,0].scatter(df[np.where(labels == ilab),0],df[np.where(labels == ilab),1],  s = 0.5, c = \"k\")\n",
    "    axarr[0,0].set_xlabel(\"l\")\n",
    "    axarr[0,0].set_ylabel(\"b\")\n",
    "    \n",
    "    axarr[1,0].scatter(df[np.where(labels == ilab),0],df[np.where(labels == ilab),2] , s=0.5, c= df[np.where(labels == ilab),2], cmap=cmap)\n",
    "    axarr[1,0].set_xlabel(\"l\")\n",
    "    axarr[1,0].set_ylabel(\"d (pc)\")\n",
    "    \n",
    "    \n",
    "    axarr[0,1].scatter(df[np.where(labels == ilab),3],df[np.where(labels == ilab),4] , s= 0.5, c= df[np.where(labels == ilab),2], cmap=cmap)\n",
    "    axarr[0,1].set_xlabel(\"Vdra\")\n",
    "    axarr[0,1].set_ylabel(\"Vdec\")\n",
    "    \n",
    "    axarr[1,1].scatter(df[np.where(labels == ilab),6],df[np.where(labels == ilab),5] , s = 0.5, c= df[np.where(labels == ilab),2], cmap=cmap)\n",
    "    axarr[1,1].set_xlabel(\"G-R\")\n",
    "    axarr[1,1].set_ylabel(\"G\")\n",
    "    axarr[1,1].set_xlim(-1.,1.5)\n",
    "    axarr[1,1].set_ylim(27.,10)\n",
    "    \n",
    "    plt.show()\n",
    "    "
   ]
  },
  {
   "cell_type": "code",
   "execution_count": 18,
   "metadata": {},
   "outputs": [],
   "source": [
    "## astrometric conversion\n",
    "## \n",
    "def convert_to_cartesian(lgal, bga, dist, offCenter = [0., 0.]):\n",
    "    \"Convert ra,dec (ICRS) and distance (pc) to Cartesian reference. Off is the offset in Lgal,Bgal\"\n",
    "    \n",
    "    xx = np.zeros(len(lgal))\n",
    "    yy = np.zeros(len(lgal))\n",
    "    zz = np.zeros(len(lgal))\n",
    "    \n",
    "    lgalOff = lgal - offCenter[0]\n",
    "    bgalOff = bgal - offCenter[1]\n",
    "    \n",
    "    print(offCenter[0])\n",
    "    print(offCenter[1])\n",
    "    print(min(lgalOff))\n",
    "    print(max(lgalOff))\n",
    "    print(min(bgalOff))\n",
    "    print(max(bgalOff))\n",
    "    \n",
    "    \n",
    "    for i in range(len(lgal)):\n",
    "        c = coord.SkyCoord(l=lgalOff[i]*u.degree, b=bgalOff[i]*u.degree, distance=dist[i]*u.pc, frame='galactic')\n",
    "        \n",
    "        xx[i] = c.cartesian.x.value\n",
    "        yy[i] = c.cartesian.y.value\n",
    "        zz[i] = c.cartesian.z.value\n",
    "        \n",
    "    print(\"## XX\")\n",
    "    print(\"min, max: %f , %f\"%(min(xx),max(xx)))\n",
    "    print(\"## YY\")\n",
    "    print(\"min, max: %f , %f\"%(min(yy),max(yy)))\n",
    "    print(\"## ZZ\")\n",
    "    print(\"min, max: %f , %f\"%(min(zz),max(zz)))  \n",
    "        \n",
    "    return(xx,yy,zz)"
   ]
  },
  {
   "cell_type": "markdown",
   "metadata": {},
   "source": [
    "### Metrics\n",
    "\n",
    "Metric to quantify goodness-of-solution for the clustering."
   ]
  },
  {
   "cell_type": "code",
   "execution_count": 19,
   "metadata": {},
   "outputs": [],
   "source": [
    "def metric1(df, labels, APERTURE = 0.2 , MAXRADIUS = 1. , NBOOTSTRAP =20 ):\n",
    "    \"Using the density contrat assuming the OC is at the center\"\n",
    "    \n",
    "    xc   = np.mean(df[:,0])\n",
    "    yc   = np.mean(df[:,1]) \n",
    "    \n",
    "    nlab = max(labels)+1\n",
    "    aper2 = APERTURE*APERTURE\n",
    "    metric = {}\n",
    "    metric['label'] = []\n",
    "    metric['Q'] = []\n",
    "    metric['Q_err'] = []\n",
    "    \n",
    "    for ilab in range(nlab):\n",
    "        \n",
    "        dflab = df[np.where(labels == ilab),:][0]\n",
    "        radii = (dflab[:,0]- xc)*(dflab[:,0]- xc)+(dflab[:,1]- yc)*(dflab[:,1]- yc)\n",
    "        nclust = radii[np.where(radii < aper2)]\n",
    "        dens_clust = len(nclust) / aper2\n",
    "        \n",
    "        angle_out = np.random.uniform(0., 2*math.pi, NBOOTSTRAP)\n",
    "        rad_out   = np.random.uniform(APERTURE,MAXRADIUS-APERTURE, NBOOTSTRAP)\n",
    "        \n",
    "        Q_c = np.zeros(NBOOTSTRAP)\n",
    "        \n",
    "        for k in range(NBOOTSTRAP): \n",
    "            xi = xc + rad_out[k]*math.cos(angle_out[k])\n",
    "            yi = yc + rad_out[k]*math.sin(angle_out[k])\n",
    "            radii_out = (dflab[:,0]- xi)*(dflab[:,0]- xi)+(dflab[:,1]- yi)*(dflab[:,1]- yi)\n",
    "            nout = radii_out[np.where(radii_out < aper2)]\n",
    "            dens_out_k = max(1,len(nout)) / aper2\n",
    "            Q_c[k] = dens_clust / dens_out_k\n",
    "            \n",
    "        metric['label'].append(ilab)\n",
    "        metric['Q'].append(np.mean(Q_c))\n",
    "        metric['Q_err'].append(np.std(Q_c))\n",
    "        \n",
    "    return(metric)\n",
    "                          \n",
    "    \n",
    "def metric2(df, labels, APERTURE = 0.2 , MAXRADIUS = 1. , NBOOTSTRAP = 50 , SIGCLIP = 0.):\n",
    "    \"Using the density contrat assuming the OC is at the center and the distribution around is regular (no holes)\"\n",
    "        \n",
    "    epsilon = 0.1\n",
    "    xc   = np.mean(df[:,0])\n",
    "    yc   = np.mean(df[:,1]) \n",
    "    \n",
    "    nlab = max(labels)+1\n",
    "    aper2 = APERTURE*APERTURE\n",
    "    metric = {}\n",
    "    metric['label'] = []\n",
    "    metric['Q'] = []\n",
    "    metric['Q_err'] = []\n",
    "    \n",
    "    for ilab in range(nlab):\n",
    "        \n",
    "        dflab = df[np.where(labels == ilab),:][0]\n",
    "        radii = (dflab[:,0]- xc)*(dflab[:,0]- xc)+(dflab[:,1]- yc)*(dflab[:,1]- yc)\n",
    "        nclust = radii[np.where(radii < aper2)]\n",
    "        dens_clust = len(nclust) / aper2\n",
    "        \n",
    "        angle_out = np.random.uniform(0., 2*math.pi, NBOOTSTRAP)\n",
    "        rad_out   = np.random.uniform(APERTURE,MAXRADIUS-APERTURE, NBOOTSTRAP)\n",
    "        \n",
    "        nstarsout = np.zeros(NBOOTSTRAP)\n",
    "        \n",
    "        for k in range(NBOOTSTRAP): \n",
    "            xi = xc + rad_out[k]*math.cos(angle_out[k])\n",
    "            yi = yc + rad_out[k]*math.sin(angle_out[k])\n",
    "            radii_out = (dflab[:,0]- xi)*(dflab[:,0]- xi)+(dflab[:,1]- yi)*(dflab[:,1]- yi)\n",
    "            nout = radii_out[np.where(radii_out < aper2)]\n",
    "            nstarsout[k] = len(nout) + np.random.uniform(1., 1.+ epsilon)\n",
    "                \n",
    "        outmean = np.mean(nstarsout)\n",
    "        outstd  = np.std(nstarsout)\n",
    "        \n",
    "        nstar_filtered = np.where( (nstarsout - outmean)/ outstd > SIGCLIP )\n",
    "\n",
    "        dens_out = nstarsout[nstar_filtered] / aper2\n",
    "        Q_c = np.zeros(len(dens_out))\n",
    "        Q_c = dens_clust / dens_out\n",
    "        \n",
    "        metric['label'].append(ilab)\n",
    "        metric['Q'].append(np.mean(Q_c))\n",
    "        metric['Q_err'].append(np.std(Q_c))\n",
    "        \n",
    "    return(metric)                      "
   ]
  },
  {
   "cell_type": "code",
   "execution_count": 20,
   "metadata": {},
   "outputs": [],
   "source": [
    "def iter_dbscan(epsmin, epsmax, sample_min, sample_max, ntrials, aper = 0.5, von = \"test.vot\", verbose = True):\n",
    "    \"Range of the parameters for dbscan\"\n",
    "        \n",
    "    s = gu.source(clustername)\n",
    "    s.read_votable(von)\n",
    "    s.weight = WEIGHT\n",
    "    s.convert_filter_data(mag_range = [0., 40])\n",
    "    s.normalization_normal()\n",
    "\n",
    "    metric = {}\n",
    "\n",
    "    epsilon    = np.linspace(epsmin,epsmax, ntrials)\n",
    "    sample_min = np.arange(sample_min, sample_max)\n",
    "    \n",
    "    metric['eps'] = []\n",
    "    metric['min_samples'] = []\n",
    "    metric['Q'] = []\n",
    "             \n",
    "    Z = np.array((ntrials,sample_max-sample_min))\n",
    "    \n",
    "    for e in epsilon:\n",
    "        for sm in sample_min:\n",
    "    \n",
    "                dbscan = cluster.DBSCAN(eps = e, min_samples = sm)\n",
    "                dbscan.fit(s.dfnorm)\n",
    "                labels_d = dbscan.labels_\n",
    "                unique_labels = set(labels_d)\n",
    "                n_clusters_ = len(set(labels_d)) - (1 if -1 in labels_d else 0)\n",
    "                \n",
    "                if n_clusters_ > 0:\n",
    "                    qd = metric2(s.df, labels_d, APERTURE = aper , MAXRADIUS = 0.9 * RADIUS , NBOOTSTRAP =50 )\n",
    "                    metric['Q'].append(max(qd['Q']))\n",
    "                    metric['eps'].append(e)\n",
    "                    metric['min_samples'].append(sm)\n",
    "                    \n",
    "                    if verbose:\n",
    "                        print(\"##\")\n",
    "                        print(\"Epsilon: %3.2f - Min Sample: %d\"%(e,sm))\n",
    "                        for i in range(max(labels_d)+1):\n",
    "                            print(\"# Label %5d : %5d  Dist: %6.1f (%5.1f)\"%(i,len(labels_d[np.where(labels_d == i)]), np.median(source.df[np.where(labels_d == i),2]), np.std(source.df[np.where(labels_d == i),2]) ))\n",
    "                            print(\"##\")\n",
    "                else:\n",
    "                    metric['Q'].append(0.)\n",
    "                    metric['eps'].append(e)\n",
    "                    metric['min_samples'].append(sm)\n",
    "                            \n",
    "    print(\"## DBSCAN done!\")  \n",
    "    return(metric, Z)"
   ]
  },
  {
   "cell_type": "code",
   "execution_count": 21,
   "metadata": {
    "scrolled": true
   },
   "outputs": [
    {
     "name": "stdout",
     "output_type": "stream",
     "text": [
      "## NGC 1647-2.0deg.vot read...\n",
      "## Total stars: 20719\n",
      "## Conversion done...\n",
      "## Stars selected: 18658\n",
      "## Normalization Normal-Gauss done on filtered data..\n"
     ]
    },
    {
     "data": {
      "text/plain": [
       "()"
      ]
     },
     "execution_count": 21,
     "metadata": {},
     "output_type": "execute_result"
    }
   ],
   "source": [
    "## Read the data and do the conversion\n",
    "\n",
    "\n",
    "source = gu.source(clustername)\n",
    "source.weight = WEIGHT\n",
    "#source.query(RADIUS, errtol = 0.2, dump = True)\n",
    "source.read_votable(voname)\n",
    "source.convert_filter_data(mag_range = [0., 40])\n",
    "source.normalization_normal()\n",
    "#source.normalization_minmax()"
   ]
  },
  {
   "cell_type": "markdown",
   "metadata": {},
   "source": [
    "### Clustering"
   ]
  },
  {
   "cell_type": "code",
   "execution_count": 22,
   "metadata": {
    "scrolled": false
   },
   "outputs": [
    {
     "name": "stdout",
     "output_type": "stream",
     "text": [
      "## NGC 1647-2.0deg.vot read...\n",
      "## Total stars: 20719\n",
      "## Conversion done...\n",
      "## Stars selected: 18658\n",
      "## Normalization Normal-Gauss done on filtered data..\n",
      "## DBSCAN done!\n"
     ]
    }
   ],
   "source": [
    "q , Z = iter_dbscan(0.1, 5., 5,50, 20, aper = 0.4, von = voname, verbose = False)"
   ]
  },
  {
   "cell_type": "code",
   "execution_count": 25,
   "metadata": {
    "scrolled": true
   },
   "outputs": [
    {
     "name": "stdout",
     "output_type": "stream",
     "text": [
      "13.151233090343474\n"
     ]
    },
    {
     "ename": "TypeError",
     "evalue": "Input z must be a 2D array.",
     "output_type": "error",
     "traceback": [
      "\u001b[0;31m---------------------------------------------------------------------------\u001b[0m",
      "\u001b[0;31mTypeError\u001b[0m                                 Traceback (most recent call last)",
      "\u001b[0;32m<ipython-input-25-5bfe9fc3943b>\u001b[0m in \u001b[0;36m<module>\u001b[0;34m()\u001b[0m\n\u001b[1;32m      5\u001b[0m \u001b[0;34m\u001b[0m\u001b[0m\n\u001b[1;32m      6\u001b[0m \u001b[0mplt\u001b[0m\u001b[0;34m.\u001b[0m\u001b[0mfigure\u001b[0m\u001b[0;34m(\u001b[0m\u001b[0;34m)\u001b[0m\u001b[0;34m\u001b[0m\u001b[0m\n\u001b[0;32m----> 7\u001b[0;31m \u001b[0mCS\u001b[0m \u001b[0;34m=\u001b[0m \u001b[0mplt\u001b[0m\u001b[0;34m.\u001b[0m\u001b[0mcontour\u001b[0m\u001b[0;34m(\u001b[0m\u001b[0mX\u001b[0m\u001b[0;34m,\u001b[0m \u001b[0mY\u001b[0m\u001b[0;34m,\u001b[0m \u001b[0mZ\u001b[0m\u001b[0;34m)\u001b[0m\u001b[0;34m\u001b[0m\u001b[0m\n\u001b[0m\u001b[1;32m      8\u001b[0m \u001b[0mplt\u001b[0m\u001b[0;34m.\u001b[0m\u001b[0mclabel\u001b[0m\u001b[0;34m(\u001b[0m\u001b[0mCS\u001b[0m\u001b[0;34m,\u001b[0m \u001b[0minline\u001b[0m\u001b[0;34m=\u001b[0m\u001b[0;36m1\u001b[0m\u001b[0;34m,\u001b[0m \u001b[0mfontsize\u001b[0m\u001b[0;34m=\u001b[0m\u001b[0;36m10\u001b[0m\u001b[0;34m)\u001b[0m\u001b[0;34m\u001b[0m\u001b[0m\n\u001b[1;32m      9\u001b[0m \u001b[0mplt\u001b[0m\u001b[0;34m.\u001b[0m\u001b[0mshow\u001b[0m\u001b[0;34m(\u001b[0m\u001b[0;34m)\u001b[0m\u001b[0;34m\u001b[0m\u001b[0m\n",
      "\u001b[0;32m/usr/lib/python3/dist-packages/matplotlib/pyplot.py\u001b[0m in \u001b[0;36mcontour\u001b[0;34m(*args, **kwargs)\u001b[0m\n\u001b[1;32m   2795\u001b[0m                       mplDeprecation)\n\u001b[1;32m   2796\u001b[0m     \u001b[0;32mtry\u001b[0m\u001b[0;34m:\u001b[0m\u001b[0;34m\u001b[0m\u001b[0m\n\u001b[0;32m-> 2797\u001b[0;31m         \u001b[0mret\u001b[0m \u001b[0;34m=\u001b[0m \u001b[0max\u001b[0m\u001b[0;34m.\u001b[0m\u001b[0mcontour\u001b[0m\u001b[0;34m(\u001b[0m\u001b[0;34m*\u001b[0m\u001b[0margs\u001b[0m\u001b[0;34m,\u001b[0m \u001b[0;34m**\u001b[0m\u001b[0mkwargs\u001b[0m\u001b[0;34m)\u001b[0m\u001b[0;34m\u001b[0m\u001b[0m\n\u001b[0m\u001b[1;32m   2798\u001b[0m     \u001b[0;32mfinally\u001b[0m\u001b[0;34m:\u001b[0m\u001b[0;34m\u001b[0m\u001b[0m\n\u001b[1;32m   2799\u001b[0m         \u001b[0max\u001b[0m\u001b[0;34m.\u001b[0m\u001b[0m_hold\u001b[0m \u001b[0;34m=\u001b[0m \u001b[0mwashold\u001b[0m\u001b[0;34m\u001b[0m\u001b[0m\n",
      "\u001b[0;32m/usr/lib/python3/dist-packages/matplotlib/__init__.py\u001b[0m in \u001b[0;36minner\u001b[0;34m(ax, *args, **kwargs)\u001b[0m\n\u001b[1;32m   1716\u001b[0m                     warnings.warn(msg % (label_namer, func.__name__),\n\u001b[1;32m   1717\u001b[0m                                   RuntimeWarning, stacklevel=2)\n\u001b[0;32m-> 1718\u001b[0;31m             \u001b[0;32mreturn\u001b[0m \u001b[0mfunc\u001b[0m\u001b[0;34m(\u001b[0m\u001b[0max\u001b[0m\u001b[0;34m,\u001b[0m \u001b[0;34m*\u001b[0m\u001b[0margs\u001b[0m\u001b[0;34m,\u001b[0m \u001b[0;34m**\u001b[0m\u001b[0mkwargs\u001b[0m\u001b[0;34m)\u001b[0m\u001b[0;34m\u001b[0m\u001b[0m\n\u001b[0m\u001b[1;32m   1719\u001b[0m         \u001b[0mpre_doc\u001b[0m \u001b[0;34m=\u001b[0m \u001b[0minner\u001b[0m\u001b[0;34m.\u001b[0m\u001b[0m__doc__\u001b[0m\u001b[0;34m\u001b[0m\u001b[0m\n\u001b[1;32m   1720\u001b[0m         \u001b[0;32mif\u001b[0m \u001b[0mpre_doc\u001b[0m \u001b[0;32mis\u001b[0m \u001b[0;32mNone\u001b[0m\u001b[0;34m:\u001b[0m\u001b[0;34m\u001b[0m\u001b[0m\n",
      "\u001b[0;32m/usr/lib/python3/dist-packages/matplotlib/axes/_axes.py\u001b[0m in \u001b[0;36mcontour\u001b[0;34m(self, *args, **kwargs)\u001b[0m\n\u001b[1;32m   5811\u001b[0m             \u001b[0mself\u001b[0m\u001b[0;34m.\u001b[0m\u001b[0mcla\u001b[0m\u001b[0;34m(\u001b[0m\u001b[0;34m)\u001b[0m\u001b[0;34m\u001b[0m\u001b[0m\n\u001b[1;32m   5812\u001b[0m         \u001b[0mkwargs\u001b[0m\u001b[0;34m[\u001b[0m\u001b[0;34m'filled'\u001b[0m\u001b[0;34m]\u001b[0m \u001b[0;34m=\u001b[0m \u001b[0;32mFalse\u001b[0m\u001b[0;34m\u001b[0m\u001b[0m\n\u001b[0;32m-> 5813\u001b[0;31m         \u001b[0mcontours\u001b[0m \u001b[0;34m=\u001b[0m \u001b[0mmcontour\u001b[0m\u001b[0;34m.\u001b[0m\u001b[0mQuadContourSet\u001b[0m\u001b[0;34m(\u001b[0m\u001b[0mself\u001b[0m\u001b[0;34m,\u001b[0m \u001b[0;34m*\u001b[0m\u001b[0margs\u001b[0m\u001b[0;34m,\u001b[0m \u001b[0;34m**\u001b[0m\u001b[0mkwargs\u001b[0m\u001b[0;34m)\u001b[0m\u001b[0;34m\u001b[0m\u001b[0m\n\u001b[0m\u001b[1;32m   5814\u001b[0m         \u001b[0mself\u001b[0m\u001b[0;34m.\u001b[0m\u001b[0mautoscale_view\u001b[0m\u001b[0;34m(\u001b[0m\u001b[0;34m)\u001b[0m\u001b[0;34m\u001b[0m\u001b[0m\n\u001b[1;32m   5815\u001b[0m         \u001b[0;32mreturn\u001b[0m \u001b[0mcontours\u001b[0m\u001b[0;34m\u001b[0m\u001b[0m\n",
      "\u001b[0;32m/usr/lib/python3/dist-packages/matplotlib/contour.py\u001b[0m in \u001b[0;36m__init__\u001b[0;34m(self, ax, *args, **kwargs)\u001b[0m\n\u001b[1;32m    851\u001b[0m         \u001b[0mself\u001b[0m\u001b[0;34m.\u001b[0m\u001b[0m_transform\u001b[0m \u001b[0;34m=\u001b[0m \u001b[0mkwargs\u001b[0m\u001b[0;34m.\u001b[0m\u001b[0mpop\u001b[0m\u001b[0;34m(\u001b[0m\u001b[0;34m'transform'\u001b[0m\u001b[0;34m,\u001b[0m \u001b[0;32mNone\u001b[0m\u001b[0;34m)\u001b[0m\u001b[0;34m\u001b[0m\u001b[0m\n\u001b[1;32m    852\u001b[0m \u001b[0;34m\u001b[0m\u001b[0m\n\u001b[0;32m--> 853\u001b[0;31m         \u001b[0mkwargs\u001b[0m \u001b[0;34m=\u001b[0m \u001b[0mself\u001b[0m\u001b[0;34m.\u001b[0m\u001b[0m_process_args\u001b[0m\u001b[0;34m(\u001b[0m\u001b[0;34m*\u001b[0m\u001b[0margs\u001b[0m\u001b[0;34m,\u001b[0m \u001b[0;34m**\u001b[0m\u001b[0mkwargs\u001b[0m\u001b[0;34m)\u001b[0m\u001b[0;34m\u001b[0m\u001b[0m\n\u001b[0m\u001b[1;32m    854\u001b[0m         \u001b[0mself\u001b[0m\u001b[0;34m.\u001b[0m\u001b[0m_process_levels\u001b[0m\u001b[0;34m(\u001b[0m\u001b[0;34m)\u001b[0m\u001b[0;34m\u001b[0m\u001b[0m\n\u001b[1;32m    855\u001b[0m \u001b[0;34m\u001b[0m\u001b[0m\n",
      "\u001b[0;32m/usr/lib/python3/dist-packages/matplotlib/contour.py\u001b[0m in \u001b[0;36m_process_args\u001b[0;34m(self, *args, **kwargs)\u001b[0m\n\u001b[1;32m   1444\u001b[0m                 \u001b[0mself\u001b[0m\u001b[0;34m.\u001b[0m\u001b[0m_corner_mask\u001b[0m \u001b[0;34m=\u001b[0m \u001b[0mmpl\u001b[0m\u001b[0;34m.\u001b[0m\u001b[0mrcParams\u001b[0m\u001b[0;34m[\u001b[0m\u001b[0;34m'contour.corner_mask'\u001b[0m\u001b[0;34m]\u001b[0m\u001b[0;34m\u001b[0m\u001b[0m\n\u001b[1;32m   1445\u001b[0m \u001b[0;34m\u001b[0m\u001b[0m\n\u001b[0;32m-> 1446\u001b[0;31m             \u001b[0mx\u001b[0m\u001b[0;34m,\u001b[0m \u001b[0my\u001b[0m\u001b[0;34m,\u001b[0m \u001b[0mz\u001b[0m \u001b[0;34m=\u001b[0m \u001b[0mself\u001b[0m\u001b[0;34m.\u001b[0m\u001b[0m_contour_args\u001b[0m\u001b[0;34m(\u001b[0m\u001b[0margs\u001b[0m\u001b[0;34m,\u001b[0m \u001b[0mkwargs\u001b[0m\u001b[0;34m)\u001b[0m\u001b[0;34m\u001b[0m\u001b[0m\n\u001b[0m\u001b[1;32m   1447\u001b[0m \u001b[0;34m\u001b[0m\u001b[0m\n\u001b[1;32m   1448\u001b[0m             \u001b[0m_mask\u001b[0m \u001b[0;34m=\u001b[0m \u001b[0mma\u001b[0m\u001b[0;34m.\u001b[0m\u001b[0mgetmask\u001b[0m\u001b[0;34m(\u001b[0m\u001b[0mz\u001b[0m\u001b[0;34m)\u001b[0m\u001b[0;34m\u001b[0m\u001b[0m\n",
      "\u001b[0;32m/usr/lib/python3/dist-packages/matplotlib/contour.py\u001b[0m in \u001b[0;36m_contour_args\u001b[0;34m(self, args, kwargs)\u001b[0m\n\u001b[1;32m   1525\u001b[0m             \u001b[0margs\u001b[0m \u001b[0;34m=\u001b[0m \u001b[0margs\u001b[0m\u001b[0;34m[\u001b[0m\u001b[0;36m1\u001b[0m\u001b[0;34m:\u001b[0m\u001b[0;34m]\u001b[0m\u001b[0;34m\u001b[0m\u001b[0m\n\u001b[1;32m   1526\u001b[0m         \u001b[0;32melif\u001b[0m \u001b[0mNargs\u001b[0m \u001b[0;34m<=\u001b[0m \u001b[0;36m4\u001b[0m\u001b[0;34m:\u001b[0m\u001b[0;34m\u001b[0m\u001b[0m\n\u001b[0;32m-> 1527\u001b[0;31m             \u001b[0mx\u001b[0m\u001b[0;34m,\u001b[0m \u001b[0my\u001b[0m\u001b[0;34m,\u001b[0m \u001b[0mz\u001b[0m \u001b[0;34m=\u001b[0m \u001b[0mself\u001b[0m\u001b[0;34m.\u001b[0m\u001b[0m_check_xyz\u001b[0m\u001b[0;34m(\u001b[0m\u001b[0margs\u001b[0m\u001b[0;34m[\u001b[0m\u001b[0;34m:\u001b[0m\u001b[0;36m3\u001b[0m\u001b[0;34m]\u001b[0m\u001b[0;34m,\u001b[0m \u001b[0mkwargs\u001b[0m\u001b[0;34m)\u001b[0m\u001b[0;34m\u001b[0m\u001b[0m\n\u001b[0m\u001b[1;32m   1528\u001b[0m             \u001b[0margs\u001b[0m \u001b[0;34m=\u001b[0m \u001b[0margs\u001b[0m\u001b[0;34m[\u001b[0m\u001b[0;36m3\u001b[0m\u001b[0;34m:\u001b[0m\u001b[0;34m]\u001b[0m\u001b[0;34m\u001b[0m\u001b[0m\n\u001b[1;32m   1529\u001b[0m         \u001b[0;32melse\u001b[0m\u001b[0;34m:\u001b[0m\u001b[0;34m\u001b[0m\u001b[0m\n",
      "\u001b[0;32m/usr/lib/python3/dist-packages/matplotlib/contour.py\u001b[0m in \u001b[0;36m_check_xyz\u001b[0;34m(self, args, kwargs)\u001b[0m\n\u001b[1;32m   1559\u001b[0m \u001b[0;34m\u001b[0m\u001b[0m\n\u001b[1;32m   1560\u001b[0m         \u001b[0;32mif\u001b[0m \u001b[0mz\u001b[0m\u001b[0;34m.\u001b[0m\u001b[0mndim\u001b[0m \u001b[0;34m!=\u001b[0m \u001b[0;36m2\u001b[0m\u001b[0;34m:\u001b[0m\u001b[0;34m\u001b[0m\u001b[0m\n\u001b[0;32m-> 1561\u001b[0;31m             \u001b[0;32mraise\u001b[0m \u001b[0mTypeError\u001b[0m\u001b[0;34m(\u001b[0m\u001b[0;34m\"Input z must be a 2D array.\"\u001b[0m\u001b[0;34m)\u001b[0m\u001b[0;34m\u001b[0m\u001b[0m\n\u001b[0m\u001b[1;32m   1562\u001b[0m         \u001b[0;32melif\u001b[0m \u001b[0mz\u001b[0m\u001b[0;34m.\u001b[0m\u001b[0mshape\u001b[0m\u001b[0;34m[\u001b[0m\u001b[0;36m0\u001b[0m\u001b[0;34m]\u001b[0m \u001b[0;34m<\u001b[0m \u001b[0;36m2\u001b[0m \u001b[0;32mor\u001b[0m \u001b[0mz\u001b[0m\u001b[0;34m.\u001b[0m\u001b[0mshape\u001b[0m\u001b[0;34m[\u001b[0m\u001b[0;36m1\u001b[0m\u001b[0;34m]\u001b[0m \u001b[0;34m<\u001b[0m \u001b[0;36m2\u001b[0m\u001b[0;34m:\u001b[0m\u001b[0;34m\u001b[0m\u001b[0m\n\u001b[1;32m   1563\u001b[0m             \u001b[0;32mraise\u001b[0m \u001b[0mTypeError\u001b[0m\u001b[0;34m(\u001b[0m\u001b[0;34m\"Input z must be at least a 2x2 array.\"\u001b[0m\u001b[0;34m)\u001b[0m\u001b[0;34m\u001b[0m\u001b[0m\n",
      "\u001b[0;31mTypeError\u001b[0m: Input z must be a 2D array."
     ]
    },
    {
     "data": {
      "image/png": "[encoded data removed]",
      "text/plain": [
       "<matplotlib.figure.Figure at 0x7fbabbd533c8>"
      ]
     },
     "metadata": {},
     "output_type": "display_data"
    }
   ],
   "source": [
    "## Metrics of the solutions\n",
    "print(max(q['Q']))\n",
    "X, Y = np.meshgrid(q['eps'], q['min_samples'])\n",
    "\n",
    "plt.figure()\n",
    "CS = plt.contour(X, Y, Z)\n",
    "plt.clabel(CS, inline=1, fontsize=10)\n",
    "plt.show()"
   ]
  },
  {
   "cell_type": "code",
   "execution_count": 24,
   "metadata": {
    "scrolled": true
   },
   "outputs": [
    {
     "name": "stdout",
     "output_type": "stream",
     "text": [
      "## Angular distance (1deg) : 10.0 pc\n"
     ]
    },
    {
     "ename": "NameError",
     "evalue": "name 'labels_d' is not defined",
     "output_type": "error",
     "traceback": [
      "\u001b[0;31m---------------------------------------------------------------------------\u001b[0m",
      "\u001b[0;31mNameError\u001b[0m                                 Traceback (most recent call last)",
      "\u001b[0;32m<ipython-input-24-c9df071fbc12>\u001b[0m in \u001b[0;36m<module>\u001b[0;34m()\u001b[0m\n\u001b[1;32m      2\u001b[0m \u001b[0mangl2pc\u001b[0m \u001b[0;34m=\u001b[0m \u001b[0;36m3600.\u001b[0m \u001b[0;34m*\u001b[0m \u001b[0;36m150e6\u001b[0m \u001b[0;34m*\u001b[0m \u001b[0mdistclust\u001b[0m \u001b[0;34m/\u001b[0m \u001b[0;36m3.1e13\u001b[0m\u001b[0;34m\u001b[0m\u001b[0m\n\u001b[1;32m      3\u001b[0m \u001b[0mprint\u001b[0m\u001b[0;34m(\u001b[0m\u001b[0;34m\"## Angular distance (1deg) : %3.1f pc\"\u001b[0m\u001b[0;34m%\u001b[0m\u001b[0;34m(\u001b[0m\u001b[0mangl2pc\u001b[0m\u001b[0;34m)\u001b[0m\u001b[0;34m)\u001b[0m\u001b[0;34m\u001b[0m\u001b[0m\n\u001b[0;32m----> 4\u001b[0;31m \u001b[0mplot2d\u001b[0m\u001b[0;34m(\u001b[0m\u001b[0msource\u001b[0m\u001b[0;34m.\u001b[0m\u001b[0mdf\u001b[0m\u001b[0;34m,\u001b[0m \u001b[0mlabels_d\u001b[0m\u001b[0;34m,\u001b[0m\u001b[0;36m0\u001b[0m\u001b[0;34m,\u001b[0m \u001b[0mcmap\u001b[0m \u001b[0;34m=\u001b[0m \u001b[0;34m\"hsv\"\u001b[0m\u001b[0;34m)\u001b[0m\u001b[0;34m\u001b[0m\u001b[0m\n\u001b[0m",
      "\u001b[0;31mNameError\u001b[0m: name 'labels_d' is not defined"
     ]
    }
   ],
   "source": [
    "## separation distance\n",
    "angl2pc = 3600. * 150e6 * distclust / 3.1e13\n",
    "print(\"## Angular distance (1deg) : %3.1f pc\"%(angl2pc))"
   ]
  }
 ],
 "metadata": {
  "kernelspec": {
   "display_name": "Python 3",
   "language": "python",
   "name": "python3"
  },
  "language_info": {
   "codemirror_mode": {
    "name": "ipython",
    "version": 3
   },
   "file_extension": ".py",
   "mimetype": "text/x-python",
   "name": "python",
   "nbconvert_exporter": "python",
   "pygments_lexer": "ipython3",
   "version": "3.6.5"
  }
 },
 "nbformat": 4,
 "nbformat_minor": 2
}
