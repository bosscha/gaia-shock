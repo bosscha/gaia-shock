{
 "cells": [
  {
   "cell_type": "markdown",
   "metadata": {},
   "source": [
    "### Main Loop for the analysis of a list of votables  ...\n",
    "\n",
    "Features are:\n",
    "1. Ability to stop and resume loop\n",
    "2. Ability to plot the results\n",
    "3. Plug different kinds of analysis.\n",
    "4. Log results in a file and/or sqlitedb\n",
    "5. Should be runnable in the downloaded jl file.\n",
    "6. ETA"
   ]
  },
  {
   "cell_type": "code",
   "execution_count": 1,
   "metadata": {},
   "outputs": [],
   "source": [
    "using DataFrames\n",
    "using CSV\n",
    "using Statistics\n",
    "\n",
    "push!(LOAD_PATH,\"/home/stephane/Science/cluster/GAIA/master/src\")\n",
    "using GaiaClustering\n",
    "\n",
    "\n",
    "## directory\n",
    "rootdir = \"/home/stephane/Science/cluster/GAIA\"\n",
    "wdir    = \"/home/stephane/Science/cluster/GAIA/products\"\n",
    "votdir  = \"/home/stephane/Science/cluster/GAIA/products/votable\"\n",
    "plotdir = \"/home/stephane/Science/cluster/GAIA/products/test\"\n",
    "\n",
    "cd(wdir)"
   ]
  },
  {
   "cell_type": "code",
   "execution_count": 2,
   "metadata": {},
   "outputs": [
    {
     "data": {
      "text/plain": [
       "readlist_votable (generic function with 1 method)"
      ]
     },
     "execution_count": 2,
     "metadata": {},
     "output_type": "execute_result"
    }
   ],
   "source": [
    "## load a liist of votable and update the file if done\n",
    "## add results\n",
    "## \n",
    "\n",
    "function readlist_votable(filelist::String)\n",
    "    vot = CSV.read(filelist)\n",
    "    return(vot)\n",
    "end"
   ]
  },
  {
   "cell_type": "code",
   "execution_count": 3,
   "metadata": {},
   "outputs": [
    {
     "data": {
      "text/plain": [
       "getdata (generic function with 1 method)"
      ]
     },
     "execution_count": 3,
     "metadata": {},
     "output_type": "execute_result"
    }
   ],
   "source": [
    "function getdata(filevot)\n",
    "    voname = filevot\n",
    "\n",
    "    data       = read_votable(voname)\n",
    "    df         = filter_data(data)\n",
    "    dfcart     = add_cartesian(df)\n",
    "    blck       = [[1,2,3],[4,5], [6,7,8]]\n",
    "    wghtblck   = [4.0,5.0,1.0]\n",
    "    norm       = \"identity\"\n",
    "\n",
    "    dfcartnorm , scale8 = normalization_PerBlock(dfcart, blck, wghtblck , norm, false) \n",
    "    return(dfcartnorm , dfcart)\n",
    "end"
   ]
  },
  {
   "cell_type": "code",
   "execution_count": 4,
   "metadata": {},
   "outputs": [
    {
     "data": {
      "text/plain": [
       "check_mcmc (generic function with 1 method)"
      ]
     },
     "execution_count": 4,
     "metadata": {},
     "output_type": "execute_result"
    }
   ],
   "source": [
    "function mcmc_params()\n",
    "    minQ    = 2.5\n",
    "    minstars = 50\n",
    "    ##\n",
    "    epsmean = 2.0\n",
    "    epsdisp = 1.5\n",
    "    min_nei   = 10\n",
    "    min_cl    = 15\n",
    "    ncoredisp = 10\n",
    "    ##\n",
    "    nburnout  = 500\n",
    "    niter     = 3000\n",
    "    pinit = GaiaClustering.abc(minQ, minstars, epsmean,epsdisp,min_nei, min_cl, ncoredisp, nburnout , niter)\n",
    "    return(pinit)\n",
    "end\n",
    "\n",
    "function dbscanmcmc_init(fileres)\n",
    "    res = []\n",
    "    found = false\n",
    "    try\n",
    "        res = CSV.read(fileres, delim=\";\")\n",
    "        found = true\n",
    "    catch\n",
    "        println(\"## No $fileres file, it will be created...\")\n",
    "    end\n",
    "    return(found)\n",
    "end\n",
    "\n",
    "function dbscanmcmc_updt!(initmcmc, fileres, mc ,votname)\n",
    "    epsm = mean(mc.eps)\n",
    "    epsd = std(mc.eps)\n",
    "    mneim = mean(mc.mne)\n",
    "    mneid = std(mc.mne)\n",
    "    mclm = mean(mc.mcl)\n",
    "    mcld = std(mc.mcl)\n",
    "    qcm = mean(mc.qc)\n",
    "    qnm = mean(mc.qn)\n",
    "    qcd = std(mc.qc)\n",
    "    qnd = std(mc.qn)\n",
    "    \n",
    "    println(\"## DBSCAN/MCMC stats:\")\n",
    "    println(\"### ϵ : \",epsm,\" +/- \", epsd)\n",
    "    println(\"### min_nei  : \", mneim,\" +/- \", mneid)\n",
    "    println(\"### min_clus  : \", mclm,\"+/- \", mcld)\n",
    "    println(\"### Qn  : \",qnm,\" +/- \", qnd) \n",
    "    println(\"### Qc  : \",qcm,\" +/- \", qcd)\n",
    "    println(\"##\")\n",
    "    \n",
    "    if !initmcmc\n",
    "        res = DataFrame(votname=votname, epsm = epsm, epsd=epsd, mneim=mneim,mneid=mneid,mclm=mclm,mcld=mcld,\n",
    "            qcm=qcm,qcd=qcd, qnm=qnm,qnd=qnd)\n",
    "        CSV.write(fileres,res,delim=';')\n",
    "        initmcmc = true\n",
    "    else\n",
    "        res = CSV.read(fileres, delim=\";\")\n",
    "        newrow = DataFrame(votname=votname,epsm = epsm, epsd=epsd, mneim=mneim,mneid=mneid,mclm=mclm,mcld=mcld,\n",
    "            qcm=qcm,qcd=qcd, qnm=qnm,qnd=qnd)\n",
    "        println(\"### add results .....\")\n",
    "        append!(res,newrow)\n",
    "        println(res)\n",
    "        CSV.write(fileres,res,delim=';')  \n",
    "    end\n",
    "end\n",
    "\n",
    "function check_mcmc(initmcmc, votname, fileres)\n",
    "    if !initmcmc\n",
    "        return(false)\n",
    "    else\n",
    "        res = CSV.read(fileres, delim=\";\")\n",
    "        if votname in res[:votname]\n",
    "            return(true)\n",
    "        else\n",
    "            return(false)\n",
    "        end\n",
    "    end\n",
    "end"
   ]
  },
  {
   "cell_type": "code",
   "execution_count": null,
   "metadata": {},
   "outputs": [
    {
     "name": "stdout",
     "output_type": "stream",
     "text": [
      "## Starting main loop ..\n",
      "## votListTest.csv read\n",
      "## No votResultsTest.csv file, it will be created...\n",
      "## Starting with NGC 1027-1.2deg.vot\n",
      "## Votable /home/stephane/Science/cluster/GAIA/products/votable/NGC 1027-1.2deg.vot read\n",
      "## Filtering done ...\n",
      "## Stars selected: 16054\n",
      "## Cartesian transformation done ...\n",
      "## Normalization identity done...\n",
      "### [1pc,1pc,1pc,1km/s,1km/s,1mag,1mag] equivalent to [0.398015, 0.398015, 0.398015, 0.497519, 0.497519, 0.0995037, 0.0995037, 0.0995037]\n",
      "##\n",
      "## ABC/MCMC for DBSCAN...\n",
      "### init done ...\n",
      "### mini stats...\n",
      "### Qc : 3.117949442107755\n",
      "### Qn : 177.79\n",
      "### chain:500\n",
      "### burnout done...\n",
      "### chain:500\n",
      "### chain:1000\n",
      "### chain:1500\n",
      "### chain:2000\n",
      "### chain:2500\n",
      "### chain:3000\n",
      "## ABC/MCMC done\n",
      "##\n",
      "## DBSCAN/MCMC stats:\n",
      "### ϵ : 2.9571946647627616 +/- 0.6657956389519875\n",
      "### min_nei  : 7.906426906426907 +/- 4.615629169659767\n",
      "### min_clus  : 16.676323676323676+/- 6.078308288498442\n",
      "### Qn  : 321.5987345987346 +/- 122.50512161476865\n",
      "### Qc  : 3.2840795844838735 +/- 0.29063680569172406\n",
      "##\n",
      "## Starting with NGC 129-0.8deg.vot\n",
      "## Votable /home/stephane/Science/cluster/GAIA/products/votable/NGC 129-0.8deg.vot read\n"
     ]
    },
    {
     "name": "stderr",
     "output_type": "stream",
     "text": [
      "WARNING: W35: /home/stephane/Science/cluster/GAIA/products/votable/NGC 1027-1.2deg.vot:5:0: W35: 'value' attribute required for INFO elements [astropy.io.votable.tree]\n",
      "WARNING: W35: /home/stephane/Science/cluster/GAIA/products/votable/NGC 1027-1.2deg.vot:6:0: W35: 'value' attribute required for INFO elements [astropy.io.votable.tree]\n",
      "WARNING: W35: /home/stephane/Science/cluster/GAIA/products/votable/NGC 1027-1.2deg.vot:7:0: W35: 'value' attribute required for INFO elements [astropy.io.votable.tree]\n",
      "WARNING: W35: /home/stephane/Science/cluster/GAIA/products/votable/NGC 1027-1.2deg.vot:8:0: W35: 'value' attribute required for INFO elements [astropy.io.votable.tree]\n",
      "WARNING: W35: /home/stephane/Science/cluster/GAIA/products/votable/NGC 1027-1.2deg.vot:10:0: W35: 'value' attribute required for INFO elements [astropy.io.votable.tree]\n",
      "WARNING: W27: /home/stephane/Science/cluster/GAIA/products/votable/NGC 1027-1.2deg.vot:11:0: W27: COOSYS deprecated in VOTable 1.2 [astropy.io.votable.tree]\n",
      "WARNING: W06: /home/stephane/Science/cluster/GAIA/products/votable/NGC 1027-1.2deg.vot:47:0: W06: Invalid UCD 'arith.ratio': Secondary word 'arith.ratio' is not valid as a primary word [astropy.io.votable.tree]\n",
      "WARNING: W50: /home/stephane/Science/cluster/GAIA/products/votable/NGC 1027-1.2deg.vot:50:0: W50: Invalid unit string 'mas.yr**-1' [astropy.io.votable.tree]\n",
      "WARNING: W50: /home/stephane/Science/cluster/GAIA/products/votable/NGC 1027-1.2deg.vot:53:0: W50: Invalid unit string 'mas.yr**-1' [astropy.io.votable.tree]\n",
      "WARNING: W50: /home/stephane/Science/cluster/GAIA/products/votable/NGC 1027-1.2deg.vot:56:0: W50: Invalid unit string 'mas.yr**-1' [astropy.io.votable.tree]\n",
      "WARNING: W50: /home/stephane/Science/cluster/GAIA/products/votable/NGC 1027-1.2deg.vot:59:0: W50: Invalid unit string 'mas.yr**-1' [astropy.io.votable.tree]\n",
      "WARNING: W50: /home/stephane/Science/cluster/GAIA/products/votable/NGC 1027-1.2deg.vot:122:0: W50: Invalid unit string 'mas**-2' [astropy.io.votable.tree]\n",
      "WARNING: W50: /home/stephane/Science/cluster/GAIA/products/votable/NGC 1027-1.2deg.vot:125:0: W50: Invalid unit string 'um**-1' [astropy.io.votable.tree]\n",
      "WARNING: W06: /home/stephane/Science/cluster/GAIA/products/votable/NGC 1027-1.2deg.vot:128:0: W06: Invalid UCD 'em.wavenumber;stat.error': Primary word 'stat.error' is not valid as a secondary word [astropy.io.votable.tree]\n",
      "WARNING: W50: /home/stephane/Science/cluster/GAIA/products/votable/NGC 1027-1.2deg.vot:128:0: W50: Invalid unit string 'um**-1' [astropy.io.votable.tree]\n",
      "WARNING: W06: /home/stephane/Science/cluster/GAIA/products/votable/NGC 1027-1.2deg.vot:140:0: W06: Invalid UCD 'pos.errorEllipse;stat.max': Secondary word 'pos.errorEllipse' is not valid as a primary word [astropy.io.votable.tree]\n",
      "WARNING: W50: /home/stephane/Science/cluster/GAIA/products/votable/NGC 1027-1.2deg.vot:155:0: W50: Invalid unit string ''electron'.s**-1' [astropy.io.votable.tree]\n",
      "WARNING: W50: /home/stephane/Science/cluster/GAIA/products/votable/NGC 1027-1.2deg.vot:158:0: W50: Invalid unit string ''electron'.s**-1' [astropy.io.votable.tree]\n",
      "WARNING: W06: /home/stephane/Science/cluster/GAIA/products/votable/NGC 1027-1.2deg.vot:161:0: W06: Invalid UCD 'arith.ratio': Secondary word 'arith.ratio' is not valid as a primary word [astropy.io.votable.tree]\n",
      "WARNING: W50: /home/stephane/Science/cluster/GAIA/products/votable/NGC 1027-1.2deg.vot:170:0: W50: Invalid unit string ''electron'.s**-1' (suppressing further warnings of this type...) [astropy.io.votable.tree]\n",
      "WARNING: W06: /home/stephane/Science/cluster/GAIA/products/votable/NGC 1027-1.2deg.vot:176:0: W06: Invalid UCD 'arith.ratio': Secondary word 'arith.ratio' is not valid as a primary word [astropy.io.votable.tree]\n",
      "WARNING: W06: /home/stephane/Science/cluster/GAIA/products/votable/NGC 1027-1.2deg.vot:191:0: W06: Invalid UCD 'arith.ratio': Secondary word 'arith.ratio' is not valid as a primary word [astropy.io.votable.tree]\n",
      "WARNING: W06: /home/stephane/Science/cluster/GAIA/products/votable/NGC 1027-1.2deg.vot:203:0: W06: Invalid UCD 'phot.color': Unknown word 'phot.color' [astropy.io.votable.tree]\n",
      "WARNING: W06: /home/stephane/Science/cluster/GAIA/products/votable/NGC 1027-1.2deg.vot:206:0: W06: Invalid UCD 'phot.color': Unknown word 'phot.color' [astropy.io.votable.tree]\n",
      "WARNING: W06: /home/stephane/Science/cluster/GAIA/products/votable/NGC 1027-1.2deg.vot:209:0: W06: Invalid UCD 'phot.color': Unknown word 'phot.color' [astropy.io.votable.tree]\n",
      "WARNING: W06: /home/stephane/Science/cluster/GAIA/products/votable/NGC 1027-1.2deg.vot:281:0: W06: Invalid UCD 'phys.size.radius;stat.error': Primary word 'stat.error' is not valid as a secondary word (suppressing further warnings of this type...) [astropy.io.votable.tree]\n",
      "WARNING: W35: /home/stephane/Science/cluster/GAIA/products/votable/NGC 129-0.8deg.vot:5:0: W35: 'value' attribute required for INFO elements [astropy.io.votable.tree]\n",
      "WARNING: W35: /home/stephane/Science/cluster/GAIA/products/votable/NGC 129-0.8deg.vot:6:0: W35: 'value' attribute required for INFO elements [astropy.io.votable.tree]\n",
      "WARNING: W35: /home/stephane/Science/cluster/GAIA/products/votable/NGC 129-0.8deg.vot:7:0: W35: 'value' attribute required for INFO elements [astropy.io.votable.tree]\n",
      "WARNING: W35: /home/stephane/Science/cluster/GAIA/products/votable/NGC 129-0.8deg.vot:8:0: W35: 'value' attribute required for INFO elements [astropy.io.votable.tree]\n",
      "WARNING: W35: /home/stephane/Science/cluster/GAIA/products/votable/NGC 129-0.8deg.vot:10:0: W35: 'value' attribute required for INFO elements [astropy.io.votable.tree]\n",
      "WARNING: W27: /home/stephane/Science/cluster/GAIA/products/votable/NGC 129-0.8deg.vot:11:0: W27: COOSYS deprecated in VOTable 1.2 [astropy.io.votable.tree]\n",
      "WARNING: W06: /home/stephane/Science/cluster/GAIA/products/votable/NGC 129-0.8deg.vot:47:0: W06: Invalid UCD 'arith.ratio': Secondary word 'arith.ratio' is not valid as a primary word [astropy.io.votable.tree]\n",
      "WARNING: W50: /home/stephane/Science/cluster/GAIA/products/votable/NGC 129-0.8deg.vot:50:0: W50: Invalid unit string 'mas.yr**-1' [astropy.io.votable.tree]\n",
      "WARNING: W50: /home/stephane/Science/cluster/GAIA/products/votable/NGC 129-0.8deg.vot:53:0: W50: Invalid unit string 'mas.yr**-1' [astropy.io.votable.tree]\n",
      "WARNING: W50: /home/stephane/Science/cluster/GAIA/products/votable/NGC 129-0.8deg.vot:56:0: W50: Invalid unit string 'mas.yr**-1' [astropy.io.votable.tree]\n",
      "WARNING: W50: /home/stephane/Science/cluster/GAIA/products/votable/NGC 129-0.8deg.vot:59:0: W50: Invalid unit string 'mas.yr**-1' [astropy.io.votable.tree]\n",
      "WARNING: W50: /home/stephane/Science/cluster/GAIA/products/votable/NGC 129-0.8deg.vot:122:0: W50: Invalid unit string 'mas**-2' [astropy.io.votable.tree]\n",
      "WARNING: W50: /home/stephane/Science/cluster/GAIA/products/votable/NGC 129-0.8deg.vot:125:0: W50: Invalid unit string 'um**-1' [astropy.io.votable.tree]\n",
      "WARNING: W06: /home/stephane/Science/cluster/GAIA/products/votable/NGC 129-0.8deg.vot:128:0: W06: Invalid UCD 'em.wavenumber;stat.error': Primary word 'stat.error' is not valid as a secondary word [astropy.io.votable.tree]\n",
      "WARNING: W50: /home/stephane/Science/cluster/GAIA/products/votable/NGC 129-0.8deg.vot:128:0: W50: Invalid unit string 'um**-1' [astropy.io.votable.tree]\n",
      "WARNING: W06: /home/stephane/Science/cluster/GAIA/products/votable/NGC 129-0.8deg.vot:140:0: W06: Invalid UCD 'pos.errorEllipse;stat.max': Secondary word 'pos.errorEllipse' is not valid as a primary word [astropy.io.votable.tree]\n",
      "WARNING: W50: /home/stephane/Science/cluster/GAIA/products/votable/NGC 129-0.8deg.vot:155:0: W50: Invalid unit string ''electron'.s**-1' [astropy.io.votable.tree]\n",
      "WARNING: W50: /home/stephane/Science/cluster/GAIA/products/votable/NGC 129-0.8deg.vot:158:0: W50: Invalid unit string ''electron'.s**-1' [astropy.io.votable.tree]\n",
      "WARNING: W06: /home/stephane/Science/cluster/GAIA/products/votable/NGC 129-0.8deg.vot:161:0: W06: Invalid UCD 'arith.ratio': Secondary word 'arith.ratio' is not valid as a primary word [astropy.io.votable.tree]\n",
      "WARNING: W50: /home/stephane/Science/cluster/GAIA/products/votable/NGC 129-0.8deg.vot:170:0: W50: Invalid unit string ''electron'.s**-1' (suppressing further warnings of this type...) [astropy.io.votable.tree]"
     ]
    },
    {
     "name": "stdout",
     "output_type": "stream",
     "text": [
      "## Filtering done ...\n",
      "## Stars selected: 9190\n",
      "## Cartesian transformation done ...\n",
      "## Normalization identity done...\n",
      "### [1pc,1pc,1pc,1km/s,1km/s,1mag,1mag] equivalent to [0.398015, 0.398015, 0.398015, 0.497519, 0.497519, 0.0995037, 0.0995037, 0.0995037]\n",
      "##\n",
      "## ABC/MCMC for DBSCAN...\n",
      "### init done ...\n",
      "### mini stats...\n",
      "### Qc : 3.8081444844408567\n",
      "### Qn : 974.5\n",
      "### chain:500\n",
      "### burnout done...\n",
      "### chain:500\n",
      "### chain:1000\n",
      "### chain:1500\n"
     ]
    }
   ],
   "source": [
    "## Main loop\n",
    "##\n",
    "\n",
    "macro main(filelist,fileres)\n",
    "    let\n",
    "        println(\"## Starting main loop ..\")\n",
    "        vot = readlist_votable(filelist)\n",
    "        println(\"## $filelist read\")\n",
    "        s=size(vot)\n",
    "        \n",
    "        ## check for the mcmc result file...\n",
    "        mcmcinit  = dbscanmcmc_init(fileres)\n",
    "        \n",
    "        for i in 1:s[1]\n",
    "            votname = vot[:votname][i]\n",
    "            \n",
    "            mcmcfound = check_mcmc(mcmcinit, votname, fileres)\n",
    "            if !mcmcfound\n",
    "                println(\"## Starting with $votname\")\n",
    "                dfcartnorm , dfcart = getdata(votdir*\"/\"*votname)\n",
    "                params = mcmc_params()\n",
    "                mc = abc_mcmc_dbscan(dfcartnorm, dfcart, params)\n",
    "                plot_dbscan_mcmc(plotdir, votname, mc , true)\n",
    "                dbscanmcmc_updt!(mcmcinit, fileres, mc ,votname)       \n",
    "            end\n",
    "            \n",
    "        end\n",
    "    end\n",
    "    print(\"## Main loop done.\")\n",
    "end\n",
    "\n",
    "@main(\"ngclist.csv\",\"ngclistResults.csv\")\n"
   ]
  }
 ],
 "metadata": {
  "kernelspec": {
   "display_name": "Julia 1.0.0",
   "language": "julia",
   "name": "julia-1.0"
  },
  "language_info": {
   "file_extension": ".jl",
   "mimetype": "application/julia",
   "name": "julia",
   "version": "1.0.0"
  }
 },
 "nbformat": 4,
 "nbformat_minor": 2
}
