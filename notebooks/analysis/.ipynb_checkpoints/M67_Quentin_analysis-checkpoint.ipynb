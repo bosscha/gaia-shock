{
 "cells": [
  {
   "cell_type": "markdown",
   "metadata": {},
   "source": [
    "# Analysis GAIA M67 DR2\n",
    "### Packages"
   ]
  },
  {
   "cell_type": "code",
   "execution_count": 1,
   "metadata": {},
   "outputs": [
    {
     "name": "stdout",
     "output_type": "stream",
     "text": [
      "Created TAP+ (v1.0.1) - Connection:\n",
      "\tHost: gea.esac.esa.int\n",
      "\tUse HTTPS: False\n",
      "\tPort: 80\n",
      "\tSSL Port: 443\n"
     ]
    }
   ],
   "source": [
    "import astropy.units as u  # Simplify unity manipulation\n",
    "from astropy.coordinates import SkyCoord # To handle sky/space coordinates\n",
    "from astroquery.gaia import Gaia\n",
    "from astropy.io.votable import parse\n",
    "\n",
    "from pylab import rcParams\n",
    "import numpy as np\n",
    "import matplotlib.pyplot as plt\n",
    "\n",
    "from sklearn.cluster import KMeans\n",
    "from sklearn.decomposition import PCA\n",
    "from sklearn.preprocessing import scale\n",
    "from scipy.cluster.hierarchy import dendrogram, linkage, fcluster\n",
    "import pandas as pd\n",
    "\n",
    "# Suppress warnings\n",
    "import warnings\n",
    "warnings.filterwarnings('ignore')"
   ]
  },
  {
   "cell_type": "markdown",
   "metadata": {},
   "source": [
    "### Reading votable"
   ]
  },
  {
   "cell_type": "code",
   "execution_count": 2,
   "metadata": {},
   "outputs": [
    {
     "ename": "FileNotFoundError",
     "evalue": "[Errno 2] No such file or directory: 'n2516.vot'",
     "output_type": "error",
     "traceback": [
      "\u001b[0;31m---------------------------------------------------------------------------\u001b[0m",
      "\u001b[0;31mFileNotFoundError\u001b[0m                         Traceback (most recent call last)",
      "\u001b[0;32m<ipython-input-2-fc40e10c525a>\u001b[0m in \u001b[0;36m<module>\u001b[0;34m()\u001b[0m\n\u001b[1;32m      3\u001b[0m \u001b[0;34m\u001b[0m\u001b[0m\n\u001b[1;32m      4\u001b[0m \u001b[0;34m\u001b[0m\u001b[0m\n\u001b[0;32m----> 5\u001b[0;31m \u001b[0mvotable\u001b[0m \u001b[0;34m=\u001b[0m \u001b[0mparse\u001b[0m\u001b[0;34m(\u001b[0m\u001b[0mvoname\u001b[0m\u001b[0;34m)\u001b[0m\u001b[0;34m\u001b[0m\u001b[0m\n\u001b[0m\u001b[1;32m      6\u001b[0m \u001b[0;34m\u001b[0m\u001b[0m\n\u001b[1;32m      7\u001b[0m \u001b[0;32mfor\u001b[0m \u001b[0mtable\u001b[0m \u001b[0;32min\u001b[0m \u001b[0mvotable\u001b[0m\u001b[0;34m.\u001b[0m\u001b[0miter_tables\u001b[0m\u001b[0;34m(\u001b[0m\u001b[0;34m)\u001b[0m\u001b[0;34m:\u001b[0m\u001b[0;34m\u001b[0m\u001b[0m\n",
      "\u001b[0;32m/home/stephane/.local/lib/python3.6/site-packages/astropy/io/votable/table.py\u001b[0m in \u001b[0;36mparse\u001b[0;34m(source, columns, invalid, pedantic, chunk_size, table_number, table_id, filename, unit_format, datatype_mapping, _debug_python_based_parser)\u001b[0m\n\u001b[1;32m    133\u001b[0m     with iterparser.get_xml_iterator(\n\u001b[1;32m    134\u001b[0m             \u001b[0msource\u001b[0m\u001b[0;34m,\u001b[0m\u001b[0;34m\u001b[0m\u001b[0m\n\u001b[0;32m--> 135\u001b[0;31m             _debug_python_based_parser=_debug_python_based_parser) as iterator:\n\u001b[0m\u001b[1;32m    136\u001b[0m         return tree.VOTableFile(\n\u001b[1;32m    137\u001b[0m             config=config, pos=(1, 1)).parse(iterator, config)\n",
      "\u001b[0;32m/usr/lib/python3.6/contextlib.py\u001b[0m in \u001b[0;36m__enter__\u001b[0;34m(self)\u001b[0m\n\u001b[1;32m     79\u001b[0m     \u001b[0;32mdef\u001b[0m \u001b[0m__enter__\u001b[0m\u001b[0;34m(\u001b[0m\u001b[0mself\u001b[0m\u001b[0;34m)\u001b[0m\u001b[0;34m:\u001b[0m\u001b[0;34m\u001b[0m\u001b[0m\n\u001b[1;32m     80\u001b[0m         \u001b[0;32mtry\u001b[0m\u001b[0;34m:\u001b[0m\u001b[0;34m\u001b[0m\u001b[0m\n\u001b[0;32m---> 81\u001b[0;31m             \u001b[0;32mreturn\u001b[0m \u001b[0mnext\u001b[0m\u001b[0;34m(\u001b[0m\u001b[0mself\u001b[0m\u001b[0;34m.\u001b[0m\u001b[0mgen\u001b[0m\u001b[0;34m)\u001b[0m\u001b[0;34m\u001b[0m\u001b[0m\n\u001b[0m\u001b[1;32m     82\u001b[0m         \u001b[0;32mexcept\u001b[0m \u001b[0mStopIteration\u001b[0m\u001b[0;34m:\u001b[0m\u001b[0;34m\u001b[0m\u001b[0m\n\u001b[1;32m     83\u001b[0m             \u001b[0;32mraise\u001b[0m \u001b[0mRuntimeError\u001b[0m\u001b[0;34m(\u001b[0m\u001b[0;34m\"generator didn't yield\"\u001b[0m\u001b[0;34m)\u001b[0m \u001b[0;32mfrom\u001b[0m \u001b[0;32mNone\u001b[0m\u001b[0;34m\u001b[0m\u001b[0m\n",
      "\u001b[0;32m/home/stephane/.local/lib/python3.6/site-packages/astropy/utils/xml/iterparser.py\u001b[0m in \u001b[0;36mget_xml_iterator\u001b[0;34m(source, _debug_python_based_parser)\u001b[0m\n\u001b[1;32m    155\u001b[0m               \u001b[0mevent\u001b[0m\u001b[0;34m.\u001b[0m\u001b[0;34m\u001b[0m\u001b[0m\n\u001b[1;32m    156\u001b[0m     \"\"\"\n\u001b[0;32m--> 157\u001b[0;31m     \u001b[0;32mwith\u001b[0m \u001b[0m_convert_to_fd_or_read_function\u001b[0m\u001b[0;34m(\u001b[0m\u001b[0msource\u001b[0m\u001b[0;34m)\u001b[0m \u001b[0;32mas\u001b[0m \u001b[0mfd\u001b[0m\u001b[0;34m:\u001b[0m\u001b[0;34m\u001b[0m\u001b[0m\n\u001b[0m\u001b[1;32m    158\u001b[0m         \u001b[0;32mif\u001b[0m \u001b[0m_debug_python_based_parser\u001b[0m\u001b[0;34m:\u001b[0m\u001b[0;34m\u001b[0m\u001b[0m\n\u001b[1;32m    159\u001b[0m             \u001b[0mcontext\u001b[0m \u001b[0;34m=\u001b[0m \u001b[0m_slow_iterparse\u001b[0m\u001b[0;34m(\u001b[0m\u001b[0mfd\u001b[0m\u001b[0;34m)\u001b[0m\u001b[0;34m\u001b[0m\u001b[0m\n",
      "\u001b[0;32m/usr/lib/python3.6/contextlib.py\u001b[0m in \u001b[0;36m__enter__\u001b[0;34m(self)\u001b[0m\n\u001b[1;32m     79\u001b[0m     \u001b[0;32mdef\u001b[0m \u001b[0m__enter__\u001b[0m\u001b[0;34m(\u001b[0m\u001b[0mself\u001b[0m\u001b[0;34m)\u001b[0m\u001b[0;34m:\u001b[0m\u001b[0;34m\u001b[0m\u001b[0m\n\u001b[1;32m     80\u001b[0m         \u001b[0;32mtry\u001b[0m\u001b[0;34m:\u001b[0m\u001b[0;34m\u001b[0m\u001b[0m\n\u001b[0;32m---> 81\u001b[0;31m             \u001b[0;32mreturn\u001b[0m \u001b[0mnext\u001b[0m\u001b[0;34m(\u001b[0m\u001b[0mself\u001b[0m\u001b[0;34m.\u001b[0m\u001b[0mgen\u001b[0m\u001b[0;34m)\u001b[0m\u001b[0;34m\u001b[0m\u001b[0m\n\u001b[0m\u001b[1;32m     82\u001b[0m         \u001b[0;32mexcept\u001b[0m \u001b[0mStopIteration\u001b[0m\u001b[0;34m:\u001b[0m\u001b[0;34m\u001b[0m\u001b[0m\n\u001b[1;32m     83\u001b[0m             \u001b[0;32mraise\u001b[0m \u001b[0mRuntimeError\u001b[0m\u001b[0;34m(\u001b[0m\u001b[0;34m\"generator didn't yield\"\u001b[0m\u001b[0;34m)\u001b[0m \u001b[0;32mfrom\u001b[0m \u001b[0;32mNone\u001b[0m\u001b[0;34m\u001b[0m\u001b[0m\n",
      "\u001b[0;32m/home/stephane/.local/lib/python3.6/site-packages/astropy/utils/xml/iterparser.py\u001b[0m in \u001b[0;36m_convert_to_fd_or_read_function\u001b[0;34m(fd)\u001b[0m\n\u001b[1;32m     61\u001b[0m         \u001b[0;32mreturn\u001b[0m\u001b[0;34m\u001b[0m\u001b[0m\n\u001b[1;32m     62\u001b[0m \u001b[0;34m\u001b[0m\u001b[0m\n\u001b[0;32m---> 63\u001b[0;31m     \u001b[0;32mwith\u001b[0m \u001b[0mdata\u001b[0m\u001b[0;34m.\u001b[0m\u001b[0mget_readable_fileobj\u001b[0m\u001b[0;34m(\u001b[0m\u001b[0mfd\u001b[0m\u001b[0;34m,\u001b[0m \u001b[0mencoding\u001b[0m\u001b[0;34m=\u001b[0m\u001b[0;34m'binary'\u001b[0m\u001b[0;34m)\u001b[0m \u001b[0;32mas\u001b[0m \u001b[0mnew_fd\u001b[0m\u001b[0;34m:\u001b[0m\u001b[0;34m\u001b[0m\u001b[0m\n\u001b[0m\u001b[1;32m     64\u001b[0m         \u001b[0;32mif\u001b[0m \u001b[0msys\u001b[0m\u001b[0;34m.\u001b[0m\u001b[0mplatform\u001b[0m\u001b[0;34m.\u001b[0m\u001b[0mstartswith\u001b[0m\u001b[0;34m(\u001b[0m\u001b[0;34m'win'\u001b[0m\u001b[0;34m)\u001b[0m\u001b[0;34m:\u001b[0m\u001b[0;34m\u001b[0m\u001b[0m\n\u001b[1;32m     65\u001b[0m             \u001b[0;32myield\u001b[0m \u001b[0mnew_fd\u001b[0m\u001b[0;34m.\u001b[0m\u001b[0mread\u001b[0m\u001b[0;34m\u001b[0m\u001b[0m\n",
      "\u001b[0;32m/usr/lib/python3.6/contextlib.py\u001b[0m in \u001b[0;36m__enter__\u001b[0;34m(self)\u001b[0m\n\u001b[1;32m     79\u001b[0m     \u001b[0;32mdef\u001b[0m \u001b[0m__enter__\u001b[0m\u001b[0;34m(\u001b[0m\u001b[0mself\u001b[0m\u001b[0;34m)\u001b[0m\u001b[0;34m:\u001b[0m\u001b[0;34m\u001b[0m\u001b[0m\n\u001b[1;32m     80\u001b[0m         \u001b[0;32mtry\u001b[0m\u001b[0;34m:\u001b[0m\u001b[0;34m\u001b[0m\u001b[0m\n\u001b[0;32m---> 81\u001b[0;31m             \u001b[0;32mreturn\u001b[0m \u001b[0mnext\u001b[0m\u001b[0;34m(\u001b[0m\u001b[0mself\u001b[0m\u001b[0;34m.\u001b[0m\u001b[0mgen\u001b[0m\u001b[0;34m)\u001b[0m\u001b[0;34m\u001b[0m\u001b[0m\n\u001b[0m\u001b[1;32m     82\u001b[0m         \u001b[0;32mexcept\u001b[0m \u001b[0mStopIteration\u001b[0m\u001b[0;34m:\u001b[0m\u001b[0;34m\u001b[0m\u001b[0m\n\u001b[1;32m     83\u001b[0m             \u001b[0;32mraise\u001b[0m \u001b[0mRuntimeError\u001b[0m\u001b[0;34m(\u001b[0m\u001b[0;34m\"generator didn't yield\"\u001b[0m\u001b[0;34m)\u001b[0m \u001b[0;32mfrom\u001b[0m \u001b[0;32mNone\u001b[0m\u001b[0;34m\u001b[0m\u001b[0m\n",
      "\u001b[0;32m/home/stephane/.local/lib/python3.6/site-packages/astropy/utils/data.py\u001b[0m in \u001b[0;36mget_readable_fileobj\u001b[0;34m(name_or_obj, encoding, cache, show_progress, remote_timeout)\u001b[0m\n\u001b[1;32m    191\u001b[0m                 \u001b[0mname_or_obj\u001b[0m\u001b[0;34m,\u001b[0m \u001b[0mcache\u001b[0m\u001b[0;34m=\u001b[0m\u001b[0mcache\u001b[0m\u001b[0;34m,\u001b[0m \u001b[0mshow_progress\u001b[0m\u001b[0;34m=\u001b[0m\u001b[0mshow_progress\u001b[0m\u001b[0;34m,\u001b[0m\u001b[0;34m\u001b[0m\u001b[0m\n\u001b[1;32m    192\u001b[0m                 timeout=remote_timeout)\n\u001b[0;32m--> 193\u001b[0;31m         \u001b[0mfileobj\u001b[0m \u001b[0;34m=\u001b[0m \u001b[0mio\u001b[0m\u001b[0;34m.\u001b[0m\u001b[0mFileIO\u001b[0m\u001b[0;34m(\u001b[0m\u001b[0mname_or_obj\u001b[0m\u001b[0;34m,\u001b[0m \u001b[0;34m'r'\u001b[0m\u001b[0;34m)\u001b[0m\u001b[0;34m\u001b[0m\u001b[0m\n\u001b[0m\u001b[1;32m    194\u001b[0m         \u001b[0;32mif\u001b[0m \u001b[0mis_url\u001b[0m \u001b[0;32mand\u001b[0m \u001b[0;32mnot\u001b[0m \u001b[0mcache\u001b[0m\u001b[0;34m:\u001b[0m\u001b[0;34m\u001b[0m\u001b[0m\n\u001b[1;32m    195\u001b[0m             \u001b[0mdelete_fds\u001b[0m\u001b[0;34m.\u001b[0m\u001b[0mappend\u001b[0m\u001b[0;34m(\u001b[0m\u001b[0mfileobj\u001b[0m\u001b[0;34m)\u001b[0m\u001b[0;34m\u001b[0m\u001b[0m\n",
      "\u001b[0;31mFileNotFoundError\u001b[0m: [Errno 2] No such file or directory: 'n2516.vot'"
     ]
    }
   ],
   "source": [
    "## Reading the votable\n",
    "voname = \"n2516.vot\"\n",
    "producDir  \n",
    "\n",
    "votable = parse(voname)\n",
    "\n",
    "for table in votable.iter_tables():\n",
    "    data = table.array\n",
    "    print(data.dtype.names)\n",
    "    \n",
    "lgal = data['l']\n",
    "bgal = data['b']\n",
    "pmas = data['parallax']\n",
    "distance = 1000. / np.ma.filled(pmas, -9999.) #distance = 1000/parallax\n",
    "pmra = np.ma.filled(data['pmra'], -9999999.) # right assention\n",
    "pmdec= np.ma.filled(data['pmdec'],-9999999.) #proper motion declinente\n",
    "vdec = 4.74 * pmdec / pmas   ##? (pour )\n",
    "vra  = 4.74 * pmra  / pmas   # pour avoir des km.s-1"
   ]
  },
  {
   "cell_type": "markdown",
   "metadata": {},
   "source": [
    "### Fonctions"
   ]
  },
  {
   "cell_type": "code",
   "execution_count": null,
   "metadata": {},
   "outputs": [],
   "source": [
    "#lgal,bgal,distance,vra,vdec\n",
    "def filter_data(lgal, bgal, distance, vra, vdec, cartesian = False, dist_range = [0., 2000], vra_range = [-200,200], vdec_range = [-200.,200]):\n",
    "    \"filter the data applying the range and return the sklearn-centric array\"\n",
    "    \n",
    "    i1 = np.where((distance >= dist_range[0]) & (distance < dist_range[1]))\n",
    "    i2 = np.where((vra >= vra_range[0]) & (vra < vra_range[1]))\n",
    "    i12 = np.intersect1d(i1,i2)\n",
    "    i3 = np.where((vdec >= vdec_range[0]) & (vdec < vdec_range[1]))\n",
    "    ifinal = np.intersect1d(i12,i3)\n",
    "    \n",
    "    # plot_check(lgal,vra,ifinal)\n",
    "    \n",
    "    datask = np.zeros((len(ifinal),5))\n",
    "    \n",
    "    if cartesian:\n",
    "        xx, yy, zz = convert_to_cartesian(lgal[ifinal], bgal[ifinal], distance[ifinal])\n",
    "        datask[:,0] = xx\n",
    "        datask[:,1] = yy\n",
    "        datask[:,2] = zz\n",
    "        datask[:,3] = vra[ifinal]\n",
    "        datask[:,4] = vdec[ifinal]\n",
    "    else:\n",
    "        datask[:,0] = lgal[ifinal]\n",
    "        datask[:,1] = bgal[ifinal]\n",
    "        datask[:,2] = distance[ifinal]\n",
    "        datask[:,3] = vra[ifinal]\n",
    "        datask[:,4] = vdec[ifinal]\n",
    "    \n",
    "    return(datask)\n",
    "\n",
    "\n",
    "# normalize the 5d datask and also return the normalization vector\n",
    "# choix_norm = 0 (norme 0) et = 1 (norm 2)\n",
    "def normalization(data,choix_norm=1):\n",
    "    result = np.zeros(data.shape)\n",
    "    normalization_vector = np.zeros(5)\n",
    "    \n",
    "    for i in range(5) :\n",
    "        if choix_norm == 0 : normalization_vector[i] = np.max(abs(data[:,i]))\n",
    "        else               : normalization_vector[i] = np.linalg.norm(data[:,i])\n",
    "        result[:,i] = data[:,i]/normalization_vector[i]\n",
    "    \n",
    "    return(result,normalization_vector)\n",
    "\n",
    "\n",
    "#Normalized the 5d datask with linear projection from [min,max] to [0,1]\n",
    "def normalization0_1(data):\n",
    "    result = np.zeros(data.shape)\n",
    "    normalization_vector = np.zeros((5,2)) #Represente max and min    \n",
    "    \n",
    "    for i in range(5) :\n",
    "        normalization_vector[i,0] = np.max(data[:,i]) # max\n",
    "        normalization_vector[i,1] = np.min(data[:,i]) # min\n",
    "        result[:,i] = (data[:,i]-normalization_vector[i,1])/(normalization_vector[i,0]-normalization_vector[i,1])  \n",
    "        \n",
    "    return(result,normalization_vector)\n",
    "\n",
    "#Unnormalized Data with linear projection from [0,1] to [min,max]\n",
    "def unnormalization0_1(data,normalization_vector):\n",
    "    result = np.zeros(data.shape) \n",
    "    for i in range(5) :\n",
    "        result[:,i] = data[:,i]*(normalization_vector[i,0]-normalization_vector[i,1]) + normalization_vector[i,1]\n",
    "        \n",
    "    return result"
   ]
  },
  {
   "cell_type": "markdown",
   "metadata": {},
   "source": [
    "### Data processing"
   ]
  },
  {
   "cell_type": "code",
   "execution_count": null,
   "metadata": {},
   "outputs": [],
   "source": [
    "print(\"## Total stars: %d\"%(len(lgal)))\n",
    "\n",
    "# Clean wrong values, return (n,5) array\n",
    "datask = filter_data(lgal,bgal,distance,vra,vdec, cartesian = False)\n",
    "print(\"## Stars selected: %d\"%(len(datask[:,0])))\n",
    "\n",
    "datanor0, normalization_vector0 = normalization(datask,0)\n",
    "datanor1, normalization_vector1 = normalization(datask,1)\n",
    "datanor2, normalization_vector2 = normalization0_1(datask)\n",
    "\n",
    "# Normalization\n",
    "# datask  =  non-normalized\n",
    "# datanor0 = normalized norm0 (divided by max(abs(data)))\n",
    "# datanor1 = normalized norm2 (divided by np.linalg.norm(data[:,i]))\n",
    "# datanor2 = linear projection from [min,max] to [0,1]"
   ]
  },
  {
   "cell_type": "code",
   "execution_count": null,
   "metadata": {},
   "outputs": [],
   "source": [
    "## fitted cluster in k-means\n",
    "nclust = 12\n",
    "print(\"## computing k-means...\")\n",
    "\n",
    "# KMeans for each normalisation\n",
    "kmeans = KMeans(n_clusters=nclust, max_iter = 2000, n_init = 50)\n",
    "kmeans.fit(datask)\n",
    "kmeans_nor0 = KMeans(n_clusters=nclust, max_iter = 2000, n_init = 50)\n",
    "kmeans_nor0.fit(datanor0)\n",
    "kmeans_nor1 = KMeans(n_clusters=nclust, max_iter = 2000, n_init = 50)\n",
    "kmeans_nor1.fit(datanor1)\n",
    "kmeans_nor2 = KMeans(n_clusters=nclust, max_iter = 2000, n_init = 50)\n",
    "kmeans_nor2.fit(datanor2)\n",
    "\n",
    "# Centroid for each normalisation\n",
    "centroid = kmeans.cluster_centers_\n",
    "centroid_nor0 = np.multiply(kmeans_nor0.cluster_centers_,normalization_vector0)\n",
    "centroid_nor1 = np.multiply(kmeans_nor1.cluster_centers_,normalization_vector1)\n",
    "centroid_nor2 = unnormalization0_1(kmeans_nor2.cluster_centers_,normalization_vector2)\n",
    "\n",
    "# Labels for each normalisation\n",
    "labels = kmeans.labels_\n",
    "labels_nor0 = kmeans_nor0.labels_\n",
    "labels_nor1 = kmeans_nor1.labels_\n",
    "labels_nor2 = kmeans_nor2.labels_"
   ]
  },
  {
   "cell_type": "code",
   "execution_count": null,
   "metadata": {},
   "outputs": [],
   "source": [
    "# Useful tab\n",
    "colors = [\"r.\",\"k.\",\"g.\",\"y.\",\"b.\",\"k.\",\"b.\",\"g.\",\"y.\",\"c.\",\"r.\",\"k.\",\"g.\",\"y.\",\"w.\",\"k.\",\"b.\",\"g.\",\"y.\",\"c.\",\"r.\",\"k.\",\"g.\",\"y.\",\"w.\",\"k.\",\"b.\",\"g.\",\"y.\",\"c.\"]\n",
    "string = ['non-normalized','normalized norm 0', 'normalized norm 2','normalized linearly between 0 and 1']\n",
    "data_name = ['lgal','bgal','distance','vdec','vra']"
   ]
  },
  {
   "cell_type": "code",
   "execution_count": null,
   "metadata": {},
   "outputs": [],
   "source": [
    "# Plotting i2 with respect to i1\n",
    "# (0 = lgal; 1 = bgal; 2 = distance...)\n",
    "i1 = 1\n",
    "i2 = 2\n",
    "\n",
    "j = 1\n",
    "plt.figure(figsize=(25,22))\n",
    "centro = [centroid,centroid_nor0,centroid_nor1,centroid_nor2]\n",
    "for lab in (labels,labels_nor0,labels_nor1,labels_nor2) :\n",
    "    plt.subplot(2,2,j)\n",
    "    for i in range(nclust):\n",
    "        ilabel = np.where(lab == i)[0]\n",
    "        plt.plot(datask[ilabel,i1],datask[ilabel,i2],colors[i],markersize=1)\n",
    "        plt.plot(centro[j-1][i,i1],centro[j-1][i,i2],colors[i],markersize=19)\n",
    "    plt.xlabel(data_name[i1], fontsize=22)\n",
    "    plt.ylabel(data_name[i2], fontsize=22)\n",
    "    plt.title(\"clustering with variables \" + string[j-1], fontsize=22)\n",
    "    j+=1\n",
    "    \n",
    "plt.show()"
   ]
  },
  {
   "cell_type": "markdown",
   "metadata": {},
   "source": [
    "### Cluster plotting for data normalized linearly between 0 and 1"
   ]
  },
  {
   "cell_type": "code",
   "execution_count": null,
   "metadata": {},
   "outputs": [],
   "source": [
    "# Plotting i2 with respect to i1\n",
    "# (0 = lgal; 1 = bgal; 2 = distance...)\n",
    "i1 = 1\n",
    "i2 = 2\n",
    "\n",
    "plt.figure(figsize=(25,22))\n",
    "for i in range(nclust):\n",
    "    plt.subplot(4,3,i+1)\n",
    "    ilabel = np.where(labels_nor2 == i)[0]\n",
    "    plt.plot(datask[ilabel,i1],datask[ilabel,i2],colors[i],markersize=1)\n",
    "    plt.plot(centroid_nor2[i,i1],centroid_nor2[i,i2],colors[i],markersize=19)\n",
    "    #plt.xlabel(data_name[i1], fontsize=22)\n",
    "    plt.ylabel(data_name[i2], fontsize=22)\n",
    "    plt.title(\"num. \" + str(i) + \" \" + data_name[i2] + \"=\" + str(round(centroid_nor2[i,i2],2)), fontsize=22)\n",
    "    \n",
    "plt.show()"
   ]
  },
  {
   "cell_type": "markdown",
   "metadata": {},
   "source": [
    "# -------------------------------------------------------------\n",
    "\n",
    "### Description in pandas variable "
   ]
  },
  {
   "cell_type": "code",
   "execution_count": null,
   "metadata": {},
   "outputs": [],
   "source": [
    "d1 = {'lgal': datask[:,0], 'bgal': datask[:,1], 'distance': datask[:,2], 'vra': datask[:,3], 'vdec': datask[:,4]}\n",
    "datapd = pd.DataFrame(data=d1)\n",
    "d2 = {'lgal': datanor0[:,0], 'bgal': datanor0[:,1], 'distance': datanor0[:,2], 'vra': datanor0[:,3], 'vdec': datanor0[:,4]}\n",
    "datapd_nor0 = pd.DataFrame(data=d2)\n",
    "d3 = {'lgal': datanor1[:,0], 'bgal': datanor1[:,1], 'distance': datanor1[:,2], 'vra': datanor1[:,3], 'vdec': datanor1[:,4]}\n",
    "datapd_nor1 = pd.DataFrame(data=d3)\n",
    "d4 = {'lgal': datanor2[:,0], 'bgal': datanor2[:,1], 'distance': datanor2[:,2], 'vra': datanor2[:,3], 'vdec': datanor2[:,4]}\n",
    "datapd_nor2 = pd.DataFrame(data=d4)"
   ]
  },
  {
   "cell_type": "markdown",
   "metadata": {},
   "source": [
    "### Description for one element"
   ]
  },
  {
   "cell_type": "code",
   "execution_count": null,
   "metadata": {},
   "outputs": [],
   "source": [
    "## Histogram\n",
    "plt.figure(figsize=(25,15))\n",
    "i = 1\n",
    "for string in ('lgal','bgal','distance','vra','vdec'):\n",
    "    plt.subplot(2,3,i)\n",
    "    datapd[string].hist()\n",
    "    plt.xlabel(string, fontsize=25)\n",
    "    i+=1"
   ]
  },
  {
   "cell_type": "code",
   "execution_count": null,
   "metadata": {},
   "outputs": [],
   "source": [
    "plt.figure(figsize=(25,10))\n",
    "\n",
    "i = 1\n",
    "string = ['non-normalized','normalized norm 0', 'normalized norm 2','normalized linearly between 0 and 1']\n",
    "data_i = [datapd,datapd_nor1,datapd_nor1,datapd_nor2]\n",
    "for data_i in (datapd,datapd_nor0,datapd_nor1,datapd_nor2):\n",
    "    data_i.plot(kind = \"box\",figsize=(15, 7))\n",
    "    plt.title(\"Boxplot, variables \" + string[i-1], fontsize=18)\n",
    "    i+=1\n",
    "\n",
    "\n",
    "plt.show()"
   ]
  },
  {
   "cell_type": "markdown",
   "metadata": {},
   "source": [
    "### Hierarchical Clustering Dendrogram"
   ]
  },
  {
   "cell_type": "code",
   "execution_count": null,
   "metadata": {},
   "outputs": [],
   "source": [
    "Z = linkage(datapd, 'ward', metric='euclidean') # choix de la distance\n",
    "Z0 = linkage(datapd_nor0, 'ward', metric='euclidean') # choix de la distance\n",
    "Z1 = linkage(datapd_nor1, 'ward', metric='euclidean') # choix de la distance\n",
    "Z2 = linkage(datapd_nor2, 'ward', metric='euclidean') # choix de la distance"
   ]
  },
  {
   "cell_type": "code",
   "execution_count": null,
   "metadata": {},
   "outputs": [],
   "source": [
    "string = ['non-normalized','normalized norm 0', 'normalized norm 2','normalized linearly between 0 and 1']\n",
    "Z_ = [Z,Z0,Z1,Z2]\n",
    "t = np.zeros((16,4))\n",
    "plt.figure(figsize=(14,10))\n",
    "x=np.arange(16)+1\n",
    "for i in range(4) :\n",
    "    plt.subplot(2,2,i+1)\n",
    "    height = Z_[i][:,2]\n",
    "    height = sorted(height,reverse=True)\n",
    "    plt.scatter(x,height[0:16])  #height[0:16]/sum(height[0:16])*100\n",
    "    t[:,i] = height[0:16]\n",
    "    plt.xlabel('Index')\n",
    "    plt.ylabel('Height')\n",
    "    plt.title(\"Choice of the number of classes for \"+string[i])\n",
    "plt.show()"
   ]
  },
  {
   "cell_type": "code",
   "execution_count": null,
   "metadata": {},
   "outputs": [],
   "source": [
    "string = ['non-normalized','normalized norm 0', 'normalized norm 2','normalized linearly between 0 and 1']\n",
    "Z_ = [Z,Z0,Z1,Z2]\n",
    "data_ = [datapd, datapd_nor0, datapd_nor1, datapd_nor2]\n",
    "plt.figure(figsize=(20,16))\n",
    "x=np.arange(16)+1\n",
    "for i in range(4) :\n",
    "    plt.subplot(2,2,i+1)\n",
    "    dendrogram(Z_[i],leaf_font_size=8.,labels=data_[i].index)\n",
    "    plt.xlabel('Individus')\n",
    "    plt.ylabel('Distance')\n",
    "    plt.title(string[i])\n",
    "plt.show()"
   ]
  },
  {
   "cell_type": "code",
   "execution_count": null,
   "metadata": {},
   "outputs": [],
   "source": [
    "plt.figure(figsize=(15, 8))\n",
    "plt.title('Hierarchical Clustering Dendrogram')\n",
    "plt.xlabel('Individus')\n",
    "plt.ylabel('Distance')\n",
    "dendrogram(Z,leaf_font_size=8.,labels=marsRech.index)\n",
    "plt.show()"
   ]
  },
  {
   "cell_type": "code",
   "execution_count": null,
   "metadata": {},
   "outputs": [],
   "source": [
    "classesCAH = fcluster(Z,t=15,criterion='distance')\n",
    "pd.DataFrame(classesCAH).hist()\n",
    "plt.show()"
   ]
  },
  {
   "cell_type": "code",
   "execution_count": null,
   "metadata": {},
   "outputs": [],
   "source": [
    "print(classesCAH)"
   ]
  },
  {
   "cell_type": "code",
   "execution_count": null,
   "metadata": {},
   "outputs": [],
   "source": [
    "colors = [\"r.\",\"k.\",\"g.\",\"y.\",\"b.\",\"k.\",\"b.\",\"g.\",\"y.\",\"c.\",\"r.\",\"k.\",\"g.\",\"y.\",\"w.\",\"k.\",\"b.\",\"g.\",\"y.\",\"c.\",\"r.\",\"k.\",\"g.\",\"y.\",\"w.\",\"k.\",\"b.\",\"g.\",\"y.\",\"c.\"]\n",
    "rcParams['figure.figsize'] = 8, 8\n",
    "\n",
    "for i in range(4):\n",
    "    ilabel = np.where(classesCAH == i)[0]\n",
    "    plt.plot(datask[ilabel,1],datask[ilabel,2],colors[i],markersize=1)\n",
    "    #plt.scatter(centroid_nor[0,0],centroid_nor[0,1],'y',markersize=10)\n",
    "    \n",
    "plt.show()"
   ]
  },
  {
   "cell_type": "code",
   "execution_count": null,
   "metadata": {},
   "outputs": [],
   "source": [
    "colors = [\"r.\",\"k.\",\"g.\",\"y.\",\"b.\",\"k.\",\"b.\",\"g.\",\"y.\",\"c.\",\"r.\",\"k.\",\"g.\",\"y.\",\"w.\",\"k.\",\"b.\",\"g.\",\"y.\",\"c.\",\"r.\",\"k.\",\"g.\",\"y.\",\"w.\",\"k.\",\"b.\",\"g.\",\"y.\",\"c.\"]\n",
    "rcParams['figure.figsize'] = 16, 8\n",
    "\n",
    "i1 = 1\n",
    "i2 = 2\n",
    "string = ['non-normalized','normalized norm 0', 'normalized norm 2','normalized linearly between 0 and 1']\n",
    "plt.figure(figsize=(25,22))\n",
    "centro = [centroid,centroid_nor0,centroid_nor1,centroid_nor2]\n",
    "\n",
    "\n",
    "for i in range(nclust):\n",
    "    plt.subplot(4,3,i+1)\n",
    "    ilabel = np.where(labels_nor0 == i)[0]\n",
    "    plt.plot(datask[labels_nor0,i1],datask[labels_nor0,i2],colors[i],markersize=1)\n",
    "    plt.plot(centroid_nor0[i,i1],centroid_nor0[i,i2],colors[i],markersize=19)\n",
    "    plt.xlabel(\"bgal\", fontsize=22)\n",
    "    plt.ylabel(\"distance\", fontsize=22)\n",
    "    plt.title(\"cluste num. \" + str(j), fontsize=22)\n",
    "    \n",
    "plt.show()"
   ]
  },
  {
   "cell_type": "code",
   "execution_count": null,
   "metadata": {},
   "outputs": [],
   "source": []
  }
 ],
 "metadata": {
  "kernelspec": {
   "display_name": "Python 3",
   "language": "python",
   "name": "python3"
  },
  "language_info": {
   "codemirror_mode": {
    "name": "ipython",
    "version": 3
   },
   "file_extension": ".py",
   "mimetype": "text/x-python",
   "name": "python",
   "nbconvert_exporter": "python",
   "pygments_lexer": "ipython3",
   "version": "3.6.5"
  }
 },
 "nbformat": 4,
 "nbformat_minor": 2
}
