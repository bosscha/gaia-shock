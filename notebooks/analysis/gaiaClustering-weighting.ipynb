{
 "cells": [
  {
   "cell_type": "markdown",
   "metadata": {},
   "source": [
    "Analysis of the weighting parameters for the clustering method using bootstraping in gaiaClustering-metric"
   ]
  },
  {
   "cell_type": "code",
   "execution_count": 3,
   "metadata": {},
   "outputs": [],
   "source": [
    "import sys, os\n",
    "sys.path.append('../../src')\n",
    "\n",
    "\n",
    "import matplotlib.pyplot as plt\n",
    "from pylab import rcParams\n",
    "import pickle\n",
    "from numba import jit\n",
    "\n",
    "\n",
    "%matplotlib inline\n",
    "\n",
    "## directory\n",
    "rootdir = \"/home/stephane/Science/GAIA\"\n",
    "wdir    = \"%s/products\"%(rootdir)\n",
    "datadir = \"%s/master/notebooks/data\"%(rootdir)\n",
    "\n",
    "os.chdir(wdir)\n",
    "rcParams['figure.figsize'] = 9, 6"
   ]
  },
  {
   "cell_type": "code",
   "execution_count": 4,
   "metadata": {},
   "outputs": [
    {
     "name": "stdout",
     "output_type": "stream",
     "text": [
      "900\n",
      "## kmeans\n",
      "## Q max: 3.135165\n",
      "[5.585220721121299, 5.585220721121299, 3.548719949970798, 1.1119453944835418, 1.1119453944835418, 1.4367251738229394, 1.4367251738229394, 1.4367251738229394]\n",
      " \n",
      "## ward\n",
      "## Q max: 2.763831\n",
      "[4.846719150833542, 4.846719150833542, 10.718374440630795, 4.917101473848004, 4.917101473848004, 1.9532086607250123, 1.9532086607250123, 1.9532086607250123]\n",
      " \n",
      "## spectral\n",
      "## Q max: 3.156842\n",
      "[4.549061125198438, 4.549061125198438, 4.864081414875647, 3.1524068508431977, 3.1524068508431977, 1.0353912143731479, 1.0353912143731479, 1.0353912143731479]\n",
      " \n",
      "## dbscan\n",
      "## Q max: 14.950724\n",
      "[6.765383158885051, 6.765383158885051, 12.449998684028753, 2.7266672928910936, 2.7266672928910936, 2.774589959693294, 2.774589959693294, 2.774589959693294]\n",
      " \n"
     ]
    }
   ],
   "source": [
    "with open('dataQran.pickle', 'rb') as f:\n",
    "    data = pickle.load(f)\n",
    "    \n",
    "# print(data)\n",
    "ntrial = len(data[\"kmeans\"][\"weight\"])\n",
    "print(ntrial)\n",
    "\n",
    "method = ['kmeans','ward','spectral','dbscan']\n",
    "\n",
    "for m in method:\n",
    "    print(\"## %s\"%(m))\n",
    "    mmax = -9999.\n",
    "    \n",
    "    for q, w in zip(data[m][\"metric\"],data[m][\"weight\"]) :\n",
    "        if max(q['Q']) > mmax:\n",
    "            mmax  = max(q['Q']) \n",
    "            mwei  = w\n",
    "    print(\"## Q max: %f\"%(mmax))\n",
    "    print(mwei)\n",
    "    print(\" \")\n",
    "          \n",
    "                           \n",
    "        \n",
    "        "
   ]
  }
 ],
 "metadata": {
  "kernelspec": {
   "display_name": "Python 3",
   "language": "python",
   "name": "python3"
  },
  "language_info": {
   "codemirror_mode": {
    "name": "ipython",
    "version": 3
   },
   "file_extension": ".py",
   "mimetype": "text/x-python",
   "name": "python",
   "nbconvert_exporter": "python",
   "pygments_lexer": "ipython3",
   "version": "3.6.5"
  }
 },
 "nbformat": 4,
 "nbformat_minor": 2
}
