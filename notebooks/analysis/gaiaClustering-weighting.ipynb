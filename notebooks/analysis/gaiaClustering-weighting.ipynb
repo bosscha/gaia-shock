{
 "cells": [
  {
   "cell_type": "markdown",
   "metadata": {},
   "source": [
    "Analysis of the weighting parameters for the clustering method using bootstraping in gaiaClustering-metric"
   ]
  },
  {
   "cell_type": "code",
   "execution_count": 15,
   "metadata": {},
   "outputs": [],
   "source": [
    "import sys, os\n",
    "sys.path.append('../../src')\n",
    "\n",
    "\n",
    "import matplotlib.pyplot as plt\n",
    "from pylab import rcParams\n",
    "import pickle\n",
    "\n",
    "\n",
    "%matplotlib inline\n",
    "\n",
    "## directory\n",
    "rootdir = \"/home/stephane/Science/GAIA\"\n",
    "wdir    = \"%s/products\"%(rootdir)\n",
    "datadir = \"%s/master/notebooks/data\"%(rootdir)\n",
    "\n",
    "os.chdir(wdir)\n",
    "rcParams['figure.figsize'] = 9, 6"
   ]
  },
  {
   "cell_type": "code",
   "execution_count": 16,
   "metadata": {},
   "outputs": [
    {
     "name": "stdout",
     "output_type": "stream",
     "text": [
      "10\n",
      "## kmeans\n",
      "## Q max: 137.629815\n",
      "[6.350638004692478, 6.350638004692478, 12.991438146575256, 6.668013502297503, 6.668013502297503, 3.4677359874990277, 3.4677359874990277, 3.4677359874990277]\n",
      " \n",
      "## ward\n",
      "## Q max: 44.650030\n",
      "[6.781976563006175, 6.781976563006175, 12.337881011398206, 4.13108993050043, 4.13108993050043, 4.774992314058497, 4.774992314058497, 4.774992314058497]\n",
      " \n",
      "## spectral\n",
      "## Q max: 117.000000\n",
      "[3.541928796033428, 3.541928796033428, 3.8524326983746433, 1.7096465552135993, 1.7096465552135993, 1.0751592017454206, 1.0751592017454206, 1.0751592017454206]\n",
      " \n",
      "## dbscan\n",
      "## Q max: 109.745232\n",
      "[6.350638004692478, 6.350638004692478, 12.991438146575256, 6.668013502297503, 6.668013502297503, 3.4677359874990277, 3.4677359874990277, 3.4677359874990277]\n",
      " \n"
     ]
    }
   ],
   "source": [
    "with open('dataQran.pickle', 'rb') as f:\n",
    "    data = pickle.load(f)\n",
    "    \n",
    "# print(data)\n",
    "ntrial = len(data[\"kmeans\"][\"weight\"])\n",
    "print(ntrial)\n",
    "\n",
    "method = ['kmeans','ward','spectral','dbscan']\n",
    "\n",
    "for m in method:\n",
    "    print(\"## %s\"%(m))\n",
    "    mmax = -9999.\n",
    "    \n",
    "    for q, w in zip(data[m][\"metric\"],data[m][\"weight\"]) :\n",
    "        if max(q['Q']) > mmax:\n",
    "            mmax = max(q['Q']) \n",
    "            mwei = w\n",
    "    print(\"## Q max: %f\"%(mmax))\n",
    "    print(mwei)\n",
    "    print(\" \")\n",
    "          \n",
    "                           \n",
    "        \n",
    "        "
   ]
  }
 ],
 "metadata": {
  "kernelspec": {
   "display_name": "Python 3",
   "language": "python",
   "name": "python3"
  },
  "language_info": {
   "codemirror_mode": {
    "name": "ipython",
    "version": 3
   },
   "file_extension": ".py",
   "mimetype": "text/x-python",
   "name": "python",
   "nbconvert_exporter": "python",
   "pygments_lexer": "ipython3",
   "version": "3.6.5"
  }
 },
 "nbformat": 4,
 "nbformat_minor": 2
}
