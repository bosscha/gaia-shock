{
 "cells": [
  {
   "cell_type": "markdown",
   "metadata": {},
   "source": [
    "Analysis of the weighting parameters for the clustering method using bootstraping in gaiaClustering-metric"
   ]
  },
  {
   "cell_type": "code",
   "execution_count": 1,
   "metadata": {},
   "outputs": [],
   "source": [
    "import sys, os\n",
    "sys.path.append('../../src')\n",
    "\n",
    "\n",
    "import matplotlib.pyplot as plt\n",
    "from pylab import rcParams\n",
    "import pickle\n",
    "from numba import jit\n",
    "\n",
    "\n",
    "%matplotlib inline\n",
    "\n",
    "## directory\n",
    "rootdir = \"/home/stephane/Science/GAIA\"\n",
    "wdir    = \"%s/products\"%(rootdir)\n",
    "datadir = \"%s/master/notebooks/data\"%(rootdir)\n",
    "\n",
    "os.chdir(wdir)\n",
    "rcParams['figure.figsize'] = 9, 6"
   ]
  },
  {
   "cell_type": "code",
   "execution_count": 2,
   "metadata": {},
   "outputs": [
    {
     "name": "stdout",
     "output_type": "stream",
     "text": [
      "300\n",
      "## kmeans\n",
      "## Q max: 3.155915\n",
      "[6.956140980661382, 6.956140980661382, 3.3209835626657855, 5.373410186147904, 5.373410186147904, 1.8647941395116612, 1.8647941395116612, 1.8647941395116612]\n",
      " \n",
      "## ward\n",
      "## Q max: 2.695516\n",
      "[6.956140980661382, 6.956140980661382, 3.3209835626657855, 5.373410186147904, 5.373410186147904, 1.8647941395116612, 1.8647941395116612, 1.8647941395116612]\n",
      " \n",
      "## spectral\n",
      "## Q max: 7.072076\n",
      "[4.887739231101685, 4.887739231101685, 7.006834190362502, 2.4570671891151803, 2.4570671891151803, 2.4304346726896515, 2.4304346726896515, 2.4304346726896515]\n",
      " \n",
      "## dbscan\n",
      "## Q max: 5.867880\n",
      "[6.907593651443891, 6.907593651443891, 12.743685989000037, 6.991690964656149, 6.991690964656149, 1.8157279525994694, 1.8157279525994694, 1.8157279525994694]\n",
      " \n"
     ]
    }
   ],
   "source": [
    "with open('dataQran.pickle', 'rb') as f:\n",
    "    data = pickle.load(f)\n",
    "    \n",
    "# print(data)\n",
    "ntrial = len(data[\"kmeans\"][\"weight\"])\n",
    "print(ntrial)\n",
    "\n",
    "method = ['kmeans','ward','spectral','dbscan']\n",
    "\n",
    "for m in method:\n",
    "    print(\"## %s\"%(m))\n",
    "    mmax = -9999.\n",
    "    \n",
    "    for q, w in zip(data[m][\"metric\"],data[m][\"weight\"]) :\n",
    "        if max(q['Q']) > mmax:\n",
    "            mmax  = max(q['Q']) \n",
    "            mwei  = w\n",
    "    print(\"## Q max: %f\"%(mmax))\n",
    "    print(mwei)\n",
    "    print(\" \")\n",
    "          \n",
    "                           \n",
    "        \n",
    "        "
   ]
  }
 ],
 "metadata": {
  "kernelspec": {
   "display_name": "Python 3",
   "language": "python",
   "name": "python3"
  },
  "language_info": {
   "codemirror_mode": {
    "name": "ipython",
    "version": 3
   },
   "file_extension": ".py",
   "mimetype": "text/x-python",
   "name": "python",
   "nbconvert_exporter": "python",
   "pygments_lexer": "ipython3",
   "version": "3.6.5"
  }
 },
 "nbformat": 4,
 "nbformat_minor": 2
}
