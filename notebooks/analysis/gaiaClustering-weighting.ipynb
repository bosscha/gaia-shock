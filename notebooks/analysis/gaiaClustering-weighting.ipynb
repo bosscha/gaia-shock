{
 "cells": [
  {
   "cell_type": "markdown",
   "metadata": {},
   "source": [
    "Analysis of the weighting parameters for the clustering method using bootstraping in gaiaClustering-metric"
   ]
  },
  {
   "cell_type": "code",
   "execution_count": 1,
   "metadata": {},
   "outputs": [],
   "source": [
    "import sys, os\n",
    "sys.path.append('../../src')\n",
    "\n",
    "\n",
    "import matplotlib.pyplot as plt\n",
    "from pylab import rcParams\n",
    "import pickle\n",
    "from numba import jit\n",
    "\n",
    "\n",
    "%matplotlib inline\n",
    "\n",
    "## directory\n",
    "rootdir = \"/home/stephane/Science/GAIA\"\n",
    "wdir    = \"%s/products\"%(rootdir)\n",
    "datadir = \"%s/master/notebooks/data\"%(rootdir)\n",
    "\n",
    "os.chdir(wdir)\n",
    "rcParams['figure.figsize'] = 9, 6"
   ]
  },
  {
   "cell_type": "code",
   "execution_count": 2,
   "metadata": {},
   "outputs": [
    {
     "name": "stdout",
     "output_type": "stream",
     "text": [
      "250\n",
      "## kmeans\n",
      "## Q max: 2.729395\n",
      "[5.142793593829558, 5.142793593829558, 4.877714252464424, 3.902178547571097, 3.902178547571097, 1.7987263272232785, 1.7987263272232785, 1.7987263272232785]\n",
      " \n",
      "## ward\n",
      "## Q max: 2.913082\n",
      "[3.5642105528016597, 3.5642105528016597, 11.094142936843669, 4.799616547330345, 4.799616547330345, 2.136304406931734, 2.136304406931734, 2.136304406931734]\n",
      " \n",
      "## spectral\n",
      "## Q max: 3.064002\n",
      "[6.7849175879888275, 6.7849175879888275, 11.428947217441603, 1.258732695046076, 1.258732695046076, 1.766386352587121, 1.766386352587121, 1.766386352587121]\n",
      " \n",
      "## dbscan\n",
      "## Q max: 9.938203\n",
      "[6.553529587581414, 6.553529587581414, 10.745886467407857, 4.127722027059958, 4.127722027059958, 2.1132312080210816, 2.1132312080210816, 2.1132312080210816]\n",
      " \n"
     ]
    }
   ],
   "source": [
    "with open('dataQran.pickle', 'rb') as f:\n",
    "    data = pickle.load(f)\n",
    "    \n",
    "# print(data)\n",
    "ntrial = len(data[\"kmeans\"][\"weight\"])\n",
    "print(ntrial)\n",
    "\n",
    "method = ['kmeans','ward','spectral','dbscan']\n",
    "\n",
    "for m in method:\n",
    "    print(\"## %s\"%(m))\n",
    "    mmax = -9999.\n",
    "    \n",
    "    for q, w in zip(data[m][\"metric\"],data[m][\"weight\"]) :\n",
    "        if max(q['Q']) > mmax:\n",
    "            mmax  = max(q['Q']) \n",
    "            mwei  = w\n",
    "    print(\"## Q max: %f\"%(mmax))\n",
    "    print(mwei)\n",
    "    print(\" \")\n",
    "          \n",
    "                           \n",
    "        \n",
    "        "
   ]
  }
 ],
 "metadata": {
  "kernelspec": {
   "display_name": "Python 3",
   "language": "python",
   "name": "python3"
  },
  "language_info": {
   "codemirror_mode": {
    "name": "ipython",
    "version": 3
   },
   "file_extension": ".py",
   "mimetype": "text/x-python",
   "name": "python",
   "nbconvert_exporter": "python",
   "pygments_lexer": "ipython3",
   "version": "3.6.5"
  }
 },
 "nbformat": 4,
 "nbformat_minor": 2
}
