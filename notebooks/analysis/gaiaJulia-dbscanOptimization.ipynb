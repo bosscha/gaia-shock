{
 "cells": [
  {
   "cell_type": "markdown",
   "metadata": {},
   "source": [
    "### GAIA optimiation DBSCAN with MCMC scheme\n",
    "\n",
    "1. using a simple ABC scheme\n",
    "2. ..."
   ]
  },
  {
   "cell_type": "code",
   "execution_count": 1,
   "metadata": {},
   "outputs": [
    {
     "name": "stderr",
     "output_type": "stream",
     "text": [
      "┌ Info: Recompiling stale cache file /home/stephane/.julia/compiled/v1.0/GaiaClustering.ji for GaiaClustering [top-level]\n",
      "└ @ Base loading.jl:1184\n"
     ]
    }
   ],
   "source": [
    "\n",
    "using PyCall\n",
    "using Distributions\n",
    "using Statistics , StatsBase\n",
    "\n",
    "using Distances\n",
    "using Random\n",
    "\n",
    "push!(LOAD_PATH,\"/home/stephane/Science/cluster/GAIA/master/src\")\n",
    "using GaiaClustering\n",
    "\n",
    "import PyPlot\n",
    "\n",
    "\n",
    "## directory\n",
    "rootdir = \"/home/stephane/Science/cluster/GAIA\"\n",
    "wdir    = \"/home/stephane/Science/cluster/GAIA/products\"\n",
    "\n",
    "cd(wdir)\n",
    "\n",
    "\n",
    "#### mutable MC and model\n",
    "\n",
    "mutable struct mc\n",
    "    eps::Array{Float64}\n",
    "    mne::Array{Int32}\n",
    "    mcl::Array{Int32}\n",
    "    qc::Array{Float64}\n",
    "end\n",
    "\n",
    "mutable struct model\n",
    "    eps::Float64\n",
    "    min_nei::Int\n",
    "    min_cl::Int\n",
    "end"
   ]
  },
  {
   "cell_type": "code",
   "execution_count": 2,
   "metadata": {},
   "outputs": [
    {
     "data": {
      "text/plain": [
       "thetaiter (generic function with 1 method)"
      ]
     },
     "execution_count": 2,
     "metadata": {},
     "output_type": "execute_result"
    }
   ],
   "source": [
    "### generate eps, min_neightbor and min_cluster\n",
    "###\n",
    "### aeps,amin_nghb, amin_cluster are the parameter of the prior density for the DBSCAN parameters\n",
    "\n",
    "function theta(a1eps, a2eps, amin_nghb, amin_cluster)\n",
    "    eps = TruncatedNormal(a1eps, a2eps,0.1,1000.)\n",
    "    minneighbor = Poisson(amin_nghb)\n",
    "    mincluster = Poisson(amin_cluster)\n",
    "    \n",
    "    e = rand(eps)          ; pe = pdf(eps,e)\n",
    "    n = rand(minneighbor)  ; pn = pdf(minneighbor, n)\n",
    "    c = rand(mincluster)   ; pc = pdf(mincluster, c)\n",
    "    \n",
    "    ptotal = pe*pn*pc\n",
    "    params = model(e, n, c)\n",
    "    return(params, ptotal)\n",
    "end\n",
    "\n",
    "\n",
    "## iterate with random walk and yield the probability\n",
    "##\n",
    "function thetaiter(θi::model , a1eps, a2eps, amin_nghb, amin_cluster)\n",
    "    let   \n",
    "        eps         = TruncatedNormal(a1eps, a2eps,0.1,1000.)\n",
    "        minneighbor = Poisson(amin_nghb)\n",
    "        mincluster  = Poisson(amin_cluster)\n",
    "    \n",
    "        eps_rw = TruncatedNormal(θi.eps,0.5, 0.1, 1000.)\n",
    "        new_e = 0.\n",
    "        new_mn = 0\n",
    "        new_mcl = 0\n",
    "        \n",
    "        iternotfound =true\n",
    "        while iternotfound\n",
    "            new_e = rand(eps_rw)\n",
    "        \n",
    "            ap = rand()\n",
    "            if ap > 0.5\n",
    "                new_mn = θi.min_nei + 1\n",
    "            else\n",
    "                new_mn = θi.min_nei -1 \n",
    "            end\n",
    "            ap = rand()\n",
    "            if ap > 0.5\n",
    "                new_mcl = θi.min_cl + 1\n",
    "            else\n",
    "                new_mcl = θi.min_cl -1 \n",
    "            end        \n",
    "        \n",
    "            if new_e > 0 && new_mn > 0 && new_mcl > 0\n",
    "                iternotfound = false\n",
    "            end\n",
    "        end\n",
    "    \n",
    "        pe = pdf(eps,new_e)\n",
    "        pn = pdf(minneighbor, new_mn)\n",
    "        pc = pdf(mincluster, new_mcl)\n",
    "        ptotal = pe * pn * pc\n",
    "    \n",
    "        params = model(new_e, new_mn, new_mcl)\n",
    "        return(params, ptotal)\n",
    "    end\n",
    "end   "
   ]
  },
  {
   "cell_type": "code",
   "execution_count": 3,
   "metadata": {},
   "outputs": [
    {
     "data": {
      "text/plain": [
       "find_clusters (generic function with 1 method)"
      ]
     },
     "execution_count": 3,
     "metadata": {},
     "output_type": "execute_result"
    }
   ],
   "source": [
    "## compute the dbscan clusters, the metric and the Metropolis acceptance\n",
    "\n",
    "function find_clusters(df::GaiaClustering.Df, dfcart::GaiaClustering.Df , m::model)\n",
    "    let \n",
    "        labels = clusters(df.data , m.eps , 20, m.min_nei, m.min_cl)\n",
    "        if length(labels) == 0\n",
    "            return(0)\n",
    "        end\n",
    "        \n",
    "    ### metrics of the clusters\n",
    "        q2d = metric(dfcart, labels, \"spatial2d\" , 2.0 , 20.0, 20 )\n",
    "        qv = metric(dfcart, labels, \"velocity\" , 3.0 , 30.0, 20 )\n",
    "        qp, qa = metric(dfcart, labels, \"HRD\" )\n",
    "    \n",
    "        nlab = []\n",
    "        for ilab in labels\n",
    "            push!(nlab,length(ilab))\n",
    "        end\n",
    "    \n",
    "    \n",
    "    #### metric for number of stars in the cluster\n",
    "        qn = []\n",
    "        for nl in nlab\n",
    "            push!(qn,log10(nl))\n",
    "        end\n",
    "    \n",
    "        qc = 0.\n",
    "        for i in 1:length(nlab)\n",
    "            k1 = q2d[i][1]\n",
    "            k2 = qv[i][1]\n",
    "            k3 = qa[i][1]\n",
    "            k4 = qn[i]\n",
    "            qq = (2 * k1 + 3 * k2 + k3 ) / 6.0\n",
    "            qc = max(qq,qc)\n",
    "        end\n",
    "        return(qc)\n",
    "    end\n",
    "end"
   ]
  },
  {
   "cell_type": "code",
   "execution_count": 4,
   "metadata": {},
   "outputs": [
    {
     "data": {
      "text/plain": [
       "getdata (generic function with 1 method)"
      ]
     },
     "execution_count": 4,
     "metadata": {},
     "output_type": "execute_result"
    }
   ],
   "source": [
    "function getdata(filevot)\n",
    "    voname = filevot\n",
    "\n",
    "    data       = read_votable(voname)\n",
    "    df         = filter_data(data)\n",
    "    dfcart     = add_cartesian(df)\n",
    "    blck       = [[1,2,3],[4,5], [6,7,8]]\n",
    "    wghtblck   = [4.0,5.0,1.0]\n",
    "    norm       = \"identity\"\n",
    "\n",
    "    dfcartnorm , scale8 = normalization_PerBlock(dfcart, blck, wghtblck , norm, false) \n",
    "    return(dfcartnorm , dfcart)\n",
    "end"
   ]
  },
  {
   "cell_type": "code",
   "execution_count": 5,
   "metadata": {},
   "outputs": [
    {
     "data": {
      "text/plain": [
       "abc_mcmc (generic function with 1 method)"
      ]
     },
     "execution_count": 5,
     "metadata": {},
     "output_type": "execute_result"
    }
   ],
   "source": [
    "## ABC MCMC (following Weyan et al. 2013)\n",
    "## first simple scheme for testing\n",
    "##\n",
    "function abc_mcmc(df::GaiaClustering.Df, dfcart::GaiaClustering.Df, minimumQ::Float64, burnout::Int)\n",
    "    let \n",
    "        mci = mc(zeros(Float64,0),zeros(Int32,0),zeros(Int32,0) , zeros(Float64,0))\n",
    "        \n",
    "        initial = true\n",
    "        th = []\n",
    "        mi = model(0.0,0,0)\n",
    "        micurrent = model(0.0,0,0)\n",
    "        probi = 0.\n",
    "        probcurrent = 0.\n",
    "    \n",
    "        while initial\n",
    "            mi, probi = theta(1.5,1.5,10,10)\n",
    "            qres = find_clusters(df, dfcart, mi)\n",
    "        \n",
    "            if qres > minimumQ\n",
    "                println(\"## MCMC: init done ...\")\n",
    "                initial = false\n",
    "                push!(mci.eps, mi.eps)\n",
    "                push!(mci.mne, mi.min_nei)\n",
    "                push!(mci.mcl, mi.min_cl)\n",
    "                push!(mci.qc,  qres)\n",
    "            end\n",
    "        end\n",
    "    \n",
    "        nchain = 1\n",
    "        loopAgain = true\n",
    "        while loopAgain\n",
    "            micurrent, probcurrent = thetaiter(mi , 1.5,1.5,10,10)\n",
    "            qres = find_clusters(df, dfcart, micurrent)\n",
    "        \n",
    "            if qres > minimumQ\n",
    "            ### Metropolis-Hasting\n",
    "                α = probcurrent / probi\n",
    "                if α > rand()\n",
    "                    mi = micurrent\n",
    "                    push!(mci.eps, mi.eps)\n",
    "                    push!(mci.mne, mi.min_nei)\n",
    "                    push!(mci.mcl, mi.min_cl)\n",
    "                    push!(mci.qc , qres)\n",
    "                    nchain += 1\n",
    "                    if (nchain%500 == 0) println(\"### chain:\",nchain) end\n",
    "                    if nchain > burnout loopAgain = false end\n",
    "                end\n",
    "            end\n",
    "        end\n",
    "        return(mci)\n",
    "    end\n",
    "end"
   ]
  },
  {
   "cell_type": "code",
   "execution_count": null,
   "metadata": {},
   "outputs": [
    {
     "name": "stdout",
     "output_type": "stream",
     "text": [
      "## Main ...\n",
      "## Votable test.vot read\n",
      "## Filtering done ...\n",
      "## Stars selected: 12531\n",
      "## Cartesian transformation done ...\n",
      "## Normalization identity done...\n",
      "### [1pc,1pc,1pc,1km/s,1km/s,1mag,1mag] equivalent to [0.398015, 0.398015, 0.398015, 0.497519, 0.497519, 0.0995037, 0.0995037, 0.0995037]\n",
      "## MCMC: init done ...\n",
      "### chain:500\n",
      "### chain:1000\n",
      "### chain:1500\n",
      "### chain:2000\n",
      "### chain:2500\n",
      "### chain:3000\n",
      "### chain:3500\n",
      "### chain:4000\n",
      "### chain:4500\n",
      "### chain:5000\n",
      "### chain:5500\n",
      "### chain:6000\n",
      "### chain:6500\n",
      "### chain:7000\n"
     ]
    }
   ],
   "source": [
    "### main loop\n",
    "\n",
    "macro main(niter = 100)\n",
    "    Random.seed!(1237)\n",
    "    println(\"## Main ...\")\n",
    "    \n",
    "    ## Get the cluster data..\n",
    "    dfnorm , dfcart = getdata(\"test.vot\")\n",
    "    \n",
    "    ## run the mcmc for the dbscan parameters\n",
    "    minQ = 3.0\n",
    "    println(\"## MCMC : Q minimum = \",minQ)\n",
    "    println(\"## MCMC : iterations =\", niter)\n",
    "    mc = abc_mcmc(dfnorm, dfcart, minQ, niter)\n",
    "    \n",
    "    println(\"## MCMC done.\")\n",
    "    \n",
    "    ## plots ################################\n",
    "    \n",
    "    PyPlot.plt[:figure](figsize=(12.0,12.0))\n",
    "\n",
    "    \n",
    "    nbins = 50\n",
    "    PyPlot.plt[:subplot](2, 2, 1  )\n",
    "    h = PyPlot.plt[:hist](mc.eps,nbins)\n",
    "    PyPlot.plt[:xlabel](\"ϵ\")\n",
    "    \n",
    "    nbins = 20\n",
    "    PyPlot.plt[:subplot](2, 2, 2 )\n",
    "    h = PyPlot.plt[:hist](mc.mne,nbins)\n",
    "    PyPlot.plt[:xlabel](\"min_neighbor\")  \n",
    "    \n",
    "    nbins = 20\n",
    "    PyPlot.plt[:subplot](2, 2, 3 )\n",
    "    h = PyPlot.plt[:hist](mc.mcl,nbins)\n",
    "    PyPlot.plt[:xlabel](\"min_cluster\") \n",
    "    \n",
    "    nbins = 50\n",
    "    PyPlot.plt[:subplot](2, 2, 4 )\n",
    "    h = PyPlot.plt[:hist](mc.qc,nbins)\n",
    "    PyPlot.plt[:xlabel](\"Qc\") \n",
    "    PyPlot.plt[:show]()\n",
    "    \n",
    "    ## Stats\n",
    "    println(\"## Stats:\")\n",
    "    println(\"ϵ : \",mean(mc.eps))\n",
    "    println(\"min_nei  : \",mean(mc.mne))\n",
    "    println(\"min_clus  : \",mean(mc.mcl))\n",
    "    println(\"Qc  : \",mean(mc.qc))   \n",
    "    \n",
    "end\n",
    "\n",
    "@main(10000)"
   ]
  }
 ],
 "metadata": {
  "kernelspec": {
   "display_name": "Julia 1.0.0",
   "language": "julia",
   "name": "julia-1.0"
  },
  "language_info": {
   "file_extension": ".jl",
   "mimetype": "application/julia",
   "name": "julia",
   "version": "1.0.0"
  }
 },
 "nbformat": 4,
 "nbformat_minor": 2
}
