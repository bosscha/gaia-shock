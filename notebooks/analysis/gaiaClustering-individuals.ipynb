{
 "cells": [
  {
   "cell_type": "markdown",
   "metadata": {},
   "source": [
    "### Tests\n",
    "Use of the agglomerative clustering with HR diagram.\n",
    "\n",
    "We test here individuals clusters"
   ]
  },
  {
   "cell_type": "code",
   "execution_count": 755,
   "metadata": {},
   "outputs": [],
   "source": [
    "import sys, os\n",
    "sys.path.append('../../src')\n",
    "\n",
    "from numba import jit\n",
    "\n",
    "import matplotlib.pyplot as plt\n",
    "import matplotlib.colors as colors\n",
    "\n",
    "from pylab import rcParams\n",
    "from mpl_toolkits.mplot3d import Axes3D\n",
    "import numpy as np\n",
    "from scipy.spatial.distance import pdist\n",
    "\n",
    "import pandas as pd\n",
    "import pickle\n",
    "\n",
    "from math import ceil\n",
    "import math\n",
    "import gaia_utils as gu\n",
    "import wavelet as wav\n",
    "from sklearn import cluster\n",
    "from sklearn.neighbors import kneighbors_graph\n",
    "from astroML.correlation import two_point\n",
    "from astroML.correlation import bootstrap_two_point_angular\n",
    "\n",
    "%matplotlib inline\n",
    "\n",
    "## directory\n",
    "rootdir = \"/home/stephane/Science/GAIA\"\n",
    "wdir    = \"%s/products\"%(rootdir)\n",
    "datadir = \"%s/master/notebooks/data\"%(rootdir)\n",
    "\n",
    "os.chdir(wdir)\n",
    "rcParams['figure.figsize'] = 9, 6\n",
    "###################################\n",
    "\n",
    "clustername = \"NGC 2026\"\n",
    "clustername = \"NGC 2516\"\n",
    "voname = 'NGC 752-1.0deg.vot'\n",
    "voname = 'NGC 2682-4.0deg.vot'\n",
    "#voname = 'NGC 2516-4.0deg.vot'\n",
    "\n",
    "RADIUS   = 1.0\n",
    "kCluster = 8\n",
    "votable_disk = False\n",
    "distclust = 1204.\n",
    "WEIGHT = [6.5, 6.5, 10.7, 4.1, 4.1, 2.1, 2.1, 2.1]\n",
    "WEIGHT = [6.76, 6.76, 12.45, 4.1, 4.1, 2.77, 2.77, 2.77]\n",
    "WEIGHTCART = [6.5, 4.0, 2.5]\n",
    "\n",
    "## dscan\n",
    "eps = 2.0\n",
    "min_samples = 20\n",
    "\n",
    "## Ward\n",
    "neighbors = 30"
   ]
  },
  {
   "cell_type": "code",
   "execution_count": 756,
   "metadata": {},
   "outputs": [],
   "source": [
    "## plot2D and plot3D\n",
    "\n",
    "\n",
    "def plot2d(df, labels, ilab, cmap = \"gist_stern\" ,color = False, cartesian = False):\n",
    "    \n",
    "    rcParams['figure.figsize'] = 14, 14\n",
    "    f, axarr = plt.subplots(2, 2)\n",
    "    \n",
    "    if cartesian:\n",
    "        xx = df[np.where(labels == ilab),1]\n",
    "        yy = df[np.where(labels == ilab),2]\n",
    "    else:\n",
    "        xx = df[np.where(labels == ilab),0]\n",
    "        yy = df[np.where(labels == ilab),1] \n",
    "        \n",
    "    if color:\n",
    "        axarr[0,0].scatter(xx, yy,  s = 0.5, c= df[np.where(labels == ilab),2], cmap=cmap )\n",
    "    else:\n",
    "        axarr[0,0].scatter(xx,yy,  s = 0.5, c = \"k\")\n",
    "\n",
    "        \n",
    "    axarr[0,0].set_xlabel(\"l\")\n",
    "    axarr[0,0].set_ylabel(\"b\")\n",
    "    \n",
    "    axarr[1,0].scatter(df[np.where(labels == ilab),0],df[np.where(labels == ilab),2] , s=0.5, c= df[np.where(labels == ilab),2], cmap=cmap)\n",
    "    axarr[1,0].set_xlabel(\"l\")\n",
    "    axarr[1,0].set_ylabel(\"d (pc)\")\n",
    "    \n",
    "    \n",
    "    axarr[0,1].scatter(df[np.where(labels == ilab),3],df[np.where(labels == ilab),4] , s= 0.5, c= df[np.where(labels == ilab),2], cmap=cmap)\n",
    "    axarr[0,1].set_xlabel(\"Vdra\")\n",
    "    axarr[0,1].set_ylabel(\"Vdec\")\n",
    "    \n",
    "    axarr[1,1].scatter(df[np.where(labels == ilab),6],df[np.where(labels == ilab),5] , s = 0.5, c= df[np.where(labels == ilab),2], cmap=cmap)\n",
    "    axarr[1,1].set_xlabel(\"G-R\")\n",
    "    axarr[1,1].set_ylabel(\"G\")\n",
    "    axarr[1,1].set_xlim(-1.,1.5)\n",
    "    axarr[1,1].set_ylim(27.,8)\n",
    "    \n",
    "    plt.show()\n",
    "    \n",
    "    \n",
    "def plot_density(df, labels, ilab, cmap = \"gist_stern\", NXY = 256):\n",
    "    \"compute the density and plot the images\"\n",
    "    \n",
    "    fig = plt.figure(figsize=(10, 14))\n",
    "    ax = fig.add_subplot(221, title='lb')\n",
    "    xmin = min(df[:,0])\n",
    "    xmax = max(df[:,0])\n",
    "    ymin = min(df[:,1])\n",
    "    ymax = max(df[:,1])\n",
    "    xe = np.linspace(xmin,xmax,NXY)\n",
    "    ye = np.linspace(ymin,ymax,NXY)\n",
    "    \n",
    "    H, xedges, yedges  = np.histogram2d(df[np.where(labels == ilab),0][0],df[np.where(labels == ilab),1][0], bins = (xe,ye))\n",
    "    H = H.T\n",
    "    \n",
    "    plt.imshow(H, interpolation='bicubic', origin='low',\n",
    "               extent=[xedges[0], xedges[-1], yedges[0], yedges[-1]])\n",
    "    \n",
    "    wt = wav.wt()\n",
    "    imw = wt.atrous(H, 6)\n",
    "    imrestored = wt.restore(imw,1,6)\n",
    "    \n",
    "    ax = fig.add_subplot(222, title='lb-wav')\n",
    "    plt.imshow(imrestored, interpolation='bicubic', norm = colors.LogNorm(vmin=0.01, vmax= 10.), origin='low',\n",
    "               extent=[xedges[0], xedges[-1], yedges[0], yedges[-1]])\n",
    "        \n",
    "    plt.show()"
   ]
  },
  {
   "cell_type": "code",
   "execution_count": 757,
   "metadata": {},
   "outputs": [],
   "source": [
    "## print the physical properties of the cluster for a given label\n",
    "\n",
    "def properties_cluster(df, labels, ilab):\n",
    "    \n",
    "    posl = np.median(df[np.where(labels == ilab),0])\n",
    "    posb = np.median(df[np.where(labels == ilab),1])\n",
    "    dist = np.median(df[np.where(labels == ilab),2])\n",
    "    velra = np.median(df[np.where(labels == ilab),3])\n",
    "    veldec = np.median(df[np.where(labels == ilab),4])\n",
    "    stdl = np.std(df[np.where(labels == ilab),0])\n",
    "    stdb = np.std(df[np.where(labels == ilab),1]) \n",
    "    stdist = np.std(df[np.where(labels == ilab),2]) \n",
    "    stdvelra = np.std(df[np.where(labels == ilab),3]) \n",
    "    stdveldec = np.std(df[np.where(labels == ilab),4]) \n",
    "    \n",
    "    print(\"## Physical properties of the label %d\"%(ilab))\n",
    "    print(\"## Pos. mean (l,b): %4.2f , %4.2f\"%(posl, posb))\n",
    "    print(\"## Disp. (l,b): %4.2f , %4.2f\"%(stdl, stdb))\n",
    "    print(\"##\")\n",
    "    print(\"## Distance mean (pc): %4.2f\"%(dist))\n",
    "    print(\"## Disp. (distance): %4.2f\"%(stdist))\n",
    "    print(\"##\")\n",
    "    print(\"## Vel. mean (RA,Dec): %4.2f , %4.2f\"%(velra, veldec))\n",
    "    print(\"## Vel. disp. (RA,Dec): %4.2f , %4.2f\"%(stdvelra, stdveldec))\n",
    "    print(\"##\")\n",
    "    print(\"## Ellipticities:\")\n",
    "    print(\"## Spatial (l/b) : %4.2f\"%(stdl / stdb))\n",
    "    print(\"## Vel. (RA/Dec) : %4.2f\"%(stdvelra / stdveldec))   \n",
    "    "
   ]
  },
  {
   "cell_type": "code",
   "execution_count": 758,
   "metadata": {
    "scrolled": true
   },
   "outputs": [
    {
     "name": "stdout",
     "output_type": "stream",
     "text": [
      "## NGC 2682-4.0deg.vot read...\n",
      "## Total stars: 62103\n",
      "## Conversion done...\n",
      "## Stars selected: 57099\n",
      "## Cartesian coordinates added...\n",
      "Normalization (weighted) per block done on  filtered data...\n",
      "Normalization (weighted) per block done on cartesian filtered data...\n"
     ]
    },
    {
     "data": {
      "text/plain": [
       "()"
      ]
     },
     "execution_count": 758,
     "metadata": {},
     "output_type": "execute_result"
    }
   ],
   "source": [
    "## Read the data and do the conversion\n",
    "\n",
    "\n",
    "source = gu.source(clustername)\n",
    "source.weight = WEIGHT\n",
    "# source.query(RADIUS, errtol = 0.2, dump = True)\n",
    "source.read_votable(voname)\n",
    "source.filter_data(mag_range = [0., 40])\n",
    "source.add_cartesian()\n",
    "\n",
    "block = [[0,1,2],[3,4],[5,6,7]]\n",
    "weightblock = [2.0, 2.0, 3.0]\n",
    "source.normalization_PerBlock(block, weightblock, cartesian = False ,norm = \"AverageStep\")\n",
    "source.normalization_PerBlock(block, weightblock, cartesian = True , norm = \"AverageStep\")\n",
    "\n",
    "\n",
    "# source.normalization_normal()\n",
    "# source.normalization_minmax()"
   ]
  },
  {
   "cell_type": "markdown",
   "metadata": {},
   "source": [
    "### Metrics\n",
    "\n",
    "Metric to quantify goodness-of-solution for the clustering."
   ]
  },
  {
   "cell_type": "code",
   "execution_count": 759,
   "metadata": {},
   "outputs": [],
   "source": [
    "def average_density_hyperspace(df):\n",
    "    \"compute the average density and distance\"\n",
    "    \n",
    "    \n",
    "    ndim = df.shape\n",
    "    nstars = ndim[0]\n",
    "    nbootstrap = 3000\n",
    "    \n",
    "    npts = df[np.random.randint(0,nstars, nbootstrap),:]\n",
    "    dist = pdist(npts)\n",
    "    distmin = np.min(dist[np.nonzero(dist)])\n",
    "    distmean = np.mean(dist[np.nonzero(dist)])\n",
    "    distmax = np.max(dist[np.nonzero(dist)])\n",
    "    \n",
    "    return(distmin, distmean, distmax)    \n",
    "        "
   ]
  },
  {
   "cell_type": "code",
   "execution_count": 760,
   "metadata": {},
   "outputs": [],
   "source": [
    "def metric1(df, labels, APERTURE = 0.2 , MAXRADIUS = 1. , NBOOTSTRAP =20 ):\n",
    "    \"Using the density contrat assuming the OC is at the center\"\n",
    "    \n",
    "    xc   = np.mean(df[:,0])\n",
    "    yc   = np.mean(df[:,1]) \n",
    "    \n",
    "    nlab = max(labels)+1\n",
    "    aper2 = APERTURE*APERTURE\n",
    "    metric = {}\n",
    "    metric['label'] = []\n",
    "    metric['Q'] = []\n",
    "    metric['Q_err'] = []\n",
    "    \n",
    "    for ilab in range(nlab):\n",
    "        \n",
    "        dflab = df[np.where(labels == ilab),:][0]\n",
    "        radii = (dflab[:,0]- xc)*(dflab[:,0]- xc)+(dflab[:,1]- yc)*(dflab[:,1]- yc)\n",
    "        nclust = radii[np.where(radii < aper2)]\n",
    "        dens_clust = len(nclust) / aper2\n",
    "        \n",
    "        angle_out = np.random.uniform(0., 2*math.pi, NBOOTSTRAP)\n",
    "        rad_out   = np.random.uniform(APERTURE,MAXRADIUS-APERTURE, NBOOTSTRAP)\n",
    "        \n",
    "        Q_c = np.zeros(NBOOTSTRAP)\n",
    "        \n",
    "        for k in range(NBOOTSTRAP): \n",
    "            xi = xc + rad_out[k]*math.cos(angle_out[k])\n",
    "            yi = yc + rad_out[k]*math.sin(angle_out[k])\n",
    "            radii_out = (dflab[:,0]- xi)*(dflab[:,0]- xi)+(dflab[:,1]- yi)*(dflab[:,1]- yi)\n",
    "            nout = radii_out[np.where(radii_out < aper2)]\n",
    "            dens_out_k = max(1,len(nout)) / aper2\n",
    "            Q_c[k] = dens_clust / dens_out_k\n",
    "            \n",
    "        metric['label'].append(ilab)\n",
    "        metric['Q'].append(np.mean(Q_c))\n",
    "        metric['Q_err'].append(np.std(Q_c))\n",
    "        \n",
    "    return(metric)\n",
    "                          \n",
    "@jit\n",
    "def metric2(df, labels, APERTURE = 0.2 , MAXRADIUS = 1. , NBOOTSTRAP = 50 , SIGCLIP = 0.):\n",
    "    \"Using the density contrat assuming the OC is at the center and the distribution around is regular (no holes)\"\n",
    "        \n",
    "    epsilon = 0.1\n",
    "    xc   = np.mean(df[:,0])\n",
    "    yc   = np.mean(df[:,1]) \n",
    "    \n",
    "    nlab = max(labels)+1\n",
    "    aper2 = APERTURE*APERTURE\n",
    "    metric = {}\n",
    "    metric['label'] = []\n",
    "    metric['Q'] = []\n",
    "    metric['Q_err'] = []\n",
    "    \n",
    "    for ilab in range(nlab):\n",
    "        \n",
    "        dflab = df[np.where(labels == ilab),:][0]\n",
    "        radii = (dflab[:,0]- xc)*(dflab[:,0]- xc)+(dflab[:,1]- yc)*(dflab[:,1]- yc)\n",
    "        nclust = radii[np.where(radii < aper2)]\n",
    "        dens_clust = len(nclust) / aper2\n",
    "        \n",
    "        angle_out = np.random.uniform(0., 2*math.pi, NBOOTSTRAP)\n",
    "        rad_out   = np.random.uniform(APERTURE,MAXRADIUS-APERTURE, NBOOTSTRAP)\n",
    "        \n",
    "        nstarsout = np.zeros(NBOOTSTRAP)\n",
    "        \n",
    "        for k in range(NBOOTSTRAP): \n",
    "            xi = xc + rad_out[k]*math.cos(angle_out[k])\n",
    "            yi = yc + rad_out[k]*math.sin(angle_out[k])\n",
    "            radii_out = (dflab[:,0]- xi)*(dflab[:,0]- xi)+(dflab[:,1]- yi)*(dflab[:,1]- yi)\n",
    "            nout = radii_out[np.where(radii_out < aper2)]\n",
    "            nstarsout[k] = len(nout) + np.random.uniform(1., 1.+ epsilon)\n",
    "                \n",
    "        outmean = np.mean(nstarsout)\n",
    "        outstd  = np.std(nstarsout)\n",
    "        \n",
    "        nstar_filtered = np.where( (nstarsout - outmean)/ outstd > SIGCLIP )\n",
    "\n",
    "        dens_out = nstarsout[nstar_filtered] / aper2\n",
    "        Q_c = np.zeros(len(dens_out))\n",
    "        Q_c = dens_clust / dens_out\n",
    "        \n",
    "        metric['label'].append(ilab)\n",
    "        metric['Q'].append(np.mean(Q_c))\n",
    "        metric['Q_err'].append(np.std(Q_c))\n",
    "        \n",
    "    return(metric)                      "
   ]
  },
  {
   "cell_type": "markdown",
   "metadata": {},
   "source": [
    "### Clustering"
   ]
  },
  {
   "cell_type": "code",
   "execution_count": 761,
   "metadata": {},
   "outputs": [
    {
     "name": "stdout",
     "output_type": "stream",
     "text": [
      "## k-means...\n",
      "(22059.234084417756, 1020324.2765822343, 4406542.989977425)\n",
      "# Label     0 :  7211  Dist: 1067.4 ( 62.3)\n",
      "# Label     1 : 10073  Dist:  437.6 ( 58.3)\n",
      "# Label     2 :  5074  Dist: 1528.1 ( 76.7)\n",
      "# Label     3 :  8926  Dist:  638.1 ( 60.7)\n",
      "# Label     4 :  3476  Dist: 1816.9 ( 92.0)\n",
      "# Label     5 :  6091  Dist: 1288.3 ( 66.4)\n",
      "# Label     6 :  7595  Dist:  247.5 ( 71.3)\n",
      "# Label     7 :  8653  Dist:  859.3 ( 60.1)\n",
      "##\n",
      "## Ward... \n",
      "# Label     0 : 12277  Dist:  807.4 ( 89.3)\n",
      "# Label     1 :  9657  Dist:  542.0 ( 61.2)\n",
      "# Label     2 :  8265  Dist: 1074.5 ( 73.9)\n",
      "# Label     3 :  4523  Dist: 1580.4 ( 77.6)\n",
      "# Label     4 :  9573  Dist:  349.8 ( 62.2)\n",
      "# Label     5 :  6598  Dist: 1327.1 ( 76.9)\n",
      "# Label     6 :  2764  Dist: 1849.1 ( 77.9)\n",
      "# Label     7 :  3442  Dist:  180.8 ( 52.2)\n",
      "##\n",
      "## DBSCAN...\n",
      "{0, 1, 2, -1}\n",
      "# Label     0 :   539  Dist:  886.5 ( 26.5)\n",
      "# Label     1 :    76  Dist:  873.1 ( 22.1)\n",
      "# Label     2 :    26  Dist:  848.9 ( 13.6)\n",
      "##\n"
     ]
    }
   ],
   "source": [
    "print(\"## k-means...\")\n",
    "\n",
    "print(average_density_hyperspace(source.dfcartnorm))\n",
    "\n",
    "# KMeans for each normalisation\n",
    "kmeans = cluster.KMeans(n_clusters= kCluster, max_iter = 2000, n_init = 50)\n",
    "kmeans.fit(source.dfnorm)\n",
    "labels_k = kmeans.labels_\n",
    "for i in range(kCluster):\n",
    "    print(\"# Label %5d : %5d  Dist: %6.1f (%5.1f)\"%(i,len(labels_k[np.where(labels_k == i)]), np.median(source.df[np.where(labels_k == i),2]), np.std(source.df[np.where(labels_k == i),2])))\n",
    "print(\"##\")\n",
    "\n",
    "###########\n",
    "print(\"## Ward... \")\n",
    "# connectivity matrix for structured Ward\n",
    "\n",
    "connectivity = kneighbors_graph(source.dfnorm, n_neighbors= neighbors, include_self=False)\n",
    "# make connectivity symmetric\n",
    "connectivity = 0.5 * (connectivity + connectivity.T)\n",
    "\n",
    "ward = cluster.AgglomerativeClustering(n_clusters= kCluster, linkage='ward', connectivity=connectivity)\n",
    "ward.fit(source.dfnorm)\n",
    "labels_w = ward.labels_\n",
    "for i in range(kCluster):\n",
    "    print(\"# Label %5d : %5d  Dist: %6.1f (%5.1f)\"%(i,len(labels_w[np.where(labels_w == i)]), np.median(source.df[np.where(labels_w == i),2]),np.std(source.df[np.where(labels_w == i),2])))\n",
    "print(\"##\")\n",
    "    \n",
    "############# \n",
    "#print(\"## Spectral...\")\n",
    "#spectral = cluster.SpectralClustering(n_clusters = kCluster, eigen_solver='arpack', affinity=\"nearest_neighbors\")\n",
    "#spectral.fit(source.dfnorm)\n",
    "#labels_s = spectral.labels_\n",
    "#for i in range(kCluster):\n",
    "#    print(\"# Label %5d : %5d  Dist: %6.1f (%5.1f)\"%(i,len(labels_s[np.where(labels_s == i)]), np.median(source.df[np.where(labels_s == i),2]),np.std(source.df[np.where(labels_s == i),2])))\n",
    "#print(\"##\")\n",
    "\n",
    "\n",
    "############# \n",
    "print(\"## DBSCAN...\")\n",
    "dbscan = cluster.DBSCAN(eps = 40000. , min_samples = 25, metric = \"euclidean\")\n",
    "dbscan.fit(source.dfcartnorm)\n",
    "labels_d = dbscan.labels_\n",
    "unique_labels = set(labels_d)\n",
    "print(unique_labels)\n",
    "for i in range(max(labels_d)+1):\n",
    "    print(\"# Label %5d : %5d  Dist: %6.1f (%5.1f)\"%(i,len(labels_d[np.where(labels_d == i)]), np.median(source.df[np.where(labels_d == i),2]), np.std(source.df[np.where(labels_d == i),2]) ))\n",
    "print(\"##\")\n"
   ]
  },
  {
   "cell_type": "code",
   "execution_count": 762,
   "metadata": {
    "scrolled": true
   },
   "outputs": [
    {
     "data": {
      "image/png": "[encoded data removed]",
      "text/plain": [
       "<matplotlib.figure.Figure at 0x7f6b5ce85fd0>"
      ]
     },
     "metadata": {},
     "output_type": "display_data"
    }
   ],
   "source": [
    "## Metrics of the solutions\n",
    "np.random.seed(0)\n",
    "labs = labels_k\n",
    "qk = metric2(source.df, labs , APERTURE = 0.5 , MAXRADIUS = 0.9 * RADIUS, SIGCLIP = 0.0) \n",
    "labs = labels_w\n",
    "qw = metric2(source.df, labs , APERTURE = 0.5 , MAXRADIUS = 0.9 * RADIUS, SIGCLIP = 0.0) \n",
    "#labs = labels_s\n",
    "#qs = metric2(source.df, labs , APERTURE = 0.5 , MAXRADIUS = 0.9 * RADIUS, SIGCLIP = 0.0) \n",
    "labs = labels_d\n",
    "qd = metric2(source.df, labs , APERTURE = 0.5 , MAXRADIUS = 0.9 * RADIUS, SIGCLIP = 0.0)  \n",
    "\n",
    "plt.yscale(\"log\", nonposy='clip')\n",
    "plt.xlim([-1,kCluster+1])\n",
    "plt.errorbar(qk['label'],qk['Q'], qk['Q_err'], label='k-means',fmt='.k', ecolor='gray', lw=1, capsize=5)\n",
    "plt.errorbar(qw['label'],qw['Q'], qw['Q_err'], label='Ward', fmt='*r', ecolor='gray', lw=1, capsize=5)\n",
    "#plt.errorbar(qs['label'],qs['Q'], qs['Q_err'], label='Spectral', fmt='Db', ecolor='gray', lw=1, capsize=5)\n",
    "plt.errorbar(qd['label'],qd['Q'], qd['Q_err'], label='DBSCAN', fmt='og', ecolor='gray', lw=1, capsize=5)\n",
    "plt.legend(loc='upper right', shadow=True)\n",
    "plt.xlabel(\"Label\")\n",
    "plt.show()"
   ]
  },
  {
   "cell_type": "code",
   "execution_count": 766,
   "metadata": {
    "scrolled": false
   },
   "outputs": [
    {
     "name": "stdout",
     "output_type": "stream",
     "text": [
      "## Angular distance (1deg) : 21.0 pc\n"
     ]
    },
    {
     "data": {
      "image/png": "[encoded data removed]",
      "text/plain": [
       "<matplotlib.figure.Figure at 0x7f6b5beae0f0>"
      ]
     },
     "metadata": {},
     "output_type": "display_data"
    },
    {
     "data": {
      "image/png": "[encoded data removed]",
      "text/plain": [
       "<matplotlib.figure.Figure at 0x7f6b5beae128>"
      ]
     },
     "metadata": {},
     "output_type": "display_data"
    }
   ],
   "source": [
    "## separation distance\n",
    "angl2pc = 3600. * 150e6 * distclust / 3.1e13\n",
    "print(\"## Angular distance (1deg) : %3.1f pc\"%(angl2pc))\n",
    "plot2d(source.dfcart, labels_d,2, cmap = \"gist_stern\", cartesian = True)\n",
    "## Density plot...\n",
    "# plot_density(source.dfcart, labels_k, 3, cmap = \"gist_stern\", NXY = 128)\n",
    "plt.plot(source.dfcartnorm[:,4])\n",
    "plt.show()"
   ]
  },
  {
   "cell_type": "code",
   "execution_count": 764,
   "metadata": {},
   "outputs": [
    {
     "name": "stdout",
     "output_type": "stream",
     "text": [
      "## Physical properties of the label 0\n",
      "## Pos. mean (l,b): 215.68 , 31.91\n",
      "## Disp. (l,b): 0.40 , 0.34\n",
      "##\n",
      "## Distance mean (pc): 886.51\n",
      "## Disp. (distance): 26.51\n",
      "##\n",
      "## Vel. mean (RA,Dec): -46.15 , -12.42\n",
      "## Vel. disp. (RA,Dec): 1.88 , 1.26\n",
      "##\n",
      "## Ellipticities:\n",
      "## Spatial (l/b) : 1.18\n",
      "## Vel. (RA/Dec) : 1.49\n"
     ]
    }
   ],
   "source": [
    "## physical parameters wrt. magnitude\n",
    "\n",
    "properties_cluster(source.df, labels_d, 0)\n"
   ]
  }
 ],
 "metadata": {
  "kernelspec": {
   "display_name": "Python 3",
   "language": "python",
   "name": "python3"
  },
  "language_info": {
   "codemirror_mode": {
    "name": "ipython",
    "version": 3
   },
   "file_extension": ".py",
   "mimetype": "text/x-python",
   "name": "python",
   "nbconvert_exporter": "python",
   "pygments_lexer": "ipython3",
   "version": "3.6.5"
  }
 },
 "nbformat": 4,
 "nbformat_minor": 2
}
