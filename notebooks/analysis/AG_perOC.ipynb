{
 "cells": [
  {
   "cell_type": "markdown",
   "metadata": {},
   "source": [
    "# Estimation of the A_G per OC\n",
    "\n",
    "That estimation of A_G is used to make the OC isochrone in order to get the stellar mass..."
   ]
  },
  {
   "cell_type": "code",
   "execution_count": 1,
   "metadata": {},
   "outputs": [],
   "source": [
    "using PyCall\n",
    "using Distributions\n",
    "using Statistics\n",
    "\n",
    "using Distances\n",
    "using Random , Formatting\n",
    "\n",
    "rootdir = \"/home/stephane/Science/cluster/GAIA\"\n",
    "\n",
    "push!(LOAD_PATH,\"$rootdir/master/src\")\n",
    "using GaiaClustering\n",
    "\n",
    "import PyPlot, CSV\n",
    "\n",
    "## directory\n",
    "wdir    = \"$rootdir/products\"\n",
    "plotdir = \"$rootdir/products/plotdens\"\n",
    "ocdir= \"$wdir/oc\"\n",
    "oc2dir= \"$wdir/oc2\"\n",
    "\n",
    "cd(wdir)"
   ]
  },
  {
   "cell_type": "code",
   "execution_count": 2,
   "metadata": {},
   "outputs": [
    {
     "data": {
      "text/html": [
       "<table class=\"data-frame\"><thead><tr><th></th><th>ra</th><th>dec</th><th>l</th><th>b</th><th>distance</th><th>pmra</th><th>pmdec</th><th>X</th><th>Y</th></tr><tr><th></th><th>Float64</th><th>Float64</th><th>Float64</th><th>Float64</th><th>Float64</th><th>Float64</th><th>Float64</th><th>Float64</th><th>Float64</th></tr></thead><tbody><p>130 rows × 17 columns (omitted printing of 8 columns)</p><tr><th>1</th><td>72.629</td><td>54.3802</td><td>153.347</td><td>6.29793</td><td>626.925</td><td>-0.855992</td><td>-1.02623</td><td>626.815</td><td>11.6972</td></tr><tr><th>2</th><td>71.7816</td><td>54.4187</td><td>153.0</td><td>5.94265</td><td>625.1</td><td>-0.952757</td><td>-1.13926</td><td>625.033</td><td>7.88446</td></tr><tr><th>3</th><td>72.8858</td><td>54.77</td><td>153.137</td><td>6.65968</td><td>621.917</td><td>-0.807593</td><td>-1.01466</td><td>621.839</td><td>9.33161</td></tr><tr><th>4</th><td>72.2909</td><td>54.8558</td><td>152.852</td><td>6.44884</td><td>628.529</td><td>-0.925795</td><td>-1.18543</td><td>628.497</td><td>6.30027</td></tr><tr><th>5</th><td>72.2319</td><td>54.8153</td><td>152.862</td><td>6.39679</td><td>641.6</td><td>-0.716128</td><td>-1.18006</td><td>641.566</td><td>6.53906</td></tr><tr><th>6</th><td>70.4711</td><td>54.8238</td><td>152.196</td><td>5.62831</td><td>647.987</td><td>-0.836825</td><td>-0.983811</td><td>647.933</td><td>-0.927063</td></tr><tr><th>7</th><td>70.8347</td><td>54.7588</td><td>152.383</td><td>5.74444</td><td>620.917</td><td>-0.687066</td><td>-1.10037</td><td>620.88</td><td>1.13979</td></tr><tr><th>8</th><td>70.6226</td><td>54.973</td><td>152.14</td><td>5.79183</td><td>621.208</td><td>-0.88692</td><td>-1.07526</td><td>621.175</td><td>-1.49619</td></tr><tr><th>9</th><td>70.605</td><td>55.3645</td><td>151.835</td><td>6.04019</td><td>641.913</td><td>-0.811499</td><td>-0.993662</td><td>641.883</td><td>-4.95707</td></tr><tr><th>10</th><td>71.498</td><td>54.6762</td><td>152.696</td><td>5.98253</td><td>647.457</td><td>-1.25671</td><td>-1.04258</td><td>647.425</td><td>4.72491</td></tr><tr><th>11</th><td>71.399</td><td>54.8913</td><td>152.494</td><td>6.07782</td><td>609.296</td><td>-1.4061</td><td>-0.703445</td><td>609.285</td><td>2.29554</td></tr><tr><th>12</th><td>71.6054</td><td>54.9058</td><td>152.559</td><td>6.17788</td><td>640.811</td><td>-0.749831</td><td>-1.19805</td><td>640.8</td><td>3.15074</td></tr><tr><th>13</th><td>71.702</td><td>55.0083</td><td>152.516</td><td>6.28625</td><td>640.664</td><td>-1.37809</td><td>-1.08635</td><td>640.658</td><td>2.66801</td></tr><tr><th>14</th><td>72.1308</td><td>54.8247</td><td>152.817</td><td>6.35796</td><td>610.72</td><td>-0.86976</td><td>-1.15636</td><td>610.693</td><td>5.74794</td></tr><tr><th>15</th><td>71.3467</td><td>54.7386</td><td>152.591</td><td>5.95616</td><td>644.408</td><td>-0.880984</td><td>-1.50128</td><td>644.382</td><td>3.52502</td></tr><tr><th>16</th><td>71.7336</td><td>55.0772</td><td>152.475</td><td>6.34444</td><td>631.131</td><td>-0.84938</td><td>-0.973383</td><td>631.127</td><td>2.17153</td></tr><tr><th>17</th><td>72.0352</td><td>54.9959</td><td>152.649</td><td>6.42506</td><td>642.903</td><td>-0.89793</td><td>-1.17914</td><td>642.89</td><td>4.16725</td></tr><tr><th>18</th><td>71.8332</td><td>55.4547</td><td>152.22</td><td>6.63011</td><td>610.71</td><td>-0.831654</td><td>-0.963691</td><td>610.703</td><td>-0.614652</td></tr><tr><th>19</th><td>71.5662</td><td>55.2572</td><td>152.274</td><td>6.38693</td><td>639.36</td><td>-1.36386</td><td>-1.0029</td><td>639.36</td><td>-0.0381038</td></tr><tr><th>20</th><td>71.3546</td><td>55.0831</td><td>152.33</td><td>6.18226</td><td>641.791</td><td>-0.709579</td><td>-1.35709</td><td>641.787</td><td>0.582601</td></tr><tr><th>21</th><td>71.6947</td><td>55.0551</td><td>152.477</td><td>6.31315</td><td>606.426</td><td>-0.87257</td><td>-1.11389</td><td>606.422</td><td>2.11448</td></tr><tr><th>22</th><td>71.6496</td><td>55.0848</td><td>152.438</td><td>6.31243</td><td>641.284</td><td>-0.998131</td><td>-1.0328</td><td>641.281</td><td>1.79347</td></tr><tr><th>23</th><td>72.1508</td><td>55.2539</td><td>152.492</td><td>6.64059</td><td>622.688</td><td>-0.945297</td><td>-0.990204</td><td>622.677</td><td>2.32586</td></tr><tr><th>24</th><td>71.3336</td><td>55.2093</td><td>152.225</td><td>6.25467</td><td>628.968</td><td>-1.01419</td><td>-0.980782</td><td>628.967</td><td>-0.578102</td></tr><tr><th>25</th><td>71.9733</td><td>55.0188</td><td>152.609</td><td>6.41238</td><td>633.533</td><td>-0.79934</td><td>-1.06586</td><td>633.522</td><td>3.65873</td></tr><tr><th>26</th><td>72.2995</td><td>55.5959</td><td>152.28</td><td>6.92337</td><td>608.576</td><td>-0.957971</td><td>-1.14161</td><td>608.547</td><td>0.0265753</td></tr><tr><th>27</th><td>71.5152</td><td>55.1657</td><td>152.326</td><td>6.30576</td><td>624.933</td><td>-1.07133</td><td>-0.860587</td><td>624.933</td><td>0.525387</td></tr><tr><th>28</th><td>71.4184</td><td>55.1878</td><td>152.273</td><td>6.27772</td><td>643.105</td><td>-0.88837</td><td>-0.825207</td><td>643.104</td><td>-0.0520516</td></tr><tr><th>29</th><td>71.3896</td><td>55.0421</td><td>152.374</td><td>6.17113</td><td>642.706</td><td>-0.825878</td><td>-1.09115</td><td>642.701</td><td>1.0828</td></tr><tr><th>30</th><td>71.3078</td><td>54.9419</td><td>152.421</td><td>6.07055</td><td>628.614</td><td>-0.96586</td><td>-0.995931</td><td>628.604</td><td>1.56823</td></tr><tr><th>&vellip;</th><td>&vellip;</td><td>&vellip;</td><td>&vellip;</td><td>&vellip;</td><td>&vellip;</td><td>&vellip;</td><td>&vellip;</td><td>&vellip;</td><td>&vellip;</td></tr></tbody></table>"
      ],
      "text/latex": [
       "\\begin{tabular}{r|cccccccccc}\n",
       "\t& ra & dec & l & b & distance & pmra & pmdec & X & Y & \\\\\n",
       "\t\\hline\n",
       "\t& Float64 & Float64 & Float64 & Float64 & Float64 & Float64 & Float64 & Float64 & Float64 & \\\\\n",
       "\t\\hline\n",
       "\t1 & 72.629 & 54.3802 & 153.347 & 6.29793 & 626.925 & -0.855992 & -1.02623 & 626.815 & 11.6972 & $\\dots$ \\\\\n",
       "\t2 & 71.7816 & 54.4187 & 153.0 & 5.94265 & 625.1 & -0.952757 & -1.13926 & 625.033 & 7.88446 & $\\dots$ \\\\\n",
       "\t3 & 72.8858 & 54.77 & 153.137 & 6.65968 & 621.917 & -0.807593 & -1.01466 & 621.839 & 9.33161 & $\\dots$ \\\\\n",
       "\t4 & 72.2909 & 54.8558 & 152.852 & 6.44884 & 628.529 & -0.925795 & -1.18543 & 628.497 & 6.30027 & $\\dots$ \\\\\n",
       "\t5 & 72.2319 & 54.8153 & 152.862 & 6.39679 & 641.6 & -0.716128 & -1.18006 & 641.566 & 6.53906 & $\\dots$ \\\\\n",
       "\t6 & 70.4711 & 54.8238 & 152.196 & 5.62831 & 647.987 & -0.836825 & -0.983811 & 647.933 & -0.927063 & $\\dots$ \\\\\n",
       "\t7 & 70.8347 & 54.7588 & 152.383 & 5.74444 & 620.917 & -0.687066 & -1.10037 & 620.88 & 1.13979 & $\\dots$ \\\\\n",
       "\t8 & 70.6226 & 54.973 & 152.14 & 5.79183 & 621.208 & -0.88692 & -1.07526 & 621.175 & -1.49619 & $\\dots$ \\\\\n",
       "\t9 & 70.605 & 55.3645 & 151.835 & 6.04019 & 641.913 & -0.811499 & -0.993662 & 641.883 & -4.95707 & $\\dots$ \\\\\n",
       "\t10 & 71.498 & 54.6762 & 152.696 & 5.98253 & 647.457 & -1.25671 & -1.04258 & 647.425 & 4.72491 & $\\dots$ \\\\\n",
       "\t11 & 71.399 & 54.8913 & 152.494 & 6.07782 & 609.296 & -1.4061 & -0.703445 & 609.285 & 2.29554 & $\\dots$ \\\\\n",
       "\t12 & 71.6054 & 54.9058 & 152.559 & 6.17788 & 640.811 & -0.749831 & -1.19805 & 640.8 & 3.15074 & $\\dots$ \\\\\n",
       "\t13 & 71.702 & 55.0083 & 152.516 & 6.28625 & 640.664 & -1.37809 & -1.08635 & 640.658 & 2.66801 & $\\dots$ \\\\\n",
       "\t14 & 72.1308 & 54.8247 & 152.817 & 6.35796 & 610.72 & -0.86976 & -1.15636 & 610.693 & 5.74794 & $\\dots$ \\\\\n",
       "\t15 & 71.3467 & 54.7386 & 152.591 & 5.95616 & 644.408 & -0.880984 & -1.50128 & 644.382 & 3.52502 & $\\dots$ \\\\\n",
       "\t16 & 71.7336 & 55.0772 & 152.475 & 6.34444 & 631.131 & -0.84938 & -0.973383 & 631.127 & 2.17153 & $\\dots$ \\\\\n",
       "\t17 & 72.0352 & 54.9959 & 152.649 & 6.42506 & 642.903 & -0.89793 & -1.17914 & 642.89 & 4.16725 & $\\dots$ \\\\\n",
       "\t18 & 71.8332 & 55.4547 & 152.22 & 6.63011 & 610.71 & -0.831654 & -0.963691 & 610.703 & -0.614652 & $\\dots$ \\\\\n",
       "\t19 & 71.5662 & 55.2572 & 152.274 & 6.38693 & 639.36 & -1.36386 & -1.0029 & 639.36 & -0.0381038 & $\\dots$ \\\\\n",
       "\t20 & 71.3546 & 55.0831 & 152.33 & 6.18226 & 641.791 & -0.709579 & -1.35709 & 641.787 & 0.582601 & $\\dots$ \\\\\n",
       "\t21 & 71.6947 & 55.0551 & 152.477 & 6.31315 & 606.426 & -0.87257 & -1.11389 & 606.422 & 2.11448 & $\\dots$ \\\\\n",
       "\t22 & 71.6496 & 55.0848 & 152.438 & 6.31243 & 641.284 & -0.998131 & -1.0328 & 641.281 & 1.79347 & $\\dots$ \\\\\n",
       "\t23 & 72.1508 & 55.2539 & 152.492 & 6.64059 & 622.688 & -0.945297 & -0.990204 & 622.677 & 2.32586 & $\\dots$ \\\\\n",
       "\t24 & 71.3336 & 55.2093 & 152.225 & 6.25467 & 628.968 & -1.01419 & -0.980782 & 628.967 & -0.578102 & $\\dots$ \\\\\n",
       "\t25 & 71.9733 & 55.0188 & 152.609 & 6.41238 & 633.533 & -0.79934 & -1.06586 & 633.522 & 3.65873 & $\\dots$ \\\\\n",
       "\t26 & 72.2995 & 55.5959 & 152.28 & 6.92337 & 608.576 & -0.957971 & -1.14161 & 608.547 & 0.0265753 & $\\dots$ \\\\\n",
       "\t27 & 71.5152 & 55.1657 & 152.326 & 6.30576 & 624.933 & -1.07133 & -0.860587 & 624.933 & 0.525387 & $\\dots$ \\\\\n",
       "\t28 & 71.4184 & 55.1878 & 152.273 & 6.27772 & 643.105 & -0.88837 & -0.825207 & 643.104 & -0.0520516 & $\\dots$ \\\\\n",
       "\t29 & 71.3896 & 55.0421 & 152.374 & 6.17113 & 642.706 & -0.825878 & -1.09115 & 642.701 & 1.0828 & $\\dots$ \\\\\n",
       "\t30 & 71.3078 & 54.9419 & 152.421 & 6.07055 & 628.614 & -0.96586 & -0.995931 & 628.604 & 1.56823 & $\\dots$ \\\\\n",
       "\t$\\dots$ & $\\dots$ & $\\dots$ & $\\dots$ & $\\dots$ & $\\dots$ & $\\dots$ & $\\dots$ & $\\dots$ & $\\dots$ &  \\\\\n",
       "\\end{tabular}\n"
      ],
      "text/plain": [
       "130×17 DataFrames.DataFrame. Omitted printing of 11 columns\n",
       "│ Row │ ra      │ dec     │ l       │ b       │ distance │ pmra      │\n",
       "│     │ \u001b[90mFloat64\u001b[39m │ \u001b[90mFloat64\u001b[39m │ \u001b[90mFloat64\u001b[39m │ \u001b[90mFloat64\u001b[39m │ \u001b[90mFloat64\u001b[39m  │ \u001b[90mFloat64\u001b[39m   │\n",
       "├─────┼─────────┼─────────┼─────────┼─────────┼──────────┼───────────┤\n",
       "│ 1   │ 72.629  │ 54.3802 │ 153.347 │ 6.29793 │ 626.925  │ -0.855992 │\n",
       "│ 2   │ 71.7816 │ 54.4187 │ 153.0   │ 5.94265 │ 625.1    │ -0.952757 │\n",
       "│ 3   │ 72.8858 │ 54.77   │ 153.137 │ 6.65968 │ 621.917  │ -0.807593 │\n",
       "│ 4   │ 72.2909 │ 54.8558 │ 152.852 │ 6.44884 │ 628.529  │ -0.925795 │\n",
       "│ 5   │ 72.2319 │ 54.8153 │ 152.862 │ 6.39679 │ 641.6    │ -0.716128 │\n",
       "│ 6   │ 70.4711 │ 54.8238 │ 152.196 │ 5.62831 │ 647.987  │ -0.836825 │\n",
       "│ 7   │ 70.8347 │ 54.7588 │ 152.383 │ 5.74444 │ 620.917  │ -0.687066 │\n",
       "│ 8   │ 70.6226 │ 54.973  │ 152.14  │ 5.79183 │ 621.208  │ -0.88692  │\n",
       "│ 9   │ 70.605  │ 55.3645 │ 151.835 │ 6.04019 │ 641.913  │ -0.811499 │\n",
       "│ 10  │ 71.498  │ 54.6762 │ 152.696 │ 5.98253 │ 647.457  │ -1.25671  │\n",
       "⋮\n",
       "│ 120 │ 71.1907 │ 54.8246 │ 152.467 │ 5.94325 │ 592.617  │ -0.779467 │\n",
       "│ 121 │ 71.9681 │ 55.6303 │ 152.133 │ 6.80115 │ 659.457  │ -0.985732 │\n",
       "│ 122 │ 71.2997 │ 54.8516 │ 152.487 │ 6.00855 │ 596.598  │ -0.89422  │\n",
       "│ 123 │ 71.7325 │ 55.2386 │ 152.35  │ 6.44758 │ 662.103  │ -0.81099  │\n",
       "│ 124 │ 71.857  │ 55.2686 │ 152.373 │ 6.52123 │ 587.154  │ -0.933888 │\n",
       "│ 125 │ 72.9962 │ 55.3712 │ 152.707 │ 7.08731 │ 624.59   │ -0.799237 │\n",
       "│ 126 │ 71.0793 │ 55.814  │ 151.667 │ 6.53624 │ 650.502  │ -1.67067  │\n",
       "│ 127 │ 70.8475 │ 55.554  │ 151.781 │ 6.26801 │ 642.214  │ -0.533763 │\n",
       "│ 128 │ 70.8172 │ 55.5631 │ 151.763 │ 6.26089 │ 597.08   │ -1.19067  │\n",
       "│ 129 │ 70.5747 │ 55.8128 │ 151.483 │ 6.32017 │ 612.455  │ -0.801165 │\n",
       "│ 130 │ 70.789  │ 55.8913 │ 151.502 │ 6.46256 │ 627.308  │ -1.35429  │"
      ]
     },
     "execution_count": 2,
     "metadata": {},
     "output_type": "execute_result"
    }
   ],
   "source": [
    "oc= \"Alessi 1-2.1deg-oc.csv\"\n",
    "oc= \"Alessi 2-1.7deg-oc.csv\"\n",
    "\n",
    "ocfile1= \"$ocdir/$oc\"\n",
    "ocfile2= \"$oc2dir/$oc\"\n",
    "\n",
    "df1= CSV.read(ocfile1, delim= \";\")\n",
    "df2= CSV.read(ocfile2, delim= \";\")"
   ]
  },
  {
   "cell_type": "code",
   "execution_count": 3,
   "metadata": {},
   "outputs": [
    {
     "data": {
      "image/png": "[encoded data removed]",
      "text/plain": [
       "PyPlot.Figure(PyObject <Figure size 1000x1000 with 1 Axes>)"
      ]
     },
     "metadata": {},
     "output_type": "display_data"
    },
    {
     "name": "stdout",
     "output_type": "stream",
     "text": [
      "0.6392500102519989\n"
     ]
    }
   ],
   "source": [
    "fig= PyPlot.figure(figsize=(10,10))\n",
    "\n",
    "ax = PyPlot.subplot(211)\n",
    "PyPlot.grid(\"on\")\n",
    "nbins = 30\n",
    "h = PyPlot.hist(df2.ag,nbins,range = [-0.5,1.5], color = \"r\", alpha=0.6 , label = \"AG\")\n",
    "PyPlot.xlabel(\"A_G\")\n",
    "\n",
    "agmedian= median(df2.ag[.! isnan.(df2.ag)])\n",
    "println(median(agmedian))\n"
   ]
  }
 ],
 "metadata": {
  "kernelspec": {
   "display_name": "Julia 1.2.0",
   "language": "julia",
   "name": "julia-1.2"
  },
  "language_info": {
   "file_extension": ".jl",
   "mimetype": "application/julia",
   "name": "julia",
   "version": "1.2.0"
  }
 },
 "nbformat": 4,
 "nbformat_minor": 2
}
