{
 "cells": [
  {
   "cell_type": "markdown",
   "metadata": {},
   "source": [
    "### Analysis Loop\n",
    "\n",
    "Loop over the final sample with the dbscan parameters and deliver the OC stars for analysis."
   ]
  },
  {
   "cell_type": "code",
   "execution_count": 1,
   "metadata": {},
   "outputs": [],
   "source": [
    "using PyCall\n",
    "using Distributions\n",
    "using Statistics\n",
    "using DataFrames\n",
    "\n",
    "using Distances\n",
    "using Random , Formatting\n",
    "\n",
    "rootdir = \"/home/stephane/Science/GAIA\"\n",
    "\n",
    "push!(LOAD_PATH,\"$rootdir/master/src\")\n",
    "using GaiaClustering\n",
    "\n",
    "import PyPlot , CSV\n",
    "\n",
    "wdir    = \"$rootdir/products\"\n",
    "votdir  = \"$rootdir/products/votable\"\n",
    "cd(wdir)"
   ]
  },
  {
   "cell_type": "code",
   "execution_count": 2,
   "metadata": {},
   "outputs": [
    {
     "data": {
      "text/plain": [
       "getdata (generic function with 1 method)"
      ]
     },
     "execution_count": 2,
     "metadata": {},
     "output_type": "execute_result"
    }
   ],
   "source": [
    "function getdata(filevot, wghtblck)\n",
    "    voname = filevot\n",
    "\n",
    "    data       = read_votable(voname)\n",
    "    df         = filter_data(data)\n",
    "    dfcart     = add_cartesian(df)\n",
    "    blck       = [[1,2,3],[4,5], [6,7,8]]\n",
    "    #wghtblck   = [5,4,1]\n",
    "    norm       = \"identity\"\n",
    "\n",
    "    dfcartnorm , scale8 = normalization_PerBlock(dfcart, blck, wghtblck , norm, false)\n",
    "    return(df, dfcart , dfcartnorm)\n",
    "end"
   ]
  },
  {
   "cell_type": "code",
   "execution_count": null,
   "metadata": {},
   "outputs": [],
   "source": [
    "## Cre<te the DataFrame to save the cluster...\n",
    "##\n",
    "\n",
    "_export_df(df , dfcart, labels , labelmax)\n",
    "\n",
    "end"
   ]
  },
  {
   "cell_type": "code",
   "execution_count": 3,
   "metadata": {},
   "outputs": [
    {
     "data": {
      "text/plain": [
       "@main (macro with 1 method)"
      ]
     },
     "execution_count": 3,
     "metadata": {},
     "output_type": "execute_result"
    }
   ],
   "source": [
    "## Main loop\n",
    "##\n",
    "\n",
    "macro main(paramfile)\n",
    "    let\n",
    "        println(\"## Starting main loop..\")\n",
    "        spl= CSV.read(paramfile)\n",
    "        println(\"## $paramfile read..\") \n",
    "        s=size(spl)\n",
    "        \n",
    "        for i in 1:s[1]\n",
    "            votname = spl[:votname][i]\n",
    "            println(\"## Starting with $votname\")\n",
    "            wght= [spl[:w3dm][i],spl[:wvelm][i] ,spl[:whrdm][i]]\n",
    "            println(wght)\n",
    "            df , dfcart , dfcartnorm = getdata(votdir*\"/\"*votname, wght)\n",
    "            \n",
    "            ## get the cluster and plot it\n",
    "            println(\"## Extracting the cluster using DBSCAN with:\")\n",
    "            eps = spl[:epsm_1][i]\n",
    "            min_nei = trunc(Int,spl[:mneim_1][i] + 0.5)  \n",
    "            min_cl = trunc(Int,spl[:mclm_1][i] + 0.5)\n",
    "            println(\"### ϵ : $eps\")\n",
    "            println(\"### min_neighbor: $min_nei\")\n",
    "            println(\"### min_cluster : $min_cl\")\n",
    "            labels = clusters(dfcartnorm.data ,eps  , 20, min_nei, min_cl)\n",
    "            labelmax , nmax = find_cluster_label(labels)\n",
    "            println(\"### Label solution: $labelmax\")\n",
    "            println(\"### N stars: $nmax\")\n",
    "        end\n",
    "    end\n",
    "end"
   ]
  },
  {
   "cell_type": "code",
   "execution_count": 4,
   "metadata": {},
   "outputs": [
    {
     "name": "stdout",
     "output_type": "stream",
     "text": [
      "## Starting main loop..\n",
      "## finalSample_metric0.01.csv read..\n",
      "## Starting with Alessi 1-2.1deg.vot\n",
      "[3.41427, 7.99762, 2.0506]\n"
     ]
    },
    {
     "name": "stderr",
     "output_type": "stream",
     "text": [
      "┌ Warning: `getindex(o::PyObject, s::Symbol)` is deprecated in favor of dot overloading (`getproperty`) so elements should now be accessed as e.g. `o.s` instead of `o[:s]`.\n",
      "│   caller = read_votable(::String) at data.jl:40\n",
      "└ @ GaiaClustering /home/stephane/Science/GAIA/master/src/data.jl:40\n",
      "┌ Warning: `getindex(o::PyObject, s::Symbol)` is deprecated in favor of dot overloading (`getproperty`) so elements should now be accessed as e.g. `o.s` instead of `o[:s]`.\n",
      "│   caller = read_votable(::String) at data.jl:42\n",
      "└ @ GaiaClustering /home/stephane/Science/GAIA/master/src/data.jl:42\n"
     ]
    },
    {
     "name": "stdout",
     "output_type": "stream",
     "text": [
      "## Votable /home/stephane/Science/GAIA/products/votable/Alessi 1-2.1deg.vot read\n"
     ]
    },
    {
     "name": "stderr",
     "output_type": "stream",
     "text": [
      "┌ Warning: `getindex(o::PyObject, s::Symbol)` is deprecated in favor of dot overloading (`getproperty`) so elements should now be accessed as e.g. `o.s` instead of `o[:s]`.\n",
      "│   caller = read_votable(::String) at data.jl:43\n",
      "└ @ GaiaClustering /home/stephane/Science/GAIA/master/src/data.jl:43\n",
      "┌ Warning: `getindex(o::PyObject, s::AbstractString)` is deprecated in favor of dot overloading (`getproperty`) so elements should now be accessed as e.g. `o.\"s\"` instead of `o[\"s\"]`.\n",
      "│   caller = read_votable(::String) at data.jl:47\n",
      "└ @ GaiaClustering /home/stephane/Science/GAIA/master/src/data.jl:47\n",
      "┌ Warning: `getindex(o::PyObject, s::AbstractString)` is deprecated in favor of dot overloading (`getproperty`) so elements should now be accessed as e.g. `o.\"s\"` instead of `o[\"s\"]`.\n",
      "│   caller = read_votable(::String) at data.jl:47\n",
      "└ @ GaiaClustering /home/stephane/Science/GAIA/master/src/data.jl:47\n",
      "┌ Warning: `getindex(o::PyObject, i::Integer)` is deprecated, use `get(o, i - 1)` instead.\n",
      "│   caller = filter_data(::PyObject, ::Array{Float64,1}, ::Array{Int64,1}, ::Array{Float64,1}, ::Array{Float64,1}) at data.jl:80\n",
      "└ @ GaiaClustering /home/stephane/Science/GAIA/master/src/data.jl:80\n",
      "┌ Warning: `getindex(o::PyObject, s::AbstractString)` is deprecated in favor of dot overloading (`getproperty`) so elements should now be accessed as e.g. `o.\"s\"` instead of `o[\"s\"]`.\n",
      "│   caller = filter_data(::PyObject, ::Array{Float64,1}, ::Array{Int64,1}, ::Array{Float64,1}, ::Array{Float64,1}) at data.jl:80\n",
      "└ @ GaiaClustering /home/stephane/Science/GAIA/master/src/data.jl:80\n",
      "┌ Warning: `getindex(o::PyObject, i::Integer)` is deprecated, use `get(o, i - 1)` instead.\n",
      "│   caller = filter_data(::PyObject, ::Array{Float64,1}, ::Array{Int64,1}, ::Array{Float64,1}, ::Array{Float64,1}) at data.jl:81\n",
      "└ @ GaiaClustering /home/stephane/Science/GAIA/master/src/data.jl:81\n",
      "┌ Warning: `getindex(o::PyObject, s::AbstractString)` is deprecated in favor of dot overloading (`getproperty`) so elements should now be accessed as e.g. `o.\"s\"` instead of `o[\"s\"]`.\n",
      "│   caller = filter_data(::PyObject, ::Array{Float64,1}, ::Array{Int64,1}, ::Array{Float64,1}, ::Array{Float64,1}) at data.jl:81\n",
      "└ @ GaiaClustering /home/stephane/Science/GAIA/master/src/data.jl:81\n",
      "┌ Warning: `getindex(o::PyObject, i::Integer)` is deprecated, use `get(o, i - 1)` instead.\n",
      "│   caller = filter_data(::PyObject, ::Array{Float64,1}, ::Array{Int64,1}, ::Array{Float64,1}, ::Array{Float64,1}) at data.jl:82\n",
      "└ @ GaiaClustering /home/stephane/Science/GAIA/master/src/data.jl:82\n",
      "┌ Warning: `getindex(o::PyObject, s::AbstractString)` is deprecated in favor of dot overloading (`getproperty`) so elements should now be accessed as e.g. `o.\"s\"` instead of `o[\"s\"]`.\n",
      "│   caller = filter_data(::PyObject, ::Array{Float64,1}, ::Array{Int64,1}, ::Array{Float64,1}, ::Array{Float64,1}) at data.jl:82\n",
      "└ @ GaiaClustering /home/stephane/Science/GAIA/master/src/data.jl:82\n",
      "┌ Warning: `getindex(o::PyObject, i::Integer)` is deprecated, use `get(o, i - 1)` instead.\n",
      "│   caller = filter_data(::PyObject, ::Array{Float64,1}, ::Array{Int64,1}, ::Array{Float64,1}, ::Array{Float64,1}) at data.jl:83\n",
      "└ @ GaiaClustering /home/stephane/Science/GAIA/master/src/data.jl:83\n",
      "┌ Warning: `getindex(o::PyObject, s::AbstractString)` is deprecated in favor of dot overloading (`getproperty`) so elements should now be accessed as e.g. `o.\"s\"` instead of `o[\"s\"]`.\n",
      "│   caller = filter_data(::PyObject, ::Array{Float64,1}, ::Array{Int64,1}, ::Array{Float64,1}, ::Array{Float64,1}) at data.jl:83\n",
      "└ @ GaiaClustering /home/stephane/Science/GAIA/master/src/data.jl:83\n",
      "┌ Warning: `getindex(o::PyObject, i::Integer)` is deprecated, use `get(o, i - 1)` instead.\n",
      "│   caller = filter_data(::PyObject, ::Array{Float64,1}, ::Array{Int64,1}, ::Array{Float64,1}, ::Array{Float64,1}) at data.jl:84\n",
      "└ @ GaiaClustering /home/stephane/Science/GAIA/master/src/data.jl:84\n",
      "┌ Warning: `getindex(o::PyObject, s::AbstractString)` is deprecated in favor of dot overloading (`getproperty`) so elements should now be accessed as e.g. `o.\"s\"` instead of `o[\"s\"]`.\n",
      "│   caller = filter_data(::PyObject, ::Array{Float64,1}, ::Array{Int64,1}, ::Array{Float64,1}, ::Array{Float64,1}) at data.jl:84\n",
      "└ @ GaiaClustering /home/stephane/Science/GAIA/master/src/data.jl:84\n",
      "┌ Warning: `getindex(o::PyObject, i::Integer)` is deprecated, use `get(o, i - 1)` instead.\n",
      "│   caller = filter_data(::PyObject, ::Array{Float64,1}, ::Array{Int64,1}, ::Array{Float64,1}, ::Array{Float64,1}) at data.jl:85\n",
      "└ @ GaiaClustering /home/stephane/Science/GAIA/master/src/data.jl:85\n",
      "┌ Warning: `getindex(o::PyObject, s::AbstractString)` is deprecated in favor of dot overloading (`getproperty`) so elements should now be accessed as e.g. `o.\"s\"` instead of `o[\"s\"]`.\n",
      "│   caller = filter_data(::PyObject, ::Array{Float64,1}, ::Array{Int64,1}, ::Array{Float64,1}, ::Array{Float64,1}) at data.jl:85\n",
      "└ @ GaiaClustering /home/stephane/Science/GAIA/master/src/data.jl:85\n",
      "┌ Warning: `getindex(o::PyObject, i::Integer)` is deprecated, use `get(o, i - 1)` instead.\n",
      "│   caller = filter_data(::PyObject, ::Array{Float64,1}, ::Array{Int64,1}, ::Array{Float64,1}, ::Array{Float64,1}) at data.jl:86\n",
      "└ @ GaiaClustering /home/stephane/Science/GAIA/master/src/data.jl:86\n",
      "┌ Warning: `getindex(o::PyObject, s::AbstractString)` is deprecated in favor of dot overloading (`getproperty`) so elements should now be accessed as e.g. `o.\"s\"` instead of `o[\"s\"]`.\n",
      "│   caller = filter_data(::PyObject, ::Array{Float64,1}, ::Array{Int64,1}, ::Array{Float64,1}, ::Array{Float64,1}) at data.jl:86\n",
      "└ @ GaiaClustering /home/stephane/Science/GAIA/master/src/data.jl:86\n",
      "┌ Warning: `getindex(o::PyObject, i::Integer)` is deprecated, use `get(o, i - 1)` instead.\n",
      "│   caller = filter_data(::PyObject, ::Array{Float64,1}, ::Array{Int64,1}, ::Array{Float64,1}, ::Array{Float64,1}) at data.jl:87\n",
      "└ @ GaiaClustering /home/stephane/Science/GAIA/master/src/data.jl:87\n",
      "┌ Warning: `getindex(o::PyObject, s::AbstractString)` is deprecated in favor of dot overloading (`getproperty`) so elements should now be accessed as e.g. `o.\"s\"` instead of `o[\"s\"]`.\n",
      "│   caller = filter_data(::PyObject, ::Array{Float64,1}, ::Array{Int64,1}, ::Array{Float64,1}, ::Array{Float64,1}) at data.jl:87\n",
      "└ @ GaiaClustering /home/stephane/Science/GAIA/master/src/data.jl:87\n",
      "┌ Warning: `getindex(o::PyObject, i::Integer)` is deprecated, use `get(o, i - 1)` instead.\n",
      "│   caller = filter_data(::PyObject, ::Array{Float64,1}, ::Array{Int64,1}, ::Array{Float64,1}, ::Array{Float64,1}) at data.jl:98\n",
      "└ @ GaiaClustering /home/stephane/Science/GAIA/master/src/data.jl:98\n",
      "┌ Warning: `getindex(o::PyObject, s::AbstractString)` is deprecated in favor of dot overloading (`getproperty`) so elements should now be accessed as e.g. `o.\"s\"` instead of `o[\"s\"]`.\n",
      "│   caller = filter_data(::PyObject, ::Array{Float64,1}, ::Array{Int64,1}, ::Array{Float64,1}, ::Array{Float64,1}) at data.jl:98\n",
      "└ @ GaiaClustering /home/stephane/Science/GAIA/master/src/data.jl:98\n",
      "┌ Warning: `getindex(o::PyObject, i::Integer)` is deprecated, use `get(o, i - 1)` instead.\n",
      "│   caller = filter_data(::PyObject, ::Array{Float64,1}, ::Array{Int64,1}, ::Array{Float64,1}, ::Array{Float64,1}) at data.jl:101\n",
      "└ @ GaiaClustering /home/stephane/Science/GAIA/master/src/data.jl:101\n",
      "┌ Warning: `getindex(o::PyObject, s::AbstractString)` is deprecated in favor of dot overloading (`getproperty`) so elements should now be accessed as e.g. `o.\"s\"` instead of `o[\"s\"]`.\n",
      "│   caller = filter_data(::PyObject, ::Array{Float64,1}, ::Array{Int64,1}, ::Array{Float64,1}, ::Array{Float64,1}) at data.jl:101\n",
      "└ @ GaiaClustering /home/stephane/Science/GAIA/master/src/data.jl:101\n",
      "┌ Warning: `getindex(o::PyObject, i::Integer)` is deprecated, use `get(o, i - 1)` instead.\n",
      "│   caller = filter_data(::PyObject, ::Array{Float64,1}, ::Array{Int64,1}, ::Array{Float64,1}, ::Array{Float64,1}) at data.jl:102\n",
      "└ @ GaiaClustering /home/stephane/Science/GAIA/master/src/data.jl:102\n",
      "┌ Warning: `getindex(o::PyObject, s::AbstractString)` is deprecated in favor of dot overloading (`getproperty`) so elements should now be accessed as e.g. `o.\"s\"` instead of `o[\"s\"]`.\n",
      "│   caller = filter_data(::PyObject, ::Array{Float64,1}, ::Array{Int64,1}, ::Array{Float64,1}, ::Array{Float64,1}) at data.jl:102\n",
      "└ @ GaiaClustering /home/stephane/Science/GAIA/master/src/data.jl:102\n",
      "┌ Warning: `getindex(o::PyObject, i::Integer)` is deprecated, use `get(o, i - 1)` instead.\n",
      "│   caller = filter_data(::PyObject, ::Array{Float64,1}, ::Array{Int64,1}, ::Array{Float64,1}, ::Array{Float64,1}) at data.jl:103\n",
      "└ @ GaiaClustering /home/stephane/Science/GAIA/master/src/data.jl:103\n",
      "┌ Warning: `getindex(o::PyObject, s::AbstractString)` is deprecated in favor of dot overloading (`getproperty`) so elements should now be accessed as e.g. `o.\"s\"` instead of `o[\"s\"]`.\n",
      "│   caller = filter_data(::PyObject, ::Array{Float64,1}, ::Array{Int64,1}, ::Array{Float64,1}, ::Array{Float64,1}) at data.jl:103\n",
      "└ @ GaiaClustering /home/stephane/Science/GAIA/master/src/data.jl:103\n",
      "┌ Warning: `getindex(o::PyObject, i::Integer)` is deprecated, use `get(o, i - 1)` instead.\n",
      "│   caller = filter_data(::PyObject, ::Array{Float64,1}, ::Array{Int64,1}, ::Array{Float64,1}, ::Array{Float64,1}) at data.jl:107\n",
      "└ @ GaiaClustering /home/stephane/Science/GAIA/master/src/data.jl:107\n",
      "┌ Warning: `getindex(o::PyObject, s::AbstractString)` is deprecated in favor of dot overloading (`getproperty`) so elements should now be accessed as e.g. `o.\"s\"` instead of `o[\"s\"]`.\n",
      "│   caller = filter_data(::PyObject, ::Array{Float64,1}, ::Array{Int64,1}, ::Array{Float64,1}, ::Array{Float64,1}) at data.jl:107\n",
      "└ @ GaiaClustering /home/stephane/Science/GAIA/master/src/data.jl:107\n",
      "┌ Warning: `getindex(o::PyObject, i::Integer)` is deprecated, use `get(o, i - 1)` instead.\n",
      "│   caller = filter_data(::PyObject, ::Array{Float64,1}, ::Array{Int64,1}, ::Array{Float64,1}, ::Array{Float64,1}) at data.jl:108\n",
      "└ @ GaiaClustering /home/stephane/Science/GAIA/master/src/data.jl:108\n",
      "┌ Warning: `getindex(o::PyObject, s::AbstractString)` is deprecated in favor of dot overloading (`getproperty`) so elements should now be accessed as e.g. `o.\"s\"` instead of `o[\"s\"]`.\n",
      "│   caller = filter_data(::PyObject, ::Array{Float64,1}, ::Array{Int64,1}, ::Array{Float64,1}, ::Array{Float64,1}) at data.jl:108\n",
      "└ @ GaiaClustering /home/stephane/Science/GAIA/master/src/data.jl:108\n",
      "┌ Warning: `getindex(o::PyObject, i::Integer)` is deprecated, use `get(o, i - 1)` instead.\n",
      "│   caller = filter_data(::PyObject, ::Array{Float64,1}, ::Array{Int64,1}, ::Array{Float64,1}, ::Array{Float64,1}) at data.jl:109\n",
      "└ @ GaiaClustering /home/stephane/Science/GAIA/master/src/data.jl:109\n",
      "┌ Warning: `getindex(o::PyObject, s::AbstractString)` is deprecated in favor of dot overloading (`getproperty`) so elements should now be accessed as e.g. `o.\"s\"` instead of `o[\"s\"]`.\n",
      "│   caller = filter_data(::PyObject, ::Array{Float64,1}, ::Array{Int64,1}, ::Array{Float64,1}, ::Array{Float64,1}) at data.jl:109\n",
      "└ @ GaiaClustering /home/stephane/Science/GAIA/master/src/data.jl:109\n"
     ]
    },
    {
     "name": "stdout",
     "output_type": "stream",
     "text": [
      "## Filtering done ...\n",
      "## Stars selected: 36217\n",
      "## Cartesian transformation done ...\n",
      "## Normalization identity done...\n",
      "### [1pc,1pc,1pc,1km/s,1km/s,1mag,1mag,1mag] equivalent to [0.257719, 0.257719, 0.257719, 0.603683, 0.603683, 0.154786, 0.154786, 0.154786]\n",
      "##\n",
      "## Extracting the cluster using DBSCAN with:\n",
      "### ϵ : 1.9699327808371245\n",
      "### min_neighbor: 7\n",
      "### min_cluster : 16\n",
      "### Label solution: 1\n",
      "### N stars: 178\n",
      "## Starting with Alessi 12-2.4deg.vot\n",
      "[4.48411, 8.63144, 1.95928]\n",
      "## Votable /home/stephane/Science/GAIA/products/votable/Alessi 12-2.4deg.vot read\n"
     ]
    },
    {
     "ename": "LoadError",
     "evalue": "InterruptException:",
     "output_type": "error",
     "traceback": [
      "InterruptException:",
      "",
      "Stacktrace:",
      " [1] lookup(::Ptr{Nothing}) at ./stacktraces.jl:108",
      " [2] firstcaller(::Array{Union{Ptr{Nothing}, InterpreterIP},1}, ::Tuple{Symbol}) at ./deprecated.jl:97",
      " [3] firstcaller at ./deprecated.jl:90 [inlined]",
      " [4] macro expansion at ./deprecated.jl:75 [inlined]",
      " [5] macro expansion at ./logging.jl:309 [inlined]",
      " [6] depwarn(::String, ::Symbol) at ./deprecated.jl:70",
      " [7] getindex(::PyObject, ::String) at /home/stephane/.julia/packages/PyCall/ttONZ/src/PyCall.jl:338",
      " [8] filter_data(::PyObject, ::Array{Float64,1}, ::Array{Int64,1}, ::Array{Float64,1}, ::Array{Float64,1}) at /home/stephane/Science/GAIA/master/src/data.jl:83",
      " [9] filter_data(::PyObject) at /home/stephane/Science/GAIA/master/src/data.jl:54",
      " [10] getdata(::String, ::Array{Float64,1}) at ./In[2]:5",
      " [11] @main(::LineNumberNode, ::Module, ::Any) at ./In[3]:16"
     ]
    }
   ],
   "source": [
    "@time @main(\"finalSample_metric0.01.csv\")"
   ]
  }
 ],
 "metadata": {
  "kernelspec": {
   "display_name": "Julia 1.1.0",
   "language": "julia",
   "name": "julia-1.1"
  },
  "language_info": {
   "file_extension": ".jl",
   "mimetype": "application/julia",
   "name": "julia",
   "version": "1.1.0"
  }
 },
 "nbformat": 4,
 "nbformat_minor": 2
}
