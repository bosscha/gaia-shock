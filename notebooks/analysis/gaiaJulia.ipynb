{
 "cells": [
  {
   "cell_type": "markdown",
   "metadata": {},
   "source": [
    "## Testing Julia for GAIA\n",
    "\n",
    "using the julia language for GAIA analaysis <br>\n",
    "\n",
    "1. Testing the optimization of the dbscan\n"
   ]
  },
  {
   "cell_type": "code",
   "execution_count": 1,
   "metadata": {},
   "outputs": [
    {
     "name": "stderr",
     "output_type": "stream",
     "text": [
      "┌ Info: Recompiling stale cache file /home/stephane/.julia/compiled/v1.0/gaiaClustering.ji for gaiaClustering [top-level]\n",
      "└ @ Base loading.jl:1184\n"
     ]
    }
   ],
   "source": [
    "using PyCall\n",
    "using DataFrames\n",
    "using Stats\n",
    "\n",
    "using Clustering \n",
    "using Statistics\n",
    "\n",
    "push!(LOAD_PATH,\"/home/stephane/Science/cluster/GAIA/master/src\")\n",
    "using gaiaClustering\n",
    "\n",
    "import PyPlot; const plt = PyPlot\n",
    "\n",
    "@pyimport astropy.io.votable as votable\n",
    "# @pyimport matplotlib.pyplot as plt\n",
    "\n",
    "## directory\n",
    "rootdir = \"/home/stephane/Science/cluster/GAIA\"\n",
    "wdir    = \"/home/stephane/Science/cluster/GAIA/products\"\n",
    "\n",
    "cd(wdir)"
   ]
  },
  {
   "cell_type": "code",
   "execution_count": 2,
   "metadata": {
    "scrolled": false
   },
   "outputs": [
    {
     "name": "stdout",
     "output_type": "stream",
     "text": [
      "## Votable test.vot read\n",
      "## Filtering done ...\n",
      "## Stars selected: 143644\n",
      "## Cartesian transformation done ...\n",
      "2.865004581735935e8\n",
      "3.643517148906658e7\n",
      "3.491617671637815e7\n",
      "6.79564399152524e7\n",
      "7.162445514165714e7\n",
      "3.630273058928243e6\n",
      "366180.71786880493\n",
      "706867.2614173889\n",
      "## Normalization minmax done...\n"
     ]
    },
    {
     "data": {
      "text/plain": [
       "gaiaClustering.Df(143644, [7.49505e-5 9.29855e-5 … 3.08643e-5 9.49713e-5; 9.59383e-5 0.000104478 … 5.34938e-5 2.78569e-5; … ; 2.5871e-5 2.23156e-5 … 4.07787e-5 3.217e-5; 3.00822e-5 2.77134e-5 … 4.1588e-5 3.43145e-5], [0.0431063 0.0227834 … 0.278596 0.136936; 0.0 0.0 … 0.0 0.0; … ; 0.0 0.0 … 0.0 0.0; 0.0 0.0 … 0.0 0.0])"
      ]
     },
     "execution_count": 2,
     "metadata": {},
     "output_type": "execute_result"
    }
   ],
   "source": [
    "## Main program\n",
    "\n",
    "voname = \"test.vot\"\n",
    "\n",
    "data       = read_votable(voname)\n",
    "df         = filter_data(data)\n",
    "dfcart     = add_cartesian(df)\n",
    "\n",
    "blck       = [[1,2,3],[4,5], [6,7,8]]\n",
    "wghtblck   = [3.,2.,1.5]\n",
    "norm = \"normal\"\n",
    "\n",
    "dfcartnorm = normalization_PerBlock(dfcart, blck, wghtblck , norm, false) "
   ]
  },
  {
   "cell_type": "code",
   "execution_count": 3,
   "metadata": {},
   "outputs": [
    {
     "name": "stdout",
     "output_type": "stream",
     "text": [
      "## Starting DBSCAN ...\n"
     ]
    },
    {
     "ename": "OutOfMemoryError",
     "evalue": "OutOfMemoryError()",
     "output_type": "error",
     "traceback": [
      "OutOfMemoryError()",
      "",
      "Stacktrace:",
      " [1] _growend! at ./array.jl:814 [inlined]",
      " [2] push! at ./array.jl:856 [inlined]",
      " [3] update_exploration_list!(::Array{Int64,1}, ::Array{Int64,1}, ::BitArray{1}) at /home/stephane/.julia/packages/Clustering/jd204/src/dbscan.jl:195",
      " [4] #_dbscan#9(::Int64, ::Int64, ::Function, ::NearestNeighbors.KDTree{StaticArrays.SArray{Tuple{8},Float64,1,8},Distances.Euclidean,Float64}, ::Array{Float64,2}, ::Float64) at /home/stephane/.julia/packages/Clustering/jd204/src/dbscan.jl:173",
      " [5] (::getfield(Clustering, Symbol(\"#kw##_dbscan\")))(::NamedTuple{(:min_neighbors, :min_cluster_size),Tuple{Int64,Int64}}, ::typeof(Clustering._dbscan), ::NearestNeighbors.KDTree{StaticArrays.SArray{Tuple{8},Float64,1,8},Distances.Euclidean,Float64}, ::Array{Float64,2}, ::Float64) at ./none:0",
      " [6] #dbscan#8(::Int64, ::Base.Iterators.Pairs{Symbol,Int64,Tuple{Symbol,Symbol},NamedTuple{(:min_neighbors, :min_cluster_size),Tuple{Int64,Int64}}}, ::Function, ::Array{Float64,2}, ::Float64) at /home/stephane/.julia/packages/Clustering/jd204/src/dbscan.jl:137",
      " [7] (::getfield(Clustering, Symbol(\"#kw##dbscan\")))(::NamedTuple{(:leafsize, :min_neighbors, :min_cluster_size),Tuple{Int64,Int64,Int64}}, ::typeof(dbscan), ::Array{Float64,2}, ::Float64) at ./none:0",
      " [8] top-level scope at In[3]:8"
     ]
    }
   ],
   "source": [
    "## Clustering ..\n",
    "println(\"## Starting DBSCAN ...\")\n",
    "\n",
    "eps = 1.0\n",
    "\n",
    "dftemp = copy1(dfcartnorm)\n",
    "\n",
    "res = dbscan(dftemp.data , eps , leafsize=20, min_neighbors=10, min_cluster_size=20)\n",
    "\n",
    "i = 1\n",
    "for cl in res\n",
    "    println(\"i : $i\")\n",
    "    i += 1\n",
    "    indx = cl.core_indices\n",
    "    append!(indx, cl.boundary_indices) \n",
    "    println(length(indx))\n",
    "    mean1 = mean(dfcart.data[1,indx])\n",
    "    println(\"Mean: $mean1\")\n",
    "#    println(length(cl.core_indices))\n",
    "#    println(length(cl.boundary_indices))\n",
    "\n",
    "end\n",
    "sdb = length(res)\n",
    "println(\"Number of dbscan cluster $sdb\")\n",
    "\n",
    "\n",
    "indx = res[1].core_indices\n",
    "append!(indx, res[1].boundary_indices)\n",
    "\n",
    "\n",
    "#println(source.data[:,1])\n",
    "x = dfcart.data[2,indx]\n",
    "y = dfcart.data[3,indx]\n",
    "\n",
    "#xx = dfcart.data[7,:]\n",
    "# yy = -dfcart.data[6,:]\n",
    "\n",
    "#plt.scatter(xx, yy   , s = 0.01)\n",
    "plt.scatter(x, y , s = 0.1 )\n",
    "plt.show()"
   ]
  }
 ],
 "metadata": {
  "kernelspec": {
   "display_name": "Julia 1.0.0",
   "language": "julia",
   "name": "julia-1.0"
  },
  "language_info": {
   "file_extension": ".jl",
   "mimetype": "application/julia",
   "name": "julia",
   "version": "1.0.0"
  }
 },
 "nbformat": 4,
 "nbformat_minor": 2
}
