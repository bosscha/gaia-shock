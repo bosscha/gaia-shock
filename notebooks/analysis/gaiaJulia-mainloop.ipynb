{
 "cells": [
  {
   "cell_type": "markdown",
   "metadata": {},
   "source": [
    "### Main Loop for the analysis of a list of votables  ...\n",
    "\n",
    "Features are:\n",
    "1. Ability to stop and resume loop\n",
    "2. Ability to plot the results\n",
    "3. Plug different kinds of analysis.\n",
    "4. Log results in a file and/or sqlitedb\n",
    "5. Should be runnable in the downloaded jl file.\n",
    "6. ETA"
   ]
  },
  {
   "cell_type": "code",
   "execution_count": 91,
   "metadata": {},
   "outputs": [],
   "source": [
    "using DataFrames\n",
    "using CSV\n",
    "\n",
    "push!(LOAD_PATH,\"/home/stephane/Science/cluster/GAIA/master/src\")\n",
    "using GaiaClustering\n",
    "\n",
    "\n",
    "## directory\n",
    "rootdir = \"/home/stephane/Science/cluster/GAIA\"\n",
    "wdir    = \"/home/stephane/Science/cluster/GAIA/products\"\n",
    "votdir  = \"/home/stephane/Science/cluster/GAIA/products/votable\"\n",
    "\n",
    "cd(wdir)"
   ]
  },
  {
   "cell_type": "code",
   "execution_count": 92,
   "metadata": {},
   "outputs": [
    {
     "data": {
      "text/plain": [
       "add_result! (generic function with 1 method)"
      ]
     },
     "execution_count": 92,
     "metadata": {},
     "output_type": "execute_result"
    }
   ],
   "source": [
    "## load a liist of votable and update the file if done\n",
    "## add results\n",
    "## \n",
    "\n",
    "function readlist_votable(filelist::String)\n",
    "    vot = CSV.read(filelist)\n",
    "    return(vot)\n",
    "end\n",
    "\n",
    "function init_result(votname,c1 , c2 , c3 , fileres::String)\n",
    "    res = DataFrame(votname=votname,c1 = c1 , c2 = c2 , c3=c3)\n",
    "    CSV.write(fileres,res,delim=';')\n",
    "    return(res)\n",
    "end\n",
    "\n",
    "function add_result!(res, votname,c1, c2, c3, fileres::String)\n",
    "    newrow = DataFrame(votname=votname,c1 = c1 , c2 = c2 , c3 = c3)\n",
    "    println(\"### add results .....\")\n",
    "    append!(res,newrow)\n",
    "    CSV.write(fileres,res,delim=';')\n",
    "end"
   ]
  },
  {
   "cell_type": "code",
   "execution_count": 93,
   "metadata": {},
   "outputs": [
    {
     "data": {
      "text/plain": [
       "getdata (generic function with 1 method)"
      ]
     },
     "execution_count": 93,
     "metadata": {},
     "output_type": "execute_result"
    }
   ],
   "source": [
    "function getdata(filevot)\n",
    "    voname = filevot\n",
    "\n",
    "    data       = read_votable(voname)\n",
    "    df         = filter_data(data)\n",
    "    dfcart     = add_cartesian(df)\n",
    "    blck       = [[1,2,3],[4,5], [6,7,8]]\n",
    "    wghtblck   = [4.0,5.0,1.0]\n",
    "    norm       = \"identity\"\n",
    "\n",
    "    dfcartnorm , scale8 = normalization_PerBlock(dfcart, blck, wghtblck , norm, false) \n",
    "    return(dfcartnorm , dfcart)\n",
    "end"
   ]
  },
  {
   "cell_type": "code",
   "execution_count": 94,
   "metadata": {},
   "outputs": [
    {
     "name": "stdout",
     "output_type": "stream",
     "text": [
      "## Starting main loop ..\n",
      "## votlist.csv read\n",
      "## toto already done.\n",
      "## MWSC 4674-1.1deg.vot already done.\n",
      "## MWSC 5011-0.8deg.vot already done.\n",
      "## Main loop done."
     ]
    }
   ],
   "source": [
    "## Main loop\n",
    "##\n",
    "\n",
    "macro main(filelist,fileres)\n",
    "    let\n",
    "        println(\"## Starting main loop ..\")\n",
    "        vot = readlist_votable(filelist)\n",
    "        println(\"## $filelist read\")\n",
    "    \n",
    "        ## main loop\n",
    "        res = [0]\n",
    "        s=size(vot)\n",
    "        \n",
    "        ## try to read the result file.\n",
    "        initfound = true\n",
    "        try\n",
    "          res = CSV.read(fileres, delim=\";\")\n",
    "        catch\n",
    "            print(\"## No $fileres, it will be created...\")\n",
    "            initfound = false\n",
    "        end\n",
    "        \n",
    "        for i in 1:s[1]\n",
    "            votname = vot[:votname][i]\n",
    "            votfound = false   ## variable to check if vot already analyzed...\n",
    "            if initfound\n",
    "                if votname in res[:votname] \n",
    "                    println(\"## $votname already done.\")\n",
    "                    votfound = true\n",
    "                end\n",
    "            end\n",
    "            \n",
    "            if !votfound\n",
    "                println(\"## Starting with $votname\")\n",
    "                # dfcartnorm , dfcart = getdata(votdir*\"/\"*votname)\n",
    "                \n",
    "                if !initfound\n",
    "                    res = init_result(votname,2,4,2.1,fileres)\n",
    "                    initfound = true\n",
    "                else\n",
    "                    add_result!(res, votname, 2,7,103.22,fileres)  \n",
    "                end\n",
    "                \n",
    "            end\n",
    "        end\n",
    "    end\n",
    "    print(\"## Main loop done.\")\n",
    "end\n",
    "\n",
    "@main(\"votlist.csv\", \"votResults.csv\")"
   ]
  }
 ],
 "metadata": {
  "kernelspec": {
   "display_name": "Julia 1.0.0",
   "language": "julia",
   "name": "julia-1.0"
  },
  "language_info": {
   "file_extension": ".jl",
   "mimetype": "application/julia",
   "name": "julia",
   "version": "1.0.0"
  }
 },
 "nbformat": 4,
 "nbformat_minor": 2
}
