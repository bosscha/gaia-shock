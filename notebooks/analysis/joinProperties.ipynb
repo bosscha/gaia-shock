{
 "cells": [
  {
   "cell_type": "markdown",
   "metadata": {},
   "source": [
    "Join properties to DataFrames of the oc"
   ]
  },
  {
   "cell_type": "code",
   "execution_count": 1,
   "metadata": {},
   "outputs": [],
   "source": [
    "using DataFrames , Statistics\n",
    "using Query\n",
    "using PyPlot\n",
    "using TSne\n",
    "using Printf\n",
    "\n",
    "import CSV\n",
    "\n",
    "## directory\n",
    "rootdir = \"/home/stephane/Science/GAIA\"\n",
    "wdir    = \"$rootdir/products\"\n",
    "\n",
    "cd(wdir)"
   ]
  },
  {
   "cell_type": "code",
   "execution_count": 2,
   "metadata": {},
   "outputs": [
    {
     "data": {
      "text/plain": [
       "\"votlist.finalSample_metric0.01-age.csv\""
      ]
     },
     "execution_count": 2,
     "metadata": {},
     "output_type": "execute_result"
    }
   ],
   "source": [
    "# import final sample and original one with ages, etc..\n",
    "\n",
    "sample= rootdir*\"/master/notebooks/data/BrowseTargets.18292.1530479692.fake\"\n",
    "df1= CSV.read(sample, delim= \"|\")\n",
    "df1.name= strip.(df1.name)\n",
    "\n",
    "\n",
    "finalsample=wdir*\"/votlist.finalSample_metric0.01.csv\"\n",
    "df2= CSV.read(finalsample, delim= \";\")\n",
    "\n",
    "ndat= size(df2)\n",
    "\n",
    "## UGLY dix for name with a \"-\" in it\n",
    "name=[]\n",
    "for vot in df2.votname\n",
    "    t= split(vot,\"-\")\n",
    "    if length(t) == 3\n",
    "        t[1]= t[1]*\"-\"*t[2]\n",
    "    end\n",
    "    push!(name,t[1])\n",
    "end\n",
    "\n",
    "df2[:name]= name\n",
    "\n",
    "\n",
    "df3= join(df1, df2, on = :name, makeunique= true)\n",
    "\n",
    "i= 0\n",
    "for na in df2.name\n",
    "    i += 1\n",
    "    if !(na in df1.name)\n",
    "        println(na)\n",
    "        println(i)\n",
    "    end\n",
    "end\n",
    "\n",
    "dfselect= sort(df3[:, [:votname, :name,:log_age]], order(:votname))\n",
    "\n",
    "CSV.write(\"votlist.finalSample_metric0.01-age.csv\", dfselect, delim= \";\")"
   ]
  },
  {
   "cell_type": "code",
   "execution_count": 7,
   "metadata": {},
   "outputs": [
    {
     "data": {
      "image/png": "[encoded data removed]",
      "text/plain": [
       "Figure(PyObject <Figure size 640x480 with 1 Axes>)"
      ]
     },
     "metadata": {},
     "output_type": "display_data"
    },
    {
     "name": "stdout",
     "output_type": "stream",
     "text": [
      "## Age distribution\n"
     ]
    }
   ],
   "source": [
    "PyPlot.hist(dfselect[:log_age], 50, density=true)\n",
    "println(\"## Age distribution\")"
   ]
  }
 ],
 "metadata": {
  "kernelspec": {
   "display_name": "Julia 1.1.0",
   "language": "julia",
   "name": "julia-1.1"
  },
  "language_info": {
   "file_extension": ".jl",
   "mimetype": "application/julia",
   "name": "julia",
   "version": "1.1.0"
  }
 },
 "nbformat": 4,
 "nbformat_minor": 2
}
