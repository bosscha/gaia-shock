{
 "cells": [
  {
   "cell_type": "markdown",
   "metadata": {},
   "source": [
    "### Individual solution with the plots"
   ]
  },
  {
   "cell_type": "code",
   "execution_count": 1,
   "metadata": {},
   "outputs": [
    {
     "ename": "ArgumentError",
     "evalue": "ArgumentError: Package GaiaClustering not found in current path:\n- Run `import Pkg; Pkg.add(\"GaiaClustering\")` to install the GaiaClustering package.\n",
     "output_type": "error",
     "traceback": [
      "ArgumentError: Package GaiaClustering not found in current path:\n- Run `import Pkg; Pkg.add(\"GaiaClustering\")` to install the GaiaClustering package.\n",
      "",
      "Stacktrace:",
      " [1] require(::Module, ::Symbol) at ./loading.jl:820",
      " [2] top-level scope at In[1]:12"
     ]
    }
   ],
   "source": [
    "using PyCall\n",
    "using Distributions\n",
    "using Statistics\n",
    "\n",
    "using Distances\n",
    "using Random , Formatting\n",
    "using AstroLib\n",
    "\n",
    "rootdir = \"/home/stephane/Science/GAIA\"\n",
    "\n",
    "push!(LOAD_PATH,\"$rootdir/master/src\")\n",
    "using GaiaClustering\n",
    "\n",
    "import PyPlot\n",
    "\n",
    "@pyimport astroquery.vizier as vizier\n",
    "@pyimport astropy.units as u\n",
    "@pyimport astropy.coordinates as coord\n",
    "\n",
    "\n",
    "## directory\n",
    "\n",
    "wdir    = \"$rootdir/products\"\n",
    "plotdir = \"$rootdir/products/test\"\n",
    "\n",
    "cd(wdir)\n",
    "\n",
    "mutable struct twomass\n",
    "    J::Array{Float64}\n",
    "    Jerr::Array{Float64}\n",
    "    H::Array{Float64}\n",
    "    Herr::Array{Float64}\n",
    "    K::Array{Float64}\n",
    "    Kerr::Array{Float64}\n",
    "end"
   ]
  },
  {
   "cell_type": "code",
   "execution_count": 2,
   "metadata": {},
   "outputs": [
    {
     "data": {
      "text/plain": [
       "getdata (generic function with 1 method)"
      ]
     },
     "execution_count": 2,
     "metadata": {},
     "output_type": "execute_result"
    }
   ],
   "source": [
    "function getdata(filevot)\n",
    "    voname = filevot\n",
    "\n",
    "    data       = read_votable(voname)\n",
    "    df         = filter_data(data)\n",
    "    dfcart     = add_cartesian(df)\n",
    "    blck       = [[1,2,3],[4,5], [6,7,8]]\n",
    "    wghtblck   = [4.0,5.0,1.0]\n",
    "    wghtblck   = [3.03, 9.05, 1.83]\n",
    "    norm       = \"identity\"\n",
    "\n",
    "    dfcartnorm , scale8 = normalization_PerBlock(dfcart, blck, wghtblck , norm, false) \n",
    "    return(df, dfcart , dfcartnorm)\n",
    "end"
   ]
  },
  {
   "cell_type": "code",
   "execution_count": 3,
   "metadata": {},
   "outputs": [
    {
     "ename": "UndefVarError",
     "evalue": "UndefVarError: GaiaClustering not defined",
     "output_type": "error",
     "traceback": [
      "UndefVarError: GaiaClustering not defined",
      "",
      "Stacktrace:",
      " [1] top-level scope at In[3]:1"
     ]
    }
   ],
   "source": [
    "## Get the 2Mass Magnitudes\n",
    "\n",
    "function get_2MASS(indx, df::GaiaClustering.Df)\n",
    "    s = length(indx)\n",
    "    tm = twomass(zeros(s),zeros(s),zeros(s),zeros(s),zeros(s),zeros(s)) \n",
    "    \n",
    "    for i in 1:s\n",
    "        c = coord.SkyCoord(ra= df.raw[1,indx[i]], dec=df.raw[2,indx[i]]  , unit=(u.deg, u.deg), frame=\"icrs\")\n",
    "        res = vizier.Vizier[:query_region](c , width=\"5s\",catalog=\"II/246\")\n",
    "        if length(res) > 0\n",
    "            tm.J[i]    = res[1][1][4][1]\n",
    "            tm.Jerr[i] = res[1][1][5][1]\n",
    "            tm.H[i]    = res[1][1][6][1]\n",
    "            tm.Herr[i] = res[1][1][7][1]\n",
    "            tm.K[i]    = res[1][1][8][1]\n",
    "            tm.Kerr[i] = res[1][1][9][1]            \n",
    "        end\n",
    "    end\n",
    "    return(tm)\n",
    "end\n",
    "    "
   ]
  },
  {
   "cell_type": "code",
   "execution_count": 4,
   "metadata": {},
   "outputs": [
    {
     "ename": "UndefVarError",
     "evalue": "UndefVarError: GaiaClustering not defined",
     "output_type": "error",
     "traceback": [
      "UndefVarError: GaiaClustering not defined",
      "",
      "Stacktrace:",
      " [1] top-level scope at In[4]:16"
     ]
    }
   ],
   "source": [
    "## label from the dbscan labels with maximum stars\n",
    "function _find_cluster_label(labels)\n",
    "    let\n",
    "    i = 1 ; nmax = 0 ; ilabel = 1\n",
    "        for ilab in labels\n",
    "            nlab = length(ilab)\n",
    "            if nlab > nmax\n",
    "                ilabel = i\n",
    "                nmax= nlab\n",
    "            end\n",
    "            i += 1\n",
    "        end\n",
    "    return(ilabel, nmax)\n",
    "    end\n",
    "end\n",
    "\n",
    "\n",
    "function _plot_cluster(plotdir, voname, indx, sc::GaiaClustering.SCproperties, tm::twomass , df::GaiaClustering.Df, showplot = true , cmap = \"gist_stern\")\n",
    "\n",
    "    PyPlot.plt[:figure](figsize=(12.0,12.0))\n",
    "\n",
    "    PyPlot.plt[:subplot](3, 3, 1 , xlim = [-20,20] , ylim = [-20,20])\n",
    "    xx = df.data[2,indx]\n",
    "    yy = df.data[3,indx]\n",
    "    ## A circle of radius std(z)\n",
    "    # xc = mean(df.data[2,indx]) ; yc = mean(df.data[3,indx])\n",
    "    # circle1 = PyPlot.plt[:Circle](0.,0.,1.)\n",
    "    PyPlot.plt[:scatter](xx, yy , s = 1.0 )\n",
    "    PyPlot.plt[:xlabel](\"Y (pc)\")\n",
    "    PyPlot.plt[:ylabel](\"Z (pc)\")\n",
    "    PyPlot.plt[:grid](true)\n",
    "    \n",
    "    PyPlot.plt[:subplot](3, 3, 2 , ylim = [-20,20])\n",
    "    xx = df.data[1,indx]\n",
    "    yy = df.data[3,indx]\n",
    "    PyPlot.plt[:scatter](xx, yy , s = 1.0 )\n",
    "    PyPlot.plt[:xlabel](\"X (pc)\")\n",
    "    PyPlot.plt[:ylabel](\"Z (pc)\")\n",
    "    PyPlot.plt[:grid](true)\n",
    "    \n",
    "    PyPlot.plt[:subplot](3, 3, 3 , xlim = [-20,20])\n",
    "    xx = df.data[2,indx]\n",
    "    yy = df.data[1,indx]\n",
    "    PyPlot.plt[:scatter](xx, yy , s = 1.0 )\n",
    "    PyPlot.plt[:xlabel](\"Y (pc)\")\n",
    "    PyPlot.plt[:ylabel](\"X (pc)\")\n",
    "    PyPlot.plt[:grid](true)\n",
    "    \n",
    "    PyPlot.plt[:subplot](3, 3, 4 )\n",
    "    xx = df.data[1,indx]\n",
    "    yy = df.raw[11,indx]\n",
    "    PyPlot.plt[:scatter](xx, yy , s = 1.0 )\n",
    "    PyPlot.plt[:xlabel](\"X(pc)\")\n",
    "    PyPlot.plt[:ylabel](\"Vrad (km/s)\")\n",
    "    PyPlot.plt[:grid](true)    \n",
    "        \n",
    "    PyPlot.plt[:subplot](3, 3, 5)\n",
    "    PyPlot.plt[:axis](\"off\")\n",
    "    ## text to display\n",
    "    text =[]\n",
    "    v = sc.nstars ; txt = \"N stars   : $v\" ; push!(text,txt)\n",
    "    v = fmt(\"3.1f\",sc.distance) ; txt = \"Distance  : $v (pc)\" ; push!(text,txt)\n",
    "    v = fmt(\"3.3f\",sc.l) ; txt = \"l         : $v (degree)\" ; push!(text,txt)\n",
    "    v = fmt(\"3.3f\",sc.b) ; txt = \"b         : $v (degree)\" ; push!(text,txt)\n",
    "    v = fmt(\"3.2f\", sc.vra) ; txt = \"VRA       : $v (km/s)\" ; push!(text,txt)\n",
    "    v = fmt(\"3.2f\",sc.vdec) ; txt = \"VDec      : $v (km/s)\"; push!(text,txt)\n",
    "    v = fmt(\"3.2f\",sc.vrad) ; txt = \"Vradial   : $v (km/s)\"; push!(text,txt)    \n",
    "    v = fmt(\"3.2f\",sc.xdisp) ; txt = \"X disp.   : $v (pc)\" ; push!(text,txt)\n",
    "    v = fmt(\"3.2f\",sc.ydisp) ; txt = \"Y disp.   : $v (pc)\" ; push!(text,txt)\n",
    "    v = fmt(\"3.2f\",sc.zdisp) ; txt = \"Z disp.   : $v (pc)\" ; push!(text,txt)\n",
    "    v = fmt(\"3.2f\",sc.vradisp) ; txt = \"VRA disp. : $v (km/s)\" ; push!(text,txt)\n",
    "    v = fmt(\"3.2f\",sc.vdecdisp) ; txt = \"VDec disp.: $v (km/s)\" ; push!(text,txt)\n",
    "    v = fmt(\"3.2f\",sc.vraddisp) ; txt = \"Vradial disp.: $v (km/s)\" ; push!(text,txt)\n",
    "    show_text(-0.01,0.0, text , 1.0)\n",
    "    \n",
    "    PyPlot.plt[:subplot](3, 3, 7 )\n",
    "    PyPlot.plt[:axis](\"on\")    \n",
    "    xx = df.data[7,indx]\n",
    "    yy = -df.data[6,indx]\n",
    "    PyPlot.plt[:scatter](xx, yy , s = 1.0 )\n",
    "    PyPlot.plt[:xlabel](\"G-Rp\")\n",
    "    PyPlot.plt[:ylabel](\"G\")\n",
    "    PyPlot.plt[:grid](true)\n",
    "    \n",
    "    PyPlot.plt[:subplot](3, 3, 8 )\n",
    "    xx = df.data[4,indx]\n",
    "    yy = df.data[5,indx]\n",
    "    PyPlot.plt[:scatter](xx, yy , s = 1.0 )\n",
    "    PyPlot.plt[:xlabel](\"Vra (km/s)\")\n",
    "    PyPlot.plt[:ylabel](\"Vdec (km/s)\")\n",
    "    PyPlot.plt[:grid](true)\n",
    "    \n",
    "    PyPlot.plt[:subplot](3, 3, 9 , ylim =[-17,-6.])\n",
    "    yy = -tm.J[:]\n",
    "    xx = tm.J[:] .- tm.K[:]\n",
    "    PyPlot.plt[:scatter](xx, yy , s = 1.0 )\n",
    "    PyPlot.plt[:ylabel](\"J\")\n",
    "    PyPlot.plt[:xlabel](\"J-K\")\n",
    "    PyPlot.plt[:grid](true)\n",
    "    \n",
    "    \n",
    "    figname = plotdir*\"/\"*voname*\"-cluster.png\"\n",
    "    PyPlot.plt[:savefig](figname)\n",
    "    if showplot PyPlot.plt[:show]() end\n",
    "end"
   ]
  },
  {
   "cell_type": "code",
   "execution_count": 5,
   "metadata": {
    "scrolled": true
   },
   "outputs": [
    {
     "name": "stdout",
     "output_type": "stream",
     "text": [
      "## Main ...\n"
     ]
    },
    {
     "ename": "LoadError",
     "evalue": "UndefVarError: read_votable not defined",
     "output_type": "error",
     "traceback": [
      "UndefVarError: read_votable not defined",
      "",
      "Stacktrace:",
      " [1] getdata(::String) at ./In[2]:4",
      " [2] @main(::LineNumberNode, ::Module, ::Any) at ./In[5]:6"
     ]
    }
   ],
   "source": [
    "macro main(votname)\n",
    "    Random.seed!(1237)\n",
    "    println(\"## Main ...\")\n",
    "    \n",
    "    ## Get the cluster data..\n",
    "    df ,  dfcart, dfnorm = getdata(votname)\n",
    "    \n",
    "    eps = 1.85\n",
    "    min_nei = 9\n",
    "    min_cl = 16\n",
    "    println(\"ϵ : $eps\")\n",
    "\n",
    "    println(\"## dbscan..\")\n",
    "    labels = clusters(dfnorm.data , eps , 20, min_nei, min_cl)\n",
    "    labelmax , nmax = find_cluster_label(labels)\n",
    "    println(\"## Search for 2MASS counterparts...\")\n",
    "    tmass = get_2MASS(labels[labelmax] , df)\n",
    "    println(\"## done.\")\n",
    "    \n",
    "    println(\"### $(length(labels)) clusters found.\")\n",
    "    println(\"### Label solution: $labelmax\")\n",
    "    println(\"### N stars: $nmax\")\n",
    "    sc = get_properties_SC(labels[labelmax] , df, dfcart)\n",
    "    println(sc)\n",
    "    \n",
    "    _plot_cluster(plotdir, votname, labels[labelmax], sc , tmass,  dfcart )\n",
    "    \n",
    "    ## SC kinematics\n",
    "    println(\" \")\n",
    "    #println(sc.pmra)\n",
    "    #println(sc.pmdec)\n",
    "    #println(sc.parallax)\n",
    "    println(\"## Galactic velocity:\")\n",
    "    u,v,w = gal_uvw(sc.ra, sc.dec, sc.pmra, sc.pmdec, sc.vrad , sc.parallax)\n",
    "    s1= fmt(\"3.2f\",u) ; println(\"U: $s1\")\n",
    "    s2= fmt(\"3.2f\",v) ; println(\"V: $s2\")\n",
    "    s3= fmt(\"3.2f\",w) ; println(\"W: $s3\")\n",
    "end\n",
    "\n",
    "@main(\"test.vot\")"
   ]
  }
 ],
 "metadata": {
  "kernelspec": {
   "display_name": "Julia 1.0.1",
   "language": "julia",
   "name": "julia-1.0"
  },
  "language_info": {
   "file_extension": ".jl",
   "mimetype": "application/julia",
   "name": "julia",
   "version": "1.0.1"
  }
 },
 "nbformat": 4,
 "nbformat_minor": 2
}
