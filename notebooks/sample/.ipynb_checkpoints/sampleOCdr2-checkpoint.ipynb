{
 "cells": [
  {
   "cell_type": "markdown",
   "metadata": {},
   "source": [
    "## Sample  GAIA DR2\n",
    "\n",
    "To search for specific data in DR2. <br>\n",
    "Note that gaia-on-tap is by default for DR1 <br>"
   ]
  },
  {
   "cell_type": "code",
   "execution_count": 1,
   "metadata": {
    "scrolled": false
   },
   "outputs": [],
   "source": [
    "import sys, os\n",
    "sys.path.append('../../src')\n",
    "\n",
    "import astropy.coordinates as coord\n",
    "import matplotlib.pyplot as plt\n",
    "from pylab import rcParams\n",
    "import pandas as pd\n",
    "from gaia.tap import cone_search\n",
    "\n",
    "\n",
    "import gaia_utils as gu\n",
    "\n",
    "%matplotlib inline\n",
    "\n",
    "## directory\n",
    "rootdir = \"/home/stephane/Science/GAIA\"\n",
    "wdir    = \"%s/products\"%(rootdir)\n",
    "datadir = \"%s/master/notebooks/data\"%(rootdir)\n",
    "\n",
    "os.chdir(wdir)"
   ]
  },
  {
   "cell_type": "markdown",
   "metadata": {},
   "source": [
    "### OC selection "
   ]
  },
  {
   "cell_type": "markdown",
   "metadata": {},
   "source": [
    "Notes: <br>\n",
    "NGC 2682 <br>"
   ]
  },
  {
   "cell_type": "code",
   "execution_count": 2,
   "metadata": {},
   "outputs": [],
   "source": [
    "def plotCluster(cluster_candidates, clustername, display = True):\n",
    "\n",
    "    figname = \"%s-gaia.png\"%(clustername)\n",
    "    \n",
    "    rcParams['figure.figsize'] = 14, 21\n",
    "    f, axarr = plt.subplots(3, 2)\n",
    "\n",
    "# ax.scatter(cluster_candidates[\"ra\"], cluster_candidates[\"dec\"], s=1, c=\"#000000\")\n",
    "    axarr[0,0].scatter(cluster_candidates[\"ra\"], cluster_candidates[\"dec\"], s=1, c=\"#000000\")\n",
    "    axarr[0,0].set_xlabel(r\"$\\alpha$\")\n",
    "    axarr[0,0].set_ylabel(r\"$\\delta$\")\n",
    "\n",
    "    axarr[0,1].scatter(cluster_candidates[\"l\"], cluster_candidates[\"b\"], s=1, c=\"#000000\")\n",
    "    axarr[0,1].set_xlabel(r\"l\")\n",
    "    axarr[0,1].set_ylabel(r\"b\")\n",
    "\n",
    "    axarr[1,0].scatter(cluster_candidates[\"l\"], cluster_candidates[\"parallax\"], s=1, c=\"#000000\")\n",
    "    axarr[1,0].set_xlabel(r\"l\")\n",
    "    axarr[1,0].set_ylabel(r\"p (mas)\")\n",
    "    axarr[1,0].set_ylim([-1,4])\n",
    "\n",
    "    axarr[1,1].scatter(cluster_candidates[\"ra\"], cluster_candidates[\"pmra\"], s=1, c=\"#000000\")\n",
    "    axarr[1,1].set_xlabel(r\"$\\alpha$\")\n",
    "    axarr[1,1].set_ylabel(r\"PM RA (mas/yr)\")\n",
    "    axarr[1,1].set_ylim([-40,40])\n",
    "\n",
    "    axarr[2,0].scatter(cluster_candidates[\"pmdec\"], cluster_candidates[\"pmra\"], s=1, c=\"#000000\")\n",
    "    axarr[2,0].set_xlabel(r\"PM DEC (mas/yr)\")\n",
    "    axarr[2,0].set_ylabel(r\"PM RA (mas/yr)\")\n",
    "    axarr[2,0].set_xlim([-40,40])\n",
    "    axarr[2,0].set_ylim([-40,40])\n",
    "\n",
    "    axarr[2,1].scatter(cluster_candidates[\"parallax\"], cluster_candidates[\"pmra\"], s=1, c=\"#000000\")\n",
    "    axarr[2,1].set_xlabel(r\"p (mas)\")\n",
    "    axarr[2,1].set_ylabel(r\"PM RA (mas/yr)\")\n",
    "    axarr[2,1].set_xlim([-1,4])\n",
    "    axarr[2,1].set_ylim([-40,40])\n",
    "\n",
    "    f.subplots_adjust(hspace=0.5)\n",
    "    \n",
    "    plt.savefig(wdir+\"/\"+figname)\n",
    "    if display:\n",
    "        plt.show()"
   ]
  },
  {
   "cell_type": "code",
   "execution_count": 3,
   "metadata": {},
   "outputs": [],
   "source": [
    "## read the cluster list from HEASARC\n",
    "def read_cluster_list(filelist):\n",
    "    \n",
    "    df = pd.read_csv(filelist, sep='|')\n",
    "    \n",
    "    return(df)\n",
    "\n",
    "######\n",
    "def init_SCgaia(filegaia, filelist):\n",
    "    \"init output if not there..\"\n",
    "    \n",
    "    if not os.path.exists(filegaia):\n",
    "        with open(filelist,\"r\") as f:\n",
    "            header = f.readline()\n",
    "        with open(filegaia,\"w\") as f:\n",
    "            f.write(header)\n",
    "    \n",
    "#######\n",
    "## write in fileoutGaia the selected cluster for GAIA\n",
    "def write_SCgaia(filegaia, row):\n",
    "    df = pd.DataFrame(row).T\n",
    "    df.to_csv(filegaia,sep =\"|\", mode = \"a\", header= False, index = False)\n",
    "    \n",
    "    \n",
    "######       \n",
    "## find the last SC found.\n",
    "def find_lastSC(filegaia,filelist, dfsc):\n",
    "    if os.path.exists(filegaia):\n",
    "        dfcurrent = read_cluster_list(filegaia)\n",
    "        last_cluster = dfcurrent['name'].iloc[[-1]].iloc[0]\n",
    "        index = dfsc.index[dfsc['name'].str.contains(last_cluster)]\n",
    "    else:\n",
    "        init_SCgaia(filegaia, filelist)\n",
    "        last_cluster = \"No cluster\"\n",
    "        index = [0]\n",
    "        \n",
    "    return(last_cluster, index[0])"
   ]
  },
  {
   "cell_type": "markdown",
   "metadata": {},
   "source": [
    "### Main ..\n",
    "\n",
    "Making the plots and analysis of the targets."
   ]
  },
  {
   "cell_type": "code",
   "execution_count": 4,
   "metadata": {
    "scrolled": false
   },
   "outputs": [
    {
     "ename": "FileNotFoundError",
     "evalue": "File b'/home/stephane/Science/GAIA/master/notebooks/dataBrowseTargets.18292.1530479692' does not exist",
     "output_type": "error",
     "traceback": [
      "\u001b[0;31m---------------------------------------------------------------------------\u001b[0m",
      "\u001b[0;31mFileNotFoundError\u001b[0m                         Traceback (most recent call last)",
      "\u001b[0;32m<ipython-input-4-9428eb28b3b9>\u001b[0m in \u001b[0;36m<module>\u001b[0;34m()\u001b[0m\n\u001b[1;32m     11\u001b[0m \u001b[0;31m# cluster = coord.SkyCoord.from_name(\"Collinder 65\")\u001b[0m\u001b[0;34m\u001b[0m\u001b[0;34m\u001b[0m\u001b[0m\n\u001b[1;32m     12\u001b[0m \u001b[0;34m\u001b[0m\u001b[0m\n\u001b[0;32m---> 13\u001b[0;31m \u001b[0mdf_cluster\u001b[0m \u001b[0;34m=\u001b[0m \u001b[0mread_cluster_list\u001b[0m\u001b[0;34m(\u001b[0m\u001b[0mfilelist\u001b[0m\u001b[0;34m)\u001b[0m\u001b[0;34m\u001b[0m\u001b[0m\n\u001b[0m\u001b[1;32m     14\u001b[0m \u001b[0mprint\u001b[0m\u001b[0;34m(\u001b[0m\u001b[0mdf_cluster\u001b[0m\u001b[0;34m.\u001b[0m\u001b[0mindex\u001b[0m\u001b[0;34m)\u001b[0m\u001b[0;34m\u001b[0m\u001b[0m\n\u001b[1;32m     15\u001b[0m \u001b[0mprint\u001b[0m\u001b[0;34m(\u001b[0m\u001b[0mdf_cluster\u001b[0m\u001b[0;34m.\u001b[0m\u001b[0mcolumns\u001b[0m\u001b[0;34m)\u001b[0m\u001b[0;34m\u001b[0m\u001b[0m\n",
      "\u001b[0;32m<ipython-input-3-2eb73e5a7245>\u001b[0m in \u001b[0;36mread_cluster_list\u001b[0;34m(filelist)\u001b[0m\n\u001b[1;32m      2\u001b[0m \u001b[0;32mdef\u001b[0m \u001b[0mread_cluster_list\u001b[0m\u001b[0;34m(\u001b[0m\u001b[0mfilelist\u001b[0m\u001b[0;34m)\u001b[0m\u001b[0;34m:\u001b[0m\u001b[0;34m\u001b[0m\u001b[0m\n\u001b[1;32m      3\u001b[0m \u001b[0;34m\u001b[0m\u001b[0m\n\u001b[0;32m----> 4\u001b[0;31m     \u001b[0mdf\u001b[0m \u001b[0;34m=\u001b[0m \u001b[0mpd\u001b[0m\u001b[0;34m.\u001b[0m\u001b[0mread_csv\u001b[0m\u001b[0;34m(\u001b[0m\u001b[0mfilelist\u001b[0m\u001b[0;34m,\u001b[0m \u001b[0msep\u001b[0m\u001b[0;34m=\u001b[0m\u001b[0;34m'|'\u001b[0m\u001b[0;34m)\u001b[0m\u001b[0;34m\u001b[0m\u001b[0m\n\u001b[0m\u001b[1;32m      5\u001b[0m \u001b[0;34m\u001b[0m\u001b[0m\n\u001b[1;32m      6\u001b[0m     \u001b[0;32mreturn\u001b[0m\u001b[0;34m(\u001b[0m\u001b[0mdf\u001b[0m\u001b[0;34m)\u001b[0m\u001b[0;34m\u001b[0m\u001b[0m\n",
      "\u001b[0;32m/usr/lib/python3/dist-packages/pandas/io/parsers.py\u001b[0m in \u001b[0;36mparser_f\u001b[0;34m(filepath_or_buffer, sep, delimiter, header, names, index_col, usecols, squeeze, prefix, mangle_dupe_cols, dtype, engine, converters, true_values, false_values, skipinitialspace, skiprows, nrows, na_values, keep_default_na, na_filter, verbose, skip_blank_lines, parse_dates, infer_datetime_format, keep_date_col, date_parser, dayfirst, iterator, chunksize, compression, thousands, decimal, lineterminator, quotechar, quoting, escapechar, comment, encoding, dialect, tupleize_cols, error_bad_lines, warn_bad_lines, skipfooter, skip_footer, doublequote, delim_whitespace, as_recarray, compact_ints, use_unsigned, low_memory, buffer_lines, memory_map, float_precision)\u001b[0m\n\u001b[1;32m    707\u001b[0m                     skip_blank_lines=skip_blank_lines)\n\u001b[1;32m    708\u001b[0m \u001b[0;34m\u001b[0m\u001b[0m\n\u001b[0;32m--> 709\u001b[0;31m         \u001b[0;32mreturn\u001b[0m \u001b[0m_read\u001b[0m\u001b[0;34m(\u001b[0m\u001b[0mfilepath_or_buffer\u001b[0m\u001b[0;34m,\u001b[0m \u001b[0mkwds\u001b[0m\u001b[0;34m)\u001b[0m\u001b[0;34m\u001b[0m\u001b[0m\n\u001b[0m\u001b[1;32m    710\u001b[0m \u001b[0;34m\u001b[0m\u001b[0m\n\u001b[1;32m    711\u001b[0m     \u001b[0mparser_f\u001b[0m\u001b[0;34m.\u001b[0m\u001b[0m__name__\u001b[0m \u001b[0;34m=\u001b[0m \u001b[0mname\u001b[0m\u001b[0;34m\u001b[0m\u001b[0m\n",
      "\u001b[0;32m/usr/lib/python3/dist-packages/pandas/io/parsers.py\u001b[0m in \u001b[0;36m_read\u001b[0;34m(filepath_or_buffer, kwds)\u001b[0m\n\u001b[1;32m    447\u001b[0m \u001b[0;34m\u001b[0m\u001b[0m\n\u001b[1;32m    448\u001b[0m     \u001b[0;31m# Create the parser.\u001b[0m\u001b[0;34m\u001b[0m\u001b[0;34m\u001b[0m\u001b[0m\n\u001b[0;32m--> 449\u001b[0;31m     \u001b[0mparser\u001b[0m \u001b[0;34m=\u001b[0m \u001b[0mTextFileReader\u001b[0m\u001b[0;34m(\u001b[0m\u001b[0mfilepath_or_buffer\u001b[0m\u001b[0;34m,\u001b[0m \u001b[0;34m**\u001b[0m\u001b[0mkwds\u001b[0m\u001b[0;34m)\u001b[0m\u001b[0;34m\u001b[0m\u001b[0m\n\u001b[0m\u001b[1;32m    450\u001b[0m \u001b[0;34m\u001b[0m\u001b[0m\n\u001b[1;32m    451\u001b[0m     \u001b[0;32mif\u001b[0m \u001b[0mchunksize\u001b[0m \u001b[0;32mor\u001b[0m \u001b[0miterator\u001b[0m\u001b[0;34m:\u001b[0m\u001b[0;34m\u001b[0m\u001b[0m\n",
      "\u001b[0;32m/usr/lib/python3/dist-packages/pandas/io/parsers.py\u001b[0m in \u001b[0;36m__init__\u001b[0;34m(self, f, engine, **kwds)\u001b[0m\n\u001b[1;32m    816\u001b[0m             \u001b[0mself\u001b[0m\u001b[0;34m.\u001b[0m\u001b[0moptions\u001b[0m\u001b[0;34m[\u001b[0m\u001b[0;34m'has_index_names'\u001b[0m\u001b[0;34m]\u001b[0m \u001b[0;34m=\u001b[0m \u001b[0mkwds\u001b[0m\u001b[0;34m[\u001b[0m\u001b[0;34m'has_index_names'\u001b[0m\u001b[0;34m]\u001b[0m\u001b[0;34m\u001b[0m\u001b[0m\n\u001b[1;32m    817\u001b[0m \u001b[0;34m\u001b[0m\u001b[0m\n\u001b[0;32m--> 818\u001b[0;31m         \u001b[0mself\u001b[0m\u001b[0;34m.\u001b[0m\u001b[0m_make_engine\u001b[0m\u001b[0;34m(\u001b[0m\u001b[0mself\u001b[0m\u001b[0;34m.\u001b[0m\u001b[0mengine\u001b[0m\u001b[0;34m)\u001b[0m\u001b[0;34m\u001b[0m\u001b[0m\n\u001b[0m\u001b[1;32m    819\u001b[0m \u001b[0;34m\u001b[0m\u001b[0m\n\u001b[1;32m    820\u001b[0m     \u001b[0;32mdef\u001b[0m \u001b[0mclose\u001b[0m\u001b[0;34m(\u001b[0m\u001b[0mself\u001b[0m\u001b[0;34m)\u001b[0m\u001b[0;34m:\u001b[0m\u001b[0;34m\u001b[0m\u001b[0m\n",
      "\u001b[0;32m/usr/lib/python3/dist-packages/pandas/io/parsers.py\u001b[0m in \u001b[0;36m_make_engine\u001b[0;34m(self, engine)\u001b[0m\n\u001b[1;32m   1047\u001b[0m     \u001b[0;32mdef\u001b[0m \u001b[0m_make_engine\u001b[0m\u001b[0;34m(\u001b[0m\u001b[0mself\u001b[0m\u001b[0;34m,\u001b[0m \u001b[0mengine\u001b[0m\u001b[0;34m=\u001b[0m\u001b[0;34m'c'\u001b[0m\u001b[0;34m)\u001b[0m\u001b[0;34m:\u001b[0m\u001b[0;34m\u001b[0m\u001b[0m\n\u001b[1;32m   1048\u001b[0m         \u001b[0;32mif\u001b[0m \u001b[0mengine\u001b[0m \u001b[0;34m==\u001b[0m \u001b[0;34m'c'\u001b[0m\u001b[0;34m:\u001b[0m\u001b[0;34m\u001b[0m\u001b[0m\n\u001b[0;32m-> 1049\u001b[0;31m             \u001b[0mself\u001b[0m\u001b[0;34m.\u001b[0m\u001b[0m_engine\u001b[0m \u001b[0;34m=\u001b[0m \u001b[0mCParserWrapper\u001b[0m\u001b[0;34m(\u001b[0m\u001b[0mself\u001b[0m\u001b[0;34m.\u001b[0m\u001b[0mf\u001b[0m\u001b[0;34m,\u001b[0m \u001b[0;34m**\u001b[0m\u001b[0mself\u001b[0m\u001b[0;34m.\u001b[0m\u001b[0moptions\u001b[0m\u001b[0;34m)\u001b[0m\u001b[0;34m\u001b[0m\u001b[0m\n\u001b[0m\u001b[1;32m   1050\u001b[0m         \u001b[0;32melse\u001b[0m\u001b[0;34m:\u001b[0m\u001b[0;34m\u001b[0m\u001b[0m\n\u001b[1;32m   1051\u001b[0m             \u001b[0;32mif\u001b[0m \u001b[0mengine\u001b[0m \u001b[0;34m==\u001b[0m \u001b[0;34m'python'\u001b[0m\u001b[0;34m:\u001b[0m\u001b[0;34m\u001b[0m\u001b[0m\n",
      "\u001b[0;32m/usr/lib/python3/dist-packages/pandas/io/parsers.py\u001b[0m in \u001b[0;36m__init__\u001b[0;34m(self, src, **kwds)\u001b[0m\n\u001b[1;32m   1693\u001b[0m         \u001b[0mkwds\u001b[0m\u001b[0;34m[\u001b[0m\u001b[0;34m'allow_leading_cols'\u001b[0m\u001b[0;34m]\u001b[0m \u001b[0;34m=\u001b[0m \u001b[0mself\u001b[0m\u001b[0;34m.\u001b[0m\u001b[0mindex_col\u001b[0m \u001b[0;32mis\u001b[0m \u001b[0;32mnot\u001b[0m \u001b[0;32mFalse\u001b[0m\u001b[0;34m\u001b[0m\u001b[0m\n\u001b[1;32m   1694\u001b[0m \u001b[0;34m\u001b[0m\u001b[0m\n\u001b[0;32m-> 1695\u001b[0;31m         \u001b[0mself\u001b[0m\u001b[0;34m.\u001b[0m\u001b[0m_reader\u001b[0m \u001b[0;34m=\u001b[0m \u001b[0mparsers\u001b[0m\u001b[0;34m.\u001b[0m\u001b[0mTextReader\u001b[0m\u001b[0;34m(\u001b[0m\u001b[0msrc\u001b[0m\u001b[0;34m,\u001b[0m \u001b[0;34m**\u001b[0m\u001b[0mkwds\u001b[0m\u001b[0;34m)\u001b[0m\u001b[0;34m\u001b[0m\u001b[0m\n\u001b[0m\u001b[1;32m   1696\u001b[0m \u001b[0;34m\u001b[0m\u001b[0m\n\u001b[1;32m   1697\u001b[0m         \u001b[0;31m# XXX\u001b[0m\u001b[0;34m\u001b[0m\u001b[0;34m\u001b[0m\u001b[0m\n",
      "\u001b[0;32mpandas/_libs/parsers.pyx\u001b[0m in \u001b[0;36mpandas._libs.parsers.TextReader.__cinit__\u001b[0;34m()\u001b[0m\n",
      "\u001b[0;32mpandas/_libs/parsers.pyx\u001b[0m in \u001b[0;36mpandas._libs.parsers.TextReader._setup_parser_source\u001b[0;34m()\u001b[0m\n",
      "\u001b[0;31mFileNotFoundError\u001b[0m: File b'/home/stephane/Science/GAIA/master/notebooks/dataBrowseTargets.18292.1530479692' does not exist"
     ]
    }
   ],
   "source": [
    "# filelist = datadir+\"/\"+\"BrowseTargets.19060.1528915517\"\n",
    "filelist = datadir+\"/\"+\"BrowseTargets.13175.1528937650\"\n",
    "filelist = datadir+\"/\"+\"BrowseTargets.31265.1529958911\"\n",
    "filelist = datadir+\"/\"+\"BrowseTargets.5087.1530044453\"\n",
    "filelist = datadir+\"/\"+\"BrowseTargets.18292.1530479692\"\n",
    "\n",
    "fileoutGaia = wdir + \"/\"+\"BrowseTargets.18292.1530479692.gaia.selected.txt\"\n",
    "\n",
    "# cluster = coord.SkyCoord.from_name(\"M67\")\n",
    "# cluster = coord.SkyCoord.from_name(\"NGC2287\")\n",
    "# cluster = coord.SkyCoord.from_name(\"Collinder 65\")\n",
    "\n",
    "df_cluster = read_cluster_list(filelist)\n",
    "print(df_cluster.index)\n",
    "print(df_cluster.columns)\n",
    "\n",
    "lastSC , lastrow = find_lastSC(fileoutGaia, filelist, df_cluster)\n",
    "\n",
    "print(lastrow)\n",
    "\n",
    "for index, row in df_cluster.iloc[lastrow:].iterrows():\n",
    "    clustername = row['name'].strip()\n",
    "    print(\"Cluster: %s\"%(clustername))\n",
    "    \n",
    "    # c = coord.SkyCoord.from_name(clustername)\n",
    "    rasplit = row['ra'].split(' ')\n",
    "    decsplit = row['dec'].split(' ')\n",
    "    racluster = \"%sh%sm%ss\"%(rasplit[0],rasplit[1],rasplit[2])\n",
    "    deccluster = \"%sd%sm\"%(decsplit[0],decsplit[1])\n",
    "    c = coord.SkyCoord(racluster, deccluster, frame='icrs')\n",
    "    \n",
    "    # Get everything within 1 degree radius of the cluster.\n",
    "    cluster_candidates = cone_search(c.ra.deg, c.dec.deg, 0.5, table=\"gaiadr2.gaia_source\")\n",
    "    \n",
    "    gaia = gu.gaiaSet(cluster_candidates)\n",
    "    selected = gaia.isHomogeneous(tol = 0.03)\n",
    "    if selected:\n",
    "        write_SCgaia(fileoutGaia,row)\n",
    "        print(\"## Selected\")\n",
    "    else:\n",
    "        print(\"## Not selected\")\n",
    "        \n",
    "    plotCluster(cluster_candidates, clustername, display = True)\n",
    "\n",
    "\n",
    "    if len(cluster_candidates) == 0:\n",
    "        print(\"## No data...\")\n"
   ]
  },
  {
   "cell_type": "markdown",
   "metadata": {},
   "source": [
    "### Plots ..."
   ]
  }
 ],
 "metadata": {
  "kernelspec": {
   "display_name": "Python 3",
   "language": "python",
   "name": "python3"
  },
  "language_info": {
   "codemirror_mode": {
    "name": "ipython",
    "version": 3
   },
   "file_extension": ".py",
   "mimetype": "text/x-python",
   "name": "python",
   "nbconvert_exporter": "python",
   "pygments_lexer": "ipython3",
   "version": "3.6.5"
  }
 },
 "nbformat": 4,
 "nbformat_minor": 2
}
