{
 "cells": [
  {
   "cell_type": "markdown",
   "metadata": {},
   "source": [
    "## Sample  GAIA DR2\n",
    "\n",
    "To search for specific data in DR2. <br>\n",
    "Note that gaia-on-tap is by default for DR1 <br>"
   ]
  },
  {
   "cell_type": "code",
   "execution_count": null,
   "metadata": {
    "scrolled": false
   },
   "outputs": [],
   "source": [
    "import sys, os\n",
    "sys.path.append('../../src')\n",
    "\n",
    "import astropy.coordinates as coord\n",
    "from astropy.coordinates import Angle\n",
    "\n",
    "import matplotlib.pyplot as plt\n",
    "from pylab import rcParams\n",
    "import pandas as pd\n",
    "from gaia.tap import cone_search\n",
    "\n",
    "\n",
    "import gaia_utils as gu\n",
    "\n",
    "%matplotlib inline\n",
    "\n",
    "## directory\n",
    "rootdir = \"/home/stephane/Science/cluster/GAIA\"\n",
    "wdir    = \"%s/products\"%(rootdir)\n",
    "datadir = \"%s/master/notebooks/data\"%(rootdir)\n",
    "\n",
    "os.chdir(wdir)"
   ]
  },
  {
   "cell_type": "markdown",
   "metadata": {},
   "source": [
    "### OC selection "
   ]
  },
  {
   "cell_type": "markdown",
   "metadata": {},
   "source": [
    "Notes: <br>\n",
    "NGC 2682 <br>"
   ]
  },
  {
   "cell_type": "code",
   "execution_count": null,
   "metadata": {},
   "outputs": [],
   "source": [
    "def plotCluster(cluster_candidates, clustername, display = True, dirplot = \"\"):\n",
    "\n",
    "    figname = \"%s-gaia.png\"%(clustername)\n",
    "    \n",
    "    rcParams['figure.figsize'] = 14, 21\n",
    "    f, axarr = plt.subplots(3, 2)\n",
    "\n",
    "# ax.scatter(cluster_candidates[\"ra\"], cluster_candidates[\"dec\"], s=1, c=\"#000000\")\n",
    "    axarr[0,0].scatter(cluster_candidates[\"ra\"], cluster_candidates[\"dec\"], s=1, c=\"#000000\")\n",
    "    axarr[0,0].set_xlabel(r\"$\\alpha$\")\n",
    "    axarr[0,0].set_ylabel(r\"$\\delta$\")\n",
    "\n",
    "    axarr[0,1].scatter(cluster_candidates[\"l\"], cluster_candidates[\"b\"], s=1, c=\"#000000\")\n",
    "    axarr[0,1].set_xlabel(r\"l\")\n",
    "    axarr[0,1].set_ylabel(r\"b\")\n",
    "\n",
    "    axarr[1,0].scatter(cluster_candidates[\"l\"], cluster_candidates[\"parallax\"], s=1, c=\"#000000\")\n",
    "    axarr[1,0].set_xlabel(r\"l\")\n",
    "    axarr[1,0].set_ylabel(r\"p (mas)\")\n",
    "    axarr[1,0].set_ylim([-1,4])\n",
    "\n",
    "    axarr[1,1].scatter(cluster_candidates[\"ra\"], cluster_candidates[\"pmra\"], s=1, c=\"#000000\")\n",
    "    axarr[1,1].set_xlabel(r\"$\\alpha$\")\n",
    "    axarr[1,1].set_ylabel(r\"PM RA (mas/yr)\")\n",
    "    axarr[1,1].set_ylim([-40,40])\n",
    "\n",
    "    axarr[2,0].scatter(cluster_candidates[\"pmdec\"], cluster_candidates[\"pmra\"], s=1, c=\"#000000\")\n",
    "    axarr[2,0].set_xlabel(r\"PM DEC (mas/yr)\")\n",
    "    axarr[2,0].set_ylabel(r\"PM RA (mas/yr)\")\n",
    "    axarr[2,0].set_xlim([-40,40])\n",
    "    axarr[2,0].set_ylim([-40,40])\n",
    "\n",
    "    axarr[2,1].scatter(cluster_candidates[\"parallax\"], cluster_candidates[\"pmra\"], s=1, c=\"#000000\")\n",
    "    axarr[2,1].set_xlabel(r\"p (mas)\")\n",
    "    axarr[2,1].set_ylabel(r\"PM RA (mas/yr)\")\n",
    "    axarr[2,1].set_xlim([-1,4])\n",
    "    axarr[2,1].set_ylim([-40,40])\n",
    "\n",
    "    f.subplots_adjust(hspace=0.5)\n",
    "    \n",
    "    plt.savefig(wdir+dirplot+\"/\"+figname)\n",
    "    if display:\n",
    "        plt.show()"
   ]
  },
  {
   "cell_type": "code",
   "execution_count": null,
   "metadata": {},
   "outputs": [],
   "source": [
    "## read the cluster list from HEASARC\n",
    "def read_cluster_list(filelist):\n",
    "    \n",
    "    df = pd.read_csv(filelist, sep='|')\n",
    "    \n",
    "    return(df)\n",
    "\n",
    "######\n",
    "def init_SCgaia(filegaia, filelist):\n",
    "    \"init output if not there..\"\n",
    "    \n",
    "    if not os.path.exists(filegaia):\n",
    "        with open(filelist,\"r\") as f:\n",
    "            header = f.readline()\n",
    "        with open(filegaia,\"w\") as f:\n",
    "            f.write(header)\n",
    "    \n",
    "#######\n",
    "## write in fileoutGaia the selected cluster for GAIA\n",
    "def write_SCgaia(filegaia, row):\n",
    "    df = pd.DataFrame(row).T\n",
    "    df.to_csv(filegaia,sep =\"|\", mode = \"a\", header= False, index = False)\n",
    "    \n",
    "    \n",
    "######       \n",
    "## find the last SC found.\n",
    "def find_lastSC(filegaia,filelist, dfsc):\n",
    "    if os.path.exists(filegaia):\n",
    "        dfcurrent = read_cluster_list(filegaia)\n",
    "        last_cluster = dfcurrent['name'].iloc[[-1]].iloc[0]\n",
    "        index = dfsc.index[dfsc['name'].str.contains(last_cluster)]\n",
    "    else:\n",
    "        init_SCgaia(filegaia, filelist)\n",
    "        last_cluster = \"No cluster\"\n",
    "        index = [0]\n",
    "        \n",
    "    return(last_cluster, index[0])"
   ]
  },
  {
   "cell_type": "markdown",
   "metadata": {},
   "source": [
    "### Main ..\n",
    "\n",
    "Making the plots and analysis of the targets."
   ]
  },
  {
   "cell_type": "code",
   "execution_count": null,
   "metadata": {
    "scrolled": false
   },
   "outputs": [],
   "source": [
    "# filelist = datadir+\"/\"+\"BrowseTargets.19060.1528915517\"\n",
    "filelist = datadir+\"/\"+\"BrowseTargets.13175.1528937650\"\n",
    "filelist = datadir+\"/\"+\"BrowseTargets.31265.1529958911\"\n",
    "filelist = datadir+\"/\"+\"BrowseTargets.5087.1530044453\"\n",
    "filelist = datadir+\"/\"+\"BrowseTargets.18292.1530479692\"\n",
    "\n",
    "fileoutGaia = wdir + \"/\"+\"BrowseTargets.18292.1530479692.gaia.selected.txt.test\"\n",
    "\n",
    "# cluster = coord.SkyCoord.from_name(\"M67\")\n",
    "# cluster = coord.SkyCoord.from_name(\"NGC2287\")\n",
    "# cluster = coord.SkyCoord.from_name(\"Collinder 65\")\n",
    "\n",
    "df_cluster = read_cluster_list(filelist)\n",
    "print(df_cluster.index)\n",
    "print(df_cluster.columns)\n",
    "\n",
    "lastSC , lastrow = find_lastSC(fileoutGaia, filelist, df_cluster)\n",
    "\n",
    "print(lastrow)\n",
    "\n",
    "for index, row in df_cluster.iloc[lastrow:].iterrows():\n",
    "    clustername = row['name'].strip()\n",
    "    print(\"Cluster: %s\"%(clustername))\n",
    "    \n",
    "    # c = coord.SkyCoord.from_name(clustername)\n",
    "    rasplit = row['ra'].split(' ')\n",
    "    decsplit = row['dec'].split(' ')\n",
    "    racluster = \"%sh%sm%ss\"%(rasplit[0],rasplit[1],rasplit[2])\n",
    "    deccluster = \"%sd%sm\"%(decsplit[0],decsplit[1])\n",
    "    a = Angle(racluster)\n",
    "    d = Angle(deccluster)\n",
    "    print(a.degree)\n",
    "    print(d.degree)\n",
    "\n",
    "    sc  = gu.source(clustername)\n",
    "    res = sc.query(0.5, coordCluster = [a.degree,d.degree],errtol = 0.2 )\n",
    "    \n",
    "    gaia = gu.gaiaSet(sc.data)\n",
    "    selected = gaia.isHomogeneous(tol = 0.05)\n",
    "    \n",
    "    if selected:\n",
    "        write_SCgaia(fileoutGaia,row)\n",
    "        print(\"## Selected\")\n",
    "    else:\n",
    "        print(\"## Not selected\")\n",
    "        \n",
    "    plotCluster(sc.data, clustername, display = True,dirplot=\"/plots.1\")\n",
    "\n",
    "\n",
    "    if len(sc.data) == 0:\n",
    "        print(\"## No data...\")\n",
    "        \n",
    "print(\"## GAIA selectopn done.\")\n"
   ]
  },
  {
   "cell_type": "markdown",
   "metadata": {},
   "source": [
    "### Plots ..."
   ]
  }
 ],
 "metadata": {
  "kernelspec": {
   "display_name": "Python 3",
   "language": "python",
   "name": "python3"
  },
  "language_info": {
   "codemirror_mode": {
    "name": "ipython",
    "version": 3
   },
   "file_extension": ".py",
   "mimetype": "text/x-python",
   "name": "python",
   "nbconvert_exporter": "python",
   "pygments_lexer": "ipython3",
   "version": "3.6.6"
  }
 },
 "nbformat": 4,
 "nbformat_minor": 2
}
