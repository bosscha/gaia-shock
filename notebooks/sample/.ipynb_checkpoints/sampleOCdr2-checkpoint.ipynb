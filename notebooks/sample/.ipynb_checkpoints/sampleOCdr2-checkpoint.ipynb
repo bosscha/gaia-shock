{
 "cells": [
  {
   "cell_type": "markdown",
   "metadata": {},
   "source": [
    "## Test GAIA DR2\n",
    "\n",
    "Test to search for specific data in DR2. <br>\n",
    "Note that gaia-on-tap is by default for DR1 <br>"
   ]
  },
  {
   "cell_type": "code",
   "execution_count": 1,
   "metadata": {
    "scrolled": false
   },
   "outputs": [],
   "source": [
    "import sys, os\n",
    "sys.path.append('../../src')\n",
    "\n",
    "import astropy.coordinates as coord\n",
    "import matplotlib.pyplot as plt\n",
    "from pylab import rcParams\n",
    "import pandas as pd\n",
    "from gaia.tap import cone_search\n",
    "\n",
    "\n",
    "import gaia_utils as gu\n",
    "\n",
    "%matplotlib inline\n",
    "\n",
    "## directory\n",
    "rootdir = \"/home/stephane/Science/GAIA\"\n",
    "wdir    = \"%s/products\"%(rootdir)\n",
    "datadir = \"%s/master/notebooks/data\"%(rootdir)\n",
    "\n",
    "os.chdir(wdir)"
   ]
  },
  {
   "cell_type": "markdown",
   "metadata": {},
   "source": [
    "### OC selection "
   ]
  },
  {
   "cell_type": "code",
   "execution_count": 2,
   "metadata": {},
   "outputs": [],
   "source": [
    "def plotCluster(cluster_candidates, clustername, display = True):\n",
    "\n",
    "    figname = \"%s-gaia.png\"%(clustername)\n",
    "    \n",
    "    rcParams['figure.figsize'] = 14, 21\n",
    "    f, axarr = plt.subplots(3, 2)\n",
    "\n",
    "# ax.scatter(cluster_candidates[\"ra\"], cluster_candidates[\"dec\"], s=1, c=\"#000000\")\n",
    "    axarr[0,0].scatter(cluster_candidates[\"ra\"], cluster_candidates[\"dec\"], s=1, c=\"#000000\")\n",
    "    axarr[0,0].set_xlabel(r\"$\\alpha$\")\n",
    "    axarr[0,0].set_ylabel(r\"$\\delta$\")\n",
    "\n",
    "    axarr[0,1].scatter(cluster_candidates[\"l\"], cluster_candidates[\"b\"], s=1, c=\"#000000\")\n",
    "    axarr[0,1].set_xlabel(r\"l\")\n",
    "    axarr[0,1].set_ylabel(r\"b\")\n",
    "\n",
    "    axarr[1,0].scatter(cluster_candidates[\"l\"], cluster_candidates[\"parallax\"], s=1, c=\"#000000\")\n",
    "    axarr[1,0].set_xlabel(r\"l\")\n",
    "    axarr[1,0].set_ylabel(r\"p (mas)\")\n",
    "    axarr[1,0].set_ylim([-2,4])\n",
    "\n",
    "    axarr[1,1].scatter(cluster_candidates[\"ra\"], cluster_candidates[\"pmra\"], s=1, c=\"#000000\")\n",
    "    axarr[1,1].set_xlabel(r\"$\\alpha$\")\n",
    "    axarr[1,1].set_ylabel(r\"PM RA (mas/yr)\")\n",
    "    axarr[1,1].set_ylim([-30,30])\n",
    "\n",
    "    axarr[2,0].scatter(cluster_candidates[\"pmdec\"], cluster_candidates[\"pmra\"], s=1, c=\"#000000\")\n",
    "    axarr[2,0].set_xlabel(r\"PM DEC (mas/yr)\")\n",
    "    axarr[2,0].set_ylabel(r\"PM RA (mas/yr)\")\n",
    "    axarr[2,0].set_xlim([-40,10])\n",
    "    axarr[2,0].set_ylim([-30,30])\n",
    "\n",
    "    axarr[2,1].scatter(cluster_candidates[\"parallax\"], cluster_candidates[\"pmra\"], s=1, c=\"#000000\")\n",
    "    axarr[2,1].set_xlabel(r\"p (mas)\")\n",
    "    axarr[2,1].set_ylabel(r\"PM RA (mas/yr)\")\n",
    "    axarr[2,1].set_xlim([-2,4])\n",
    "    axarr[2,1].set_ylim([-30,30])\n",
    "\n",
    "    f.subplots_adjust(hspace=0.5)\n",
    "    \n",
    "    plt.savefig(wdir+\"/\"+figname)\n",
    "    if display:\n",
    "        plt.show()"
   ]
  },
  {
   "cell_type": "code",
   "execution_count": null,
   "metadata": {},
   "outputs": [],
   "source": [
    "## read the cluster list from HEASARC\n",
    "def read_cluster_list(filelist):\n",
    "    \n",
    "    df = pd.read_csv(filelist, sep='|')\n",
    "    \n",
    "    return(df)\n",
    "\n",
    "## write in fileoutGaia the selected cluster for GAIA\n",
    "def write_SCgaia(fileout, sc):\n",
    "    \n",
    "    with open(fileout,\"a\") as f:\n",
    "        f.write(\"%s \\n\"%(sc))\n",
    "        \n",
    "## find the last SC found.\n",
    "def find_lastSC(filegaia):\n",
    "    if os.path.exists(filegaia):\n",
    "        with open(filegaia) as f:\n",
    "            lines = f.read().splitlines()\n",
    "        last_line = lines[-1]\n",
    "        \n",
    "    return(last_line)"
   ]
  },
  {
   "cell_type": "markdown",
   "metadata": {},
   "source": [
    "### Main ..\n",
    "\n",
    "Making the plots and analysis of the targets."
   ]
  },
  {
   "cell_type": "code",
   "execution_count": null,
   "metadata": {
    "scrolled": false
   },
   "outputs": [
    {
     "name": "stdout",
     "output_type": "stream",
     "text": [
      "RangeIndex(start=0, stop=1296, step=1)\n",
      "Index(['Unnamed: 0', 'name', 'ra', 'dec', 'cluster_radius', 'rad_vel ',\n",
      "       'rad_vel_error', 'num_cluster_stars', 'distance', 'log_age',\n",
      "       'log_age_error', 'class            ', 'Unnamed: 12'],\n",
      "      dtype='object')\n",
      "FSR 1577 \n",
      "Cluster: MWSC 4688\n"
     ]
    }
   ],
   "source": [
    "# filelist = datadir+\"/\"+\"BrowseTargets.19060.1528915517\"\n",
    "filelist = datadir+\"/\"+\"BrowseTargets.13175.1528937650\"\n",
    "filelist = datadir+\"/\"+\"BrowseTargets.31265.1529958911\"\n",
    "\n",
    "fileoutGaia = wdir + \"/\"+\"BrowseTargets.31265.1529958911.gaia.selected.txt\"\n",
    "\n",
    "# cluster = coord.SkyCoord.from_name(\"M67\")\n",
    "# cluster = coord.SkyCoord.from_name(\"NGC2287\")\n",
    "# cluster = coord.SkyCoord.from_name(\"Collinder 65\")\n",
    "\n",
    "df_cluster = read_cluster_list(filelist)\n",
    "print(df_cluster.index)\n",
    "print(df_cluster.columns)\n",
    "    \n",
    "lastSC = find_lastSC(fileoutGaia)\n",
    "\n",
    "for index, row in df_cluster.iterrows():\n",
    "    clustername = row['name'].strip()\n",
    "    print(\"Cluster: %s\"%(clustername))\n",
    "    \n",
    "    # c = coord.SkyCoord.from_name(clustername)\n",
    "    rasplit = row['ra'].split(' ')\n",
    "    decsplit = row['dec'].split(' ')\n",
    "    racluster = \"%sh%sm%ss\"%(rasplit[0],rasplit[1],rasplit[2])\n",
    "    deccluster = \"%sd%sm\"%(decsplit[0],decsplit[1])\n",
    "    c = coord.SkyCoord(racluster, deccluster, frame='icrs')\n",
    "    \n",
    "    # Get everything within 1 degree radius of the cluster.\n",
    "    cluster_candidates = cone_search(c.ra.deg, c.dec.deg, 0.5, table=\"gaiadr2.gaia_source\")\n",
    "    gaia = gu.gaiaSet(cluster_candidates)\n",
    "    selected = gaia.isHomogeneous(tol = 0.02)\n",
    "    if selected:\n",
    "        write_SCgaia(fileoutGaia,clustername)\n",
    "        print(\"## Selected\")\n",
    "    else:\n",
    "        print(\"## Not selected\")\n",
    "        \n",
    "    plotCluster(cluster_candidates, clustername, display = True)\n",
    "\n",
    "\n",
    "    if len(cluster_candidates) == 0:\n",
    "        print(\"## No data...\")\n"
   ]
  },
  {
   "cell_type": "markdown",
   "metadata": {},
   "source": [
    "### Plots ..."
   ]
  }
 ],
 "metadata": {
  "kernelspec": {
   "display_name": "Python 3",
   "language": "python",
   "name": "python3"
  },
  "language_info": {
   "codemirror_mode": {
    "name": "ipython",
    "version": 3
   },
   "file_extension": ".py",
   "mimetype": "text/x-python",
   "name": "python",
   "nbconvert_exporter": "python",
   "pygments_lexer": "ipython3",
   "version": "3.6.5"
  }
 },
 "nbformat": 4,
 "nbformat_minor": 2
}
