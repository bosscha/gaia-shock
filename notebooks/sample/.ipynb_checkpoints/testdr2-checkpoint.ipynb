{
 "cells": [
  {
   "cell_type": "markdown",
   "metadata": {},
   "source": [
    "## Test GAIA DR2\n",
    "\n",
    "Test to search for specific data in DR2. <br>\n",
    "Note that gaia-on-tap is by default for DR1 <br>"
   ]
  },
  {
   "cell_type": "code",
   "execution_count": null,
   "metadata": {
    "scrolled": false
   },
   "outputs": [],
   "source": [
    "import astropy.coordinates as coord\n",
    "import matplotlib.pyplot as plt\n",
    "from pylab import rcParams\n",
    "\n",
    "from gaia.tap import cone_search\n",
    "\n",
    "%matplotlib inline"
   ]
  },
  {
   "cell_type": "markdown",
   "metadata": {},
   "source": [
    "### OC selection "
   ]
  },
  {
   "cell_type": "code",
   "execution_count": null,
   "metadata": {},
   "outputs": [],
   "source": [
    "def plotCluster(cluster_candidates, clustername):\n",
    "\n",
    "    figname = \"%s-gaia.png\"%(clustername)\n",
    "    \n",
    "    rcParams['figure.figsize'] = 14, 21\n",
    "    f, axarr = plt.subplots(3, 2)\n",
    "\n",
    "# ax.scatter(cluster_candidates[\"ra\"], cluster_candidates[\"dec\"], s=1, c=\"#000000\")\n",
    "    axarr[0,0].scatter(cluster_candidates[\"ra\"], cluster_candidates[\"dec\"], s=1, c=\"#000000\")\n",
    "    axarr[0,0].set_xlabel(r\"$\\alpha$\")\n",
    "    axarr[0,0].set_ylabel(r\"$\\delta$\")\n",
    "\n",
    "    axarr[0,1].scatter(cluster_candidates[\"l\"], cluster_candidates[\"b\"], s=1, c=\"#000000\")\n",
    "    axarr[0,1].set_xlabel(r\"l\")\n",
    "    axarr[0,1].set_ylabel(r\"b\")\n",
    "\n",
    "    axarr[1,0].scatter(cluster_candidates[\"l\"], cluster_candidates[\"parallax\"], s=1, c=\"#000000\")\n",
    "    axarr[1,0].set_xlabel(r\"l\")\n",
    "    axarr[1,0].set_ylabel(r\"p (mas)\")\n",
    "    axarr[1,0].set_ylim([-2,4])\n",
    "\n",
    "    axarr[1,1].scatter(cluster_candidates[\"ra\"], cluster_candidates[\"pmra\"], s=1, c=\"#000000\")\n",
    "    axarr[1,1].set_xlabel(r\"$\\alpha$\")\n",
    "    axarr[1,1].set_ylabel(r\"PM RA (mas/yr)\")\n",
    "    axarr[1,1].set_ylim([-30,30])\n",
    "\n",
    "    axarr[2,0].scatter(cluster_candidates[\"pmdec\"], cluster_candidates[\"pmra\"], s=1, c=\"#000000\")\n",
    "    axarr[2,0].set_xlabel(r\"PM DEC (mas/yr)\")\n",
    "    axarr[2,0].set_ylabel(r\"PM RA (mas/yr)\")\n",
    "    axarr[2,0].set_xlim([-40,10])\n",
    "    axarr[2,0].set_ylim([-30,30])\n",
    "\n",
    "    axarr[2,1].scatter(cluster_candidates[\"parallax\"], cluster_candidates[\"pmra\"], s=1, c=\"#000000\")\n",
    "    axarr[2,1].set_xlabel(r\"p (mas)\")\n",
    "    axarr[2,1].set_ylabel(r\"PM RA (mas/yr)\")\n",
    "    axarr[2,1].set_xlim([-2,4])\n",
    "    axarr[2,1].set_ylim([-30,30])\n",
    "\n",
    "    f.subplots_adjust(hspace=0.5)\n",
    "    \n",
    "    plt.savefig(wdir+\"/\"+figname)\n",
    "    plt.show()"
   ]
  },
  {
   "cell_type": "code",
   "execution_count": null,
   "metadata": {},
   "outputs": [],
   "source": [
    "wdir = \"/home/stephane/Science/GAIA/products\"\n",
    "# cluster = coord.SkyCoord.from_name(\"M67\")\n",
    "\n",
    "# cluster = coord.SkyCoord.from_name(\"NGC2287\")\n",
    "\n",
    "# cluster = coord.SkyCoord.from_name(\"Collinder 65\")\n",
    "\n",
    "clustlist = [\"NGC6124\",\"IC1396\"]\n",
    "\n",
    "for clust in clustlist:\n",
    "    print(\"Cluster: %s\"%(clust))\n",
    "    cluster = coord.SkyCoord.from_name(clust)\n",
    "\n",
    "    # Get everything within 1 degree radius of the cluster.\n",
    "    cluster_candidates = cone_search(cluster.ra.deg, cluster.dec.deg, 0.5, table=\"gaiadr2.gaia_source\")\n",
    "    plotCluster(cluster_candidates, clust)\n",
    "\n",
    "\n",
    "    if len(cluster_candidates) == 0:\n",
    "        print(\"## No data...\")\n"
   ]
  },
  {
   "cell_type": "markdown",
   "metadata": {},
   "source": [
    "### Plots ..."
   ]
  }
 ],
 "metadata": {
  "kernelspec": {
   "display_name": "Python 3",
   "language": "python",
   "name": "python3"
  },
  "language_info": {
   "codemirror_mode": {
    "name": "ipython",
    "version": 3
   },
   "file_extension": ".py",
   "mimetype": "text/x-python",
   "name": "python",
   "nbconvert_exporter": "python",
   "pygments_lexer": "ipython3",
   "version": "3.6.5"
  }
 },
 "nbformat": 4,
 "nbformat_minor": 2
}
