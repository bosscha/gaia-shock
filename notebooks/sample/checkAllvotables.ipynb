{
 "cells": [
  {
   "cell_type": "markdown",
   "metadata": {},
   "source": [
    "### Check votables and make a blacklist"
   ]
  },
  {
   "cell_type": "code",
   "execution_count": null,
   "metadata": {},
   "outputs": [],
   "source": [
    "using PyCall\n",
    "using Distributions, Statistics , StatsBase\n",
    "\n",
    "using Distances ,Random, Dates\n",
    "using Glob\n",
    "\n",
    "import PyPlot\n",
    "sns= pyimport(\"seaborn\")\n",
    "\n",
    "## directory\n",
    "rootdir = ENV[\"GAIA_ROOT\"]\n",
    "wdir    = \"$rootdir/products\"\n",
    "votdir  = \"$rootdir/products/votable\"\n",
    "plotdir = \"$rootdir/products/test2\"\n",
    "\n",
    "push!(LOAD_PATH,\"$rootdir/master/src\")\n",
    "using GaiaClustering\n",
    "\n",
    "cd(wdir)"
   ]
  },
  {
   "cell_type": "code",
   "execution_count": null,
   "metadata": {},
   "outputs": [],
   "source": [
    "function plot_data(votname, df)\n",
    "    \n",
    "    s= size(df.data)\n",
    "    npts= 5000\n",
    "    idx= randperm(MersenneTwister(1234), s[2])[1:npts]\n",
    "    \n",
    "    PyPlot.plt.figure(figsize=(12.0,13.0))\n",
    "    \n",
    "    PyPlot.plt.subplot(2, 2, 1)\n",
    "    PyPlot.plt.plot(df.data[1,idx],df.data[2,idx],\"k.\", markersize= 1)\n",
    "    PyPlot.xlabel(\"l\")\n",
    "    PyPlot.ylabel(\"b\")\n",
    "    \n",
    "    PyPlot.plt.subplot(2, 2, 2)\n",
    "    PyPlot.plt.plot(df.raw[1,idx],df.raw[2,idx],\"k.\", markersize= 1)\n",
    "    PyPlot.xlabel(\"α\")\n",
    "    PyPlot.ylabel(\"δ\") \n",
    "    \n",
    "    PyPlot.plt.subplot(2, 2, 3)\n",
    "    PyPlot.plt.plot(df.raw[1,idx],df.raw[5,idx],\"k.\", markersize= 1)\n",
    "    PyPlot.xlabel(\"α\")\n",
    "    PyPlot.ylabel(\"parallax\")  \n",
    "    \n",
    "    PyPlot.plt.subplot(2, 2, 4)\n",
    "    PyPlot.plt.plot(df.raw[6,idx],df.raw[7,idx],\"k.\", markersize= 1)\n",
    "    PyPlot.xlabel(\"PM(α)\")\n",
    "    PyPlot.ylabel(\"PM(δ)\") \n",
    "    \n",
    "    figname = plotdir*\"/\"*votname*\".gaia.png\"\n",
    "    PyPlot.plt.savefig(figname)\n",
    "    \n",
    "    # PyPlot.plt.show()\n",
    "end"
   ]
  },
  {
   "cell_type": "code",
   "execution_count": null,
   "metadata": {},
   "outputs": [],
   "source": [
    "function main(votlist)\n",
    "            \n",
    "    s=size(votlist)\n",
    "    for i in 1:s[1]\n",
    "        votname= votlist[i]\n",
    "        data= read_votable(votdir*\"/\"*votname)\n",
    "        df= filter_data(data)\n",
    "        \n",
    "        println(\"## Analyzing $votname\")\n",
    "        plot_data(votname,df)\n",
    "    \n",
    "    end\n",
    "end"
   ]
  },
  {
   "cell_type": "code",
   "execution_count": null,
   "metadata": {},
   "outputs": [],
   "source": [
    "cd(votdir)\n",
    "votlist= glob(\"*.vot\")\n",
    "cd(wdir)\n",
    "\n",
    "main(votlist)"
   ]
  }
 ],
 "metadata": {
  "@webio": {
   "lastCommId": null,
   "lastKernelId": null
  },
  "kernelspec": {
   "display_name": "Julia 1.4.0",
   "language": "julia",
   "name": "julia-1.4"
  },
  "language_info": {
   "file_extension": ".jl",
   "mimetype": "application/julia",
   "name": "julia",
   "version": "1.4.0"
  }
 },
 "nbformat": 4,
 "nbformat_minor": 2
}
