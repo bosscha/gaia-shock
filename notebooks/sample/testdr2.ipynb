{
 "cells": [
  {
   "cell_type": "markdown",
   "metadata": {},
   "source": [
    "## Test GAIA DR2\n",
    "\n",
    "Test to search for specific data in DR2. <br>\n",
    "Note that gaia-on-tap is by default for DR1 <br>"
   ]
  },
  {
   "cell_type": "code",
   "execution_count": 1,
   "metadata": {
    "scrolled": false
   },
   "outputs": [],
   "source": [
    "import astropy.coordinates as coord\n",
    "import matplotlib.pyplot as plt\n",
    "from pylab import rcParams\n",
    "import pandas as pd\n",
    "from gaia.tap import cone_search\n",
    "import os\n",
    "\n",
    "%matplotlib inline\n",
    "\n",
    "## directory\n",
    "rootdir = \"/home/stephane/Science/GAIA\"\n",
    "wdir    = \"%s/products\"%(rootdir)\n",
    "datadir = \"%s/master/notebooks/data\"%(rootdir)\n",
    "\n",
    "os.chdir(wdir)"
   ]
  },
  {
   "cell_type": "markdown",
   "metadata": {},
   "source": [
    "### OC selection "
   ]
  },
  {
   "cell_type": "code",
   "execution_count": 2,
   "metadata": {},
   "outputs": [],
   "source": [
    "def plotCluster(cluster_candidates, clustername, display = True):\n",
    "\n",
    "    figname = \"%s-gaia.png\"%(clustername)\n",
    "    \n",
    "    rcParams['figure.figsize'] = 14, 21\n",
    "    f, axarr = plt.subplots(3, 2)\n",
    "\n",
    "# ax.scatter(cluster_candidates[\"ra\"], cluster_candidates[\"dec\"], s=1, c=\"#000000\")\n",
    "    axarr[0,0].scatter(cluster_candidates[\"ra\"], cluster_candidates[\"dec\"], s=1, c=\"#000000\")\n",
    "    axarr[0,0].set_xlabel(r\"$\\alpha$\")\n",
    "    axarr[0,0].set_ylabel(r\"$\\delta$\")\n",
    "\n",
    "    axarr[0,1].scatter(cluster_candidates[\"l\"], cluster_candidates[\"b\"], s=1, c=\"#000000\")\n",
    "    axarr[0,1].set_xlabel(r\"l\")\n",
    "    axarr[0,1].set_ylabel(r\"b\")\n",
    "\n",
    "    axarr[1,0].scatter(cluster_candidates[\"l\"], cluster_candidates[\"parallax\"], s=1, c=\"#000000\")\n",
    "    axarr[1,0].set_xlabel(r\"l\")\n",
    "    axarr[1,0].set_ylabel(r\"p (mas)\")\n",
    "    axarr[1,0].set_ylim([-2,4])\n",
    "\n",
    "    axarr[1,1].scatter(cluster_candidates[\"ra\"], cluster_candidates[\"pmra\"], s=1, c=\"#000000\")\n",
    "    axarr[1,1].set_xlabel(r\"$\\alpha$\")\n",
    "    axarr[1,1].set_ylabel(r\"PM RA (mas/yr)\")\n",
    "    axarr[1,1].set_ylim([-30,30])\n",
    "\n",
    "    axarr[2,0].scatter(cluster_candidates[\"pmdec\"], cluster_candidates[\"pmra\"], s=1, c=\"#000000\")\n",
    "    axarr[2,0].set_xlabel(r\"PM DEC (mas/yr)\")\n",
    "    axarr[2,0].set_ylabel(r\"PM RA (mas/yr)\")\n",
    "    axarr[2,0].set_xlim([-40,10])\n",
    "    axarr[2,0].set_ylim([-30,30])\n",
    "\n",
    "    axarr[2,1].scatter(cluster_candidates[\"parallax\"], cluster_candidates[\"pmra\"], s=1, c=\"#000000\")\n",
    "    axarr[2,1].set_xlabel(r\"p (mas)\")\n",
    "    axarr[2,1].set_ylabel(r\"PM RA (mas/yr)\")\n",
    "    axarr[2,1].set_xlim([-2,4])\n",
    "    axarr[2,1].set_ylim([-30,30])\n",
    "\n",
    "    f.subplots_adjust(hspace=0.5)\n",
    "    \n",
    "    plt.savefig(wdir+\"/\"+figname)\n",
    "    if display:\n",
    "        plt.show()"
   ]
  },
  {
   "cell_type": "code",
   "execution_count": 3,
   "metadata": {},
   "outputs": [],
   "source": [
    "## read the cluster list from HEASARC\n",
    "def read_cluster_list(filelist):\n",
    "    \n",
    "    df = pd.read_csv(filelist, sep='|')\n",
    "    \n",
    "    \n",
    "    return(df)"
   ]
  },
  {
   "cell_type": "markdown",
   "metadata": {},
   "source": [
    "### Main ..\n",
    "\n",
    "Making the plots and analysis of the targets."
   ]
  },
  {
   "cell_type": "code",
   "execution_count": null,
   "metadata": {},
   "outputs": [
    {
     "name": "stdout",
     "output_type": "stream",
     "text": [
      "RangeIndex(start=0, stop=314, step=1)\n",
      "Index(['Unnamed: 0', 'name', 'ra', 'dec', 'central_radius', 'cluster_radius',\n",
      "       'rad_vel', 'rad_vel_error', 'num_cluster_stars', 'distance', 'log_age',\n",
      "       'log_age_error', 'class', 'Unnamed: 13'],\n",
      "      dtype='object')\n",
      "Cluster: MWSC 4114\n"
     ]
    },
    {
     "name": "stderr",
     "output_type": "stream",
     "text": [
      "WARNING: W27: None:3:0: W27: COOSYS deprecated in VOTable 1.2 [astropy.io.votable.tree]\n",
      "WARNING: W35: None:5:0: W35: 'value' attribute required for INFO elements [astropy.io.votable.tree]\n",
      "WARNING: W35: None:10:0: W35: 'value' attribute required for INFO elements [astropy.io.votable.tree]\n",
      "WARNING: W35: None:11:0: W35: 'value' attribute required for INFO elements [astropy.io.votable.tree]\n",
      "WARNING: W35: None:12:0: W35: 'value' attribute required for INFO elements [astropy.io.votable.tree]\n",
      "WARNING: W35: None:14:0: W35: 'value' attribute required for INFO elements [astropy.io.votable.tree]\n",
      "WARNING: W06: None:49:0: W06: Invalid UCD 'arith.ratio': Secondary word 'arith.ratio' is not valid as a primary word [astropy.io.votable.tree]\n",
      "WARNING: W50: None:52:0: W50: Invalid unit string 'mas.yr**-1' [astropy.io.votable.tree]\n",
      "WARNING: W50: None:55:0: W50: Invalid unit string 'mas.yr**-1' [astropy.io.votable.tree]\n",
      "WARNING: W50: None:58:0: W50: Invalid unit string 'mas.yr**-1' [astropy.io.votable.tree]\n",
      "WARNING: W50: None:61:0: W50: Invalid unit string 'mas.yr**-1' [astropy.io.votable.tree]\n",
      "WARNING: W50: None:124:0: W50: Invalid unit string 'mas**-2' [astropy.io.votable.tree]\n",
      "WARNING: W50: None:127:0: W50: Invalid unit string 'um**-1' [astropy.io.votable.tree]\n",
      "WARNING: W06: None:130:0: W06: Invalid UCD 'em.wavenumber;stat.error': Primary word 'stat.error' is not valid as a secondary word [astropy.io.votable.tree]\n",
      "WARNING: W50: None:130:0: W50: Invalid unit string 'um**-1' [astropy.io.votable.tree]\n",
      "WARNING: W06: None:142:0: W06: Invalid UCD 'pos.errorEllipse;stat.max': Secondary word 'pos.errorEllipse' is not valid as a primary word [astropy.io.votable.tree]\n",
      "WARNING: W50: None:157:0: W50: Invalid unit string ''electron'.s**-1' [astropy.io.votable.tree]\n",
      "WARNING: W50: None:160:0: W50: Invalid unit string ''electron'.s**-1' [astropy.io.votable.tree]\n",
      "WARNING: W06: None:163:0: W06: Invalid UCD 'arith.ratio': Secondary word 'arith.ratio' is not valid as a primary word [astropy.io.votable.tree]\n",
      "WARNING: W50: None:172:0: W50: Invalid unit string ''electron'.s**-1' (suppressing further warnings of this type...) [astropy.io.votable.tree]\n",
      "WARNING: W06: None:178:0: W06: Invalid UCD 'arith.ratio': Secondary word 'arith.ratio' is not valid as a primary word [astropy.io.votable.tree]\n",
      "WARNING: W06: None:193:0: W06: Invalid UCD 'arith.ratio': Secondary word 'arith.ratio' is not valid as a primary word [astropy.io.votable.tree]\n",
      "WARNING: W06: None:205:0: W06: Invalid UCD 'phot.color': Unknown word 'phot.color' [astropy.io.votable.tree]\n",
      "WARNING: W06: None:208:0: W06: Invalid UCD 'phot.color': Unknown word 'phot.color' [astropy.io.votable.tree]\n",
      "WARNING: W06: None:211:0: W06: Invalid UCD 'phot.color': Unknown word 'phot.color' [astropy.io.votable.tree]\n",
      "WARNING: W06: None:283:0: W06: Invalid UCD 'phys.size.radius;stat.error': Primary word 'stat.error' is not valid as a secondary word (suppressing further warnings of this type...) [astropy.io.votable.tree]\n"
     ]
    },
    {
     "name": "stdout",
     "output_type": "stream",
     "text": [
      "Cluster: Chamaleon I\n",
      "Cluster: MWSC 4668\n",
      "Cluster: ASCC 69\n",
      "Cluster: ASCC 51\n",
      "Cluster: NGC 1901\n",
      "Cluster: ASCC 73\n",
      "Cluster: vdBergh-Hagen 164\n",
      "Cluster: Alessi 6\n",
      "Cluster: NGC 1641\n",
      "Cluster: Loden 615\n",
      "Cluster: Ruprecht 98\n",
      "Cluster: ASCC 82\n",
      "Cluster: IC 2602\n",
      "Cluster: ASCC 56\n",
      "Cluster: Ruprecht 99\n",
      "Cluster: Platais 12\n",
      "Cluster: Loden 807\n",
      "Cluster: Lynga 2\n",
      "Cluster: Ruprecht 161\n",
      "Cluster: Alessi 5\n"
     ]
    },
    {
     "name": "stderr",
     "output_type": "stream",
     "text": [
      "/usr/lib/python3/dist-packages/matplotlib/pyplot.py:528: RuntimeWarning: More than 20 figures have been opened. Figures created through the pyplot interface (`matplotlib.pyplot.figure`) are retained until explicitly closed and may consume too much memory. (To control this warning, see the rcParam `figure.max_open_warning`).\n",
      "  max_open_warning, RuntimeWarning)\n"
     ]
    },
    {
     "name": "stdout",
     "output_type": "stream",
     "text": [
      "Cluster: Collinder 236\n",
      "Cluster: ASCC 68\n",
      "Cluster: NGC 2516\n",
      "Cluster: ASCC 84\n",
      "Cluster: Loden 565\n",
      "Cluster: Loden 682\n",
      "Cluster: ASCC 79\n",
      "Cluster: Loden 309\n",
      "Cluster: ESO 123-26\n",
      "Cluster: Loden 1010\n",
      "Cluster: Bochum 9\n",
      "Cluster: NGC 3114\n",
      "Cluster: NGC 5043\n",
      "Cluster: Loden 1194\n",
      "Cluster: ESO 130-08\n",
      "Cluster: Ruprecht 113\n",
      "Cluster: Loden 915\n",
      "Cluster: Platais 10\n",
      "Cluster: Platais 8\n",
      "Cluster: vdBergh-Hagen 99\n",
      "Cluster: ASCC 74\n",
      "Cluster: Loden 143\n",
      "Cluster: NGC 3532\n",
      "Cluster: vdBergh-Hagen 91\n",
      "Cluster: ESO 139-54\n",
      "Cluster: Ruprecht 108\n",
      "Cluster: Loden 1171\n",
      "Cluster: ESO 128-16\n",
      "Cluster: Ruprecht 89\n",
      "Cluster: NGC 1252\n",
      "Cluster: ASCC 59\n",
      "Cluster: ASCC 55\n",
      "Cluster: ESO 175-06\n",
      "Cluster: Loden 89\n",
      "Cluster: FSR 1697\n",
      "Cluster: Loden 189\n",
      "Cluster: ESO 165-09\n",
      "Cluster: Loden 1\n",
      "Cluster: ASCC 58\n",
      "Cluster: NGC 5593\n",
      "Cluster: NGC 5822\n",
      "Cluster: Loden 59\n",
      "Cluster: ESO 166-04\n",
      "Cluster: NGC 6208\n",
      "Cluster: NGC 2925\n",
      "Cluster: IC 2391\n",
      "Cluster: ASCC 42\n",
      "Cluster: ASCC 83\n",
      "Cluster: Johansson 1\n",
      "Cluster: Ruprecht 116\n",
      "Cluster: Ruprecht 118\n",
      "Cluster: Ruprecht 117\n",
      "Cluster: NGC 3228\n",
      "Cluster: ASCC 81\n"
     ]
    }
   ],
   "source": [
    "# filelist = datadir+\"/\"+\"BrowseTargets.19060.1528915517\"\n",
    "filelist = datadir+\"/\"+\"BrowseTargets.13175.1528937650\"\n",
    "\n",
    "# cluster = coord.SkyCoord.from_name(\"M67\")\n",
    "# cluster = coord.SkyCoord.from_name(\"NGC2287\")\n",
    "# cluster = coord.SkyCoord.from_name(\"Collinder 65\")\n",
    "\n",
    "df_cluster = read_cluster_list(filelist)\n",
    "print(df_cluster.index)\n",
    "print(df_cluster.columns)\n",
    "            \n",
    "for index, row in df_cluster.iterrows():\n",
    "    clustername = row['name'].strip()\n",
    "    print(\"Cluster: %s\"%(clustername))\n",
    "    \n",
    "    # c = coord.SkyCoord.from_name(clustername)\n",
    "    rasplit = row['ra'].split(' ')\n",
    "    decsplit = row['dec'].split(' ')\n",
    "    racluster = \"%sh%sm%ss\"%(rasplit[0],rasplit[1],rasplit[2])\n",
    "    deccluster = \"%sd%sm\"%(decsplit[0],decsplit[1])\n",
    "    c = coord.SkyCoord(racluster, deccluster, frame='icrs')\n",
    "    \n",
    "    # Get everything within 1 degree radius of the cluster.\n",
    "    cluster_candidates = cone_search(c.ra.deg, c.dec.deg, 0.5, table=\"gaiadr2.gaia_source\")\n",
    "    plotCluster(cluster_candidates, clustername, display = False)\n",
    "\n",
    "\n",
    "    if len(cluster_candidates) == 0:\n",
    "        print(\"## No data...\")\n"
   ]
  },
  {
   "cell_type": "markdown",
   "metadata": {},
   "source": [
    "### Plots ..."
   ]
  }
 ],
 "metadata": {
  "kernelspec": {
   "display_name": "Python 3",
   "language": "python",
   "name": "python3"
  },
  "language_info": {
   "codemirror_mode": {
    "name": "ipython",
    "version": 3
   },
   "file_extension": ".py",
   "mimetype": "text/x-python",
   "name": "python",
   "nbconvert_exporter": "python",
   "pygments_lexer": "ipython3",
   "version": "3.6.5"
  }
 },
 "nbformat": 4,
 "nbformat_minor": 2
}
