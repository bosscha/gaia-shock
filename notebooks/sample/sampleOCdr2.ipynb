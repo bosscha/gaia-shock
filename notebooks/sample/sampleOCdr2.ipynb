{
 "cells": [
  {
   "cell_type": "markdown",
   "metadata": {},
   "source": [
    "## Test GAIA DR2\n",
    "\n",
    "Test to search for specific data in DR2. <br>\n",
    "Note that gaia-on-tap is by default for DR1 <br>"
   ]
  },
  {
   "cell_type": "code",
   "execution_count": null,
   "metadata": {
    "scrolled": false
   },
   "outputs": [],
   "source": [
    "import astropy.coordinates as coord\n",
    "import matplotlib.pyplot as plt\n",
    "from pylab import rcParams\n",
    "import pandas as pd\n",
    "from gaia.tap import cone_search\n",
    "import os\n",
    "\n",
    "%matplotlib inline\n",
    "\n",
    "## directory\n",
    "rootdir = \"/home/stephane/Science/GAIA\"\n",
    "wdir    = \"%s/products\"%(rootdir)\n",
    "datadir = \"%s/master/notebooks/data\"%(rootdir)\n",
    "\n",
    "os.chdir(wdir)"
   ]
  },
  {
   "cell_type": "markdown",
   "metadata": {},
   "source": [
    "### OC selection "
   ]
  },
  {
   "cell_type": "code",
   "execution_count": null,
   "metadata": {},
   "outputs": [],
   "source": [
    "def plotCluster(cluster_candidates, clustername, display = True):\n",
    "\n",
    "    figname = \"%s-gaia.png\"%(clustername)\n",
    "    \n",
    "    rcParams['figure.figsize'] = 14, 21\n",
    "    f, axarr = plt.subplots(3, 2)\n",
    "\n",
    "# ax.scatter(cluster_candidates[\"ra\"], cluster_candidates[\"dec\"], s=1, c=\"#000000\")\n",
    "    axarr[0,0].scatter(cluster_candidates[\"ra\"], cluster_candidates[\"dec\"], s=1, c=\"#000000\")\n",
    "    axarr[0,0].set_xlabel(r\"$\\alpha$\")\n",
    "    axarr[0,0].set_ylabel(r\"$\\delta$\")\n",
    "\n",
    "    axarr[0,1].scatter(cluster_candidates[\"l\"], cluster_candidates[\"b\"], s=1, c=\"#000000\")\n",
    "    axarr[0,1].set_xlabel(r\"l\")\n",
    "    axarr[0,1].set_ylabel(r\"b\")\n",
    "\n",
    "    axarr[1,0].scatter(cluster_candidates[\"l\"], cluster_candidates[\"parallax\"], s=1, c=\"#000000\")\n",
    "    axarr[1,0].set_xlabel(r\"l\")\n",
    "    axarr[1,0].set_ylabel(r\"p (mas)\")\n",
    "    axarr[1,0].set_ylim([-2,4])\n",
    "\n",
    "    axarr[1,1].scatter(cluster_candidates[\"ra\"], cluster_candidates[\"pmra\"], s=1, c=\"#000000\")\n",
    "    axarr[1,1].set_xlabel(r\"$\\alpha$\")\n",
    "    axarr[1,1].set_ylabel(r\"PM RA (mas/yr)\")\n",
    "    axarr[1,1].set_ylim([-30,30])\n",
    "\n",
    "    axarr[2,0].scatter(cluster_candidates[\"pmdec\"], cluster_candidates[\"pmra\"], s=1, c=\"#000000\")\n",
    "    axarr[2,0].set_xlabel(r\"PM DEC (mas/yr)\")\n",
    "    axarr[2,0].set_ylabel(r\"PM RA (mas/yr)\")\n",
    "    axarr[2,0].set_xlim([-40,10])\n",
    "    axarr[2,0].set_ylim([-30,30])\n",
    "\n",
    "    axarr[2,1].scatter(cluster_candidates[\"parallax\"], cluster_candidates[\"pmra\"], s=1, c=\"#000000\")\n",
    "    axarr[2,1].set_xlabel(r\"p (mas)\")\n",
    "    axarr[2,1].set_ylabel(r\"PM RA (mas/yr)\")\n",
    "    axarr[2,1].set_xlim([-2,4])\n",
    "    axarr[2,1].set_ylim([-30,30])\n",
    "\n",
    "    f.subplots_adjust(hspace=0.5)\n",
    "    \n",
    "    plt.savefig(wdir+\"/\"+figname)\n",
    "    if display:\n",
    "        plt.show()"
   ]
  },
  {
   "cell_type": "code",
   "execution_count": null,
   "metadata": {},
   "outputs": [],
   "source": [
    "## read the cluster list from HEASARC\n",
    "def read_cluster_list(filelist):\n",
    "    \n",
    "    df = pd.read_csv(filelist, sep='|')\n",
    "    \n",
    "    \n",
    "    return(df)"
   ]
  },
  {
   "cell_type": "markdown",
   "metadata": {},
   "source": [
    "### Main ..\n",
    "\n",
    "Making the plots and analysis of the targets."
   ]
  },
  {
   "cell_type": "code",
   "execution_count": null,
   "metadata": {},
   "outputs": [],
   "source": [
    "# filelist = datadir+\"/\"+\"BrowseTargets.19060.1528915517\"\n",
    "filelist = datadir+\"/\"+\"BrowseTargets.13175.1528937650\"\n",
    "\n",
    "# cluster = coord.SkyCoord.from_name(\"M67\")\n",
    "# cluster = coord.SkyCoord.from_name(\"NGC2287\")\n",
    "# cluster = coord.SkyCoord.from_name(\"Collinder 65\")\n",
    "\n",
    "df_cluster = read_cluster_list(filelist)\n",
    "print(df_cluster.index)\n",
    "print(df_cluster.columns)\n",
    "            \n",
    "for index, row in df_cluster.iterrows():\n",
    "    clustername = row['name'].strip()\n",
    "    print(\"Cluster: %s\"%(clustername))\n",
    "    \n",
    "    # c = coord.SkyCoord.from_name(clustername)\n",
    "    rasplit = row['ra'].split(' ')\n",
    "    decsplit = row['dec'].split(' ')\n",
    "    racluster = \"%sh%sm%ss\"%(rasplit[0],rasplit[1],rasplit[2])\n",
    "    deccluster = \"%sd%sm\"%(decsplit[0],decsplit[1])\n",
    "    c = coord.SkyCoord(racluster, deccluster, frame='icrs')\n",
    "    \n",
    "    # Get everything within 1 degree radius of the cluster.\n",
    "    cluster_candidates = cone_search(c.ra.deg, c.dec.deg, 0.5, table=\"gaiadr2.gaia_source\")\n",
    "    plotCluster(cluster_candidates, clustername, display = False)\n",
    "\n",
    "\n",
    "    if len(cluster_candidates) == 0:\n",
    "        print(\"## No data...\")\n"
   ]
  },
  {
   "cell_type": "markdown",
   "metadata": {},
   "source": [
    "### Plots ..."
   ]
  }
 ],
 "metadata": {
  "kernelspec": {
   "display_name": "Python 3",
   "language": "python",
   "name": "python3"
  },
  "language_info": {
   "codemirror_mode": {
    "name": "ipython",
    "version": 3
   },
   "file_extension": ".py",
   "mimetype": "text/x-python",
   "name": "python",
   "nbconvert_exporter": "python",
   "pygments_lexer": "ipython3",
   "version": "3.6.5"
  }
 },
 "nbformat": 4,
 "nbformat_minor": 2
}
