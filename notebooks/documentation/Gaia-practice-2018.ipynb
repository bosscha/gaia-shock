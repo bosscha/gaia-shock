{
 "cells": [
  {
   "cell_type": "markdown",
   "metadata": {},
   "source": [
    "## Goal for the GAIA practice\n",
    "\n",
    "*ALMA/ESO*\n",
    "\n",
    "Here are the <font color=red>scientific goals</font> for the GAIA practice of 2018 on the open clusters in a radius of 2 kpc around the Sun.\n",
    "\n",
    "- To find a good  **normalization** for the 8N points towards a set of open clusters (OCs) to be analyzed with DBSCAN (min_samples, eps).\n",
    "- To analyze the **mass segregation** in the sets of OCs by defining a segregation mass index for the X quantile brighter and fainter (e.g X = 25 %).\n",
    "- To analyze the **dynamical state** by computing a proxy of the **Virial parameter**.\n",
    "- To analyze the 3D-shape (X,Y,Z) and the 2D-shape (Vra, Vdec)-\n",
    "- To detect possible **tidal tails** (clumps outside the tidal radius)."
   ]
  },
  {
   "cell_type": "markdown",
   "metadata": {},
   "source": [
    "### Test sample\n",
    "\n",
    "Here is a list of candidates to test the GAIA analysis."
   ]
  },
  {
   "cell_type": "markdown",
   "metadata": {},
   "source": [
    "### Normalization\n",
    "\n",
    "We would like to find a \"reasonable\" set of WEIGHT and DBSCAN parameters (eps, min_samples) together with a controlled procedure to extract cleanly the maximum of stars belonging to an open clusters. The procedure could be split perhaps in:\n",
    "- a robust extraction to get the best candidates towards the OCs\n",
    "- a more adaptative extraction (probability lower) to get the stars in a lower bound state (outliers).\n",
    "\n",
    "We prefer currently the Cartesian representation for the extraction and the weight could be applied per blocks of data ({X,Y,Z}, {Vra, Vdec} , {G, B-G, G-R})."
   ]
  },
  {
   "cell_type": "markdown",
   "metadata": {},
   "source": [
    "### Mass segregation\n",
    "\n",
    "Due to two-body interactions between stars in a cluster and the exchange of velocity momentum between massive and light stars a mass segregation builds up during the evolution of stellar clusters.\n",
    "We want to measure it in OCs of different ages and different total mass.\n",
    "- Computing the cumulative radial distribution for two populations of stars a and b in the 25% quantiles of Magnitude distribution (thus mass distribution) we want to find a parameter to quantify that mass segregation using that radial distribution $\\rho_{</>}(R)$ for the two mass ranges. That parameter should be preferably dimensionless."
   ]
  },
  {
   "cell_type": "markdown",
   "metadata": {},
   "source": [
    "### Dynamical state\n",
    "\n",
    "We want to measure the equilibrium (dynamical) state of the stellar cluster which could be perturbed by the galactic disk (and/or giant molecular clouds). For that we can use the Virial V which is null at the equilibrium in an isolated unperturbed system. <br>\n",
    "\n",
    "The definition of V is : <br>\n",
    "\n",
    "$ Virial =  2 T + V = \\sum_i \\left( m_i v^2_i - \\sum_{j}  \\frac{G m_i  m_j}{r_{ij}} \\right)$\n",
    "\n",
    "\n",
    "where T is the kinetic energy, V the gravitational potential energy, m the mass star, v the velocity, $r_{ij}$ the distance between the stars i and j. <br>\n",
    "Since only 2 velocity components are available we can compute and scale for the third component the kinetic energy. \n",
    "The G gravitational constant should be adjusted according to the other units...\n"
   ]
  },
  {
   "cell_type": "markdown",
   "metadata": {},
   "source": [
    "### Spatial and Velocity shape\n",
    "\n",
    "Eventually the 3D shape of the spatial coordinates should be analyzed. It will help to detect some compression with the departure from the sphericity. As a first approach the standard deviation ratio ($\\frac{\\sigma_x}{\\sigma_y}$ and $\\frac{\\sigma_z}{\\sigma_x}$) would indicate some deviation. The actual shape of the 3D should be obtained from the eigenvectors (and eigenvalue for the respective elongation) of the inertia tensor. <br>\n",
    "The velocity dispersion and an spatial scale can be used to compute a dynamical mass."
   ]
  },
  {
   "cell_type": "markdown",
   "metadata": {},
   "source": [
    "### Tidal tails\n",
    "\n",
    "We want to identify possible clumps of stars escaped from the  cluster which are not anymore bound to it. Given the confusion with the galactic stellar background a possible approach may be to give an higher weight to the HR-diagram (G, G-R, G-B) which is obviously conserved for the ejected stars. Because of the mass segregation we expect to have lighter stars on average in the tidal tails(clumps). <br>\n",
    "The spatial (and velocity) extension could be several hundreds of pc (resp. tens of km/s) for massive clusters."
   ]
  },
  {
   "cell_type": "markdown",
   "metadata": {},
   "source": [
    "### Improvements\n",
    "\n",
    "You may want to list a serie of possible improvement in that analysis of the DR2 GAIA study."
   ]
  },
  {
   "cell_type": "code",
   "execution_count": null,
   "metadata": {},
   "outputs": [],
   "source": []
  }
 ],
 "metadata": {
  "kernelspec": {
   "display_name": "Python 3",
   "language": "python",
   "name": "python3"
  },
  "language_info": {
   "codemirror_mode": {
    "name": "ipython",
    "version": 3
   },
   "file_extension": ".py",
   "mimetype": "text/x-python",
   "name": "python",
   "nbconvert_exporter": "python",
   "pygments_lexer": "ipython3",
   "version": "3.6.5"
  }
 },
 "nbformat": 4,
 "nbformat_minor": 2
}
